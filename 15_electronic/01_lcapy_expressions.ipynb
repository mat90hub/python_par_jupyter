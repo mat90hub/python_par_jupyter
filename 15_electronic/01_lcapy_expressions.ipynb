{
 "cells": [
  {
   "attachments": {},
   "cell_type": "markdown",
   "metadata": {},
   "source": [
    "# Les bases de [Lcapy](https://lcapy.readthedocs.io/en/latest/index.html)\n",
    "\n",
    "[Lcapy](https://lcapy.readthedocs.io/en/latest/index.html) est une extension permettant de faire des calculs de circuits électriques et même d'en faire la représentation schématique. Cette extension est bâtie sur la base de [SymPy](https://www.sympy.org/fr/) dont elle peut donc aussi utiliser les resources."
   ]
  },
  {
   "attachments": {},
   "cell_type": "markdown",
   "metadata": {},
   "source": [
    "## Les expressions\n",
    "\n",
    "Il exsite des variables prédéfinie dans Lcapy, qui correspondent chacune à un domaine prédéfini.\n",
    "\n",
    "- t : le temps\n",
    "- f : les fréquences (Fourier)\n",
    "- F : les fréquences normalisées (Fourier)\n",
    "- s : les fréquences complexes (domaine de Laplace)\n",
    "- omega : secteur angulaire des fréquences\n",
    "- Omega : secteur angulaires des fréquences normalisées\n",
    "- jf : domaine des réponses en fréquence\n",
    "- jomega (jw) : domain des secteurs angulaires des fréquences\n",
    "- n : temps discrétisé\n",
    "- k : fréquence discrétisées\n",
    "- z : domaine z\n",
    "\n",
    "Les liens entre ces domaine est le suivant\n",
    "\n",
    "![](https://lcapy.readthedocs.io/en/latest/_images/domains.png)"
   ]
  },
  {
   "attachments": {},
   "cell_type": "markdown",
   "metadata": {},
   "source": [
    "\n",
    "Il existe aussi des fonctions de Lcapy qui complètent [celles de SymPy](https://docs.sympy.org/latest/modules/functions/index.html). Parmi elles, on retrouver la fonction échelon `u(t)` (ou fonction de Heaviside) et le diract `delta(t)`."
   ]
  },
  {
   "cell_type": "code",
   "execution_count": 3,
   "metadata": {},
   "outputs": [
    {
     "data": {
      "text/latex": [
       "$$2 t u\\left(t\\right) + \\delta\\left(t\\right) + 3$$"
      ],
      "text/plain": [
       "2⋅t⋅u(t) + δ(t) + 3"
      ]
     },
     "execution_count": 3,
     "metadata": {},
     "output_type": "execute_result"
    }
   ],
   "source": [
    "from lcapy import t, delta, u\n",
    "v = 2*t*u(t) + 3 + delta(t)\n",
    "v"
   ]
  },
  {
   "attachments": {},
   "cell_type": "markdown",
   "metadata": {},
   "source": [
    "On trouvera plus d'informations sur les expressions, leurs attributs et leurs méthodes standards dans [la documentation](https://lcapy.readthedocs.io/en/latest/overview.html#conventions)."
   ]
  },
  {
   "attachments": {},
   "cell_type": "markdown",
   "metadata": {},
   "source": [
    "### Le formatage des expressions\n",
    "\n",
    "Parmi les méthodes de Lcapy, certaines permettent des formatages pratiques."
   ]
  },
  {
   "cell_type": "code",
   "execution_count": 7,
   "metadata": {},
   "outputs": [
    {
     "data": {
      "text/latex": [
       "$$- \\frac{1}{s + 3} + \\frac{1}{s + 2}$$"
      ],
      "text/plain": [
       "    1       1  \n",
       "- ───── + ─────\n",
       "  s + 3   s + 2"
      ]
     },
     "execution_count": 7,
     "metadata": {},
     "output_type": "execute_result"
    }
   ],
   "source": [
    "from lcapy import *\n",
    "G = 1 / (s**2 + 5*s +6)\n",
    "G.partfrac()"
   ]
  },
  {
   "attachments": {},
   "cell_type": "markdown",
   "metadata": {},
   "source": [
    "On retrouve directement la décomposition en fractions élémentaires, ce qui permet de retrouver rapidement les pôles."
   ]
  },
  {
   "cell_type": "code",
   "execution_count": 11,
   "metadata": {},
   "outputs": [
    {
     "data": {
      "text/latex": [
       "$$5 + \\frac{70}{s + 3} - \\frac{90}{s + 2}$$"
      ],
      "text/plain": [
       "      70      90 \n",
       "5 + ───── - ─────\n",
       "    s + 3   s + 2"
      ]
     },
     "execution_count": 11,
     "metadata": {},
     "output_type": "execute_result"
    }
   ],
   "source": [
    "H = 5*(s+5)*(s-4)/(s**2 + 5*s +6)\n",
    "H.partfrac()"
   ]
  },
  {
   "attachments": {},
   "cell_type": "markdown",
   "metadata": {},
   "source": [
    "On peut factoriser cette fonction pour retrouver les pôles zéros et infinis (Zero-pole-gain)"
   ]
  },
  {
   "cell_type": "code",
   "execution_count": 12,
   "metadata": {},
   "outputs": [
    {
     "data": {
      "text/latex": [
       "$$\\frac{5 \\left(s - 4\\right) \\left(s + 5\\right)}{\\left(s + 2\\right) \\left(s + 3\\right)}$$"
      ],
      "text/plain": [
       "5⋅(s - 4)⋅(s + 5)\n",
       "─────────────────\n",
       " (s + 2)⋅(s + 3) "
      ]
     },
     "execution_count": 12,
     "metadata": {},
     "output_type": "execute_result"
    }
   ],
   "source": [
    "H.ZPK()"
   ]
  },
  {
   "cell_type": "code",
   "execution_count": 13,
   "metadata": {},
   "outputs": [
    {
     "data": {
      "image/png": "[encoded data removed]",
      "text/latex": [
       "$$\\left\\{ -5 : 1, \\  4 : 1\\right\\}$$"
      ],
      "text/plain": [
       "{-5: 1, 4: 1}"
      ]
     },
     "execution_count": 13,
     "metadata": {},
     "output_type": "execute_result"
    }
   ],
   "source": [
    "H.zeros()"
   ]
  },
  {
   "cell_type": "code",
   "execution_count": 14,
   "metadata": {},
   "outputs": [
    {
     "data": {
      "image/png": "[encoded data removed]",
      "text/latex": [
       "$$\\left\\{ -3 : 1, \\  -2 : 1\\right\\}$$"
      ],
      "text/plain": [
       "{-3: 1, -2: 1}"
      ]
     },
     "execution_count": 14,
     "metadata": {},
     "output_type": "execute_result"
    }
   ],
   "source": [
    "H.poles()"
   ]
  },
  {
   "cell_type": "code",
   "execution_count": 15,
   "metadata": {},
   "outputs": [
    {
     "data": {
      "image/png": "[encoded data removed]",
      "text/latex": [
       "$$\\left\\{ -3 : 1, \\  -2 : 1\\right\\}$$"
      ],
      "text/plain": [
       "{-3: 1, -2: 1}"
      ]
     },
     "execution_count": 15,
     "metadata": {},
     "output_type": "execute_result"
    }
   ],
   "source": [
    "G.poles()"
   ]
  },
  {
   "attachments": {},
   "cell_type": "markdown",
   "metadata": {},
   "source": [
    "## Les transformées de Laplace\n",
    "\n",
    "On peut réaliser des transformées de Laplace simplement avec la méthode `LT`. On passe donc du domaine temporelle avec `t` ou domaine de Laplace avec `s`."
   ]
  },
  {
   "cell_type": "code",
   "execution_count": 39,
   "metadata": {},
   "outputs": [
    {
     "data": {
      "text/latex": [
       "$$\\frac{3}{s^{2}} + \\frac{20}{s^{3}}$$"
      ],
      "text/plain": [
       "3    20\n",
       "── + ──\n",
       " 2    3\n",
       "s    s "
      ]
     },
     "execution_count": 39,
     "metadata": {},
     "output_type": "execute_result"
    }
   ],
   "source": [
    "from lcapy import s, t\n",
    "v = 10 * t**2 + 3*t\n",
    "v.LT()"
   ]
  },
  {
   "attachments": {},
   "cell_type": "markdown",
   "metadata": {},
   "source": [
    "Ou encore plus simplement en exprimant la fonction `v` en fonction de `s`."
   ]
  },
  {
   "cell_type": "code",
   "execution_count": 40,
   "metadata": {},
   "outputs": [
    {
     "data": {
      "text/latex": [
       "$$\\frac{3}{s^{2}} + \\frac{20}{s^{3}}$$"
      ],
      "text/plain": [
       "3    20\n",
       "── + ──\n",
       " 2    3\n",
       "s    s "
      ]
     },
     "execution_count": 40,
     "metadata": {},
     "output_type": "execute_result"
    }
   ],
   "source": [
    "v(s)"
   ]
  },
  {
   "attachments": {},
   "cell_type": "markdown",
   "metadata": {},
   "source": [
    "Un autre exemple avec un Dirac."
   ]
  },
  {
   "cell_type": "code",
   "execution_count": 41,
   "metadata": {},
   "outputs": [
    {
     "data": {
      "text/latex": [
       "$$1$$"
      ],
      "text/plain": [
       "1"
      ]
     },
     "execution_count": 41,
     "metadata": {},
     "output_type": "execute_result"
    }
   ],
   "source": [
    "delta(t)(s)"
   ]
  },
  {
   "cell_type": "code",
   "execution_count": 5,
   "metadata": {},
   "outputs": [
    {
     "data": {
      "text/latex": [
       "$$\\frac{\\delta\\left(f - 2\\right)}{2} + \\frac{\\delta\\left(f + 2\\right)}{2}$$"
      ],
      "text/plain": [
       "δ(f - 2)   δ(f + 2)\n",
       "──────── + ────────\n",
       "   2          2    "
      ]
     },
     "execution_count": 5,
     "metadata": {},
     "output_type": "execute_result"
    }
   ],
   "source": [
    "from lcapy import cos, pi, t, f\n",
    "cos(4*pi*t).FT(f)"
   ]
  },
  {
   "attachments": {},
   "cell_type": "markdown",
   "metadata": {},
   "source": [
    "On trouvera plus de détail sur la transformée de Laplace dans [la documentation](https://lcapy.readthedocs.io/en/latest/expressions.html#laplace-transforms)."
   ]
  },
  {
   "attachments": {},
   "cell_type": "markdown",
   "metadata": {},
   "source": [
    "## Les phaseurs\n",
    "\n",
    "Les [phaseurs](https://lcapy.readthedocs.io/en/latest/expressions.html#phasors) sont utilisés pour les fonctions sinusoïdales, sensées être toujours avec la même pulsation $\\omega$. Dans ce cas, uniquement l'amplitude $A$ du signal et son décalage de phase $\\phi$ sont caractéristiques. On traduit le signal $v(t)$ d'ampliture $A$ et de décalage de phase $\\phi$ en partie entière d'un signal écrit en complexe.\n",
    "\n",
    "$$\\begin{align*}\n",
    "v(t) &= A \\cos(\\omega t + \\phi) \\\\\n",
    "     &= Re\\{ A \\exp(j\\phi)\\exp(j\\omega t)\\} \\\\\n",
    "\\end{align*}$$\n",
    "\n",
    "La partie amplitude et déphasage peut se résumer par le nombre complexe $A\\exp(j\\phi)$.\n",
    "\n",
    "Sur un premier exemple avec un phaseur réel, on ne change que l'amplitude du signal normé $\\cos(\\omega t)$"
   ]
  },
  {
   "cell_type": "code",
   "execution_count": 44,
   "metadata": {},
   "outputs": [
    {
     "name": "stderr",
     "output_type": "stream",
     "text": [
      "/home/mathieu/Sync/informatique/programmation/python/python_par_jupyter/.venv/lib/python3.10/site-packages/lcapy/state.py:139: UserWarning: Converting t times omega to t-domain\n",
      "  warn(message)\n"
     ]
    },
    {
     "data": {
      "text/latex": [
       "$$2 \\cos{\\left(\\omega t \\right)}$$"
      ],
      "text/plain": [
       "2⋅cos(ω⋅t)"
      ]
     },
     "execution_count": 44,
     "metadata": {},
     "output_type": "execute_result"
    }
   ],
   "source": [
    "from lcapy import *\n",
    "P = phasor(2)\n",
    "# P.time()\n",
    "P(t)"
   ]
  },
  {
   "attachments": {},
   "cell_type": "markdown",
   "metadata": {},
   "source": [
    "En utilisant une phase $\\phi = \\pi / 2$ c'est à dire en complexe $-j$, on obtient un sinus."
   ]
  },
  {
   "cell_type": "code",
   "execution_count": 43,
   "metadata": {},
   "outputs": [
    {
     "name": "stderr",
     "output_type": "stream",
     "text": [
      "/home/mathieu/Sync/informatique/programmation/python/python_par_jupyter/.venv/lib/python3.10/site-packages/lcapy/state.py:139: UserWarning: Converting t times omega to t-domain\n",
      "  warn(message)\n"
     ]
    },
    {
     "data": {
      "text/latex": [
       "$$2 \\sin{\\left(\\omega t \\right)}$$"
      ],
      "text/plain": [
       "2⋅sin(ω⋅t)"
      ]
     },
     "execution_count": 43,
     "metadata": {},
     "output_type": "execute_result"
    }
   ],
   "source": [
    "from lcapy import *\n",
    "s = phasor(-2*j)\n",
    "s.time()"
   ]
  },
  {
   "attachments": {},
   "cell_type": "markdown",
   "metadata": {},
   "source": [
    "Si on entre une fonction du temps, le phaseur comprendra aussi"
   ]
  },
  {
   "cell_type": "code",
   "execution_count": 45,
   "metadata": {},
   "outputs": [
    {
     "data": {
      "text/latex": [
       "$$- 2 \\mathrm{j}$$"
      ],
      "text/plain": [
       "-2⋅ⅉ"
      ]
     },
     "execution_count": 45,
     "metadata": {},
     "output_type": "execute_result"
    }
   ],
   "source": [
    "P = phasor(2*sin(3*t))\n",
    "P"
   ]
  },
  {
   "cell_type": "code",
   "execution_count": 46,
   "metadata": {},
   "outputs": [
    {
     "data": {
      "image/png": "[encoded data removed]",
      "text/latex": [
       "$\\displaystyle 3$"
      ],
      "text/plain": [
       "3"
      ]
     },
     "execution_count": 46,
     "metadata": {},
     "output_type": "execute_result"
    }
   ],
   "source": [
    "P.omega"
   ]
  },
  {
   "attachments": {},
   "cell_type": "markdown",
   "metadata": {},
   "source": [
    "On peut créer des fonctions courant (`current()`) ou tension (`voltage()`) avec cette méthode."
   ]
  },
  {
   "cell_type": "code",
   "execution_count": 50,
   "metadata": {},
   "outputs": [
    {
     "data": {
      "text/plain": [
       "'voltage'"
      ]
     },
     "execution_count": 50,
     "metadata": {},
     "output_type": "execute_result"
    }
   ],
   "source": [
    "v = voltage(phasor(2))\n",
    "v.quantity"
   ]
  },
  {
   "cell_type": "code",
   "execution_count": 51,
   "metadata": {},
   "outputs": [
    {
     "name": "stderr",
     "output_type": "stream",
     "text": [
      "/home/mathieu/Sync/informatique/programmation/python/python_par_jupyter/.venv/lib/python3.10/site-packages/lcapy/state.py:139: UserWarning: Converting t times omega to t-domain\n",
      "  warn(message)\n"
     ]
    },
    {
     "data": {
      "text/latex": [
       "$$2 \\cos{\\left(\\omega t \\right)}$$"
      ],
      "text/plain": [
       "2⋅cos(ω⋅t)"
      ]
     },
     "execution_count": 51,
     "metadata": {},
     "output_type": "execute_result"
    }
   ],
   "source": [
    "v(t)"
   ]
  },
  {
   "attachments": {},
   "cell_type": "markdown",
   "metadata": {},
   "source": [
    "Comme on pourrait le faire avec une fonction du temps."
   ]
  },
  {
   "cell_type": "code",
   "execution_count": 52,
   "metadata": {},
   "outputs": [
    {
     "name": "stderr",
     "output_type": "stream",
     "text": [
      "/home/mathieu/Sync/informatique/programmation/python/python_par_jupyter/.venv/lib/python3.10/site-packages/lcapy/state.py:139: UserWarning: Converting omega times t to t-domain\n",
      "  warn(message)\n"
     ]
    },
    {
     "data": {
      "text/latex": [
       "$$- 2 \\mathrm{j}$$"
      ],
      "text/plain": [
       "-2⋅ⅉ"
      ]
     },
     "execution_count": 52,
     "metadata": {},
     "output_type": "execute_result"
    }
   ],
   "source": [
    "v = voltage(2*sin(omega*t))\n",
    "v = v.as_phasor()\n",
    "v"
   ]
  },
  {
   "attachments": {},
   "cell_type": "markdown",
   "metadata": {},
   "source": [
    "et on peut retrouver les amplitudes (magnitude en Anglais) et phase."
   ]
  },
  {
   "cell_type": "code",
   "execution_count": 53,
   "metadata": {},
   "outputs": [
    {
     "data": {
      "text/latex": [
       "$$2$$"
      ],
      "text/plain": [
       "2"
      ]
     },
     "execution_count": 53,
     "metadata": {},
     "output_type": "execute_result"
    }
   ],
   "source": [
    "v.magnitude"
   ]
  },
  {
   "cell_type": "code",
   "execution_count": 54,
   "metadata": {},
   "outputs": [
    {
     "data": {
      "text/latex": [
       "$$- \\frac{\\pi}{2}$$"
      ],
      "text/plain": [
       "-π \n",
       "───\n",
       " 2 "
      ]
     },
     "execution_count": 54,
     "metadata": {},
     "output_type": "execute_result"
    }
   ],
   "source": [
    "v.phase"
   ]
  },
  {
   "attachments": {},
   "cell_type": "markdown",
   "metadata": {},
   "source": [
    "Pour avoir la moyenne de la racine carré (utilisée pour la puissance)."
   ]
  },
  {
   "cell_type": "code",
   "execution_count": 55,
   "metadata": {},
   "outputs": [
    {
     "data": {
      "text/latex": [
       "$$\\sqrt{2}$$"
      ],
      "text/plain": [
       "√2"
      ]
     },
     "execution_count": 55,
     "metadata": {},
     "output_type": "execute_result"
    }
   ],
   "source": [
    "v.rms()"
   ]
  },
  {
   "attachments": {},
   "cell_type": "markdown",
   "metadata": {},
   "source": [
    "Enfin, on peut aussi afficher la représentation polaire de ce type de signal."
   ]
  },
  {
   "cell_type": "code",
   "execution_count": 57,
   "metadata": {},
   "outputs": [
    {
     "data": {
      "text/plain": [
       "<PolarAxes: >"
      ]
     },
     "execution_count": 57,
     "metadata": {},
     "output_type": "execute_result"
    },
    {
     "data": {
      "image/png": "[encoded data removed]",
      "text/plain": [
       "<Figure size 640x480 with 1 Axes>"
      ]
     },
     "metadata": {},
     "output_type": "display_data"
    }
   ],
   "source": [
    "I = current(phasor(1+j))\n",
    "I.plot()"
   ]
  },
  {
   "attachments": {},
   "cell_type": "markdown",
   "metadata": {},
   "source": [
    "## L'inverse de la transformée de Laplace"
   ]
  },
  {
   "cell_type": "code",
   "execution_count": 16,
   "metadata": {},
   "outputs": [
    {
     "data": {
      "text/latex": [
       "$$\\frac{5 s - 20}{s^{2} + 5 s + 6}$$"
      ],
      "text/plain": [
       "  5⋅s - 20  \n",
       "────────────\n",
       " 2          \n",
       "s  + 5⋅s + 6"
      ]
     },
     "execution_count": 16,
     "metadata": {},
     "output_type": "execute_result"
    }
   ],
   "source": [
    "from lcapy import s\n",
    "H = 5 * (s-4) / (s**2 + 5*s + 6)\n",
    "H"
   ]
  },
  {
   "cell_type": "code",
   "execution_count": 17,
   "metadata": {},
   "outputs": [
    {
     "data": {
      "text/latex": [
       "$$\\frac{35}{s + 3} - \\frac{30}{s + 2}$$"
      ],
      "text/plain": [
       "  35      30 \n",
       "───── - ─────\n",
       "s + 3   s + 2"
      ]
     },
     "execution_count": 17,
     "metadata": {},
     "output_type": "execute_result"
    }
   ],
   "source": [
    "H.partfrac()"
   ]
  },
  {
   "attachments": {},
   "cell_type": "markdown",
   "metadata": {},
   "source": [
    "Il suffit de changer le domain `s` de la fonction de transfer `H` dans le domaine `t` pour obtenir la transformée de Laplace inverse."
   ]
  },
  {
   "cell_type": "code",
   "execution_count": 19,
   "metadata": {},
   "outputs": [
    {
     "data": {
      "text/latex": [
       "$$- 30 e^{- 2 t} + 35 e^{- 3 t} \\;\\; \\text{for}\\: t \\geq 0$$"
      ],
      "text/plain": [
       "      -2⋅t       -3⋅t           \n",
       "- 30⋅ℯ     + 35⋅ℯ      for t ≥ 0"
      ]
     },
     "execution_count": 19,
     "metadata": {},
     "output_type": "execute_result"
    }
   ],
   "source": [
    "H(t)"
   ]
  },
  {
   "attachments": {},
   "cell_type": "markdown",
   "metadata": {},
   "source": [
    "Évidement, ce n'est que pour $t\\geq 0$. Mais on peut utliser une condition supplémentaire pour justement introduire la fonction de Heavyside."
   ]
  },
  {
   "cell_type": "code",
   "execution_count": 20,
   "metadata": {},
   "outputs": [
    {
     "data": {
      "text/latex": [
       "$$\\left(- 30 e^{- 2 t} + 35 e^{- 3 t}\\right) u\\left(t\\right)$$"
      ],
      "text/plain": [
       "⎛      -2⋅t       -3⋅t⎞     \n",
       "⎝- 30⋅ℯ     + 35⋅ℯ    ⎠⋅u(t)"
      ]
     },
     "execution_count": 20,
     "metadata": {},
     "output_type": "execute_result"
    }
   ],
   "source": [
    "H(t, causal = True)"
   ]
  },
  {
   "attachments": {},
   "cell_type": "markdown",
   "metadata": {},
   "source": [
    "ou aussi enlever cette condition."
   ]
  },
  {
   "cell_type": "code",
   "execution_count": 21,
   "metadata": {},
   "outputs": [
    {
     "data": {
      "text/latex": [
       "$$- 30 e^{- 2 t} + 35 e^{- 3 t}$$"
      ],
      "text/plain": [
       "      -2⋅t       -3⋅t\n",
       "- 30⋅ℯ     + 35⋅ℯ    "
      ]
     },
     "execution_count": 21,
     "metadata": {},
     "output_type": "execute_result"
    }
   ],
   "source": [
    "H(t).remove_condition()"
   ]
  },
  {
   "attachments": {},
   "cell_type": "markdown",
   "metadata": {},
   "source": [
    "Pour les expressions qui n'ont pas une expression rationnelle pure, un dirac sera ajouté."
   ]
  },
  {
   "cell_type": "code",
   "execution_count": 33,
   "metadata": {},
   "outputs": [
    {
     "data": {
      "text/latex": [
       "$$5 + \\frac{70}{s + 3} - \\frac{90}{s + 2}$$"
      ],
      "text/plain": [
       "      70      90 \n",
       "5 + ───── - ─────\n",
       "    s + 3   s + 2"
      ]
     },
     "execution_count": 33,
     "metadata": {},
     "output_type": "execute_result"
    }
   ],
   "source": [
    "G = 5 * (s + 5) * (s - 4) / (s**2 + 5*s + 6)\n",
    "G.partfrac()"
   ]
  },
  {
   "cell_type": "code",
   "execution_count": 32,
   "metadata": {},
   "outputs": [
    {
     "data": {
      "text/latex": [
       "$$\\left(- 90 e^{- 2 t} + 70 e^{- 3 t}\\right) u\\left(t\\right) + 5 \\delta\\left(t\\right)$$"
      ],
      "text/plain": [
       "⎛      -2⋅t       -3⋅t⎞              \n",
       "⎝- 90⋅ℯ     + 70⋅ℯ    ⎠⋅u(t) + 5⋅δ(t)"
      ]
     },
     "execution_count": 32,
     "metadata": {},
     "output_type": "execute_result"
    }
   ],
   "source": [
    "G(t, causal=True)"
   ]
  },
  {
   "attachments": {},
   "cell_type": "markdown",
   "metadata": {},
   "source": [
    "On peut aussi rencontrer des fonctions avec délais."
   ]
  },
  {
   "cell_type": "code",
   "execution_count": 34,
   "metadata": {},
   "outputs": [
    {
     "data": {
      "text/latex": [
       "$$\\left(5 + \\frac{70}{s + 3} - \\frac{90}{s + 2}\\right) e^{- T s}$$"
      ],
      "text/plain": [
       "⎛      70      90 ⎞  -T⋅s\n",
       "⎜5 + ───── - ─────⎟⋅ℯ    \n",
       "⎝    s + 3   s + 2⎠      "
      ]
     },
     "execution_count": 34,
     "metadata": {},
     "output_type": "execute_result"
    }
   ],
   "source": [
    "from lcapy import s, symbol, exp\n",
    "T = symbol('T')\n",
    "\n",
    "H = 5 * (s + 5) * (s - 4) / (s**2 + 5*s + 6) * exp(-s*T)\n",
    "H.partfrac()"
   ]
  },
  {
   "cell_type": "code",
   "execution_count": 35,
   "metadata": {},
   "outputs": [
    {
     "data": {
      "text/latex": [
       "$$\\left(- 90 e^{2 T - 2 t} + 70 e^{3 T - 3 t}\\right) u\\left(- T + t\\right) + 5 \\delta\\left(- T + t\\right)$$"
      ],
      "text/plain": [
       "⎛      2⋅T - 2⋅t       3⋅T - 3⋅t⎞                        \n",
       "⎝- 90⋅ℯ          + 70⋅ℯ         ⎠⋅u(-T + t) + 5⋅δ(-T + t)"
      ]
     },
     "execution_count": 35,
     "metadata": {},
     "output_type": "execute_result"
    }
   ],
   "source": [
    "H(t, causal=True)"
   ]
  },
  {
   "attachments": {},
   "cell_type": "markdown",
   "metadata": {},
   "source": [
    "On peut aussi convertir des produits dans le domaine de Laplace en convolution temporelle."
   ]
  },
  {
   "cell_type": "code",
   "execution_count": 36,
   "metadata": {},
   "outputs": [
    {
     "data": {
      "text/latex": [
       "$$\\int\\limits_{0}^{t} v(t - \\tau) y(\\tau)\\, d\\tau$$"
      ],
      "text/plain": [
       "t                 \n",
       "⌠                 \n",
       "⎮ v(t - τ)⋅y(τ) dτ\n",
       "⌡                 \n",
       "0                 "
      ]
     },
     "execution_count": 36,
     "metadata": {},
     "output_type": "execute_result"
    }
   ],
   "source": [
    "from lcapy import expr\n",
    "expr('V(s) * Y(s)')(t, causal = True)"
   ]
  },
  {
   "attachments": {},
   "cell_type": "markdown",
   "metadata": {},
   "source": [
    "Lcapy reconnait aussi les intégrales et dérivées."
   ]
  },
  {
   "cell_type": "code",
   "execution_count": 37,
   "metadata": {},
   "outputs": [
    {
     "data": {
      "text/latex": [
       "$$v(0) \\delta\\left(t\\right) + \\frac{d}{d t} v(t)$$"
      ],
      "text/plain": [
       "            d       \n",
       "v(0)⋅δ(t) + ──(v(t))\n",
       "            dt      "
      ]
     },
     "execution_count": 37,
     "metadata": {},
     "output_type": "execute_result"
    }
   ],
   "source": [
    "from lcapy import s, t\n",
    "\n",
    "(s*'V(s)')(t, causal = True)"
   ]
  },
  {
   "cell_type": "code",
   "execution_count": 38,
   "metadata": {},
   "outputs": [
    {
     "data": {
      "text/latex": [
       "$$\\int\\limits_{0}^{t} v(\\tau)\\, d\\tau$$"
      ],
      "text/plain": [
       "t        \n",
       "⌠        \n",
       "⎮ v(τ) dτ\n",
       "⌡        \n",
       "0        "
      ]
     },
     "execution_count": 38,
     "metadata": {},
     "output_type": "execute_result"
    }
   ],
   "source": [
    "('V(s)'/s)(t, causal=True)"
   ]
  },
  {
   "attachments": {},
   "cell_type": "markdown",
   "metadata": {},
   "source": [
    "## Simplifications\n",
    "\n",
    "Lcapy propose des commandes de simplification supplémentaires par rapport à celle de Sympy:"
   ]
  },
  {
   "cell_type": "code",
   "execution_count": 3,
   "metadata": {},
   "outputs": [],
   "source": [
    "from lcapy import *"
   ]
  },
  {
   "attachments": {},
   "cell_type": "markdown",
   "metadata": {},
   "source": [
    "La commmande `simplify_conjugates()` simplifie les expressions faisant intervenir des nombres comples conjugués."
   ]
  },
  {
   "cell_type": "code",
   "execution_count": 6,
   "metadata": {},
   "outputs": [],
   "source": [
    "v = exp(j*3) + exp(-j*3) + 1 "
   ]
  },
  {
   "cell_type": "code",
   "execution_count": 7,
   "metadata": {},
   "outputs": [
    {
     "data": {
      "text/latex": [
       "$$2 \\cos{\\left(3 \\right)} + 1$$"
      ],
      "text/plain": [
       "2⋅cos(3) + 1"
      ]
     },
     "execution_count": 7,
     "metadata": {},
     "output_type": "execute_result"
    }
   ],
   "source": [
    "v.simplify_conjugates()"
   ]
  },
  {
   "attachments": {},
   "cell_type": "markdown",
   "metadata": {},
   "source": [
    "Les commandes `simplify_dirac_delta()` ou `simplify_heaviside` permettent de simplifier les expressions contenant des [Dirac delta](https://en.wikipedia.org/wiki/Dirac_delta_function) ou de [Heaviside](https://fr.wikipedia.org/wiki/Fonction_de_Heaviside).\n",
    "\n",
    "La commande `simplify_rect()` permet de simplifier les expressions contenant des fonctions rectangle. \n",
    "\n",
    "La commande `simplify_sin_cos()` permet de simplifier les expression ayant des consinus et des sinus."
   ]
  },
  {
   "cell_type": "code",
   "execution_count": 9,
   "metadata": {},
   "outputs": [
    {
     "data": {
      "text/latex": [
       "$$5 \\cos{\\left(\\omega_{0} t - \\operatorname{atan}{\\left(\\frac{3}{4} \\right)} \\right)}$$"
      ],
      "text/plain": [
       "5⋅cos(ω₀⋅t - atan(3/4))"
      ]
     },
     "execution_count": 9,
     "metadata": {},
     "output_type": "execute_result"
    }
   ],
   "source": [
    "(3*sin(omega0 * t) + 4 * cos(omega0 *t)).simplify_sin_cos()"
   ]
  },
  {
   "attachments": {},
   "cell_type": "markdown",
   "metadata": {},
   "source": [
    "D'atures fonctions comme `simplify_terms()`, `simplify_units()`, `simplify_unit_impulse()`\n",
    "\n",
    "Un peu plus sur la [documentation officielle](https://lcapy.readthedocs.io/en/latest/expressions.html#simplification)."
   ]
  },
  {
   "attachments": {},
   "cell_type": "markdown",
   "metadata": {},
   "source": [
    "## Faire des approximations"
   ]
  },
  {
   "attachments": {},
   "cell_type": "markdown",
   "metadata": {},
   "source": [
    "La commande `approximate_dominant()` permet aussi de donner des approximations."
   ]
  },
  {
   "cell_type": "code",
   "execution_count": 10,
   "metadata": {},
   "outputs": [
    {
     "data": {
      "text/latex": [
       "$$\\frac{1}{A^{2} + A B}$$"
      ],
      "text/plain": [
       "   1    \n",
       "────────\n",
       " 2      \n",
       "A  + A⋅B"
      ]
     },
     "execution_count": 10,
     "metadata": {},
     "output_type": "execute_result"
    }
   ],
   "source": [
    "expr('1/(A*B + A*A +C)').approximate_dominant({'A':100, 'B': 1, 'C':20}, 0.005)"
   ]
  },
  {
   "cell_type": "code",
   "execution_count": 11,
   "metadata": {},
   "outputs": [
    {
     "data": {
      "text/latex": [
       "$$\\frac{1}{A^{2}}$$"
      ],
      "text/plain": [
       "1 \n",
       "──\n",
       " 2\n",
       "A "
      ]
     },
     "execution_count": 11,
     "metadata": {},
     "output_type": "execute_result"
    }
   ],
   "source": [
    "expr('1/(A*B + A*A +C)').approximate_dominant({'A':100, 'B': 1, 'C':20}, 0.01)"
   ]
  },
  {
   "attachments": {},
   "cell_type": "markdown",
   "metadata": {},
   "source": [
    "# Affichage de courbe\n",
    "\n",
    "L'extension lcapy englobe une fonction [plot](https://lcapy.readthedocs.io/en/latest/expressions.html#plotting) qui est basée sur [MatPlotLib](../02_std_ext/11_matplotlib.ipynb), ce qui permet d'utiliser aussi cette extension si on veut plus de personnalisation."
   ]
  },
  {
   "cell_type": "code",
   "execution_count": 1,
   "metadata": {},
   "outputs": [
    {
     "data": {
      "text/plain": [
       "<Axes: xlabel='Time (s)'>"
      ]
     },
     "execution_count": 1,
     "metadata": {},
     "output_type": "execute_result"
    },
    {
     "data": {
      "image/png": "[encoded data removed]",
      "text/plain": [
       "<Figure size 640x480 with 1 Axes>"
      ]
     },
     "metadata": {},
     "output_type": "display_data"
    }
   ],
   "source": [
    "from lcapy import *\n",
    "\n",
    "cos(2*t).plot()"
   ]
  },
  {
   "attachments": {},
   "cell_type": "markdown",
   "metadata": {},
   "source": [
    "Plus d'information sur [la documentation](https://lcapy.readthedocs.io/en/latest/expressions.html#Plotting)"
   ]
  },
  {
   "attachments": {},
   "cell_type": "markdown",
   "metadata": {},
   "source": [
    "# les fonctions spéciales\n",
    "\n",
    "Il existe aussi des [fonctions spéciales](https://lcapy.readthedocs.io/en/latest/expressions.html\")"
   ]
  },
  {
   "cell_type": "code",
   "execution_count": null,
   "metadata": {},
   "outputs": [],
   "source": []
  },
  {
   "cell_type": "markdown",
   "metadata": {},
   "source": []
  }
 ],
 "metadata": {
  "kernelspec": {
   "display_name": ".venv",
   "language": "python",
   "name": "python3"
  },
  "language_info": {
   "codemirror_mode": {
    "name": "ipython",
    "version": 3
   },
   "file_extension": ".py",
   "mimetype": "text/x-python",
   "name": "python",
   "nbconvert_exporter": "python",
   "pygments_lexer": "ipython3",
   "version": "3.10.7"
  },
  "orig_nbformat": 4
 },
 "nbformat": 4,
 "nbformat_minor": 2
}
