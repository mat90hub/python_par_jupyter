{
 "cells": [
  {
   "cell_type": "markdown",
   "metadata": {
    "hideCode": true,
    "hidePrompt": true
   },
   "source": [
    "# Résolution d'équations différentielles avec <code>scipy</code>"
   ]
  },
  {
   "cell_type": "markdown",
   "metadata": {
    "hideCode": true,
    "hidePrompt": true
   },
   "source": [
    "Ce fichier montre la résolution d'équations différentielles en utilisant la bibliothèque <code>scipy</code> qui est orienté pour le calcul scientifique. Nous allons partir d'un exemple simple, qu'on peut résoudre « à la main » ou en utilisant la bibliothèque <code>sympy</code> qui permet de faire du calcul symbolique. Mais les cas rencontrés par l'ingénieur ne sont pas toujours aussi simple et au final, c'est bien une résolution numérique qui est recherchée. \n",
    "\n",
    "Nous expliquerons rapidement les principes d'une résolution numérique et montrerons son application avec <code>scipy.solve_ivp</code>. Il existe plusieurs types de solveurs et nous en parlerons brièvement.\n",
    "\n",
    "La bibliothèque <code>matplotlib</code> sera de nouveau utilisée pour visualiser les graphes des fonctions résultantes."
   ]
  },
  {
   "cell_type": "markdown",
   "metadata": {},
   "source": [
    "## Un exemple simple"
   ]
  },
  {
   "cell_type": "markdown",
   "metadata": {},
   "source": [
    "Nous commençons par un exemple simple, mais qui se rencontre souvent en physique. Il s'agit d'une mesure $y$, nulle à l'origine et dont la vitesse de changement est inversement proportionnelle à sa distance à 1 (pour être normé). \n",
    "\n",
    "$$\\frac{dy(t)}{dt} = 1 - y(t) \\quad \\text{avec} \\quad y(0) = 0$$\n",
    "\n",
    "Pour résoudre, cette équation, on fait le changement de variable \n",
    "$Y(t) = y(t) - 1$ et la résolution devient plus simple.\n",
    "\n",
    "$\n",
    "\\begin{array}{ll}\n",
    "\\frac{dY(t)}{dt}   & = -Y(t)\\\\\n",
    "\\frac{dY(t)}{Y(t)} & = -dt  \\\\\n",
    "\\ln(Y(t))          & = -t + cste  \\\\\n",
    "Y(t)               & = Y_0\\cdot e^{-t} \\\\\n",
    "y(t)               & = 1 - e^{-t} \\\\\n",
    "\\end{array}\n",
    "$\n",
    "\n",
    "ceci en tenant compte des conditions intiales qui nous ont été données.\n",
    "\n",
    "On peut donc directement afficher le graphe avec cette équation en utilisant <code>matplotlib.pyplot</code>."
   ]
  },
  {
   "cell_type": "code",
   "execution_count": 2,
   "metadata": {},
   "outputs": [],
   "source": [
    "import matplotlib.pyplot as plt\n",
    "plt.style.use('dark_background')\n",
    "%matplotlib inline"
   ]
  },
  {
   "cell_type": "markdown",
   "metadata": {},
   "source": [
    "On utilise la bibliothèque <code>numpy</code> pour générer une suite de 21 points entre 0 et 20, et qui seront les points représentant l'axe des temps $t$."
   ]
  },
  {
   "cell_type": "code",
   "execution_count": 8,
   "metadata": {},
   "outputs": [],
   "source": [
    "import numpy as np\n",
    "t = np.linspace(0,10,20)"
   ]
  },
  {
   "cell_type": "code",
   "execution_count": 9,
   "metadata": {},
   "outputs": [
    {
     "data": {
      "text/plain": [
       "Text(0, 0.5, 'y(t)')"
      ]
     },
     "execution_count": 9,
     "metadata": {},
     "output_type": "execute_result"
    },
    {
     "data": {
      "image/png": "[encoded data removed]",
      "text/plain": [
       "<Figure size 576x288 with 1 Axes>"
      ]
     },
     "metadata": {
      "needs_background": "dark"
     },
     "output_type": "display_data"
    }
   ],
   "source": [
    "fig, ax = plt.subplots(figsize=(8,4))\n",
    "ax.plot(t, 1 - np.exp(-t))\n",
    "ax.set_xlabel('time')\n",
    "ax.set_ylabel('y(t)')"
   ]
  },
  {
   "cell_type": "markdown",
   "metadata": {},
   "source": [
    "Cette équation est simple et classique, mais voyons comment nous aurions utilisé <code>sympy</code>."
   ]
  },
  {
   "cell_type": "markdown",
   "metadata": {},
   "source": [
    "## Résolution avec <code>sympy</code>"
   ]
  },
  {
   "cell_type": "markdown",
   "metadata": {},
   "source": [
    "J'ai besoin de définir le symbole <code>t</code> et la fonction <code>y(t)</code> La résolution se fait ensuite avec le solveur <code>dsolve</code> de <code>sympy</code>."
   ]
  },
  {
   "cell_type": "code",
   "execution_count": 15,
   "metadata": {},
   "outputs": [
    {
     "name": "stdout",
     "output_type": "stream",
     "text": [
      "C1*exp(-t) + 1\n"
     ]
    }
   ],
   "source": [
    "import sympy as sp\n",
    "t = sp.symbols('t')\n",
    "y = sp.Function('y')\n",
    "sol = sp.dsolve(sp.Eq(y(t).diff(t,1) + y(t), 1) , y(t)).rhs\n",
    "print(sol)"
   ]
  },
  {
   "cell_type": "markdown",
   "metadata": {},
   "source": [
    "Pour avoir la valeur de la constante $C1$, nous devons simplement résoudre la condition initiale $y(0)=0$. Nous le faisons en utilisant la fonction <code>solve</code> puisqu'il ne s'agit que d'une équation classique (sans dérivée)."
   ]
  },
  {
   "cell_type": "code",
   "execution_count": 16,
   "metadata": {},
   "outputs": [
    {
     "name": "stdout",
     "output_type": "stream",
     "text": [
      "1 - exp(-t)\n"
     ]
    }
   ],
   "source": [
    "C1 = sp.solve([sol.subs(t,0), 0])\n",
    "final = sol.subs(C1)\n",
    "print(final)"
   ]
  },
  {
   "cell_type": "markdown",
   "metadata": {},
   "source": [
    "Il faut comprendre que <code>sol</code> et ensuite <code>final</code> sont des objets et non de simple variable. La méthode <code>subs</code> de l'objet <code>sol</code> a substitué la valeur 0 (deuxième argument) à la variable symbolique <code>t</code> de cet objet. On applique alors la fonction <code>solve</code> à l'expression résultante pour obtenir la constante C1. En appliquant de nouveau la méthode <code>sub</code> à l'objet <code>sol</code> et en utilisant ici un seul argument, on fait un remplacement par défaut, qui correspond au remplacement du paramètre unique de cette fonction."
   ]
  },
  {
   "cell_type": "markdown",
   "metadata": {},
   "source": [
    "L'utilisation de <code>sympy</code> n'est pas si simple et demande tout de même quelques manipulation. Dans cet exemple, la résolution directe est clairement la plus simple à comprendre. Mais ce module peut avoir son utilité pour vérifier un résultat dans un cas plus compliqué."
   ]
  },
  {
   "cell_type": "markdown",
   "metadata": {
    "hideCode": true,
    "hidePrompt": true
   },
   "source": [
    "## La résolution numérique des équations différentielles."
   ]
  },
  {
   "cell_type": "markdown",
   "metadata": {
    "hideCode": true,
    "hidePrompt": true
   },
   "source": [
    "Les cas ne sont pas toujours aussi simples que ceux qui sont présentés. La fonction résultat peut être incroyablement compliquée ou même ne pas avoir d'expression connue. Mais l'objectif est le plus souvent une résolution numérique. Les solveurs d'équations différentiels qui ont été développés sont donc le plus souvent orienté vers une solution numérique.\n",
    "\n",
    "Les équations différentielles du premier degré ordinaire peuvent dans leur grande majorité se ramener à une expression du type :\n",
    "\n",
    "$\\frac{dy}{dt}=\\mathcal{F}(y,t)$\n",
    "\n",
    "ou $y$ est un vecteur et la condition initiale est : \n",
    "$y(t_0)=y_0$\n",
    "\n",
    "L'adjectif « ordinaire » vient du fait que cette équation différentielle ne fait pas intervenir de dérivée partielle (et ce cas restera exclu ici).\n",
    "\n",
    "La méthode de résolution numérique est alors toujours basée sur cette méthode :\n",
    "\n",
    "$y' \\approx \\frac{\\mathcal{F}(y+h) -\\mathcal{F}(y)}{h} \\quad \\Rightarrow \\quad \\mathcal{F}(y+h) =\\mathcal{F}(y) + y'\\cdot{}h $\n",
    "\n",
    "Sous certaines conditions de régularité (qui sont réunies pour la plupart des cas concrets rencontrés), on peut donc construire point par point le graphe de la fonction $\\mathcal{F}$ : en un point $t$ où on connait donc la valeur de $y(t)$ et on construit le point suivant en approximant localement le graphe de la fonction par sa dérivée, que l'on connait aussi grâce à cette équation."
   ]
  },
  {
   "cell_type": "markdown",
   "metadata": {
    "hideCode": true,
    "hidePrompt": true
   },
   "source": [
    "On montre que les équations différentielles ordinaire du second ordre se ramènent aussi à cette expression.\n",
    "\n",
    "$\\frac{d^2{}y}{dt^2} = \\mathcal{F}(y',y,t)$\n",
    "\n",
    "avec deux conditions initiale \n",
    "\n",
    "$y(t_0) = y_0{} \\quad , \\quad y'(t_0) = y'_0$ \n",
    "\n",
    "où y peut être un vecteur.\n",
    "\n",
    "L'astuce de résolution est de poser un vecteur : $v = \\left( y' , y \\right)$\n",
    "\n",
    "et on se ramène alors à l'équation : $v' = \\mathcal{G}(v, t)$\n",
    "\n",
    "Le graphe de la fonction et de sa dérivée sont construit point par point. On construit la dérivé au point suivant avec le dérivée seconde et ensuite la valeur au point suivant avec la dérivée."
   ]
  },
  {
   "cell_type": "markdown",
   "metadata": {
    "hideCode": true,
    "hidePrompt": true
   },
   "source": [
    "## Résolution numérique avec ivp (initial value problem)"
   ]
  },
  {
   "cell_type": "markdown",
   "metadata": {
    "hideCode": true,
    "hidePrompt": true
   },
   "source": [
    "Nous reprenons notre équation différentielle.\n",
    "\n",
    "$\\frac{dy}{dt}=\\mathcal{F}(y,t)$\n",
    "avec une condition initiale \n",
    "$y(t_0)=y_0$ où $y$ est un vecteur.\n",
    "\n",
    "Nous utilisons ici la bibliothèque <a href=\"https://docs.scipy.org/doc/scipy/reference/generated/scipy.integrate.solve_ivp.html#scipy.integrate.solve_ivp\">scipy.integrate.solve_ivp</a>.\n",
    "\n",
    "Les arguments principaux sont les suivants, le premier à donner dans le bon ordre.\n",
    "1. La fonction $\\mathcal{F}(t,y)$, ce doit être une fonction et $t$ doit être donné avant $y(t)$. Si la fonction est paramétrée, il faut entrer les paramètres après $y$ et dans l'ordre.\n",
    "2. Intervalle d’intégration sous forme d'un tuple ou d’un vecteur.\n",
    "3. Les conditions initiales données sous forme d’un vecteur. Si on a qu’une condition initiales, il faut la donner sous la forme $(y0,)$. Pour les résolutions dans le domaine complexe, il faut entrer sous forme d'un complexe, même si la condition initiale est un réel.\n",
    "\n",
    "Les autres paramètres sont optionnels\n",
    "\n",
    "4. La méthode de résolution (voir la documentation)\n",
    "5. <code>t_eval</code> qui est un tuple ou un vecteur donnant les instants pour lesquels il faut conserver une solution.\n",
    "6. <code>args</code> est le tuple pour donner les paramètres éventuels de la fonction\n"
   ]
  },
  {
   "cell_type": "code",
   "execution_count": 27,
   "metadata": {},
   "outputs": [],
   "source": [
    "from scipy.integrate import solve_ivp\n",
    "k = 1\n",
    "sol = solve_ivp((lambda t, y, k: 1-k*y), (0, 10), (0,), t_eval = np.arange(0,10,0.5), args = (k,))"
   ]
  },
  {
   "cell_type": "markdown",
   "metadata": {},
   "source": [
    "Et voici l'affichage de la solution."
   ]
  },
  {
   "cell_type": "code",
   "execution_count": 28,
   "metadata": {},
   "outputs": [
    {
     "data": {
      "image/png": "[encoded data removed]",
      "text/plain": [
       "<Figure size 576x288 with 1 Axes>"
      ]
     },
     "metadata": {
      "needs_background": "dark"
     },
     "output_type": "display_data"
    }
   ],
   "source": [
    "fig=plt.figure(figsize=(8,4))\n",
    "plt.plot(sol.t,sol.y[0], color = 'lightblue')\n",
    "plt.xlabel('time')\n",
    "plt.ylabel('y(t)')\n",
    "fig.tight_layout()\n",
    "# plt.savefig('./img/imgivp.png', transparent = True)\n",
    "# './img/imgivp.png'\n",
    "# plt.close()"
   ]
  },
  {
   "cell_type": "markdown",
   "metadata": {},
   "source": [
    "Il existe une autre bibliothèque dans <code>scipy</code> nommée <code>odeint</code>. Ce module est plus ancien, en particulier dans son interface. On peut le trouver aussi sur internet comme une solution pour résoudre une équation différentielle."
   ]
  },
  {
   "cell_type": "markdown",
   "metadata": {},
   "source": [
    "## Résolution en utilisant Gekko\n",
    "![GEKKO Optimization Suite](http://apmonitor.com/wiki/uploads/Main/gekko_optimization.png)"
   ]
  },
  {
   "cell_type": "markdown",
   "metadata": {},
   "source": [
    "<code>Gekko</code> est une autre bibliothèque, que j'ai trouvé sur le site d'une université Américaine. Cette librairie résout plusieurs problèmes numériques. Voici ici son application à la résolution de l'équation différentielle."
   ]
  },
  {
   "cell_type": "code",
   "execution_count": 17,
   "metadata": {},
   "outputs": [
    {
     "data": {
      "text/plain": [
       "Text(0, 0.5, 'y')"
      ]
     },
     "execution_count": 17,
     "metadata": {},
     "output_type": "execute_result"
    },
    {
     "data": {
      "image/png": "[encoded data removed]",
      "text/plain": [
       "<Figure size 432x288 with 1 Axes>"
      ]
     },
     "metadata": {
      "needs_background": "dark"
     },
     "output_type": "display_data"
    }
   ],
   "source": [
    "from gekko import GEKKO\n",
    "import numpy as np\n",
    "import matplotlib.pyplot as plt\n",
    "%matplotlib inline\n",
    "\n",
    "m = GEKKO(remote = False)      # création d'un modèle local\n",
    "m.time = np.linspace(0,10,20)  # l'axe des temps du modèle\n",
    "y = m.Var(value=0.0)           # la valeur au démarrage\n",
    "t = m.Param(value=m.time)      # le paramètre temps du modèle\n",
    "m.Equation(y.dt()==1 - y)      # l'équation différentielle\n",
    "m.options.IMODE = 4\n",
    "m.solve(disp=False)            # resolution sans montrer le détail\n",
    "\n",
    "plt.plot(m.time,y.value)       # affichage avec matplotlib.\n",
    "plt.xlabel('time')\n",
    "plt.ylabel('y')"
   ]
  },
  {
   "cell_type": "markdown",
   "metadata": {},
   "source": [
    "Au final, il y a beaucoup de solution pour résoudre numériquement une équation différentielle, car c'est un cas très courant pour les sciences de l'ingénieur. Il existe peut être encore d'autre solveur ou des recettes pour faire son propre solveur. Mais attention avant de s'embarquer dans l'aventure. L'analyse numérique contient beaucoup de recette et de méthode et il est bon de les apprendre pour ne pas ré-inventer l'eau chaude !"
   ]
  }
 ],
 "metadata": {
  "hide_code_all_hidden": true,
  "kernelspec": {
   "display_name": "Python 3 (ipykernel)",
   "language": "python",
   "name": "python3"
  },
  "language_info": {
   "codemirror_mode": {
    "name": "ipython",
    "version": 3
   },
   "file_extension": ".py",
   "mimetype": "text/x-python",
   "name": "python",
   "nbconvert_exporter": "python",
   "pygments_lexer": "ipython3",
   "version": "3.10.7"
  },
  "vscode": {
   "interpreter": {
    "hash": "916dbcbb3f70747c44a77c7bcd40155683ae19c65e1c03b4aa3499c5328201f1"
   }
  }
 },
 "nbformat": 4,
 "nbformat_minor": 4
}
