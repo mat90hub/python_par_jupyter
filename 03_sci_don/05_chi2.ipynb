{
 "cells": [
  {
   "attachments": {},
   "cell_type": "markdown",
   "metadata": {},
   "source": [
    "# La loi du $\\chi^2$ et son test"
   ]
  },
  {
   "cell_type": "code",
   "execution_count": 2,
   "metadata": {},
   "outputs": [],
   "source": [
    "import numpy as np\n",
    "from scipy.stats import chi2"
   ]
  },
  {
   "attachments": {},
   "cell_type": "markdown",
   "metadata": {},
   "source": [
    "Sur ces lois statistiques de [scipy](https://dataforeveryone.medium.com/pdf-pmf-et-cdf-en-1-minute-bd3da21f7d70) il existe toujours plusieurs sous commandes qui [sont toujours](https://dataforeveryone.medium.com/pdf-pmf-et-cdf-en-1-minute-bd3da21f7d70):\n",
    "- `pdf`: *probability density function*, densité de probabilité (pour les distributions continues).\n",
    "- `cdf`: *cumulative distribtion function*, probalité cumulée (intégrale de `pdf`).\n",
    "- `pmf`: *probability mass function*, probabilité d'obtenir une valeur pour une distribution discrète.\n",
    "- `ppf`: *percent point function*, inverse de la fonction `cdf` donnant le pourcentage correspondant à l'intégrale de la distribution.\n",
    "- `sf`: *survival function*, fonction de survie `1-cdf`.\n",
    "- `isf: *inverse survival function*, inverse de la fonction de survie `sf`.\n",
    "- `stats`: les moments: moyenne (`'v'`), la variance (`'v'`), la distorsion (`'s'`, *skew* en anglais), l'aplatissement (`'k'` *kurtosis* en anglais) qui sont donnés par le paramètre `moments=`.\n",
    "- `moment([order])`: moment non centré correspondant aux ordres données en paramètre.\n",
    "\n",
    "Les lois de distribution continues descendent toutes de l'objet [rv_continuous](https://docs.scipy.org/doc/scipy/reference/generated/scipy.stats.rv_continuous.html#scipy.stats.rv_continuous) et les distributions discrètes de l'objet [rv_discrete](https://docs.scipy.org/doc/scipy/reference/generated/scipy.stats.rv_discrete.html#scipy.stats.rv_discrete).\n",
    "  "
   ]
  },
  {
   "attachments": {},
   "cell_type": "markdown",
   "metadata": {},
   "source": [
    "Voici la façon la plus simple d'utiliser le test du $\\chi^2$. Il s'agit de vérifier si un jeu de données ayant un certain degré de liberté `n` est constitués ou non de `n` variables indépendantes."
   ]
  },
  {
   "cell_type": "code",
   "execution_count": 3,
   "metadata": {},
   "outputs": [
    {
     "name": "stdout",
     "output_type": "stream",
     "text": [
      "Pour la distribution T, avec 5 degrés de liberté, P(T < 11.07) = 95%\n",
      "Le seuil à ne pas dépasser pour que l'hypothèse H0 soit vraie à 95% est 11.07\n"
     ]
    }
   ],
   "source": [
    "confidence = 0.95\n",
    "freedom = 5\n",
    "\n",
    "threshold = chi2.ppf(confidence, freedom)\n",
    "print(f'Pour la distribution T, avec {freedom:.0f} degrés de liberté, P(T < {threshold:.2f}) = {confidence*100:.0f}%')\n",
    "print(f'Le seuil à ne pas dépasser pour que l\\'hypothèse H0 soit vraie à {confidence*100:.0f}% est {threshold:.2f}' )"
   ]
  },
  {
   "attachments": {},
   "cell_type": "markdown",
   "metadata": {},
   "source": [
    "## Vérifier si un dé est truqué\n",
    "\n",
    "Cet exemple vient de la page [Wikipédia](https://fr.wikipedia.org/wiki/Test_du_%CF%87%C2%B2). Le test consiste à lancer 600 fois le dé. S'il n'est pas truqué, nous devrions normalement obtenir chaque face le même nombre de fois, c'est-à-dire 100 fois. Mais la réalité étant ce qu'elle, nous aurons une certaine distribution autour de 100, qui devrait être une distribution normale. Comment savoir si cette distribution des relevés autour de 100 est normale ou non ?\n",
    "\n",
    "On se donne un chance de 5% de se tromper (c'est-à-dire qu'on est sûr de notre résultat à 95%). Nous faisons la sommes des carrés des différences des lectures réalisées avec le résultat théorique 100 et nous divisions chacun de ces résultats par le résultat théorique 100.\n",
    "\n",
    "Le degré de liberté de notre échantillon est 5: chaque face à un nombre indépendant de chance d'avoir le résultat, mais la somme des résultats doit être 600. (le degré de liberté est toujours le degré de liberté moins un)."
   ]
  },
  {
   "cell_type": "code",
   "execution_count": 4,
   "metadata": {},
   "outputs": [
    {
     "name": "stdout",
     "output_type": "stream",
     "text": [
      "Le dé n'est pas truqué, 3.44 < 11.07\n"
     ]
    }
   ],
   "source": [
    "dice_face = np.arange(1,7)\n",
    "dice_test = np.array([88, 109, 107, 94, 105, 97]) # résultat mesuré proposé\n",
    "rigged_test = np.array([89,131,93,92,104,91])  # résultat mesuré pour un dé truqué\n",
    "\n",
    "# dice_test = rigged_test # décommenter pour le dé truqué\n",
    "\n",
    "nb_tests = 600\n",
    "chance_per_face = 600 / 6\n",
    "dice_label = np.full(6, chance_per_face) # le résultat théoriquement attendu\n",
    "\n",
    "res = (np.square((dice_test-dice_label))/chance_per_face).sum()\n",
    "\n",
    "confidence = 0.95\n",
    "threshold = chi2.ppf(confidence, 5)\n",
    "\n",
    "if res < threshold:\n",
    "    print(f'Le dé n\\'est pas truqué, {res:.2f} < {threshold:.2f}')\n",
    "else:\n",
    "    print(f'le dé est truqué car {res:.2f} ⩾ {threshold:.2f}')"
   ]
  },
  {
   "attachments": {},
   "cell_type": "markdown",
   "metadata": {},
   "source": [
    "## Vérifier si une distribution vérifie la [loi de Poisson](https://docs.scipy.org/doc/scipy/reference/generated/scipy.stats.poisson.html)\n",
    "\n",
    "La [loi de Poisson](https://fr.wikipedia.org/wiki/Loi_de_Poisson) caractérise le comportement d'évènements se produisant durant un intervalle fixe, mais dont la fréquence ne dépend pas de cette durée.\n",
    "\n",
    "La page de [Wikipédia](https://fr.wikipedia.org/wiki/Test_du_%CF%87%C2%B2) propose aussi un relevé par vérifier s'il suit une loi de Poisson. On observe un évènement qui semble intervenir avec une certain fréquence pendant une certaine durée. On a fait un échantillon de 100 valeurs, 31 évènements arrivent en moins de 1min, 45 en entre 1min et 2min (exclu), 16 entre 2min et 3min, 7 entre 3min et 4min et 1 entre 4min et plus. "
   ]
  },
  {
   "cell_type": "code",
   "execution_count": 42,
   "metadata": {},
   "outputs": [
    {
     "name": "stdout",
     "output_type": "stream",
     "text": [
      "╭─────┬─────┬─────┬─────┬─────╮\n",
      "│   0 │   1 │   2 │   3 │   4 │\n",
      "├─────┼─────┼─────┼─────┼─────┤\n",
      "│  31 │  45 │  16 │   7 │   1 │\n",
      "╰─────┴─────┴─────┴─────┴─────╯\n"
     ]
    }
   ],
   "source": [
    "from tabulate import tabulate  # to print nice table\n",
    "\n",
    "X = np.array([31,45,16,7,1]) # fréquence d'apparition des valeurs\n",
    "print(tabulate(X.reshape(1,5), headers=np.arange(5), tablefmt='rounded_grid'))"
   ]
  },
  {
   "attachments": {},
   "cell_type": "markdown",
   "metadata": {},
   "source": [
    "On reprend l'échantillon on mettant dans la classe 'plus de 3min' l'échantillon dans 3min et 4min."
   ]
  },
  {
   "cell_type": "code",
   "execution_count": 67,
   "metadata": {},
   "outputs": [
    {
     "name": "stdout",
     "output_type": "stream",
     "text": [
      "╭─────┬─────┬─────┬─────╮\n",
      "│   0 │   1 │   2 │   3 │\n",
      "├─────┼─────┼─────┼─────┤\n",
      "│  31 │  45 │  16 │   8 │\n",
      "╰─────┴─────┴─────┴─────╯\n"
     ]
    }
   ],
   "source": [
    "X1 = np.array([31,45,16,8]) # on a regroupé les deux dernières classes\n",
    "print(tabulate(X1.reshape(1,4), headers=[0,1,2,3], tablefmt='rounded_grid'))"
   ]
  },
  {
   "attachments": {},
   "cell_type": "markdown",
   "metadata": {},
   "source": [
    "On calcule la fréquence moyenne d'arrivé de l'évènement."
   ]
  },
  {
   "cell_type": "code",
   "execution_count": 78,
   "metadata": {},
   "outputs": [
    {
     "name": "stdout",
     "output_type": "stream",
     "text": [
      "La fréquence moyenne est 1.02\n"
     ]
    }
   ],
   "source": [
    "mu = np.average(range(4), weights=X1)\n",
    "mu = mu * X1.sum() / (X1.sum()-1)  # espérance empirique\n",
    "# mu = np.dot(np.arange(4), X1) / (X1.sum() - 1)\n",
    "print(f'La fréquence moyenne est {mu:.2f}')"
   ]
  },
  {
   "attachments": {},
   "cell_type": "markdown",
   "metadata": {},
   "source": [
    "On calcule maintenant ce que donnerait une distribution de Poisson pour les trois premiers éléments."
   ]
  },
  {
   "cell_type": "code",
   "execution_count": 80,
   "metadata": {},
   "outputs": [
    {
     "name": "stdout",
     "output_type": "stream",
     "text": [
      "╭───────┬───────┬───────╮\n",
      "│     0 │     1 │     2 │\n",
      "├───────┼───────┼───────┤\n",
      "│ 36.05 │ 36.78 │ 18.76 │\n",
      "╰───────┴───────┴───────╯\n"
     ]
    }
   ],
   "source": [
    "from scipy.stats import poisson\n",
    "\n",
    "table = np.array(range(3)).reshape(1,3)\n",
    "y = np.around(poisson.pmf(range(3), mu)*100, 2)\n",
    "\n",
    "print(tabulate(y.reshape(1,3), headers=[0,1,2], tablefmt='rounded_grid'))"
   ]
  },
  {
   "attachments": {},
   "cell_type": "markdown",
   "metadata": {},
   "source": [
    "Pour le dernier élément, on prend l'inverse de la somme des probabilité de 0 à 3."
   ]
  },
  {
   "cell_type": "code",
   "execution_count": 81,
   "metadata": {},
   "outputs": [
    {
     "name": "stdout",
     "output_type": "stream",
     "text": [
      "╭───────┬───────┬───────┬─────────╮\n",
      "│     0 │     1 │     2 │     ≥ 3 │\n",
      "├───────┼───────┼───────┼─────────┤\n",
      "│ 36.05 │ 36.78 │ 18.76 │ 8.40546 │\n",
      "╰───────┴───────┴───────┴─────────╯\n"
     ]
    }
   ],
   "source": [
    "y = np.append(y, 100- poisson.cdf(2,mu)*100)\n",
    "\n",
    "print(tabulate(y.reshape(1,4), headers=('0','1','2','≥ 3'), tablefmt='rounded_grid'))"
   ]
  },
  {
   "attachments": {},
   "cell_type": "markdown",
   "metadata": {},
   "source": [
    "On fait maintenant le calcul des différences (au carré)"
   ]
  },
  {
   "cell_type": "code",
   "execution_count": 85,
   "metadata": {},
   "outputs": [
    {
     "name": "stdout",
     "output_type": "stream",
     "text": [
      "res = 2.97\n"
     ]
    }
   ],
   "source": [
    "res = 0\n",
    "for i,j in zip(X1, y):\n",
    "    res += np.square(i-j) / j\n",
    "print(f'res = {res:.2f}')"
   ]
  },
  {
   "cell_type": "code",
   "execution_count": 90,
   "metadata": {},
   "outputs": [
    {
     "name": "stdout",
     "output_type": "stream",
     "text": [
      "res = 2.97\n"
     ]
    }
   ],
   "source": [
    "# autre méthode d'écrire plus vite le résultat\n",
    "res = (np.square(X1-y)/y).sum()\n",
    "print(f'res = {res:.2f}')"
   ]
  },
  {
   "attachments": {},
   "cell_type": "markdown",
   "metadata": {},
   "source": [
    "La variable $\\chi^2$ est ici à deux degrés de liberté."
   ]
  },
  {
   "cell_type": "code",
   "execution_count": 61,
   "metadata": {},
   "outputs": [
    {
     "name": "stdout",
     "output_type": "stream",
     "text": [
      "Pour la distribution T, avec 2 degrés de liberté, P(T < 5.99) = 95%\n",
      "La distribution suite la loi de Poisson, 2.97 < 5.99\n"
     ]
    }
   ],
   "source": [
    "confidence = 0.95\n",
    "freedom = 2    # ici deux degrés de liberté\n",
    "threshold = chi2.ppf(confidence, freedom)  \n",
    "print(f'Pour la distribution T, avec {freedom:.0f} degrés de liberté, P(T < {threshold:.2f}) = {confidence*100:.0f}%')\n",
    "\n",
    "if res < threshold:\n",
    "    print(f'La distribution suite la loi de Poisson, {res:.2f} < {threshold:.2f}')\n",
    "else:\n",
    "    print(f'La distribution suite la loi de Poisson {res:.2f} ⩾ {threshold:.2f}')"
   ]
  }
 ],
 "metadata": {
  "kernelspec": {
   "display_name": ".venv",
   "language": "python",
   "name": "python3"
  },
  "language_info": {
   "codemirror_mode": {
    "name": "ipython",
    "version": 3
   },
   "file_extension": ".py",
   "mimetype": "text/x-python",
   "name": "python",
   "nbconvert_exporter": "python",
   "pygments_lexer": "ipython3",
   "version": "3.10.7"
  },
  "orig_nbformat": 4
 },
 "nbformat": 4,
 "nbformat_minor": 2
}
