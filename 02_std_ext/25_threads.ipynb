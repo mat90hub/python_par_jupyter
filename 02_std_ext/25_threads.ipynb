{
 "cells": [
  {
   "attachments": {},
   "cell_type": "markdown",
   "metadata": {},
   "source": [
    "# Les Threads"
   ]
  },
  {
   "attachments": {},
   "cell_type": "markdown",
   "metadata": {},
   "source": [
    "Les \"threads\" (fils en français) sont des processus qui se lancent en parallèle. L'extension qui permet de faire des [thread](https://docs.python.org/3/library/threading.html). Ce texte est basé sur [ce tutoriel](https://realpython.com/intro-to-python-threading/).\n",
    "\n",
    "La commande qui lance un nouveau \"thread\" est `threading.Thread( function, args[, kwargs])`."
   ]
  },
  {
   "attachments": {},
   "cell_type": "markdown",
   "metadata": {},
   "source": [
    "Les tâches qui doivent attendre une entrée gagnent souvent à être traitée comme des 'threads'. Les tâches qui prennent un long temps d'exéction et peu de temps à attendre ne gagnent rien à être mise en 'thread'."
   ]
  },
  {
   "cell_type": "code",
   "execution_count": 2,
   "metadata": {},
   "outputs": [
    {
     "name": "stderr",
     "output_type": "stream",
     "text": [
      "22:07:37: Main: before creating the thread\n",
      "22:07:37: Main: before running the thread\n",
      "22:07:37: Thread 1: starting\n",
      "22:07:37: Main: wait for the thread to finish\n",
      "22:07:37: Main: all done\n"
     ]
    },
    {
     "name": "stderr",
     "output_type": "stream",
     "text": [
      "22:07:39: Thread 1: finishing\n"
     ]
    }
   ],
   "source": [
    "#!/usr/bin/env python3\n",
    "import logging\n",
    "import threading\n",
    "import time\n",
    "\n",
    "def thread_function(name):\n",
    "    logging.info(\"Thread %s: starting\", name)\n",
    "    time.sleep(2)\n",
    "    logging.info(\"Thread %s: finishing\", name)\n",
    "\n",
    "format = \"%(asctime)s: %(message)s\"\n",
    "logging.basicConfig(format=format, level=logging.INFO, datefmt=\"%H:%M:%S\")\n",
    "\n",
    "logging.info(\"Main: before creating the thread\")\n",
    "x = threading.Thread(target=thread_function, args=(1,))\n",
    "logging.info(\"Main: before running the thread\")\n",
    "x.start()\n",
    "logging.info(\"Main: wait for the thread to finish\")\n",
    "# x.join()\n",
    "logging.info(\"Main: all done\")"
   ]
  },
  {
   "cell_type": "markdown",
   "metadata": {},
   "source": []
  }
 ],
 "metadata": {
  "kernelspec": {
   "display_name": "Python 3",
   "language": "python",
   "name": "python3"
  },
  "language_info": {
   "codemirror_mode": {
    "name": "ipython",
    "version": 3
   },
   "file_extension": ".py",
   "mimetype": "text/x-python",
   "name": "python",
   "nbconvert_exporter": "python",
   "pygments_lexer": "ipython3",
   "version": "3.10.7"
  },
  "orig_nbformat": 4,
  "vscode": {
   "interpreter": {
    "hash": "916dbcbb3f70747c44a77c7bcd40155683ae19c65e1c03b4aa3499c5328201f1"
   }
  }
 },
 "nbformat": 4,
 "nbformat_minor": 2
}
