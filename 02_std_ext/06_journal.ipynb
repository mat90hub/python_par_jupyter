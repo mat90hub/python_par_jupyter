{
 "cells": [
  {
   "attachments": {},
   "cell_type": "markdown",
   "metadata": {},
   "source": [
    "# Journaliser les évènements d'exécution"
   ]
  },
  {
   "attachments": {},
   "cell_type": "markdown",
   "metadata": {},
   "source": [
    "Ce texte explore la possibilités offerte par l'extension `logging` et s'appuie sur [cette page](https://docs.python.org/3/library/logging.html) et sur [le tutorial d'introduction](https://docs.python.org/3/howto/logging.html#logging-basic-tutorial). Un 'log' ou journal en Fançais est la possibilité d'enregistrer certains évènements pendant l'exécution d'un programme."
   ]
  },
  {
   "attachments": {},
   "cell_type": "markdown",
   "metadata": {},
   "source": [
    "Les évènements sont classés par niveau donnés ici du niveau le plus bas au plus haut.\n",
    "\n",
    "* DEBUG: pour la mise au point\n",
    "* INFO: confirmation que tout s'est bien passé\n",
    "* WARNING: alarme, mais l'exécution continue\n",
    "* ERROR: de sérieuses erreurs ont désactivé certaines fonctionalités\n",
    "* CRITICAL: le programme  a dû s'arrêter"
   ]
  },
  {
   "attachments": {},
   "cell_type": "markdown",
   "metadata": {},
   "source": [
    "On peut régler le niveau de verbosité, par exemple le niveau par défaut quand on utilise cette extension `WARNING` ce qui fait que les logs classés `DEBUG`et `INFO` n'apparaissent pas par défaut."
   ]
  },
  {
   "attachments": {},
   "cell_type": "markdown",
   "metadata": {},
   "source": [
    "Un journal sert avant tout à enregistrer les évènements dans une fichier, qu'on peut lire par après pour analyser ce qui s'est passé. \n",
    "Voici un exemple qui enregistre le journal dans un fichier en le déclarant dans la procédure de configuration `logging.basicConfig(**kwargs)`. Cette procedure prend un dictionnaire comme argument ici les trois principaux : le nom du fichier, l'encodage à utiliser et le niveau de journalisation."
   ]
  },
  {
   "cell_type": "code",
   "execution_count": 1,
   "metadata": {},
   "outputs": [],
   "source": [
    "\n",
    "import logging\n",
    "logging.basicConfig(filename='journal.log', encoding='utf-8', level=logging.DEBUG)\n",
    "logging.debug('Ce message est journalisé')\n",
    "logging.info('Comme celui-ci')\n",
    "logging.warning('Et celui-ci aussi.')\n",
    "logging.error('Ainsi que les erreurs critiques.')"
   ]
  },
  {
   "attachments": {},
   "cell_type": "markdown",
   "metadata": {},
   "source": [
    "Cette commande crée le fichier `journal.log` sur le répertoire racine."
   ]
  },
  {
   "cell_type": "code",
   "execution_count": null,
   "metadata": {},
   "outputs": [],
   "source": []
  }
 ],
 "metadata": {
  "kernelspec": {
   "display_name": "Python 3",
   "language": "python",
   "name": "python3"
  },
  "language_info": {
   "codemirror_mode": {
    "name": "ipython",
    "version": 3
   },
   "file_extension": ".py",
   "mimetype": "text/x-python",
   "name": "python",
   "nbconvert_exporter": "python",
   "pygments_lexer": "ipython3",
   "version": "3.10.7"
  },
  "orig_nbformat": 4,
  "vscode": {
   "interpreter": {
    "hash": "916dbcbb3f70747c44a77c7bcd40155683ae19c65e1c03b4aa3499c5328201f1"
   }
  }
 },
 "nbformat": 4,
 "nbformat_minor": 2
}
