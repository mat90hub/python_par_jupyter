{
 "cells": [
  {
   "attachments": {},
   "cell_type": "markdown",
   "metadata": {},
   "source": [
    "# Réaliser des graphes avec Python\n",
    "\n",
    "Python possède plusieurs extensions permettant de faire d'exellantes sorties graphiques. Elles ont toutes comme caractéristiques d'être aussi très tolérantes sur la façon de fournir les données."
   ]
  },
  {
   "attachments": {},
   "cell_type": "markdown",
   "metadata": {},
   "source": [
    "# L'extension  [Plotly](https://plotly.com/)\n",
    "\n",
    "C'est la dernière extension sortie et qui produit des résultats assez époustouflants, en particulier à cause de leur interactivité."
   ]
  },
  {
   "attachments": {},
   "cell_type": "markdown",
   "metadata": {},
   "source": [
    "# L'extension [Seaborn](https://seaborn.pydata.org/index.html)\n",
    "\n",
    "Cette extension se basait sur l'extension historique [matplotlib.pyplot](https://matplotlib.org/stable/api/pyplot_summary.html) que nous allons voir ensuite, mais peut aussi s'utiliser seule. Elle est focalisée sur le visualisation de données statistiques."
   ]
  },
  {
   "cell_type": "code",
   "execution_count": 4,
   "metadata": {},
   "outputs": [
    {
     "data": {
      "text/plain": [
       "<seaborn.axisgrid.FacetGrid at 0x7fbf363fd7b0>"
      ]
     },
     "execution_count": 4,
     "metadata": {},
     "output_type": "execute_result"
    },
    {
     "data": {
      "image/png": "[encoded data removed]",
      "text/plain": [
       "<Figure size 500x500 with 1 Axes>"
      ]
     },
     "metadata": {},
     "output_type": "display_data"
    }
   ],
   "source": [
    "import seaborn as sns\n",
    "import numpy as np\n",
    "\n",
    "sns.set_theme(context='notebook', style='darkgrid')\n",
    "\n",
    "rng = np.random.default_rng()\n",
    "x = rng.standard_normal(100)\n",
    "sns.displot(x, kind=\"hist\") # 3 types: kde, hist, ecdf"
   ]
  },
  {
   "attachments": {},
   "cell_type": "markdown",
   "metadata": {},
   "source": [
    "On peut améliorer le rendu avec les [thèmes](https://seaborn.pydata.org/generated/seaborn.set_theme.html#seaborn.set_theme)"
   ]
  },
  {
   "attachments": {},
   "cell_type": "markdown",
   "metadata": {},
   "source": [
    "# L'extension [matplotlib](https://matplotlib.org/stable/index.html)\n",
    "\n",
    "C'est l'extension historique, que l'on retrouve donc dans beaucoup du tutoriel."
   ]
  }
 ],
 "metadata": {
  "kernelspec": {
   "display_name": ".venv",
   "language": "python",
   "name": "python3"
  },
  "language_info": {
   "codemirror_mode": {
    "name": "ipython",
    "version": 3
   },
   "file_extension": ".py",
   "mimetype": "text/x-python",
   "name": "python",
   "nbconvert_exporter": "python",
   "pygments_lexer": "ipython3",
   "version": "3.10.7"
  },
  "orig_nbformat": 4,
  "vscode": {
   "interpreter": {
    "hash": "f2aec3b84089aa708d4850c58218314a12e464c7021fc707cb33bd662b6900e2"
   }
  }
 },
 "nbformat": 4,
 "nbformat_minor": 2
}
