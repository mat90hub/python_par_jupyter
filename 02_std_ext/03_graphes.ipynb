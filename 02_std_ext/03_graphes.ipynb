{
 "cells": [
  {
   "attachments": {},
   "cell_type": "markdown",
   "metadata": {},
   "source": [
    "# Réaliser des graphes avec Python\n",
    "\n",
    "Python possède plusieurs extensions permettant de faire d'exellantes sorties graphiques. Elles ont toutes comme caractéristiques d'être aussi très tolérantes sur la façon de fournir les données."
   ]
  },
  {
   "attachments": {},
   "cell_type": "markdown",
   "metadata": {},
   "source": [
    "# L'extension  [Plotly](https://plotly.com/)\n",
    "\n",
    "C'est la dernière extension sortie et qui produit des résultats assez époustouflants, en particulier à cause de leur interactivité."
   ]
  },
  {
   "attachments": {},
   "cell_type": "markdown",
   "metadata": {},
   "source": [
    "# L'extension [Seaborn](https://seaborn.pydata.org/index.html)\n",
    "\n",
    "Cette extension se basait sur l'extension historique [matplotlib.pyplot](https://matplotlib.org/stable/api/pyplot_summary.html) que nous allons voir ensuite, mais peut aussi s'utiliser seule. Elle est focalisée sur le visualisation de données statistiques."
   ]
  },
  {
   "attachments": {},
   "cell_type": "markdown",
   "metadata": {},
   "source": [
    "# L'extension [matplotlib](https://matplotlib.org/stable/index.html)\n",
    "\n",
    "C'est l'extension historique, que l'on retrouve donc dans beaucoup du tutoriel."
   ]
  }
 ],
 "metadata": {
  "language_info": {
   "name": "python"
  },
  "orig_nbformat": 4
 },
 "nbformat": 4,
 "nbformat_minor": 2
}
