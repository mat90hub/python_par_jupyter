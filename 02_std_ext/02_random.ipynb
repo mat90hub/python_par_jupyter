{
 "cells": [
  {
   "attachments": {},
   "cell_type": "markdown",
   "metadata": {},
   "source": [
    "# La génération de nombres aléatoires\n",
    "\n",
    "La génération de nombre aléatoire peut être utile, typiquement pour faire des tests.\n",
    "\n",
    "La nouvelle procédure à suivre est de créer un générateur de nombre aléatoires avec [numpy.random.default_rng](https://numpy.org/doc/stable/reference/random/generator.html) qui prend en argument une valeur servant à initialiser la séquence de nombres pseudo-aléatoires.\n",
    "\n",
    "Ensuite, on applique la distribution qu'on veut obtenir, la [loi normale](https://numpy.org/doc/stable/reference/random/generated/numpy.random.Generator.normal.html#numpy.random.Generator.normal) "
   ]
  },
  {
   "cell_type": "code",
   "execution_count": 1,
   "metadata": {},
   "outputs": [
    {
     "data": {
      "text/plain": [
       "array([7.04091912, 2.44433497, 5.41809885, 4.43223039, 4.54735071])"
      ]
     },
     "execution_count": 1,
     "metadata": {},
     "output_type": "execute_result"
    }
   ],
   "source": [
    "import numpy as np\n",
    "rng = np.random.default_rng(3)\n",
    "a = rng.normal(5, 1, size=5)\n",
    "a"
   ]
  },
  {
   "attachments": {},
   "cell_type": "markdown",
   "metadata": {},
   "source": [
    "Il existe plusieurs autres lois dites parfois \"pseudo-aléatoires\" comme la loi de [Poisson](https://numpy.org/doc/stable/reference/random/generated/numpy.random.Generator.poisson.html#numpy.random.Generator.poisson) ou de [Weibull](https://numpy.org/doc/stable/reference/random/generated/numpy.random.Generator.weibull.html). On trouvera [la liste complète sur la documentation](https://numpy.org/doc/stable/reference/random/generator.html)."
   ]
  },
  {
   "attachments": {},
   "cell_type": "markdown",
   "metadata": {},
   "source": [
    "Rebattre les éléments d'une liste avec [shuffle](https://numpy.org/doc/stable/reference/random/generated/numpy.random.Generator.shuffle.html#numpy.random.Generator.shuffle)"
   ]
  },
  {
   "cell_type": "code",
   "execution_count": 2,
   "metadata": {},
   "outputs": [
    {
     "data": {
      "text/plain": [
       "array([7.04091912, 2.44433497, 4.54735071, 5.41809885, 4.43223039])"
      ]
     },
     "execution_count": 2,
     "metadata": {},
     "output_type": "execute_result"
    }
   ],
   "source": [
    "rng.shuffle(a)\n",
    "a"
   ]
  },
  {
   "attachments": {},
   "cell_type": "markdown",
   "metadata": {},
   "source": [
    "# Calculer un histogramme\n",
    "\n",
    "La commande [numpy.histogram](https://numpy.org/doc/stable/reference/generated/numpy.histogram.html#numpy.histogram) est une entité particulière qui peut être utile dans certains cas."
   ]
  },
  {
   "cell_type": "code",
   "execution_count": 3,
   "metadata": {},
   "outputs": [
    {
     "data": {
      "text/plain": [
       "array([0.06685812, 0.02228604, 0.13371623, 0.37886266, 0.42343474,\n",
       "       0.44572078, 0.31200455, 0.26743247, 0.1114302 , 0.06685812])"
      ]
     },
     "execution_count": 3,
     "metadata": {},
     "output_type": "execute_result"
    }
   ],
   "source": [
    "import matplotlib.pyplot as plt\n",
    "\n",
    "# déclaration d'un générateur de nombre aléatoires\n",
    "rng = np.random.RandomState(seed=1)\n",
    "a = rng.normal(5, 1, size=100)\n",
    "hist, edges = np.histogram(a, density=True)\n",
    "hist\n",
    "\n"
   ]
  },
  {
   "cell_type": "markdown",
   "metadata": {},
   "source": [
    "Par contre l'extension [seaborn](https://seaborn.pydata.org/generated/seaborn.displot.html) permet d'afficher directement l'histogramme, si c'est le but recherché."
   ]
  },
  {
   "cell_type": "code",
   "execution_count": null,
   "metadata": {},
   "outputs": [
    {
     "data": {
      "text/plain": [
       "<seaborn.axisgrid.FacetGrid at 0x7f6dc5967eb0>"
      ]
     },
     "metadata": {},
     "output_type": "display_data"
    },
    {
     "data": {
      "image/png": "[encoded data removed]",
      "text/plain": [
       "<Figure size 500x500 with 1 Axes>"
      ]
     },
     "metadata": {},
     "output_type": "display_data"
    }
   ],
   "source": [
    "import seaborn as sns\n",
    "sns.displot(a)"
   ]
  },
  {
   "attachments": {},
   "cell_type": "markdown",
   "metadata": {},
   "source": [
    "On pourra aussi regarder l'extension [statistique](https://numpy.org/doc/stable/reference/routines.statistics.html) de numpy."
   ]
  },
  {
   "attachments": {},
   "cell_type": "markdown",
   "metadata": {},
   "source": [
    "# Initialiser des matrices\n",
    "\n",
    "Nous initialisons ici une matrice remplies avec des entiers entre 1 et 10 (en utilisant la nouvelle méthode qui demande d'initialiser un *random generator*)."
   ]
  },
  {
   "cell_type": "code",
   "execution_count": 4,
   "metadata": {},
   "outputs": [
    {
     "data": {
      "text/plain": [
       "array([[6, 9, 6, 1, 1],\n",
       "       [2, 8, 7, 3, 5],\n",
       "       [6, 3, 5, 3, 5],\n",
       "       [8, 8, 2, 8, 1],\n",
       "       [7, 8, 7, 2, 1]])"
      ]
     },
     "execution_count": 4,
     "metadata": {},
     "output_type": "execute_result"
    }
   ],
   "source": [
    "rng = np.random.RandomState(seed=1)\n",
    "M = rng.randint(1, 10, size = (5,5))\n",
    "M"
   ]
  },
  {
   "attachments": {},
   "cell_type": "markdown",
   "metadata": {},
   "source": [
    "Voici un exercice tiré de [cette vidéo de la chaîne Machine learnia](https://www.youtube.com/watch?v=RwFiNlL4Q8g&list=PLO_fdPEVlfKqMDNmCFzQISI2H_nJcEDJq&index=12).\n",
    "Il s'agit de compter les nombres qui apparaissent la matrice précédente et de les classer par nombre d'apparitions. On utilise pour cela les fonctions [unique](https://numpy.org/doc/stable/reference/generated/numpy.unique.html) et [argsort](https://numpy.org/doc/stable/reference/generated/numpy.argsort.html#numpy-argsort) de NumPy.\n",
    "\n"
   ]
  },
  {
   "cell_type": "code",
   "execution_count": 12,
   "metadata": {},
   "outputs": [
    {
     "data": {
      "text/plain": [
       "array([1, 5, 6, 8, 9, 3, 4, 7, 2])"
      ]
     },
     "execution_count": 12,
     "metadata": {},
     "output_type": "execute_result"
    }
   ],
   "source": [
    "import numpy as np\n",
    "values, counts = np.unique(M, return_counts=True)\n",
    "values[counts.argsort()]"
   ]
  },
  {
   "cell_type": "code",
   "execution_count": 14,
   "metadata": {},
   "outputs": [
    {
     "name": "stdout",
     "output_type": "stream",
     "text": [
      "La valeur 1 apparaît 2 fois\n",
      "La valeur 5 apparaît 2 fois\n",
      "La valeur 6 apparaît 2 fois\n",
      "La valeur 8 apparaît 2 fois\n",
      "La valeur 9 apparaît 2 fois\n",
      "La valeur 3 apparaît 3 fois\n",
      "La valeur 4 apparaît 3 fois\n",
      "La valeur 7 apparaît 3 fois\n",
      "La valeur 2 apparaît 6 fois\n"
     ]
    }
   ],
   "source": [
    "for i,j in zip(values[counts.argsort()], counts[counts.argsort()]):\n",
    "    print(f'La valeur {i} apparaît {j} fois')"
   ]
  }
 ],
 "metadata": {
  "kernelspec": {
   "display_name": ".venv",
   "language": "python",
   "name": "python3"
  },
  "language_info": {
   "codemirror_mode": {
    "name": "ipython",
    "version": 3
   },
   "file_extension": ".py",
   "mimetype": "text/x-python",
   "name": "python",
   "nbconvert_exporter": "python",
   "pygments_lexer": "ipython3",
   "version": "3.10.7"
  },
  "orig_nbformat": 4,
  "vscode": {
   "interpreter": {
    "hash": "f2aec3b84089aa708d4850c58218314a12e464c7021fc707cb33bd662b6900e2"
   }
  }
 },
 "nbformat": 4,
 "nbformat_minor": 2
}
