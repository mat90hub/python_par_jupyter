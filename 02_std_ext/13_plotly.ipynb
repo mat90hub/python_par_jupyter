{
 "cells": [
  {
   "cell_type": "markdown",
   "metadata": {},
   "source": [
    "# L'extension  [Plotly](https://plotly.com/)\n",
    "\n",
    "C'est la dernière extension sortie et qui produit des résultats assez époustouflants, en particulier à cause de leur interactivité."
   ]
  },
  {
   "cell_type": "markdown",
   "metadata": {},
   "source": [
    "On peut améliorer le rendu avec les [thèmes](https://seaborn.pydata.org/generated/seaborn.set_theme.html#seaborn.set_theme)"
   ]
  }
 ],
 "metadata": {
  "language_info": {
   "name": "python"
  },
  "orig_nbformat": 4
 },
 "nbformat": 4,
 "nbformat_minor": 2
}
