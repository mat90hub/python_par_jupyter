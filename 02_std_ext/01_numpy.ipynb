{
 "cells": [
  {
   "attachments": {},
   "cell_type": "markdown",
   "metadata": {},
   "source": [
    "# Manipuler les vecteurs avec [NumPy](https://numpy.org/) \n"
   ]
  },
  {
   "cell_type": "code",
   "execution_count": 1,
   "metadata": {},
   "outputs": [
    {
     "name": "stdout",
     "output_type": "stream",
     "text": [
      "/home/mathieu/Sync/informatique/programmation/python/python_par_jupyter/02_std_ext\n"
     ]
    }
   ],
   "source": [
    "# changer le répertoire par défaut pour visualiser les images\n",
    "import os\n",
    "try:\n",
    "    os.chdir(os.path.join(os.getcwd(),'.'))\n",
    "    print(os.getcwd())\n",
    "except:\n",
    "    pass"
   ]
  },
  {
   "attachments": {},
   "cell_type": "markdown",
   "metadata": {},
   "source": [
    "![numpy logo](./img/logo.png)"
   ]
  },
  {
   "attachments": {},
   "cell_type": "markdown",
   "metadata": {},
   "source": [
    "L'extension [NumPy](https://numpy.org/doc/stable/) est une extension aidant le calcul numérique. \n",
    "\n",
    "Elle contient en particulier\n",
    "- la définition des vecteurs à n dimension (les matrices), qui sont appelés [ndarray](https://numpy.org/doc/stable/reference/generated/numpy.ndarray.html) qui veut dire tableau à `n` dimensions.\n",
    "- les fonctions trigonométriques [sin](https://numpy.org/doc/stable/reference/generated/numpy.sin.html), [cos](https://numpy.org/doc/stable/reference/generated/numpy.cos.html) ... et la constant [$\\pi$](https://numpy.org/doc/stable/reference/constants.html#numpy.pi)\n",
    "- les fonctions liées à [l'exponentielle](https://numpy.org/doc/stable/reference/generated/numpy.exp.html)\n",
    "- les [polynômes](https://numpy.org/doc/stable/reference/routines.polynomials.package.html#module-numpy.polynomial)\n",
    "- plus généralement, [toutes le fonctions mathématiques utiles](https://numpy.org/doc/stable/reference/routines.math.html)\n",
    "- les fonctions pour [l'algèbre linéaire](https://numpy.org/doc/stable/reference/routines.linalg.html)\n",
    "\n",
    "Ce texte se concentre sur la présentation de cette partie qui concerne l'algèbre linéaire et qui est une sous extension complète appelée [numpy.linalg](https://numpy.org/doc/stable/reference/routines.linalg.html).\n",
    "\n",
    "On pourra aussi consulter la très bonne vidéo de la chaîne YouTube [Machine Learnia](https://www.youtube.com/watch?v=NzDQTrqsxas&list=PLO_fdPEVlfKqMDNmCFzQISI2H_nJcEDJq&index=10)."
   ]
  },
  {
   "attachments": {},
   "cell_type": "markdown",
   "metadata": {},
   "source": [
    "# NumPy or SciPy ?\n",
    "\n",
    "[SciPy](https://scipy.org/) est une autre extension pour le calcul scientifique. J'ai trouvé [ici](https://datascientest.com/scipy) un article présentant SciPy et ses différences avec NumPy. En résumé, SciPy est une extension de NumPy. C'est NumPy qui définit les [ndarray](https://numpy.org/doc/stable/reference/generated/numpy.ndarray.html) et NumPy a été écrit en C pour s'exécuter plus rapidement. SciPy va être plus détaillé pour les options diponibles des fonctions mathématique et a été écrit en Python."
   ]
  },
  {
   "attachments": {},
   "cell_type": "markdown",
   "metadata": {},
   "source": [
    "# Déclaration de vecteurs\n",
    "\n",
    "Python permet de construire rapidement des listes. L'extension [NumPy](https://numpy.org/doc/stable/user/basics.creation.html) se concentre sur les vecteurs, c'est-à dire des listes constituées uniquement de valeurs numériques et qui peuvent avoir une ou plus de dimensions. On les appelle des `ndarray` pour vecteur à dimension `n`. Ce format est traité plus rapidement que les listes dans Python et est donc à privilégier.\n",
    "\n",
    "On peut ensuite déclarer des vecteurs à une ou plusieurs dimensions avec le constructeur [array](https://numpy.org/doc/stable/reference/generated/numpy.array.html)."
   ]
  },
  {
   "cell_type": "code",
   "execution_count": 2,
   "metadata": {},
   "outputs": [
    {
     "data": {
      "text/plain": [
       "array([1, 2, 3, 4])"
      ]
     },
     "execution_count": 2,
     "metadata": {},
     "output_type": "execute_result"
    }
   ],
   "source": [
    "import numpy as np\n",
    "a1D = np.array([1,2,3,4])\n",
    "a1D"
   ]
  },
  {
   "attachments": {},
   "cell_type": "markdown",
   "metadata": {},
   "source": [
    "On remarque que l'impression directe de `a1D` donne un objet vecteur. Si on utilise la fonction print, on notera un légère différence avec une liste."
   ]
  },
  {
   "cell_type": "code",
   "execution_count": 3,
   "metadata": {},
   "outputs": [
    {
     "name": "stdout",
     "output_type": "stream",
     "text": [
      "[1 2 3 4]\n"
     ]
    }
   ],
   "source": [
    "print(a1D)"
   ]
  },
  {
   "attachments": {},
   "cell_type": "markdown",
   "metadata": {},
   "source": [
    "À différentier donc de la liste, qu'on obtient ici en utilisant la fonction `list()` qui retraduit ici un `ndarray` de NumPy vers une `list` venant de coeur du langage Python."
   ]
  },
  {
   "cell_type": "code",
   "execution_count": 5,
   "metadata": {},
   "outputs": [
    {
     "name": "stdout",
     "output_type": "stream",
     "text": [
      "[1, 2, 3, 4]\n"
     ]
    }
   ],
   "source": [
    "print(list(a1D))"
   ]
  },
  {
   "cell_type": "code",
   "execution_count": 3,
   "metadata": {},
   "outputs": [
    {
     "data": {
      "text/plain": [
       "array([[1, 2],\n",
       "       [3, 4]])"
      ]
     },
     "execution_count": 3,
     "metadata": {},
     "output_type": "execute_result"
    }
   ],
   "source": [
    "a2D = np.array([[1,2],[3,4]])\n",
    "a2D"
   ]
  },
  {
   "cell_type": "code",
   "execution_count": 4,
   "metadata": {},
   "outputs": [
    {
     "data": {
      "text/plain": [
       "array([[[1, 2],\n",
       "        [3, 4]],\n",
       "\n",
       "       [[5, 6],\n",
       "        [7, 7]]])"
      ]
     },
     "execution_count": 4,
     "metadata": {},
     "output_type": "execute_result"
    }
   ],
   "source": [
    "a3D = np.array([[[1,2], [3,4]],[[5,6], [7,7]]])\n",
    "a3D"
   ]
  },
  {
   "attachments": {},
   "cell_type": "markdown",
   "metadata": {},
   "source": [
    "On peut aussi spécifier le type numérique, ce qui peut être utile pour accélérer les calculs en acceptant une précision moins grande."
   ]
  },
  {
   "cell_type": "code",
   "execution_count": 5,
   "metadata": {},
   "outputs": [
    {
     "data": {
      "text/plain": [
       "array([127, 128, 129], dtype=int16)"
      ]
     },
     "execution_count": 5,
     "metadata": {},
     "output_type": "execute_result"
    }
   ],
   "source": [
    "a = np.array([127, 128,129], dtype=np.int16)\n",
    "a"
   ]
  },
  {
   "attachments": {},
   "cell_type": "markdown",
   "metadata": {},
   "source": [
    "On peut créer un vecteur avec une suite incrémentée de chiffres."
   ]
  },
  {
   "cell_type": "code",
   "execution_count": 6,
   "metadata": {},
   "outputs": [
    {
     "data": {
      "text/plain": [
       "array([0, 1, 2, 3, 4, 5, 6, 7, 8, 9])"
      ]
     },
     "execution_count": 6,
     "metadata": {},
     "output_type": "execute_result"
    }
   ],
   "source": [
    "np.arange(10)"
   ]
  },
  {
   "cell_type": "code",
   "execution_count": 7,
   "metadata": {},
   "outputs": [
    {
     "data": {
      "text/plain": [
       "array([2., 3., 4., 5., 6., 7., 8., 9.])"
      ]
     },
     "execution_count": 7,
     "metadata": {},
     "output_type": "execute_result"
    }
   ],
   "source": [
    "np.arange(2,10,dtype=float)"
   ]
  },
  {
   "cell_type": "code",
   "execution_count": 8,
   "metadata": {},
   "outputs": [
    {
     "data": {
      "text/plain": [
       "array([2. , 2.1, 2.2, 2.3, 2.4, 2.5, 2.6, 2.7, 2.8, 2.9])"
      ]
     },
     "execution_count": 8,
     "metadata": {},
     "output_type": "execute_result"
    }
   ],
   "source": [
    "np.arange(2,3,0.1)"
   ]
  },
  {
   "attachments": {},
   "cell_type": "markdown",
   "metadata": {},
   "source": [
    "Si préfère, on peut linéariser un intervalle, c'est-à dire, créer un nombre de points donnés entre deux intervalles."
   ]
  },
  {
   "cell_type": "code",
   "execution_count": 9,
   "metadata": {},
   "outputs": [
    {
     "data": {
      "text/plain": [
       "array([1. , 1.6, 2.2, 2.8, 3.4, 4. ])"
      ]
     },
     "execution_count": 9,
     "metadata": {},
     "output_type": "execute_result"
    }
   ],
   "source": [
    "np.linspace(1., 4., 6)"
   ]
  },
  {
   "cell_type": "code",
   "execution_count": 10,
   "metadata": {},
   "outputs": [
    {
     "data": {
      "text/plain": [
       "array([-6., -6., -6., -6., -6., -6., -6., -6., -6., -6.])"
      ]
     },
     "execution_count": 10,
     "metadata": {},
     "output_type": "execute_result"
    }
   ],
   "source": [
    "vec = np.ones(10)*-6\n",
    "vec"
   ]
  },
  {
   "attachments": {},
   "cell_type": "markdown",
   "metadata": {},
   "source": [
    "# Création de matrices à deux dimensions\n",
    "\n",
    "La fonction `numpy.eye` permet de créer une matrice identité pour une dimension donnée."
   ]
  },
  {
   "cell_type": "code",
   "execution_count": 11,
   "metadata": {},
   "outputs": [
    {
     "data": {
      "text/plain": [
       "array([[1., 0., 0.],\n",
       "       [0., 1., 0.],\n",
       "       [0., 0., 1.]])"
      ]
     },
     "execution_count": 11,
     "metadata": {},
     "output_type": "execute_result"
    }
   ],
   "source": [
    "np.eye(3)"
   ]
  },
  {
   "attachments": {},
   "cell_type": "markdown",
   "metadata": {},
   "source": [
    "On peut aussi créer ce genre de matrice en la rendant rectangulaire."
   ]
  },
  {
   "cell_type": "code",
   "execution_count": 12,
   "metadata": {},
   "outputs": [
    {
     "data": {
      "text/plain": [
       "array([[1., 0., 0., 0., 0.],\n",
       "       [0., 1., 0., 0., 0.],\n",
       "       [0., 0., 1., 0., 0.]])"
      ]
     },
     "execution_count": 12,
     "metadata": {},
     "output_type": "execute_result"
    }
   ],
   "source": [
    "np.eye(3,5)"
   ]
  },
  {
   "attachments": {},
   "cell_type": "markdown",
   "metadata": {},
   "source": [
    "On peut aussi définir une matrice diagonale en donnant la liste de ses éléments diagonaux."
   ]
  },
  {
   "cell_type": "code",
   "execution_count": 13,
   "metadata": {},
   "outputs": [
    {
     "data": {
      "text/plain": [
       "array([[1, 0, 0],\n",
       "       [0, 2, 0],\n",
       "       [0, 0, 3]])"
      ]
     },
     "execution_count": 13,
     "metadata": {},
     "output_type": "execute_result"
    }
   ],
   "source": [
    "np.diag([1,2,3])"
   ]
  },
  {
   "attachments": {},
   "cell_type": "markdown",
   "metadata": {},
   "source": [
    "On peut aussi créer une matrice faite de zéro (pour une initialisation par exemple)."
   ]
  },
  {
   "cell_type": "code",
   "execution_count": 14,
   "metadata": {},
   "outputs": [
    {
     "data": {
      "text/plain": [
       "array([[0., 0., 0.],\n",
       "       [0., 0., 0.]])"
      ]
     },
     "execution_count": 14,
     "metadata": {},
     "output_type": "execute_result"
    }
   ],
   "source": [
    "np.zeros((2,3))"
   ]
  },
  {
   "cell_type": "code",
   "execution_count": 15,
   "metadata": {},
   "outputs": [
    {
     "data": {
      "text/plain": [
       "array([[[0., 0.],\n",
       "        [0., 0.],\n",
       "        [0., 0.]],\n",
       "\n",
       "       [[0., 0.],\n",
       "        [0., 0.],\n",
       "        [0., 0.]]])"
      ]
     },
     "execution_count": 15,
     "metadata": {},
     "output_type": "execute_result"
    }
   ],
   "source": [
    "np.zeros((2,3,2))"
   ]
  },
  {
   "attachments": {},
   "cell_type": "markdown",
   "metadata": {},
   "source": [
    "On peut aussi créer une matrice remplie de 1 sur le même principe."
   ]
  },
  {
   "cell_type": "code",
   "execution_count": 16,
   "metadata": {},
   "outputs": [
    {
     "data": {
      "text/plain": [
       "array([[1., 1., 1.],\n",
       "       [1., 1., 1.]])"
      ]
     },
     "execution_count": 16,
     "metadata": {},
     "output_type": "execute_result"
    }
   ],
   "source": [
    "np.ones((2,3))"
   ]
  },
  {
   "attachments": {},
   "cell_type": "markdown",
   "metadata": {},
   "source": [
    "On peut aussi remplir avec nombre aléatoires. On utilise la fonction [default_rng](https://numpy.org/doc/stable/reference/random/generator.html) avec un éventuel paramètre pour l'initialisation des nombres pseudo-aléatoires."
   ]
  },
  {
   "cell_type": "code",
   "execution_count": 17,
   "metadata": {},
   "outputs": [
    {
     "data": {
      "text/plain": [
       "array([[0.77395605, 0.43887844, 0.85859792],\n",
       "       [0.69736803, 0.09417735, 0.97562235]])"
      ]
     },
     "execution_count": 17,
     "metadata": {},
     "output_type": "execute_result"
    }
   ],
   "source": [
    "from numpy.random import default_rng\n",
    "default_rng(42).random((2,3))"
   ]
  },
  {
   "attachments": {},
   "cell_type": "markdown",
   "metadata": {},
   "source": [
    "# Réplication, jointure de vecteurs existant\n",
    "\n",
    "Les règles de découpage propres aux listes restent applicables pour les vecteurs. Pour copier un vecteur, la même problématique se pose que pour les listes, mais il existe une fonction `copy` dans NumPy."
   ]
  },
  {
   "cell_type": "code",
   "execution_count": 18,
   "metadata": {},
   "outputs": [
    {
     "name": "stdout",
     "output_type": "stream",
     "text": [
      "a =  [1 2 3 4] b =  [11 12]\n"
     ]
    }
   ],
   "source": [
    "a = np.array([1,2,3,4])\n",
    "b = a[:2].copy()\n",
    "b += 10\n",
    "print('a = ', a, 'b = ', b)"
   ]
  },
  {
   "attachments": {},
   "cell_type": "markdown",
   "metadata": {},
   "source": [
    "# Reconnaître un vecteur ou le reformater\n",
    "\n",
    "Parfois on aura besoin de reconnaître si un paramètre est un vecteur. La phrase suivante s'assure que le paramètre `arr` est un vecteur, quitte à la transformer en singleton."
   ]
  },
  {
   "cell_type": "code",
   "execution_count": 19,
   "metadata": {},
   "outputs": [
    {
     "data": {
      "text/plain": [
       "array(5)"
      ]
     },
     "execution_count": 19,
     "metadata": {},
     "output_type": "execute_result"
    }
   ],
   "source": [
    "# décommenter/commenter en fonction de définition de arr que vous voulez tester\n",
    "arr = 5           # cas où arr n'est pas un vecteur\n",
    "# arr = [2, 3, 4]   # cas où arr est un vecteur\n",
    "arr = np.array(arr) if type(arr) is not np.ndarray else arr\n",
    "arr"
   ]
  },
  {
   "attachments": {},
   "cell_type": "markdown",
   "metadata": {},
   "source": [
    "Sinon on peut concaténer des matrices en utilisant la méthode [concatenate](https://numpy.org/doc/stable/reference/generated/numpy.concatenate.html) et en indiquant l'axe selon lequel on concaténer."
   ]
  },
  {
   "cell_type": "code",
   "execution_count": 20,
   "metadata": {},
   "outputs": [
    {
     "data": {
      "text/plain": [
       "array([[1, 2, 3],\n",
       "       [5, 4, 6],\n",
       "       [7, 8, 9]])"
      ]
     },
     "execution_count": 20,
     "metadata": {},
     "output_type": "execute_result"
    }
   ],
   "source": [
    "a = np.array([[1,2,3], [5,4,6]])\n",
    "b = np.array([[7,8,9]])\n",
    "c = np.concatenate((a, b), axis=0)\n",
    "c"
   ]
  },
  {
   "attachments": {},
   "cell_type": "markdown",
   "metadata": {},
   "source": [
    "On notera que le vecteur `b` a bien deux séries de crochet pour être homogène avec `a` avant la concaténation."
   ]
  },
  {
   "cell_type": "code",
   "execution_count": 21,
   "metadata": {},
   "outputs": [
    {
     "data": {
      "text/plain": [
       "array([[ 1,  2,  3, 10],\n",
       "       [ 5,  4,  6, 11]])"
      ]
     },
     "execution_count": 21,
     "metadata": {},
     "output_type": "execute_result"
    }
   ],
   "source": [
    "d = np.array([[10], [11]])\n",
    "e = np.concatenate((a,d), axis=1)\n",
    "e"
   ]
  },
  {
   "attachments": {},
   "cell_type": "markdown",
   "metadata": {},
   "source": [
    "On remarquera ici que le vecteur `d` doit avoir chacune de ces lignes entre crochet, même si elle n'est constituée que d'un seul élément."
   ]
  },
  {
   "attachments": {},
   "cell_type": "markdown",
   "metadata": {},
   "source": [
    "Les commandes [vstack](https://numpy.org/doc/stable/reference/generated/numpy.vstack.html) et [hstack](https://numpy.org/doc/stable/reference/generated/numpy.hstack.html) permettent aussi d'empiler des matrices verticalement et horizontalement. Mais ici, on sera limité à deux dimensions alors que [concatenate](https://numpy.org/doc/stable/reference/generated/numpy.concatenate.html) peut s'appliquer à des matrices de dimension quelconque."
   ]
  },
  {
   "attachments": {},
   "cell_type": "markdown",
   "metadata": {},
   "source": [
    "On peut aussi reformater un vecteur. On part ici d'un vecteur à une dimension à dix coordonnées."
   ]
  },
  {
   "cell_type": "code",
   "execution_count": 22,
   "metadata": {},
   "outputs": [
    {
     "data": {
      "text/plain": [
       "array([0, 1, 2, 3, 4, 5, 6, 7, 8, 9])"
      ]
     },
     "execution_count": 22,
     "metadata": {},
     "output_type": "execute_result"
    }
   ],
   "source": [
    "x = np.arange(10)\n",
    "x"
   ]
  },
  {
   "attachments": {},
   "cell_type": "markdown",
   "metadata": {},
   "source": [
    "On peut reformater ce vecteur en une matrice ayant deux lignes de cinq colonnes avec la méthode [shape des narray](https://numpy.org/doc/stable/reference/generated/numpy.ndarray.shape.html) mise ici à gauche du signe d'affectation."
   ]
  },
  {
   "cell_type": "code",
   "execution_count": 23,
   "metadata": {},
   "outputs": [
    {
     "data": {
      "text/plain": [
       "array([[0, 1, 2, 3, 4],\n",
       "       [5, 6, 7, 8, 9]])"
      ]
     },
     "execution_count": 23,
     "metadata": {},
     "output_type": "execute_result"
    }
   ],
   "source": [
    "x.shape = (2,5)\n",
    "x"
   ]
  },
  {
   "attachments": {},
   "cell_type": "markdown",
   "metadata": {},
   "source": [
    "Si cette `shape` est utilisé en membre de droite, il donne la forme de la matrice."
   ]
  },
  {
   "cell_type": "code",
   "execution_count": 24,
   "metadata": {},
   "outputs": [
    {
     "data": {
      "text/plain": [
       "(2, 5)"
      ]
     },
     "execution_count": 24,
     "metadata": {},
     "output_type": "execute_result"
    }
   ],
   "source": [
    "res = x.shape\n",
    "res"
   ]
  },
  {
   "attachments": {},
   "cell_type": "markdown",
   "metadata": {},
   "source": [
    "Et on peut aussi lire chacune des dimensions avec les règles d'accès connues pour les tuples et les listes."
   ]
  },
  {
   "cell_type": "code",
   "execution_count": 25,
   "metadata": {},
   "outputs": [
    {
     "name": "stdout",
     "output_type": "stream",
     "text": [
      "dimension axe 0: 2, dimension axe 1: 5, dimension : (2, 5)\n"
     ]
    }
   ],
   "source": [
    "print(f'dimension axe 0: {x.shape[0]}, dimension axe 1: {x.shape[1]}, dimension : {x.shape}')"
   ]
  },
  {
   "cell_type": "markdown",
   "metadata": {},
   "source": [
    "On peut revenir à une liste à 10 éléments."
   ]
  },
  {
   "cell_type": "code",
   "execution_count": 26,
   "metadata": {},
   "outputs": [
    {
     "data": {
      "text/plain": [
       "array([0, 1, 2, 3, 4, 5, 6, 7, 8, 9])"
      ]
     },
     "execution_count": 26,
     "metadata": {},
     "output_type": "execute_result"
    }
   ],
   "source": [
    "x.shape = (10)\n",
    "x"
   ]
  },
  {
   "attachments": {},
   "cell_type": "markdown",
   "metadata": {},
   "source": [
    "Sûrement pour cette raison, la documentation encorage maintenant d'utiliser la fonction [reshape des ndarray](https://numpy.org/doc/stable/reference/generated/numpy.ndarray.reshape.html#numpy.ndarray.reshape) pour reformater les matrices. Cette fonction ne modifie pas l'argument, mais renvoie la matrice modifiée."
   ]
  },
  {
   "cell_type": "code",
   "execution_count": 56,
   "metadata": {},
   "outputs": [
    {
     "data": {
      "text/plain": [
       "array([[0, 1, 2, 3, 4],\n",
       "       [5, 6, 7, 8, 9]])"
      ]
     },
     "execution_count": 56,
     "metadata": {},
     "output_type": "execute_result"
    }
   ],
   "source": [
    "y = x.reshape(2,5)\n",
    "y"
   ]
  },
  {
   "attachments": {},
   "cell_type": "markdown",
   "metadata": {},
   "source": [
    "Pour lire le format, on peut aussi utiliser la commande [shape de numpy]."
   ]
  },
  {
   "cell_type": "code",
   "execution_count": 57,
   "metadata": {},
   "outputs": [
    {
     "data": {
      "text/plain": [
       "(10,)"
      ]
     },
     "execution_count": 57,
     "metadata": {},
     "output_type": "execute_result"
    }
   ],
   "source": [
    "np.shape(x)"
   ]
  },
  {
   "attachments": {},
   "cell_type": "markdown",
   "metadata": {},
   "source": [
    "Et on peut aussi reformater avec la commande [reshape de numpy](https://numpy.org/doc/stable/reference/generated/numpy.reshape.html). Mais elle fonctionne comme une fonction (elle ne modifie pas l'argument, mais renvoie le nouveau résultat)."
   ]
  },
  {
   "cell_type": "code",
   "execution_count": 28,
   "metadata": {},
   "outputs": [
    {
     "data": {
      "text/plain": [
       "array([[0, 1, 2, 3, 4],\n",
       "       [5, 6, 7, 8, 9]])"
      ]
     },
     "execution_count": 28,
     "metadata": {},
     "output_type": "execute_result"
    }
   ],
   "source": [
    "x = np.reshape(x, (2,5))\n",
    "x"
   ]
  },
  {
   "attachments": {},
   "cell_type": "markdown",
   "metadata": {},
   "source": [
    "Et on peut aussi avoir le format d'une matrice ainsi."
   ]
  },
  {
   "cell_type": "code",
   "execution_count": 29,
   "metadata": {},
   "outputs": [
    {
     "data": {
      "text/plain": [
       "(2, 5)"
      ]
     },
     "execution_count": 29,
     "metadata": {},
     "output_type": "execute_result"
    }
   ],
   "source": [
    "np.shape(x)"
   ]
  },
  {
   "attachments": {},
   "cell_type": "markdown",
   "metadata": {},
   "source": [
    "Et le nombre de lignes sera obtenu par la commande."
   ]
  },
  {
   "cell_type": "code",
   "execution_count": 30,
   "metadata": {},
   "outputs": [
    {
     "data": {
      "text/plain": [
       "2"
      ]
     },
     "execution_count": 30,
     "metadata": {},
     "output_type": "execute_result"
    }
   ],
   "source": [
    "np.shape(x)[0]"
   ]
  },
  {
   "attachments": {},
   "cell_type": "markdown",
   "metadata": {},
   "source": [
    "Qui est donc équivalente à la commande `len` des listes."
   ]
  },
  {
   "cell_type": "code",
   "execution_count": 31,
   "metadata": {},
   "outputs": [
    {
     "data": {
      "text/plain": [
       "2"
      ]
     },
     "execution_count": 31,
     "metadata": {},
     "output_type": "execute_result"
    }
   ],
   "source": [
    "len(x)"
   ]
  },
  {
   "attachments": {},
   "cell_type": "markdown",
   "metadata": {},
   "source": [
    "On en profite pour donner la façon d'extraire des lignes."
   ]
  },
  {
   "cell_type": "code",
   "execution_count": 32,
   "metadata": {},
   "outputs": [
    {
     "data": {
      "text/plain": [
       "array([0, 1, 2, 3, 4])"
      ]
     },
     "execution_count": 32,
     "metadata": {},
     "output_type": "execute_result"
    }
   ],
   "source": [
    "x[0]"
   ]
  },
  {
   "attachments": {},
   "cell_type": "markdown",
   "metadata": {},
   "source": [
    "La fonction reshape accepte aussi -1 comme argument particulier : cela supprime une dimension sans changer la structure de matrice."
   ]
  },
  {
   "cell_type": "code",
   "execution_count": 37,
   "metadata": {},
   "outputs": [
    {
     "data": {
      "text/plain": [
       "array([[0, 1, 2, 3, 4, 5, 6, 7, 8, 9]])"
      ]
     },
     "execution_count": 37,
     "metadata": {},
     "output_type": "execute_result"
    }
   ],
   "source": [
    "x = np.reshape(x, (-1,10))\n",
    "x"
   ]
  },
  {
   "cell_type": "code",
   "execution_count": 35,
   "metadata": {},
   "outputs": [
    {
     "data": {
      "text/plain": [
       "(10, 1)"
      ]
     },
     "execution_count": 35,
     "metadata": {},
     "output_type": "execute_result"
    }
   ],
   "source": [
    "x.shape"
   ]
  },
  {
   "attachments": {},
   "cell_type": "markdown",
   "metadata": {},
   "source": [
    "Ce qui est différent de ceci."
   ]
  },
  {
   "cell_type": "code",
   "execution_count": 36,
   "metadata": {},
   "outputs": [
    {
     "data": {
      "text/plain": [
       "array([0, 1, 2, 3, 4, 5, 6, 7, 8, 9])"
      ]
     },
     "execution_count": 36,
     "metadata": {},
     "output_type": "execute_result"
    }
   ],
   "source": [
    "y = np.reshape(x, (2,5))  # restauration de la structure de matrice\n",
    "y = np.reshape(y, (10))\n",
    "y"
   ]
  },
  {
   "attachments": {},
   "cell_type": "markdown",
   "metadata": {},
   "source": [
    "Pour les colonnes il faudra passer par une remise à plat."
   ]
  },
  {
   "cell_type": "code",
   "execution_count": 72,
   "metadata": {},
   "outputs": [
    {
     "data": {
      "text/plain": [
       "array([0, 1, 2, 3, 4, 5, 6, 7, 8, 9])"
      ]
     },
     "execution_count": 72,
     "metadata": {},
     "output_type": "execute_result"
    }
   ],
   "source": [
    "x = np.reshape(x,(10))\n",
    "x"
   ]
  },
  {
   "attachments": {},
   "cell_type": "markdown",
   "metadata": {},
   "source": [
    "Et puis on peut faire des [slicing](https://numpy.org/doc/stable/user/basics.indexing.html#) ici pour la première colonne."
   ]
  },
  {
   "cell_type": "code",
   "execution_count": 73,
   "metadata": {},
   "outputs": [
    {
     "data": {
      "text/plain": [
       "array([0, 5])"
      ]
     },
     "execution_count": 73,
     "metadata": {},
     "output_type": "execute_result"
    }
   ],
   "source": [
    "x[0:10:5]"
   ]
  },
  {
   "attachments": {},
   "cell_type": "markdown",
   "metadata": {},
   "source": [
    "On peut aussi avoir à retrouver le numéro d'index d'un élément d'une liste avec la méthode [index](https://docs.python.org/3/tutorial/datastructures.html)"
   ]
  },
  {
   "cell_type": "code",
   "execution_count": 9,
   "metadata": {},
   "outputs": [
    {
     "data": {
      "text/plain": [
       "2"
      ]
     },
     "execution_count": 9,
     "metadata": {},
     "output_type": "execute_result"
    }
   ],
   "source": [
    "lst = [45, 67, 78, 33, 21]\n",
    "lst.index(78)"
   ]
  },
  {
   "attachments": {},
   "cell_type": "markdown",
   "metadata": {},
   "source": [
    "Mais cette méthode de fonctionne par directement avec un ndarray de numpy. On peut donc tout d'abord essayer de convertir en liste avec la méthode [tolist](https://numpy.org/doc/stable/reference/generated/numpy.ndarray.tolist.html)"
   ]
  },
  {
   "cell_type": "code",
   "execution_count": 12,
   "metadata": {},
   "outputs": [
    {
     "data": {
      "text/plain": [
       "2"
      ]
     },
     "execution_count": 12,
     "metadata": {},
     "output_type": "execute_result"
    }
   ],
   "source": [
    "arr = np.array([45, 67, 78, 33, 21])\n",
    "arr.tolist().index(78)"
   ]
  },
  {
   "attachments": {},
   "cell_type": "markdown",
   "metadata": {},
   "source": [
    "Si numpy a aussi la méthode [where](https://numpy.org/doc/1.21/reference/generated/numpy.where.html) qui est plus sophistiquée et surtout, renvoie un résultat moin simple."
   ]
  },
  {
   "cell_type": "code",
   "execution_count": 34,
   "metadata": {},
   "outputs": [
    {
     "data": {
      "text/plain": [
       "(array([3]),)"
      ]
     },
     "execution_count": 34,
     "metadata": {},
     "output_type": "execute_result"
    }
   ],
   "source": [
    "arr = np.array([45, 23, 56, 78, 33, 49])\n",
    "np.where(arr==78)"
   ]
  },
  {
   "attachments": {},
   "cell_type": "markdown",
   "metadata": {},
   "source": [
    "L'utilisation normale de cette commande est d'utiliser deux autres arguments et on obtient alors un autre vecteur."
   ]
  },
  {
   "cell_type": "code",
   "execution_count": 39,
   "metadata": {},
   "outputs": [
    {
     "data": {
      "text/plain": [
       "array([ 0,  0,  0, 78,  0,  0])"
      ]
     },
     "execution_count": 39,
     "metadata": {},
     "output_type": "execute_result"
    }
   ],
   "source": [
    "np.where(arr==78, arr, 0)"
   ]
  },
  {
   "attachments": {},
   "cell_type": "markdown",
   "metadata": {},
   "source": [
    "Plus d'information sur les slicing/indexing sur la chaîne YouTube de [Machine Learnia](https://www.youtube.com/watch?v=vw4u9uBFFqU&list=PLO_fdPEVlfKqMDNmCFzQISI2H_nJcEDJq&index=11)."
   ]
  },
  {
   "attachments": {},
   "cell_type": "markdown",
   "metadata": {},
   "source": [
    "On peut passer par des [transpositions](https://numpy.org/doc/stable/reference/generated/numpy.transpose.html#numpy.transpose) "
   ]
  },
  {
   "cell_type": "code",
   "execution_count": 74,
   "metadata": {},
   "outputs": [
    {
     "data": {
      "text/plain": [
       "array([[ 0,  1,  2],\n",
       "       [ 3,  4,  5],\n",
       "       [ 6,  7,  8],\n",
       "       [ 9, 10, 11],\n",
       "       [12, 13, 14]])"
      ]
     },
     "execution_count": 74,
     "metadata": {},
     "output_type": "execute_result"
    }
   ],
   "source": [
    "m = np.reshape(np.arange(15), (5,3))\n",
    "m"
   ]
  },
  {
   "cell_type": "code",
   "execution_count": 52,
   "metadata": {},
   "outputs": [
    {
     "data": {
      "text/plain": [
       "array([[ 0,  3,  6,  9, 12],\n",
       "       [ 1,  4,  7, 10, 13],\n",
       "       [ 2,  5,  8, 11, 14]])"
      ]
     },
     "execution_count": 52,
     "metadata": {},
     "output_type": "execute_result"
    }
   ],
   "source": [
    "n = np.transpose(m)\n",
    "n"
   ]
  },
  {
   "attachments": {},
   "cell_type": "markdown",
   "metadata": {},
   "source": [
    "On plus simplement avec cette notation."
   ]
  },
  {
   "cell_type": "code",
   "execution_count": 53,
   "metadata": {},
   "outputs": [
    {
     "data": {
      "text/plain": [
       "array([[ 0,  3,  6,  9, 12],\n",
       "       [ 1,  4,  7, 10, 13],\n",
       "       [ 2,  5,  8, 11, 14]])"
      ]
     },
     "execution_count": 53,
     "metadata": {},
     "output_type": "execute_result"
    }
   ],
   "source": [
    "m.T"
   ]
  },
  {
   "attachments": {},
   "cell_type": "markdown",
   "metadata": {},
   "source": [
    "donc on peut ainsi avoir une colonne sans changer la matrice d'origine."
   ]
  },
  {
   "cell_type": "code",
   "execution_count": 75,
   "metadata": {},
   "outputs": [
    {
     "data": {
      "text/plain": [
       "array([ 1,  4,  7, 10, 13])"
      ]
     },
     "execution_count": 75,
     "metadata": {},
     "output_type": "execute_result"
    }
   ],
   "source": [
    "m.T[1]"
   ]
  },
  {
   "attachments": {},
   "cell_type": "markdown",
   "metadata": {},
   "source": [
    "Mais ceci serait plus simple en faisant des tranches (*slicing* en anglais)."
   ]
  },
  {
   "cell_type": "code",
   "execution_count": 78,
   "metadata": {},
   "outputs": [
    {
     "data": {
      "text/plain": [
       "array([ 1,  4,  7, 10, 13])"
      ]
     },
     "execution_count": 78,
     "metadata": {},
     "output_type": "execute_result"
    }
   ],
   "source": [
    "m[:,1]"
   ]
  },
  {
   "cell_type": "code",
   "execution_count": 55,
   "metadata": {},
   "outputs": [
    {
     "data": {
      "text/plain": [
       "array([[ 0,  1,  2],\n",
       "       [ 3,  4,  5],\n",
       "       [ 6,  7,  8],\n",
       "       [ 9, 10, 11],\n",
       "       [12, 13, 14]])"
      ]
     },
     "execution_count": 55,
     "metadata": {},
     "output_type": "execute_result"
    }
   ],
   "source": [
    "m"
   ]
  },
  {
   "attachments": {},
   "cell_type": "markdown",
   "metadata": {},
   "source": [
    "Enfin on peut aussi aplatir cette matrice avec le commande [ravel](https://numpy.org/doc/stable/reference/generated/numpy.ravel.html#numpy.ravel) qu'on applique comme commande NumPy ou comme méthode du ndarray."
   ]
  },
  {
   "cell_type": "code",
   "execution_count": 63,
   "metadata": {},
   "outputs": [
    {
     "data": {
      "text/plain": [
       "array([ 0,  1,  2,  3,  4,  5,  6,  7,  8,  9, 10, 11, 12, 13, 14])"
      ]
     },
     "execution_count": 63,
     "metadata": {},
     "output_type": "execute_result"
    }
   ],
   "source": [
    "m = m.ravel()\n",
    "m"
   ]
  },
  {
   "attachments": {},
   "cell_type": "markdown",
   "metadata": {},
   "source": [
    "Dans certains cas, on peut être gêné par l'absence de chiffre en deuxième place du tuple résultant de la commande [shape](https://numpy.org/doc/stable/reference/generated/numpy.shape.html) pour un vecteur à une dimension. "
   ]
  },
  {
   "cell_type": "code",
   "execution_count": 57,
   "metadata": {},
   "outputs": [
    {
     "data": {
      "text/plain": [
       "(5,)"
      ]
     },
     "execution_count": 57,
     "metadata": {},
     "output_type": "execute_result"
    }
   ],
   "source": [
    "a = np.array([1,2,3,4,5], dtype='int8')\n",
    "a.shape"
   ]
  },
  {
   "attachments": {},
   "cell_type": "markdown",
   "metadata": {},
   "source": [
    "Voici une solution pour y mettre un 1."
   ]
  },
  {
   "cell_type": "code",
   "execution_count": 58,
   "metadata": {},
   "outputs": [
    {
     "data": {
      "text/plain": [
       "(5, 1)"
      ]
     },
     "execution_count": 58,
     "metadata": {},
     "output_type": "execute_result"
    }
   ],
   "source": [
    "a = a.reshape(a.shape[0], 1)\n",
    "a.shape"
   ]
  },
  {
   "attachments": {},
   "cell_type": "markdown",
   "metadata": {},
   "source": [
    "Si par contre, on veut refaire disparaitre se 1, on utilise la fonction [squeeze](https://numpy.org/doc/stable/reference/generated/numpy.squeeze.html#numpy-squeeze)"
   ]
  },
  {
   "cell_type": "code",
   "execution_count": 59,
   "metadata": {},
   "outputs": [
    {
     "data": {
      "text/plain": [
       "(5,)"
      ]
     },
     "execution_count": 59,
     "metadata": {},
     "output_type": "execute_result"
    }
   ],
   "source": [
    "a = a.squeeze()\n",
    "a.shape"
   ]
  },
  {
   "attachments": {},
   "cell_type": "markdown",
   "metadata": {},
   "source": [
    "Parfois on a des tableaux avec des valeurs absentes, qui sont alors nommées [nan](https://pythonguides.com/python-numpy-nan/). Voici une méthode pour les remplacer par des 0."
   ]
  },
  {
   "cell_type": "code",
   "execution_count": 7,
   "metadata": {},
   "outputs": [
    {
     "data": {
      "text/plain": [
       "array([[-1.82905632,  0.091676  , -1.29660707, -0.97740679, -0.08568854],\n",
       "       [-0.70776703, -0.46443256, -0.82791665,  0.32010003,  0.62810987],\n",
       "       [-0.53054149,  0.56516346,  0.05665517,         nan,  0.50069114],\n",
       "       [-0.20098871,  0.55145745,  1.15020341, -0.35926369,         nan],\n",
       "       [ 0.08170502,  0.60969161, -1.39755353,  1.01553559,  0.16403626]])"
      ]
     },
     "execution_count": 7,
     "metadata": {},
     "output_type": "execute_result"
    }
   ],
   "source": [
    "A = np.random.randn(5,5)\n",
    "A[2,3] = np.nan\n",
    "A[3,4] = np.nan\n",
    "A"
   ]
  },
  {
   "attachments": {},
   "cell_type": "markdown",
   "metadata": {},
   "source": [
    "faire une moyenne en excluant les `nan`."
   ]
  },
  {
   "cell_type": "code",
   "execution_count": 9,
   "metadata": {},
   "outputs": [
    {
     "data": {
      "text/plain": [
       "-0.1279216249325203"
      ]
     },
     "execution_count": 9,
     "metadata": {},
     "output_type": "execute_result"
    }
   ],
   "source": [
    "np.nanmean(A)"
   ]
  },
  {
   "attachments": {},
   "cell_type": "markdown",
   "metadata": {},
   "source": [
    "Compter les `nan`"
   ]
  },
  {
   "cell_type": "code",
   "execution_count": 13,
   "metadata": {},
   "outputs": [
    {
     "data": {
      "text/plain": [
       "0.08"
      ]
     },
     "execution_count": 13,
     "metadata": {},
     "output_type": "execute_result"
    }
   ],
   "source": [
    "np.isnan(A).sum() / A.size"
   ]
  },
  {
   "attachments": {},
   "cell_type": "markdown",
   "metadata": {},
   "source": [
    "Avec du boolean indexing, on peut remplacer les `nan` par des 0."
   ]
  },
  {
   "cell_type": "code",
   "execution_count": 14,
   "metadata": {},
   "outputs": [
    {
     "data": {
      "text/plain": [
       "array([[-1.82905632,  0.091676  , -1.29660707, -0.97740679, -0.08568854],\n",
       "       [-0.70776703, -0.46443256, -0.82791665,  0.32010003,  0.62810987],\n",
       "       [-0.53054149,  0.56516346,  0.05665517,  0.        ,  0.50069114],\n",
       "       [-0.20098871,  0.55145745,  1.15020341, -0.35926369,  0.        ],\n",
       "       [ 0.08170502,  0.60969161, -1.39755353,  1.01553559,  0.16403626]])"
      ]
     },
     "execution_count": 14,
     "metadata": {},
     "output_type": "execute_result"
    }
   ],
   "source": [
    "A[np.isnan(A)] = 0\n",
    "A"
   ]
  },
  {
   "attachments": {},
   "cell_type": "markdown",
   "metadata": {},
   "source": [
    "## Réduire de dimension sur une matrice\n",
    "\n",
    "On doit parfois réduire une matrice à deux dimensions en un vecteur par des opérations sur les lignes ou les colonnes.\n",
    "\n",
    "La fonction [amax](https://numpy.org/doc/stable/reference/generated/numpy.amax.html) permet de trouver le maximum des colonnes (selon la direction `axis=0`) ou des lignes (selon la direction `axis=1`). À chacune de ces opérations, la dimension du ndarray diminue de 1: une matrice à deux dimensions de vient un vecteur, un vecteur devient un scalaire. Mais on peut aussi appliquer cette méthode à des dimensions supérieures."
   ]
  },
  {
   "cell_type": "code",
   "execution_count": 3,
   "metadata": {},
   "outputs": [
    {
     "data": {
      "text/plain": [
       "array([[ 1,  2,  3],\n",
       "       [ 4,  5,  6],\n",
       "       [ 7,  7,  9],\n",
       "       [10, 11, 12]])"
      ]
     },
     "execution_count": 3,
     "metadata": {},
     "output_type": "execute_result"
    }
   ],
   "source": [
    "import numpy as np\n",
    "\n",
    "M = np.array([[1,2,3],[4,5,6],[7,7,9],[10,11,12]])\n",
    "M"
   ]
  },
  {
   "cell_type": "code",
   "execution_count": 4,
   "metadata": {},
   "outputs": [
    {
     "data": {
      "text/plain": [
       "array([10, 11, 12])"
      ]
     },
     "execution_count": 4,
     "metadata": {},
     "output_type": "execute_result"
    }
   ],
   "source": [
    "max = np.amax(M, axis=0)\n",
    "max"
   ]
  },
  {
   "attachments": {},
   "cell_type": "markdown",
   "metadata": {},
   "source": [
    "De manière identique, il existe la commande [amin](https://numpy.org/doc/stable/reference/generated/numpy.amin.html#numpy.amin) mais aussi les commandes [nanmax](https://numpy.org/doc/stable/reference/generated/numpy.nanmax.html#numpy.nanmax) et [nanmin](https://numpy.org/doc/stable/reference/generated/numpy.nanmin.html#numpy.nanmin) qui tiennent compte des valeurs `nan` ou `INF`."
   ]
  },
  {
   "attachments": {},
   "cell_type": "markdown",
   "metadata": {},
   "source": [
    "Les fonctions [sum](https://numpy.org/doc/stable/reference/generated/numpy.sum.html) ou [prod](https://numpy.org/doc/stable/reference/generated/numpy.prod.html) vont faire le même type de réduction avec des sommes et des produits. Elles ont aussi leur variantes `nan`.\n",
    "\n"
   ]
  },
  {
   "attachments": {},
   "cell_type": "markdown",
   "metadata": {},
   "source": [
    "# Technique de broadcasting\n",
    "\n",
    "Quand on utilise des équations utilisant les matrices, il faut faire attention au fonctionnement de broadcasting de Python.\n",
    "\n",
    "Voir la [vidéo de Machine learnia](https://www.youtube.com/watch?v=lIESSFHGalA&list=PLO_fdPEVlfKqMDNmCFzQISI2H_nJcEDJq&index=13&t=510s)"
   ]
  },
  {
   "attachments": {},
   "cell_type": "markdown",
   "metadata": {},
   "source": [
    "# Algèbre linéaire\n",
    "\n",
    "L'extension NumPy possède une sous extension [numpy.linalg](https://numpy.org/doc/stable/reference/routines.linalg.html#) dédiée à l'algèbre linéaire. À note que l'extension [SciPy contient aussi la même extension](https://docs.scipy.org/doc/scipy/reference/linalg.html#module-scipy.linalg).\n",
    "\n"
   ]
  },
  {
   "attachments": {},
   "cell_type": "markdown",
   "metadata": {},
   "source": [
    "## Le produit scalaire de deux vecteurs\n",
    "\n",
    "La fonction [numpy.dot](https://numpy.org/doc/stable/reference/generated/numpy.dot.html#numpy.dot) permet d'effectuer le produit scalaire de deux vecteurs."
   ]
  },
  {
   "cell_type": "code",
   "execution_count": 60,
   "metadata": {},
   "outputs": [
    {
     "data": {
      "text/plain": [
       "12"
      ]
     },
     "execution_count": 60,
     "metadata": {},
     "output_type": "execute_result"
    }
   ],
   "source": [
    "a = np.array([1,2,3])\n",
    "b = np.array([2,2,2])\n",
    "np.dot(a,b)"
   ]
  },
  {
   "attachments": {},
   "cell_type": "markdown",
   "metadata": {},
   "source": [
    "On peut obtenir le même résultat avec `@` qui replace la commande [numpy.matmul](https://numpy.org/doc/stable/reference/generated/numpy.matmul.html#numpy.matmul) et qui donne le même résultat pour deux vecteurs."
   ]
  },
  {
   "cell_type": "code",
   "execution_count": 61,
   "metadata": {},
   "outputs": [
    {
     "data": {
      "text/plain": [
       "12"
      ]
     },
     "execution_count": 61,
     "metadata": {},
     "output_type": "execute_result"
    }
   ],
   "source": [
    "a @ b"
   ]
  },
  {
   "attachments": {},
   "cell_type": "markdown",
   "metadata": {},
   "source": [
    "Ces fonctions vont beaucoup plus loin. Voir la documentation."
   ]
  },
  {
   "attachments": {},
   "cell_type": "markdown",
   "metadata": {},
   "source": [
    "## La norme d'un vecteur\n",
    "\n",
    "La norme d'un vecteur peut se calculer avec [numpy.linalg.norm](https://numpy.org/doc/stable/reference/generated/numpy.linalg.norm.html). "
   ]
  },
  {
   "cell_type": "code",
   "execution_count": 62,
   "metadata": {},
   "outputs": [
    {
     "data": {
      "text/plain": [
       "3.7416573867739413"
      ]
     },
     "execution_count": 62,
     "metadata": {},
     "output_type": "execute_result"
    }
   ],
   "source": [
    "np.linalg.norm(a)"
   ]
  },
  {
   "attachments": {},
   "cell_type": "markdown",
   "metadata": {},
   "source": [
    "# Exercices"
   ]
  },
  {
   "attachments": {},
   "cell_type": "markdown",
   "metadata": {},
   "source": [
    "Faire une matrice avec m lignes et n colonnes remplies de nombre aléatoires et lui adjoindre une dernière colonne remplie de 1"
   ]
  },
  {
   "cell_type": "code",
   "execution_count": 15,
   "metadata": {},
   "outputs": [
    {
     "data": {
      "text/plain": [
       "array([[ 0.1653609 , -0.31689761, -0.59029035,  1.        ],\n",
       "       [ 1.06488792,  0.4230375 , -2.26124679,  1.        ],\n",
       "       [ 0.08138531,  1.81257137, -0.26241978,  1.        ],\n",
       "       [ 0.46889283,  1.4255058 ,  0.69516876,  1.        ],\n",
       "       [-0.71418269,  1.67225926, -0.0643901 ,  1.        ]])"
      ]
     },
     "execution_count": 15,
     "metadata": {},
     "output_type": "execute_result"
    }
   ],
   "source": [
    "m = 5\n",
    "n = 3\n",
    "M = np.random.randn(m,n)\n",
    "col = np.full((m,1), 1)\n",
    "M = np.concatenate((M,col), axis=1)\n",
    "M"
   ]
  },
  {
   "attachments": {},
   "cell_type": "markdown",
   "metadata": {},
   "source": [
    "Obtenir les valeurs propres et les vecteurs propres d'une matrice."
   ]
  },
  {
   "cell_type": "code",
   "execution_count": 25,
   "metadata": {},
   "outputs": [
    {
     "data": {
      "text/plain": [
       "array([[ 1.78862847,  0.43650985,  0.09649747],\n",
       "       [-1.8634927 , -0.2773882 , -0.35475898],\n",
       "       [-0.08274148, -0.62700068, -0.04381817]])"
      ]
     },
     "execution_count": 25,
     "metadata": {},
     "output_type": "execute_result"
    }
   ],
   "source": [
    "np.random.seed(3)\n",
    "M = np.random.randn(n,n)\n",
    "M"
   ]
  },
  {
   "cell_type": "code",
   "execution_count": 20,
   "metadata": {},
   "outputs": [
    {
     "data": {
      "text/plain": [
       "array([ 1.63582308+1.83968905j,  1.63582308-1.83968905j,\n",
       "       -1.648667  +0.j        ,  0.46140409+0.5718098j ,\n",
       "        0.46140409-0.5718098j ])"
      ]
     },
     "execution_count": 20,
     "metadata": {},
     "output_type": "execute_result"
    }
   ],
   "source": [
    "valeurs_propres, vecteurs_propres = np.linalg.eig(M)\n",
    "valeurs_propres"
   ]
  },
  {
   "cell_type": "code",
   "execution_count": 21,
   "metadata": {},
   "outputs": [
    {
     "data": {
      "text/plain": [
       "array([[ 0.46902018+0.01215314j,  0.46902018-0.01215314j,\n",
       "         0.22086452+0.j        , -0.61696586+0.j        ,\n",
       "        -0.61696586-0.j        ],\n",
       "       [ 0.0704167 -0.12313901j,  0.0704167 +0.12313901j,\n",
       "         0.24005659+0.j        , -0.0263931 -0.39400736j,\n",
       "        -0.0263931 +0.39400736j],\n",
       "       [-0.54748852+0.j        , -0.54748852-0.j        ,\n",
       "        -0.20553002+0.j        , -0.18226997+0.22550264j,\n",
       "        -0.18226997-0.22550264j],\n",
       "       [ 0.09310818-0.52227205j,  0.09310818+0.52227205j,\n",
       "         0.32440653+0.j        , -0.49999619+0.08234447j,\n",
       "        -0.49999619-0.08234447j],\n",
       "       [-0.36617731+0.21091211j, -0.36617731-0.21091211j,\n",
       "         0.86377631+0.j        ,  0.30202318+0.17704842j,\n",
       "         0.30202318-0.17704842j]])"
      ]
     },
     "execution_count": 21,
     "metadata": {},
     "output_type": "execute_result"
    }
   ],
   "source": [
    "vecteurs_propres"
   ]
  },
  {
   "attachments": {},
   "cell_type": "markdown",
   "metadata": {},
   "source": [
    "Nous voulons maintenant standardiser cet échantillon par colonnes.\n",
    "\n",
    "$$M \\rightarrow \\frac{M - \\overline{M}}{\\sigma(M)}$$"
   ]
  },
  {
   "cell_type": "code",
   "execution_count": 29,
   "metadata": {},
   "outputs": [
    {
     "data": {
      "text/plain": [
       "array([[ 1.23474789,  0.43650985,  0.09649747],\n",
       "       [-1.21449054, -0.2773882 , -0.35475898],\n",
       "       [-0.02025735, -0.62700068, -0.04381817]])"
      ]
     },
     "execution_count": 29,
     "metadata": {},
     "output_type": "execute_result"
    }
   ],
   "source": [
    "M[:,0] = (M[:,0] - M[:,0].mean())/M[:,0].std()\n",
    "M\n"
   ]
  }
 ],
 "metadata": {
  "kernelspec": {
   "display_name": ".venv",
   "language": "python",
   "name": "python3"
  },
  "language_info": {
   "codemirror_mode": {
    "name": "ipython",
    "version": 3
   },
   "file_extension": ".py",
   "mimetype": "text/x-python",
   "name": "python",
   "nbconvert_exporter": "python",
   "pygments_lexer": "ipython3",
   "version": "3.10.7"
  },
  "orig_nbformat": 4,
  "vscode": {
   "interpreter": {
    "hash": "f2aec3b84089aa708d4850c58218314a12e464c7021fc707cb33bd662b6900e2"
   }
  }
 },
 "nbformat": 4,
 "nbformat_minor": 2
}
