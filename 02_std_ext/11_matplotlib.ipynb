{
 "cells": [
  {
   "attachments": {},
   "cell_type": "markdown",
   "metadata": {},
   "source": [
    "# L'extension [Matplotlib](https://matplotlib.org/)\n",
    "\n",
    "L'extension [Matplotlib](https://matplotlib.org/) est une extension Python pour réaliser des graphiques. Elle est ancienne, toujours d'actualité et beaucoup d'autres extensions [ont été baties sur elle](https://matplotlib.org/mpl-third-party/), comme par exemple [seaborn](https://seaborn.pydata.org/), qui se spécialise pour les graphiques dans le domaine statistique ou [pandas](https://pandas.pydata.org/) qui est une extension Python pour les tables et qui se sert de cette extension pour proposer ses propres commandes graphiques. La seule extension graphique que je connaisse et qui ne soit pas connectée à matplotlib est [plotly](https://plotly.com/python/), qui fera l'objet d'une autre présentation.\n",
    "\n",
    "Matplotlib ayant suivi les évolutions de Python, cette extension est assez [polymorphe](https://matplotlib.org/stable/users/explain/api_interfaces.html) et offre beaucoup de façons de faire la même chose. Certains tutoriels peuvent présenter des raccourcis très efficaces pour obtenir des résultats époustouflants, mais dès qu'on veut personnaliser son graphique, il devient obligatoire de mieux maîtriser cette extension."
   ]
  },
  {
   "attachments": {},
   "cell_type": "markdown",
   "metadata": {},
   "source": [
    "[Matplotlib](https://matplotlib.org/stable/users/explain/api_interfaces.html) a deux interfaces majeurs de programmation :\n",
    "- l'interface utilisant les objets [Axes](https://matplotlib.org/stable/api/axes_api.html) qui représente les (sous) graphes d'une [figure](https://matplotlib.org/stable/api/figure_api.html). C'est la méthode orientée objet qui utilise la hiérachie d'objet de matplotlib, qui a pour objet racine l'objet appelé [Artist](https://matplotlib.org/stable/api/artist_api.html) dont découle tous les objets intervenant dans une figure contenant des graphiques.\n",
    "- l'interface implicite [pyplot](https://matplotlib.org/stable/api/pyplot_summary.html) qui fonctionne à la façon de [Matlab](https://fr.mathworks.com/products/matlab.html)"
   ]
  }
 ],
 "metadata": {
  "language_info": {
   "name": "python"
  },
  "orig_nbformat": 4
 },
 "nbformat": 4,
 "nbformat_minor": 2
}
