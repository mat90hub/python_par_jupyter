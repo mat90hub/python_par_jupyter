{
 "cells": [
  {
   "attachments": {},
   "cell_type": "markdown",
   "metadata": {},
   "source": [
    "# Gérer des tables avec l'extension [Pandas](https://pandas.pydata.org/docs/)\n",
    "\n",
    "## Pandas apporte une nouvelle structure de données complétant les précédentes\n",
    "\n",
    "Avant de commencer l'explication de qu'apporte [Pandas](https://pandas.pydata.org/docs/), voici un petit rappel de ce qui a été vu précédemment.\n",
    "\n",
    "Le langage Python gère des données de type simple comme les entiers ou les flottants. Sur la base de ces types, Python construit des types composites, qui sont les listes (avec le cas particulier des tuples) et les dictionnaires. Les listes rassemblent plusieurs données séparées par des virgules dans une structure ordonnée (par le numéro d'index, qui est toujours sous-entendu). Les dictionnaires associent une série de valeurs avec des clés (c'est pourquoi on trouve aussi en anglais le terme *associative arrays* pour qualifier ce type de structure). Ces types composites peuvent ensuite s'enchâsser les uns dans les autres et on reconnaît les listes des dictionnaires car le premier est entouré de parenthèses, le second d'accolades.\n",
    "\n",
    "L'extension [NumPy](01_numpy.ipynb) introduit un autre type de structure appelée `ndarray`, qui veut dire vecteur à `n` dimensions. Nous dirions plutôt des matrices en français. La caractéristique de cette structure est que tous ses éléments sont du même type et ce type est numérique, soit un type entier, soit un type flottant. La contre-partie est une plus grande efficacité dans ce qui ne serait autrement que des listes en-chassées les unes dans les autres.\n",
    "\n",
    "L'extension [Pandas](https://pandas.pydata.org/docs/) introduit maintenant un autre type de structure aussi très courant qui sont les tables de données, appelées ici des `dataframes`. Il s'agit des tables couramment utilisées dans les bases de données relationnelles ou les feuilles de calcul d'un tableur. Les données sont rangées en colonne, chaque colonne ne contenant qu'un seul type de données. Les enregistrements se lisent ensuite ligne par ligne, chaque enregistrement étant référencée par un index (comme pour les éléments d'une liste), qui correspond à une première colonne particulière.\n",
    "\n",
    "Parmi ces `dataframes`, un sous ensemble bénéficie d'un traitement particulier. Il s'agit des enregistrements dont l'index est une une [date/heure](https://docs.python.org/fr/3/library/datetime.html), format particulier contenant la date et l'heure exact allant jusqu'à la précision qu'on veut et qui au final peut se ramener à un type numérique, qui permet d'ordonner les enregistrements. Pandas offre des foncitonalités supplémentaires pour ces `dataframes` particuliers.\n",
    "\n",
    "\n",
    "## Déclarer des dataframes\n",
    "\n",
    "Les `dataframe` de Pandas se construisent donc par défaut colonne par colonne."
   ]
  },
  {
   "cell_type": "code",
   "execution_count": 1,
   "metadata": {},
   "outputs": [
    {
     "data": {
      "text/html": [
       "<div>\n",
       "<style scoped>\n",
       "    .dataframe tbody tr th:only-of-type {\n",
       "        vertical-align: middle;\n",
       "    }\n",
       "\n",
       "    .dataframe tbody tr th {\n",
       "        vertical-align: top;\n",
       "    }\n",
       "\n",
       "    .dataframe thead th {\n",
       "        text-align: right;\n",
       "    }\n",
       "</style>\n",
       "<table border=\"1\" class=\"dataframe\">\n",
       "  <thead>\n",
       "    <tr style=\"text-align: right;\">\n",
       "      <th></th>\n",
       "      <th>A</th>\n",
       "      <th>B</th>\n",
       "      <th>C</th>\n",
       "    </tr>\n",
       "  </thead>\n",
       "  <tbody>\n",
       "    <tr>\n",
       "      <th>0</th>\n",
       "      <td>10</td>\n",
       "      <td>32</td>\n",
       "      <td>str</td>\n",
       "    </tr>\n",
       "    <tr>\n",
       "      <th>1</th>\n",
       "      <td>20</td>\n",
       "      <td>42</td>\n",
       "      <td>dgr</td>\n",
       "    </tr>\n",
       "    <tr>\n",
       "      <th>2</th>\n",
       "      <td>30</td>\n",
       "      <td>31</td>\n",
       "      <td>ftr</td>\n",
       "    </tr>\n",
       "  </tbody>\n",
       "</table>\n",
       "</div>"
      ],
      "text/plain": [
       "    A   B    C\n",
       "0  10  32  str\n",
       "1  20  42  dgr\n",
       "2  30  31  ftr"
      ]
     },
     "execution_count": 1,
     "metadata": {},
     "output_type": "execute_result"
    }
   ],
   "source": [
    "import pandas as pd\n",
    "\n",
    "DF = pd.DataFrame({'A': [10, 20, 30], \n",
    "                   'B': [32, 42, 31],\n",
    "                   'C': [\"str\", \"dgr\", \"ftr\"]\n",
    "                   })\n",
    "DF"
   ]
  },
  {
   "attachments": {},
   "cell_type": "markdown",
   "metadata": {},
   "source": [
    "Mais quand certaines colonnes ne contiennent que des valeurs identiques, on peut simplifier l'entrée."
   ]
  },
  {
   "cell_type": "code",
   "execution_count": 2,
   "metadata": {},
   "outputs": [
    {
     "data": {
      "text/html": [
       "<div>\n",
       "<style scoped>\n",
       "    .dataframe tbody tr th:only-of-type {\n",
       "        vertical-align: middle;\n",
       "    }\n",
       "\n",
       "    .dataframe tbody tr th {\n",
       "        vertical-align: top;\n",
       "    }\n",
       "\n",
       "    .dataframe thead th {\n",
       "        text-align: right;\n",
       "    }\n",
       "</style>\n",
       "<table border=\"1\" class=\"dataframe\">\n",
       "  <thead>\n",
       "    <tr style=\"text-align: right;\">\n",
       "      <th></th>\n",
       "      <th>A</th>\n",
       "      <th>B</th>\n",
       "      <th>C</th>\n",
       "      <th>D</th>\n",
       "      <th>E</th>\n",
       "      <th>F</th>\n",
       "    </tr>\n",
       "  </thead>\n",
       "  <tbody>\n",
       "    <tr>\n",
       "      <th>0</th>\n",
       "      <td>1.0</td>\n",
       "      <td>2013-01-02</td>\n",
       "      <td>1.0</td>\n",
       "      <td>3</td>\n",
       "      <td>test</td>\n",
       "      <td>foo</td>\n",
       "    </tr>\n",
       "    <tr>\n",
       "      <th>1</th>\n",
       "      <td>1.0</td>\n",
       "      <td>2013-01-02</td>\n",
       "      <td>1.0</td>\n",
       "      <td>3</td>\n",
       "      <td>train</td>\n",
       "      <td>foo</td>\n",
       "    </tr>\n",
       "    <tr>\n",
       "      <th>2</th>\n",
       "      <td>1.0</td>\n",
       "      <td>2013-01-02</td>\n",
       "      <td>1.0</td>\n",
       "      <td>3</td>\n",
       "      <td>test</td>\n",
       "      <td>foo</td>\n",
       "    </tr>\n",
       "    <tr>\n",
       "      <th>3</th>\n",
       "      <td>1.0</td>\n",
       "      <td>2013-01-02</td>\n",
       "      <td>1.0</td>\n",
       "      <td>3</td>\n",
       "      <td>train</td>\n",
       "      <td>foo</td>\n",
       "    </tr>\n",
       "  </tbody>\n",
       "</table>\n",
       "</div>"
      ],
      "text/plain": [
       "     A          B    C  D      E    F\n",
       "0  1.0 2013-01-02  1.0  3   test  foo\n",
       "1  1.0 2013-01-02  1.0  3  train  foo\n",
       "2  1.0 2013-01-02  1.0  3   test  foo\n",
       "3  1.0 2013-01-02  1.0  3  train  foo"
      ]
     },
     "execution_count": 2,
     "metadata": {},
     "output_type": "execute_result"
    }
   ],
   "source": [
    "import numpy as np\n",
    "\n",
    "df2 = pd.DataFrame(\n",
    "    {\n",
    "        \"A\": 1.0,\n",
    "        \"B\": pd.Timestamp(\"20130102\"),\n",
    "        \"C\": pd.Series(1, index=list(range(4)), dtype=\"float32\"),\n",
    "        \"D\": np.array([3] * 4, dtype=\"int32\"),\n",
    "        \"E\": pd.Categorical([\"test\", \"train\", \"test\", \"train\"]),\n",
    "        \"F\": \"foo\",\n",
    "    }\n",
    ")\n",
    "df2"
   ]
  },
  {
   "attachments": {},
   "cell_type": "markdown",
   "metadata": {},
   "source": [
    "Voici un autre exemple."
   ]
  },
  {
   "cell_type": "code",
   "execution_count": 3,
   "metadata": {},
   "outputs": [
    {
     "data": {
      "text/html": [
       "<div>\n",
       "<style scoped>\n",
       "    .dataframe tbody tr th:only-of-type {\n",
       "        vertical-align: middle;\n",
       "    }\n",
       "\n",
       "    .dataframe tbody tr th {\n",
       "        vertical-align: top;\n",
       "    }\n",
       "\n",
       "    .dataframe thead th {\n",
       "        text-align: right;\n",
       "    }\n",
       "</style>\n",
       "<table border=\"1\" class=\"dataframe\">\n",
       "  <thead>\n",
       "    <tr style=\"text-align: right;\">\n",
       "      <th></th>\n",
       "      <th>Name</th>\n",
       "      <th>Age</th>\n",
       "      <th>Sex</th>\n",
       "    </tr>\n",
       "  </thead>\n",
       "  <tbody>\n",
       "    <tr>\n",
       "      <th>0</th>\n",
       "      <td>Braund, Mr. Owen Harris</td>\n",
       "      <td>22</td>\n",
       "      <td>male</td>\n",
       "    </tr>\n",
       "    <tr>\n",
       "      <th>1</th>\n",
       "      <td>Allen, Mr. William Henry</td>\n",
       "      <td>35</td>\n",
       "      <td>male</td>\n",
       "    </tr>\n",
       "    <tr>\n",
       "      <th>2</th>\n",
       "      <td>Bonnell, Miss. Elizabeth</td>\n",
       "      <td>58</td>\n",
       "      <td>female</td>\n",
       "    </tr>\n",
       "  </tbody>\n",
       "</table>\n",
       "</div>"
      ],
      "text/plain": [
       "                       Name  Age     Sex\n",
       "0   Braund, Mr. Owen Harris   22    male\n",
       "1  Allen, Mr. William Henry   35    male\n",
       "2  Bonnell, Miss. Elizabeth   58  female"
      ]
     },
     "execution_count": 3,
     "metadata": {},
     "output_type": "execute_result"
    }
   ],
   "source": [
    "df = pd.DataFrame(\n",
    "    {\n",
    "        \"Name\": [\n",
    "            \"Braund, Mr. Owen Harris\",\n",
    "            \"Allen, Mr. William Henry\",\n",
    "            \"Bonnell, Miss. Elizabeth\",\n",
    "        ],\n",
    "        \"Age\": [22, 35, 58],\n",
    "        \"Sex\": [\"male\", \"male\", \"female\"],\n",
    "    }\n",
    ")\n",
    "df"
   ]
  },
  {
   "attachments": {},
   "cell_type": "markdown",
   "metadata": {},
   "source": [
    "## Lien entre les dataframe et les fichiers JSON\n",
    "\n",
    "Cet exemple montre la parenté étroite avec le format [JSON](https://json.org/json-fr.html) qui nous avons vu à l'occasion de la [gestion des fichiers](../01_les_bases/02_fichiers.ipynb). Il existe dans Pandas une méthode pour écrire un dataframe dans un fichier JSON ([to_json](https://pandas.pydata.org/pandas-docs/stable/reference/api/pandas.DataFrame.to_json.html)) ou ensuite le lire ([read_json](https://pandas.pydata.org/pandas-docs/stable/reference/api/pandas.read_json.html))."
   ]
  },
  {
   "cell_type": "code",
   "execution_count": 10,
   "metadata": {},
   "outputs": [
    {
     "name": "stdout",
     "output_type": "stream",
     "text": [
      "{\n",
      "    \"Name\":{\n",
      "        \"0\":\"Braund, Mr. Owen Harris\",\n",
      "        \"1\":\"Allen, Mr. William Henry\",\n",
      "        \"2\":\"Bonnell, Miss. Elizabeth\"\n",
      "    },\n",
      "    \"Age\":{\n",
      "        \"0\":22,\n",
      "        \"1\":35,\n",
      "        \"2\":58\n",
      "    },\n",
      "    \"Sex\":{\n",
      "        \"0\":\"male\",\n",
      "        \"1\":\"male\",\n",
      "        \"2\":\"female\"\n",
      "    }\n",
      "}\n"
     ]
    }
   ],
   "source": [
    "# écriture du dataframe précédant dans un fichier json\n",
    "with open('persons.json', 'w') as file:\n",
    "    df.to_json(file, indent = 4)\n",
    "\n",
    "# relecture brute du fichier json et impression du tampon lu\n",
    "with open('persons.json') as file:\n",
    "    tampon = file.read()\n",
    "\n",
    "print(tampon)"
   ]
  },
  {
   "attachments": {},
   "cell_type": "markdown",
   "metadata": {},
   "source": [
    "Ces deux fonctions contiennent plus d'option, qui correspondent à toutes les options possibles quand on écrit des types numériques dans un fichier texte.\n",
    "\n",
    "Pour cette raison, il existe format binaire correspondant à ces structures, le format [bson](https://github.com/py-bson/bson) qui se charge avec l'extension du même nom. Ce type de format est abondamment utilisé par la base de données [mongoDB](https://www.mongodb.com/fr-fr)."
   ]
  },
  {
   "attachments": {},
   "cell_type": "markdown",
   "metadata": {},
   "source": [
    "## Manipuler les dataframes\n",
    "\n",
    "On peut extraire des colonnes."
   ]
  },
  {
   "cell_type": "code",
   "execution_count": 8,
   "metadata": {},
   "outputs": [
    {
     "data": {
      "text/plain": [
       "0    22\n",
       "1    35\n",
       "2    58\n",
       "Name: Age, dtype: int64"
      ]
     },
     "execution_count": 8,
     "metadata": {},
     "output_type": "execute_result"
    }
   ],
   "source": [
    "df[\"Age\"]"
   ]
  },
  {
   "attachments": {},
   "cell_type": "markdown",
   "metadata": {},
   "source": [
    "`df[\"Age\"]` est une série Pandas. On remarquera que chaque élément est toujours indexé. Pour transformer cette série en véritable liste Python, il faut utiliser la méthode `tolist`."
   ]
  },
  {
   "cell_type": "code",
   "execution_count": 9,
   "metadata": {},
   "outputs": [
    {
     "data": {
      "text/plain": [
       "[22, 35, 58]"
      ]
     },
     "execution_count": 9,
     "metadata": {},
     "output_type": "execute_result"
    }
   ],
   "source": [
    "df[\"Age\"].tolist()"
   ]
  },
  {
   "attachments": {},
   "cell_type": "markdown",
   "metadata": {},
   "source": [
    "Et si on veut obtenir une suite d'éléments, il faut utiliser l'astérisque."
   ]
  },
  {
   "cell_type": "code",
   "execution_count": 14,
   "metadata": {},
   "outputs": [
    {
     "name": "stdout",
     "output_type": "stream",
     "text": [
      "22 35 58\n"
     ]
    }
   ],
   "source": [
    "print(*df[\"Age\"].tolist())"
   ]
  },
  {
   "attachments": {},
   "cell_type": "markdown",
   "metadata": {},
   "source": [
    "## Les dataframes pour des évènements temporels\n",
    "\n",
    "Parmis les dataframes, il existe ceux qui dont la première colonne est un temps. C'est un cas courant, car il peut s'agir de relevés temporels."
   ]
  },
  {
   "cell_type": "code",
   "execution_count": 6,
   "metadata": {},
   "outputs": [
    {
     "data": {
      "text/plain": [
       "DatetimeIndex(['2023-01-01', '2023-01-02', '2023-01-03', '2023-01-04',\n",
       "               '2023-01-05', '2023-01-06'],\n",
       "              dtype='datetime64[ns]', freq='D')"
      ]
     },
     "execution_count": 6,
     "metadata": {},
     "output_type": "execute_result"
    }
   ],
   "source": [
    "dates = pd.date_range(\"20230101\", periods=6)\n",
    "dates"
   ]
  },
  {
   "cell_type": "code",
   "execution_count": 15,
   "metadata": {},
   "outputs": [
    {
     "data": {
      "text/html": [
       "<div>\n",
       "<style scoped>\n",
       "    .dataframe tbody tr th:only-of-type {\n",
       "        vertical-align: middle;\n",
       "    }\n",
       "\n",
       "    .dataframe tbody tr th {\n",
       "        vertical-align: top;\n",
       "    }\n",
       "\n",
       "    .dataframe thead th {\n",
       "        text-align: right;\n",
       "    }\n",
       "</style>\n",
       "<table border=\"1\" class=\"dataframe\">\n",
       "  <thead>\n",
       "    <tr style=\"text-align: right;\">\n",
       "      <th></th>\n",
       "      <th>A</th>\n",
       "      <th>B</th>\n",
       "      <th>C</th>\n",
       "      <th>D</th>\n",
       "    </tr>\n",
       "  </thead>\n",
       "  <tbody>\n",
       "    <tr>\n",
       "      <th>2023-01-01</th>\n",
       "      <td>0.811504</td>\n",
       "      <td>0.085649</td>\n",
       "      <td>0.179441</td>\n",
       "      <td>0.236811</td>\n",
       "    </tr>\n",
       "    <tr>\n",
       "      <th>2023-01-02</th>\n",
       "      <td>0.181365</td>\n",
       "      <td>0.801274</td>\n",
       "      <td>0.869233</td>\n",
       "      <td>0.582162</td>\n",
       "    </tr>\n",
       "    <tr>\n",
       "      <th>2023-01-03</th>\n",
       "      <td>0.039399</td>\n",
       "      <td>0.094129</td>\n",
       "      <td>0.332202</td>\n",
       "      <td>0.433127</td>\n",
       "    </tr>\n",
       "    <tr>\n",
       "      <th>2023-01-04</th>\n",
       "      <td>0.621228</td>\n",
       "      <td>0.479051</td>\n",
       "      <td>0.264788</td>\n",
       "      <td>0.159739</td>\n",
       "    </tr>\n",
       "    <tr>\n",
       "      <th>2023-01-05</th>\n",
       "      <td>0.691417</td>\n",
       "      <td>0.734577</td>\n",
       "      <td>0.032688</td>\n",
       "      <td>0.113672</td>\n",
       "    </tr>\n",
       "    <tr>\n",
       "      <th>2023-01-06</th>\n",
       "      <td>0.452127</td>\n",
       "      <td>0.391228</td>\n",
       "      <td>0.887825</td>\n",
       "      <td>0.516740</td>\n",
       "    </tr>\n",
       "  </tbody>\n",
       "</table>\n",
       "</div>"
      ],
      "text/plain": [
       "                   A         B         C         D\n",
       "2023-01-01  0.811504  0.085649  0.179441  0.236811\n",
       "2023-01-02  0.181365  0.801274  0.869233  0.582162\n",
       "2023-01-03  0.039399  0.094129  0.332202  0.433127\n",
       "2023-01-04  0.621228  0.479051  0.264788  0.159739\n",
       "2023-01-05  0.691417  0.734577  0.032688  0.113672\n",
       "2023-01-06  0.452127  0.391228  0.887825  0.516740"
      ]
     },
     "execution_count": 15,
     "metadata": {},
     "output_type": "execute_result"
    }
   ],
   "source": [
    "import numpy as np\n",
    "\n",
    "rng = np.random.default_rng(3)\n",
    "df = pd.DataFrame(rng.random((6,4), dtype='float32'),\n",
    "                  index= dates,\n",
    "                  columns = list('ABCD'))\n",
    "df\n"
   ]
  },
  {
   "attachments": {},
   "cell_type": "markdown",
   "metadata": {},
   "source": [
    "Comme avec une table de base de données, on peut choisir de n'afficher que les premiers ou les derniers éléments (par défaut ces commandes montrent cinq éléments, s'il n'y pas de paramètres)."
   ]
  },
  {
   "cell_type": "code",
   "execution_count": 16,
   "metadata": {},
   "outputs": [
    {
     "data": {
      "text/html": [
       "<div>\n",
       "<style scoped>\n",
       "    .dataframe tbody tr th:only-of-type {\n",
       "        vertical-align: middle;\n",
       "    }\n",
       "\n",
       "    .dataframe tbody tr th {\n",
       "        vertical-align: top;\n",
       "    }\n",
       "\n",
       "    .dataframe thead th {\n",
       "        text-align: right;\n",
       "    }\n",
       "</style>\n",
       "<table border=\"1\" class=\"dataframe\">\n",
       "  <thead>\n",
       "    <tr style=\"text-align: right;\">\n",
       "      <th></th>\n",
       "      <th>A</th>\n",
       "      <th>B</th>\n",
       "      <th>C</th>\n",
       "      <th>D</th>\n",
       "    </tr>\n",
       "  </thead>\n",
       "  <tbody>\n",
       "    <tr>\n",
       "      <th>2023-01-01</th>\n",
       "      <td>0.811504</td>\n",
       "      <td>0.085649</td>\n",
       "      <td>0.179441</td>\n",
       "      <td>0.236811</td>\n",
       "    </tr>\n",
       "    <tr>\n",
       "      <th>2023-01-02</th>\n",
       "      <td>0.181365</td>\n",
       "      <td>0.801274</td>\n",
       "      <td>0.869233</td>\n",
       "      <td>0.582162</td>\n",
       "    </tr>\n",
       "    <tr>\n",
       "      <th>2023-01-03</th>\n",
       "      <td>0.039399</td>\n",
       "      <td>0.094129</td>\n",
       "      <td>0.332202</td>\n",
       "      <td>0.433127</td>\n",
       "    </tr>\n",
       "  </tbody>\n",
       "</table>\n",
       "</div>"
      ],
      "text/plain": [
       "                   A         B         C         D\n",
       "2023-01-01  0.811504  0.085649  0.179441  0.236811\n",
       "2023-01-02  0.181365  0.801274  0.869233  0.582162\n",
       "2023-01-03  0.039399  0.094129  0.332202  0.433127"
      ]
     },
     "execution_count": 16,
     "metadata": {},
     "output_type": "execute_result"
    }
   ],
   "source": [
    "df.head(3)"
   ]
  },
  {
   "cell_type": "code",
   "execution_count": 17,
   "metadata": {},
   "outputs": [
    {
     "data": {
      "text/html": [
       "<div>\n",
       "<style scoped>\n",
       "    .dataframe tbody tr th:only-of-type {\n",
       "        vertical-align: middle;\n",
       "    }\n",
       "\n",
       "    .dataframe tbody tr th {\n",
       "        vertical-align: top;\n",
       "    }\n",
       "\n",
       "    .dataframe thead th {\n",
       "        text-align: right;\n",
       "    }\n",
       "</style>\n",
       "<table border=\"1\" class=\"dataframe\">\n",
       "  <thead>\n",
       "    <tr style=\"text-align: right;\">\n",
       "      <th></th>\n",
       "      <th>A</th>\n",
       "      <th>B</th>\n",
       "      <th>C</th>\n",
       "      <th>D</th>\n",
       "    </tr>\n",
       "  </thead>\n",
       "  <tbody>\n",
       "    <tr>\n",
       "      <th>2023-01-02</th>\n",
       "      <td>0.181365</td>\n",
       "      <td>0.801274</td>\n",
       "      <td>0.869233</td>\n",
       "      <td>0.582162</td>\n",
       "    </tr>\n",
       "    <tr>\n",
       "      <th>2023-01-03</th>\n",
       "      <td>0.039399</td>\n",
       "      <td>0.094129</td>\n",
       "      <td>0.332202</td>\n",
       "      <td>0.433127</td>\n",
       "    </tr>\n",
       "    <tr>\n",
       "      <th>2023-01-04</th>\n",
       "      <td>0.621228</td>\n",
       "      <td>0.479051</td>\n",
       "      <td>0.264788</td>\n",
       "      <td>0.159739</td>\n",
       "    </tr>\n",
       "    <tr>\n",
       "      <th>2023-01-05</th>\n",
       "      <td>0.691417</td>\n",
       "      <td>0.734577</td>\n",
       "      <td>0.032688</td>\n",
       "      <td>0.113672</td>\n",
       "    </tr>\n",
       "    <tr>\n",
       "      <th>2023-01-06</th>\n",
       "      <td>0.452127</td>\n",
       "      <td>0.391228</td>\n",
       "      <td>0.887825</td>\n",
       "      <td>0.516740</td>\n",
       "    </tr>\n",
       "  </tbody>\n",
       "</table>\n",
       "</div>"
      ],
      "text/plain": [
       "                   A         B         C         D\n",
       "2023-01-02  0.181365  0.801274  0.869233  0.582162\n",
       "2023-01-03  0.039399  0.094129  0.332202  0.433127\n",
       "2023-01-04  0.621228  0.479051  0.264788  0.159739\n",
       "2023-01-05  0.691417  0.734577  0.032688  0.113672\n",
       "2023-01-06  0.452127  0.391228  0.887825  0.516740"
      ]
     },
     "execution_count": 17,
     "metadata": {},
     "output_type": "execute_result"
    }
   ],
   "source": [
    "df.tail()"
   ]
  },
  {
   "attachments": {},
   "cell_type": "markdown",
   "metadata": {},
   "source": [
    "On peut aussi retrouver les index."
   ]
  },
  {
   "cell_type": "code",
   "execution_count": 18,
   "metadata": {},
   "outputs": [
    {
     "data": {
      "text/plain": [
       "DatetimeIndex(['2023-01-01', '2023-01-02', '2023-01-03', '2023-01-04',\n",
       "               '2023-01-05', '2023-01-06'],\n",
       "              dtype='datetime64[ns]', freq='D')"
      ]
     },
     "execution_count": 18,
     "metadata": {},
     "output_type": "execute_result"
    }
   ],
   "source": [
    "df.index"
   ]
  },
  {
   "attachments": {},
   "cell_type": "markdown",
   "metadata": {},
   "source": [
    "ou les noms de colonnes"
   ]
  },
  {
   "cell_type": "code",
   "execution_count": 19,
   "metadata": {},
   "outputs": [
    {
     "data": {
      "text/plain": [
       "Index(['A', 'B', 'C', 'D'], dtype='object')"
      ]
     },
     "execution_count": 19,
     "metadata": {},
     "output_type": "execute_result"
    }
   ],
   "source": [
    "df.columns"
   ]
  },
  {
   "cell_type": "markdown",
   "metadata": {},
   "source": [
    "On peut convertir les dataframes pandas en ndarray numpy. Mais une différence fondamentale est que les éléments d'un ndarray sont tous de même type alors que les éléments d'un dataframe peuvent avoir plusieurs types, chaque colonne étant d'un type donné. La conversion est donc simple et immédiate si le dataframe a déjà la structure d'un ndarray, typiquement, s'il n'est constitué que de flottants."
   ]
  },
  {
   "cell_type": "code",
   "execution_count": 20,
   "metadata": {},
   "outputs": [
    {
     "data": {
      "text/plain": [
       "array([[0.8115045 , 0.08564913, 0.17944068, 0.2368105 ],\n",
       "       [0.18136477, 0.8012744 , 0.8692326 , 0.582162  ],\n",
       "       [0.03939909, 0.09412861, 0.33220154, 0.43312693],\n",
       "       [0.6212278 , 0.4790513 , 0.2647882 , 0.1597389 ],\n",
       "       [0.6914169 , 0.7345771 , 0.03268814, 0.11367202],\n",
       "       [0.45212662, 0.39122814, 0.88782495, 0.51674014]], dtype=float32)"
      ]
     },
     "execution_count": 20,
     "metadata": {},
     "output_type": "execute_result"
    }
   ],
   "source": [
    "df.to_numpy()"
   ]
  },
  {
   "attachments": {},
   "cell_type": "markdown",
   "metadata": {},
   "source": [
    "on remarquera que les index ont disparus ainsi que les noms de colonnes."
   ]
  },
  {
   "cell_type": "markdown",
   "metadata": {},
   "source": []
  }
 ],
 "metadata": {
  "kernelspec": {
   "display_name": "Python 3",
   "language": "python",
   "name": "python3"
  },
  "language_info": {
   "codemirror_mode": {
    "name": "ipython",
    "version": 3
   },
   "file_extension": ".py",
   "mimetype": "text/x-python",
   "name": "python",
   "nbconvert_exporter": "python",
   "pygments_lexer": "ipython3",
   "version": "3.10.6"
  },
  "orig_nbformat": 4,
  "vscode": {
   "interpreter": {
    "hash": "916dbcbb3f70747c44a77c7bcd40155683ae19c65e1c03b4aa3499c5328201f1"
   }
  }
 },
 "nbformat": 4,
 "nbformat_minor": 2
}
