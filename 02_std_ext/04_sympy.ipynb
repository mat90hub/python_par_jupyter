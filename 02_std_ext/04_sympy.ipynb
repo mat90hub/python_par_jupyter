{
 "cells": [
  {
   "cell_type": "markdown",
   "metadata": {},
   "source": [
    "# Faire du calcul symbolique avec <code>sympy</code>"
   ]
  },
  {
   "cell_type": "markdown",
   "metadata": {},
   "source": [
    "<em>Notes: quand on écrit de long texte en Français, on peut avoir besoin de ces caractères : «   » … ’ qui ne sont pas accessibles directement avec le clavier. L'apostrophe ’ permet de ne pas être confondu avec le guillemet Anglais simple ' qui a souvent une signification d'échappement. Les catactères double-points et guillemets sont ici entourés d'espaces insécables, qui ne se distinguent pas, mais sont néanmoins présents « : ».</em>"
   ]
  },
  {
   "cell_type": "markdown",
   "metadata": {},
   "source": [
    "<code>Sympy</code> permet de faire du calcul symbolique avec Python. Voici ici quelques exemples."
   ]
  },
  {
   "cell_type": "markdown",
   "metadata": {},
   "source": [
    "## Calcul chiffrés"
   ]
  },
  {
   "cell_type": "markdown",
   "metadata": {},
   "source": [
    "La bibliothèque <code>math</code> permet d'utiliser les principales fonctions mathématiques, comme ici la recherche d'une racine carrée."
   ]
  },
  {
   "cell_type": "code",
   "execution_count": 2,
   "metadata": {},
   "outputs": [
    {
     "name": "stdout",
     "output_type": "stream",
     "text": [
      "3.0\n",
      "1.7320508075688772\n"
     ]
    }
   ],
   "source": [
    "import math\n",
    "print(math.sqrt(9))\n",
    "print(math.sqrt(3))"
   ]
  },
  {
   "cell_type": "markdown",
   "metadata": {},
   "source": [
    "La bibliothèque <code>sympy</code> permet de faire du calcul symbolique, c'est-à dire que dans ce cas, on ne cherchera qu'à garder des résultats utilsant des entiers."
   ]
  },
  {
   "cell_type": "code",
   "execution_count": 8,
   "metadata": {},
   "outputs": [
    {
     "name": "stdout",
     "output_type": "stream",
     "text": [
      "3\n",
      "sqrt(3)\n"
     ]
    }
   ],
   "source": [
    "import sympy\n",
    "print(sympy.sqrt(9))\n",
    "print(sympy.sqrt(3))"
   ]
  },
  {
   "cell_type": "markdown",
   "metadata": {},
   "source": [
    "La racine carrée de 3 ne tombe pas juste et on conserve donc son expression."
   ]
  },
  {
   "cell_type": "markdown",
   "metadata": {},
   "source": [
    "## Les bases du calcul symbolique: développement et factorisation"
   ]
  },
  {
   "cell_type": "markdown",
   "metadata": {},
   "source": [
    "L'intérêt de <code>sympy</code> est de continuer à faire des calculs sur des expressions utilisant des variables muettes, qu'on appelle aussi des valeurs symboliques comme ici <code>(x, y)</code>."
   ]
  },
  {
   "cell_type": "code",
   "execution_count": 10,
   "metadata": {},
   "outputs": [
    {
     "name": "stdout",
     "output_type": "stream",
     "text": [
      "x + 2*y\n"
     ]
    }
   ],
   "source": [
    "from sympy import symbols, init_printing\n",
    "x, y = symbols('x y')\n",
    "expr = x + 2*y\n",
    "print(expr)"
   ]
  },
  {
   "cell_type": "markdown",
   "metadata": {},
   "source": [
    "Cette expression <code>expr</code> peut être ensuite réutilisée dans d'autres calculs."
   ]
  },
  {
   "cell_type": "code",
   "execution_count": 11,
   "metadata": {},
   "outputs": [
    {
     "name": "stdout",
     "output_type": "stream",
     "text": [
      "x + 2*y + 1\n",
      "2*y\n"
     ]
    }
   ],
   "source": [
    "print(expr + 1)\n",
    "print(expr -x)"
   ]
  },
  {
   "cell_type": "markdown",
   "metadata": {},
   "source": [
    "Quand l'expression devient plus complexe,"
   ]
  },
  {
   "cell_type": "code",
   "execution_count": 24,
   "metadata": {},
   "outputs": [
    {
     "name": "stdout",
     "output_type": "stream",
     "text": [
      "(x + 2*y)**2\n"
     ]
    }
   ],
   "source": [
    "print(expr*expr)"
   ]
  },
  {
   "cell_type": "markdown",
   "metadata": {},
   "source": [
    "On peut choisir de la développer"
   ]
  },
  {
   "cell_type": "code",
   "execution_count": 25,
   "metadata": {},
   "outputs": [
    {
     "name": "stdout",
     "output_type": "stream",
     "text": [
      "x**2 + 4*x*y + 4*y**2\n"
     ]
    }
   ],
   "source": [
    "from sympy import expand\n",
    "print(expand(expr*expr))"
   ]
  },
  {
   "cell_type": "markdown",
   "metadata": {},
   "source": [
    "ou au contraire de la re-factoriser"
   ]
  },
  {
   "cell_type": "code",
   "execution_count": 12,
   "metadata": {},
   "outputs": [
    {
     "name": "stdout",
     "output_type": "stream",
     "text": [
      "(x + 2*y)**2\n"
     ]
    }
   ],
   "source": [
    "from sympy import factor\n",
    "print(factor(x**2 + 4*x*y + 4*y**2))"
   ]
  },
  {
   "cell_type": "markdown",
   "metadata": {},
   "source": [
    "<code>Sympy</code> permet donc de faire des manipulations sur des expressions numériques contenant des variables muettes, de calculer avec, de les factoriser ou les développer."
   ]
  },
  {
   "cell_type": "markdown",
   "metadata": {},
   "source": [
    "## Calcul de dérivée, d'intégrale ou de limite"
   ]
  },
  {
   "cell_type": "markdown",
   "metadata": {},
   "source": [
    "Mais l'utilisation de <code>sympy</code> ne se limite pas aux polynômes. On peut aussi retrouver des dérivées de fonctions. On remarquera simplement ici, qu'il faut bien utiliser les fonctions qui sont dans <code>sympy</code> et non dans une autre bibliothèque."
   ]
  },
  {
   "cell_type": "code",
   "execution_count": 16,
   "metadata": {},
   "outputs": [
    {
     "name": "stdout",
     "output_type": "stream",
     "text": [
      "exp(x)*sin(x) + exp(x)*cos(x)\n"
     ]
    }
   ],
   "source": [
    "from sympy import sin, exp, diff\n",
    "y = sin(x)*exp(x)\n",
    "print(diff(y, x))"
   ]
  },
  {
   "cell_type": "markdown",
   "metadata": {},
   "source": [
    "Nous avons défini\n",
    "\n",
    "$$ y = \\sin(x)\\cdot e^{x}$$\n",
    "\n",
    "et donc avec pour dérivée\n",
    "\n",
    "$$ \\frac{dy}{dx} = \\left[\\cos(x) + \\sin(x)\\right]\\cdot e^x $$\n",
    "\n"
   ]
  },
  {
   "cell_type": "markdown",
   "metadata": {},
   "source": [
    "ou leur intégrale"
   ]
  },
  {
   "cell_type": "code",
   "execution_count": 18,
   "metadata": {},
   "outputs": [
    {
     "name": "stdout",
     "output_type": "stream",
     "text": [
      "exp(x)*sin(x)/2 - exp(x)*cos(x)/2\n"
     ]
    }
   ],
   "source": [
    "from sympy import integrate\n",
    "print(integrate(y, x))"
   ]
  },
  {
   "cell_type": "markdown",
   "metadata": {},
   "source": [
    "Ce qui était:\n",
    "\n",
    "$$\\int sin(t)\\cdot e^t \\cdot dt = \\left[\\frac{\\sin(x) - \\cos(x)}{2}\\right]\\cdot e^x + \n",
    "\\text{CSTE}$$"
   ]
  },
  {
   "cell_type": "markdown",
   "metadata": {},
   "source": [
    "On peut aussi calculer une intégrale entre deux bornes, qu'elles soient finies ou infinies. Dans ce dernier cas, il faut utiliser le symbole $\\infty$ qui avec <code>sympy</code> se nomme <code>oo</code>"
   ]
  },
  {
   "cell_type": "code",
   "execution_count": 29,
   "metadata": {},
   "outputs": [
    {
     "name": "stdout",
     "output_type": "stream",
     "text": [
      "sqrt(2)*sqrt(pi)/2\n"
     ]
    }
   ],
   "source": [
    "from sympy import oo\n",
    "print(integrate(sin(x**2), (x, -oo, oo)))"
   ]
  },
  {
   "cell_type": "markdown",
   "metadata": {},
   "source": [
    "Nous avons ici calculé:\n",
    "\n",
    "$$\\int_{-\\infty}^\\infty \\sin(x²)\\cdot dx = \\frac{\\sqrt{2}\\cdot \\sqrt{\\pi}}{2}$$"
   ]
  },
  {
   "cell_type": "markdown",
   "metadata": {},
   "source": [
    "On peut aussi faire la recherche de limite."
   ]
  },
  {
   "cell_type": "code",
   "execution_count": 30,
   "metadata": {},
   "outputs": [
    {
     "name": "stdout",
     "output_type": "stream",
     "text": [
      "1\n"
     ]
    }
   ],
   "source": [
    "from sympy import limit\n",
    "print(limit(sin(x)/x, x, 0))"
   ]
  },
  {
   "cell_type": "markdown",
   "metadata": {},
   "source": [
    "On a retrouvé ici le résultat:\n",
    "\n",
    "$$\\lim_{x\\rightarrow 0} \\frac{\\sin(x)}{x} = 1$$"
   ]
  },
  {
   "cell_type": "markdown",
   "metadata": {},
   "source": [
    "## Résolution d'équations"
   ]
  },
  {
   "cell_type": "markdown",
   "metadata": {},
   "source": [
    "<code>Sympy</code> est aussi très utile pour résoudre des équations ou des systèmes d'équations. Pour résouvre une équation du simple on peut utiliser la fonction <code>solve</code> qui prend comme premier argument la fonction à annuler, ce qui sera donc l'équation et en deuxième argument, le nom de la variable symbolique sur laquelle il faut résoudre, ici $x$."
   ]
  },
  {
   "cell_type": "code",
   "execution_count": 31,
   "metadata": {},
   "outputs": [
    {
     "name": "stdout",
     "output_type": "stream",
     "text": [
      "[-sqrt(2), sqrt(2)]\n"
     ]
    }
   ],
   "source": [
    "from sympy import solve\n",
    "sol = solve(x**2 - 2, x)\n",
    "print(sol)"
   ]
  },
  {
   "cell_type": "markdown",
   "metadata": {},
   "source": [
    "On a ici résolu l'équation:\n",
    "\n",
    "$x^2 - 2 = 0$\n",
    "\n",
    "Qui a comme solution $\\sqrt{2}$ et $-\\sqrt{2}$"
   ]
  },
  {
   "cell_type": "markdown",
   "metadata": {},
   "source": [
    "On peut résoudre des équation différentielles de la même manière avec <code>dsolve</code>. \n",
    "\n",
    "Prenons cet exemple :\n",
    "\n",
    "$$y'' - y = e^t$$"
   ]
  },
  {
   "cell_type": "code",
   "execution_count": 20,
   "metadata": {},
   "outputs": [
    {
     "data": {
      "image/png": "[encoded data removed]",
      "text/latex": [
       "$\\displaystyle y{\\left(t \\right)} = C_{2} e^{- t} + \\left(C_{1} + \\frac{t}{2}\\right) e^{t}$"
      ],
      "text/plain": [
       "           -t   ⎛     t⎞  t\n",
       "y(t) = C₂⋅ℯ   + ⎜C₁ + ─⎟⋅ℯ \n",
       "                ⎝     2⎠   "
      ]
     },
     "execution_count": 20,
     "metadata": {},
     "output_type": "execute_result"
    }
   ],
   "source": [
    "from sympy import dsolve, Function, latex, Eq, init_printing\n",
    "# init_printing(use_latex=True, use_unicode=True)\n",
    "init_printing()\n",
    "t = symbols('t')\n",
    "y = Function('y')\n",
    "sol = dsolve(Eq(y(t).diff(t,t) - y(t), exp(t)), y(t))\n",
    "sol\n",
    "# print(latex(sol))\n"
   ]
  },
  {
   "attachments": {},
   "cell_type": "markdown",
   "metadata": {},
   "source": [
    "La commande [init_printing](https://docs.sympy.org/latest/tutorials/intro-tutorial/printing.html) permet d'avoir un rendu enrichi du résultat, comme ici, directement en $\\LaTeX$. Il existe aussi d'autre types de rendu intermédiaires (et moins long à afficher), mais ils demandent un peu plus de temps à afficher et attention, ces options peuvent être exclusives les unes des autres (faire des essais pour vérifier que cela fonctionne). La commande [latex](https://docs.sympy.org/latest/modules/printing.html?highlight=latex#module-sympy.printing.latex) quant à elle renvoie du code $\\LaTeX$ à intégrer dans un document écrit en $\\LaTeX$."
   ]
  },
  {
   "cell_type": "markdown",
   "metadata": {},
   "source": [
    "Il suffit de recopier le bloc ci-dessus dans un bloc $\\LaTeX$ pour avoir une expression plus sympatique à lire.\n",
    "\n",
    "$$y{\\left(t \\right)} = C_{2} e^{- t} + \\left(C_{1} + \\frac{t}{2}\\right) e^{t}$$\n"
   ]
  }
 ],
 "metadata": {
  "kernelspec": {
   "display_name": ".venv",
   "language": "python",
   "name": "python3"
  },
  "language_info": {
   "codemirror_mode": {
    "name": "ipython",
    "version": 3
   },
   "file_extension": ".py",
   "mimetype": "text/x-python",
   "name": "python",
   "nbconvert_exporter": "python",
   "pygments_lexer": "ipython3",
   "version": "3.10.6"
  },
  "vscode": {
   "interpreter": {
    "hash": "f2aec3b84089aa708d4850c58218314a12e464c7021fc707cb33bd662b6900e2"
   }
  }
 },
 "nbformat": 4,
 "nbformat_minor": 4
}
