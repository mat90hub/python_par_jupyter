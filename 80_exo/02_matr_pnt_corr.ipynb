{
 "cells": [
  {
   "attachments": {},
   "cell_type": "markdown",
   "metadata": {},
   "source": [
    "# 02 Afficher des matrices de pixels\n",
    "\n",
    "Les [ndarray](https://numpy.org/doc/stable/reference/arrays.ndarray.html) sont les matrices à N dimensions de NumPy. En connaissez-vous les bases ?"
   ]
  },
  {
   "cell_type": "code",
   "execution_count": 1,
   "metadata": {},
   "outputs": [],
   "source": [
    "import numpy as np"
   ]
  },
  {
   "attachments": {},
   "cell_type": "markdown",
   "metadata": {},
   "source": [
    "Déclarez une matrice contenant deux lignes à trois colonnes avec les 6 premiers entiers. Pouvez-vous déclarer chacun des chiffres comme un entier sur 32 bits ?"
   ]
  },
  {
   "cell_type": "code",
   "execution_count": 2,
   "metadata": {},
   "outputs": [
    {
     "name": "stdout",
     "output_type": "stream",
     "text": [
      "le type de x est <class 'numpy.ndarray'> et les données dans x sont du type int32\n"
     ]
    }
   ],
   "source": [
    "# 02.01\n",
    "x = np.array([[1,2,3], [4,5,6]], np.int32)\n",
    "print(f'le type de x est {type(x)} et les données dans x sont du type {x.dtype}')"
   ]
  },
  {
   "attachments": {},
   "cell_type": "markdown",
   "metadata": {},
   "source": [
    "Retrouver la forme (`shape`) de la matrice X."
   ]
  },
  {
   "cell_type": "code",
   "execution_count": 3,
   "metadata": {},
   "outputs": [
    {
     "data": {
      "text/plain": [
       "(2, 3)"
      ]
     },
     "execution_count": 3,
     "metadata": {},
     "output_type": "execute_result"
    }
   ],
   "source": [
    "# 02.02\n",
    "x.shape"
   ]
  },
  {
   "attachments": {},
   "cell_type": "markdown",
   "metadata": {},
   "source": [
    "Savez vous re-recréer la matrice `x` en utlisant `np.arange` et `reshape`."
   ]
  },
  {
   "cell_type": "code",
   "execution_count": 4,
   "metadata": {},
   "outputs": [
    {
     "name": "stdout",
     "output_type": "stream",
     "text": [
      "[[1 2 3]\n",
      " [4 5 6]]\n"
     ]
    }
   ],
   "source": [
    "# 02.03\n",
    "x = np.arange(1,7).reshape(2,3)\n",
    "print(x)"
   ]
  },
  {
   "attachments": {},
   "cell_type": "markdown",
   "metadata": {},
   "source": [
    "Savez vous faire l'inverse ? Redonner à `x` la forme d'une liste simple. Imprimez cette liste. Il existe plusieurs solutions.\n",
    "\n",
    "indications: utilisez la méthode `flat` ou la methode `reshape`. Se rappelez aussi de l'utilité de `*` pour les listes."
   ]
  },
  {
   "cell_type": "code",
   "execution_count": 5,
   "metadata": {},
   "outputs": [
    {
     "name": "stdout",
     "output_type": "stream",
     "text": [
      "[1, 2, 3, 4, 5, 6]\n"
     ]
    }
   ],
   "source": [
    "# 02.04.01\n",
    "print(list(x.flat))  # il faut utiliser `list` pour obtenir le résultat sous forme de liste"
   ]
  },
  {
   "cell_type": "code",
   "execution_count": 10,
   "metadata": {},
   "outputs": [
    {
     "name": "stdout",
     "output_type": "stream",
     "text": [
      "[1, 2, 3, 4, 5, 6]\n"
     ]
    }
   ],
   "source": [
    "# 02.04.02\n",
    "print(list(*x.reshape(1, x.size)))  # le `*` enlève ici un étage de crochets"
   ]
  },
  {
   "attachments": {},
   "cell_type": "markdown",
   "metadata": {},
   "source": [
    "## Passer en mode visuel\n",
    "\n",
    "La fonction [matplotlib.pyplot.imshow](https://matplotlib.org/stable/api/_as_gen/matplotlib.pyplot.imshow.html) permet d'afficher une matrice sous forme d'image. Voici ci dessous les lignes qui permettent de faire une visualisation de la matrice `x`. "
   ]
  },
  {
   "cell_type": "code",
   "execution_count": 20,
   "metadata": {},
   "outputs": [
    {
     "data": {
      "image/png": "[encoded data removed]",
      "text/plain": [
       "<Figure size 200x200 with 1 Axes>"
      ]
     },
     "metadata": {},
     "output_type": "display_data"
    }
   ],
   "source": [
    "# 02.04.03\n",
    "import matplotlib.pyplot as plt\n",
    "plt.figure(figsize=(2,2))\n",
    "plt.imshow(x, cmap=\"gray\")\n",
    "plt.title('x en image')\n",
    "plt.axis(\"off\")\n",
    "plt.show()"
   ]
  },
  {
   "attachments": {},
   "cell_type": "markdown",
   "metadata": {},
   "source": [
    "Les valeurs sont typiquement entre 0 et 255. construire une matrice carrée contenant toutes ces valeurs et l'afficher"
   ]
  },
  {
   "cell_type": "code",
   "execution_count": 21,
   "metadata": {},
   "outputs": [
    {
     "data": {
      "image/png": "[encoded data removed]",
      "text/plain": [
       "<Figure size 200x200 with 1 Axes>"
      ]
     },
     "metadata": {},
     "output_type": "display_data"
    }
   ],
   "source": [
    "#02.04.04\n",
    "M = np.array([x for x in range(256)]).reshape(16,16)\n",
    "plt.figure(figsize=(2,2))\n",
    "plt.imshow(M, cmap=\"gray\")\n",
    "plt.title('M en image')\n",
    "plt.axis(\"off\")\n",
    "plt.show()"
   ]
  },
  {
   "attachments": {},
   "cell_type": "markdown",
   "metadata": {},
   "source": [
    "Avec la méthode de construction, le dégradé horizontal est beaucoup moins visible que le dégradé vertical. Connaissez-vous le moyen le plus rapide pour avoir à partir de ce résultat un dégradé plutôt vertical ? (on ne pré-occupe pas du sens du dégradé)."
   ]
  },
  {
   "cell_type": "code",
   "execution_count": 22,
   "metadata": {},
   "outputs": [
    {
     "data": {
      "image/png": "[encoded data removed]",
      "text/plain": [
       "<Figure size 200x200 with 1 Axes>"
      ]
     },
     "metadata": {},
     "output_type": "display_data"
    }
   ],
   "source": [
    "# 02.04.05\n",
    "plt.figure(figsize=(2,2))\n",
    "plt.imshow(M.T, cmap=\"gray\")\n",
    "plt.title('M en image')\n",
    "plt.axis(\"off\")\n",
    "plt.show()"
   ]
  },
  {
   "attachments": {},
   "cell_type": "markdown",
   "metadata": {},
   "source": [
    "Construire une ligne de carrés noirs et blancs alternés. Le nombre de carrés est paramétrable (voir ci-dessous) ainsi que la taille en pixel des carrés.\n",
    "\n",
    "La méthode proposée est de construire d'abord une ligne de un pixel qui aura la bonne alternance entre les pixels noir (valeur à 0) et les pixels blancs (valeur à 255). Puis de multiplier ces lignes et d'en faire une matrice affichable avec `imshow`."
   ]
  },
  {
   "cell_type": "code",
   "execution_count": 23,
   "metadata": {},
   "outputs": [
    {
     "data": {
      "image/png": "[encoded data removed]",
      "text/plain": [
       "<Figure size 200x200 with 1 Axes>"
      ]
     },
     "metadata": {},
     "output_type": "display_data"
    }
   ],
   "source": [
    "# 02.04.06\n",
    "\n",
    "taille_carré = 8\n",
    "nombre_carrés = 10\n",
    "taille_damier = taille_carré * nombre_carrés\n",
    "\n",
    "# construction d'un segment de pixels noirs\n",
    "LCN = [0] * taille_carré\n",
    "# construction d'un segment de pixels blancs\n",
    "LCB = [255] * taille_carré\n",
    "\n",
    "# construction d'une ligne commençant par un carré noir\n",
    "LN = []\n",
    "for pos in range(nombre_carrés):\n",
    "    if pos % 2 == 0:\n",
    "        LN.extend(LCN)  # ne pas utiliser append() !\n",
    "    else:\n",
    "        LN.extend(LCB)\n",
    "# donner de l'épaisseur à notre ligne\n",
    "LN = LN * taille_carré\n",
    "\n",
    "# mise ne matrice pour l'affichage\n",
    "ligne = np.array(LN)  # convertir la liste en ndarray\n",
    "ligne = ligne.reshape(taille_carré, taille_damier)\n",
    "\n",
    "# affichage\n",
    "plt.figure(figsize=(2,2))\n",
    "plt.imshow(ligne, cmap='gray')\n",
    "plt.axis('off')\n",
    "plt.title('une ligne de damier')\n",
    "plt.show()"
   ]
  },
  {
   "attachments": {},
   "cell_type": "markdown",
   "metadata": {},
   "source": [
    "Empiler maintenant les lignes commençant par un carré noir et un carré blanc. Afficher le damier résultant."
   ]
  },
  {
   "cell_type": "code",
   "execution_count": 24,
   "metadata": {},
   "outputs": [
    {
     "data": {
      "image/png": "[encoded data removed]",
      "text/plain": [
       "<Figure size 200x200 with 1 Axes>"
      ]
     },
     "metadata": {},
     "output_type": "display_data"
    }
   ],
   "source": [
    "# 02.04.06\n",
    "\n",
    "# construction d'une ligne commençant par un carré blanc\n",
    "LB = []\n",
    "for pos in range(nombre_carrés):\n",
    "    if pos % 2 == 0:\n",
    "        LB.extend(LCB)\n",
    "    else:\n",
    "        LB.extend(LCN)\n",
    "# donner de l'épaisseur à notre ligne\n",
    "LB = LB * taille_carré\n",
    "\n",
    "# construction du damier (toujours avec des lignes)\n",
    "DAM = []\n",
    "for L in range(nombre_carrés):\n",
    "    if L % 2 == 0:\n",
    "        DAM.extend(LN)\n",
    "    else:\n",
    "        DAM.extend(LB)\n",
    "# mise ne matrice\n",
    "image = np.array(DAM)  # convertir la liste en ndarray\n",
    "image = image.reshape(taille_damier, taille_damier)\n",
    "\n",
    "plt.figure(figsize=(2,2))\n",
    "plt.imshow(image, cmap='gray')\n",
    "plt.axis('off')\n",
    "plt.title('le damier')\n",
    "plt.show()"
   ]
  },
  {
   "attachments": {},
   "cell_type": "markdown",
   "metadata": {},
   "source": [
    "On veut maintenant encadrer le damier par une ligne de deux pixels...\n",
    "\n",
    "Cette fois rester avec la matrice qui vient d'être construite et rajouter des lignes et des colonnes avec la commande de NumPy [concatenate](https://numpy.org/doc/stable/reference/generated/numpy.concatenate.html)."
   ]
  },
  {
   "cell_type": "code",
   "execution_count": 25,
   "metadata": {},
   "outputs": [
    {
     "data": {
      "image/png": "[encoded data removed]",
      "text/plain": [
       "<Figure size 200x200 with 1 Axes>"
      ]
     },
     "metadata": {},
     "output_type": "display_data"
    }
   ],
   "source": [
    "# 02.04.07\n",
    "\n",
    "# construction d'une ligne horizontale d'épaisseur 2\n",
    "LG = np.zeros((2,taille_damier))\n",
    "# ajout de la ligne du haut\n",
    "image = np.concatenate((LG, image), axis = 0)\n",
    "# ajout de la ligne du bas\n",
    "image = np.concatenate((image, LG), axis = 0)\n",
    "\n",
    "# construction d'une ligne vertical d'épaisseur 2\n",
    "LG = np.zeros((taille_damier + 4, 2))  # attention à ajouter les lignes haut et bas\n",
    "# ajout de la ligne de gauche\n",
    "image = np.concatenate((LG, image), axis = 1)\n",
    "# ajout de la ligne du bas\n",
    "image = np.concatenate((image, LG), axis = 1)\n",
    "\n",
    "plt.figure(figsize=(2,2))\n",
    "plt.imshow(image, cmap='gray')\n",
    "plt.axis('off')\n",
    "plt.title('le damier final')\n",
    "plt.show()"
   ]
  }
 ],
 "metadata": {
  "kernelspec": {
   "display_name": ".venv",
   "language": "python",
   "name": "python3"
  },
  "language_info": {
   "codemirror_mode": {
    "name": "ipython",
    "version": 3
   },
   "file_extension": ".py",
   "mimetype": "text/x-python",
   "name": "python",
   "nbconvert_exporter": "python",
   "pygments_lexer": "ipython3",
   "version": "3.10.7"
  },
  "orig_nbformat": 4
 },
 "nbformat": 4,
 "nbformat_minor": 2
}
