{
 "cells": [
  {
   "attachments": {},
   "cell_type": "markdown",
   "metadata": {},
   "source": [
    "# 01 Exercices pour réviser les bases\n",
    "\n",
    "*Ce cahier rassemble des exercices pour vérifier votre apprentissage du langage Python*\n",
    "\n",
    " : «   » … ’"
   ]
  },
  {
   "attachments": {},
   "cell_type": "markdown",
   "metadata": {},
   "source": [
    "## 01.01 Revoir les chaînes de caractères\n",
    "\n",
    "Écrire une instruction qui renvoie la chaîne suivante en utilisant `print` (on dira imprimer par la suite, bien qu'il ne s'agisse que de renvoyer à l'écran et non à imprimer sur une imprimante):\n",
    "\n",
    "« L'instruction n'est pas si difficile ! »\n",
    "\n",
    "Connaissez-vous une deuxième solution pour échapper l'apostrophe ?"
   ]
  },
  {
   "cell_type": "code",
   "execution_count": 1,
   "metadata": {},
   "outputs": [
    {
     "name": "stdout",
     "output_type": "stream",
     "text": [
      "l'instruction n'est pas difficile !\n"
     ]
    }
   ],
   "source": [
    "# 01.01.01. Écrire votre instruction ci-dessous\n",
    "print(\"l'instruction n'est pas difficile !\")"
   ]
  },
  {
   "cell_type": "code",
   "execution_count": 4,
   "metadata": {},
   "outputs": [
    {
     "name": "stdout",
     "output_type": "stream",
     "text": [
      "l'instruction n'est pas\n",
      "difficile !\n"
     ]
    }
   ],
   "source": [
    "print('l\\'instruction n\\'est pas\\ndifficile !') \n",
    "# avec un saut à la ligne en prime !"
   ]
  },
  {
   "attachments": {},
   "cell_type": "markdown",
   "metadata": {},
   "source": [
    "Écrire l'instruction suivant en calculant le résulat et en l'affichant avec deux chiffres après la virgule.\n",
    "\n",
    "« Le résultat de 10 / 3 est : … »\n",
    "\n",
    "Savez-vous faire la même chose en faisant une division entière ? Si on veut un résultat entier uniquement, existe-t'il une autre solution ?"
   ]
  },
  {
   "cell_type": "code",
   "execution_count": 13,
   "metadata": {},
   "outputs": [
    {
     "name": "stdout",
     "output_type": "stream",
     "text": [
      "le résultat de 10 / 3 est : 3.33\n"
     ]
    }
   ],
   "source": [
    "#01.01.02. Écrire votre instruction ci-dessous\n",
    "print(f\"le résultat de 10 / 3 est : {10/3:.2f}\")"
   ]
  },
  {
   "cell_type": "code",
   "execution_count": 14,
   "metadata": {},
   "outputs": [
    {
     "name": "stdout",
     "output_type": "stream",
     "text": [
      "Le résultat de 10 / 3 est : 3\n"
     ]
    }
   ],
   "source": [
    "print(f'Le résultat de 10 / 3 est : {10//3}') # division entière"
   ]
  },
  {
   "cell_type": "code",
   "execution_count": 21,
   "metadata": {},
   "outputs": [
    {
     "name": "stdout",
     "output_type": "stream",
     "text": [
      "Le résultat de 10 / 3 est : 3\n"
     ]
    }
   ],
   "source": [
    "print(f'Le résultat de 10 / 3 est : {10/3:.0f}') "
   ]
  },
  {
   "attachments": {},
   "cell_type": "markdown",
   "metadata": {},
   "source": [
    "## 01.02 Revoir les listes\n",
    "\n",
    "Déclarer une liste nommée contenant les 5 premiers entiers. Comment feriez-vous pour déclarer une liste contenant les 50 premiers entiers ? \n",
    "Imprimer la liste contenant les 5 premiers entiers."
   ]
  },
  {
   "cell_type": "code",
   "execution_count": 26,
   "metadata": {},
   "outputs": [
    {
     "name": "stdout",
     "output_type": "stream",
     "text": [
      "[1, 2, 3, 4, 5]\n"
     ]
    }
   ],
   "source": [
    "#01.02.01. Écrire vos instructions ci-dessous\n",
    "mes_5_premiers_entiers = [1, 2, 3, 4, 5]\n",
    "mes_50_premiers_entiers = range(1,50)\n",
    "print(mes_5_premiers_entiers)"
   ]
  },
  {
   "attachments": {},
   "cell_type": "markdown",
   "metadata": {},
   "source": [
    "Imprimer uniquement les puissances de 10 pour la liste des 50 premiers entiers."
   ]
  },
  {
   "cell_type": "code",
   "execution_count": 29,
   "metadata": {},
   "outputs": [
    {
     "name": "stdout",
     "output_type": "stream",
     "text": [
      "10\n",
      "20\n",
      "30\n",
      "40\n"
     ]
    }
   ],
   "source": [
    "for n in range(1,50):\n",
    "    if n // 10 == n / 10:\n",
    "        print(n)"
   ]
  },
  {
   "cell_type": "code",
   "execution_count": 1,
   "metadata": {},
   "outputs": [
    {
     "name": "stdout",
     "output_type": "stream",
     "text": [
      "10\n",
      "20\n",
      "30\n",
      "40\n"
     ]
    }
   ],
   "source": [
    "for n in range(1,50):\n",
    "    if n % 10 == 0:\n",
    "        print(n)"
   ]
  },
  {
   "attachments": {},
   "cell_type": "markdown",
   "metadata": {},
   "source": [
    "Écrire une liste contenant les 5 premiers carrés (entiers au carré). Savez-vous écrire ceci en une seule instruction ? Comment appelle-t-on cette méthode d'écriture ?"
   ]
  },
  {
   "cell_type": "code",
   "execution_count": 31,
   "metadata": {},
   "outputs": [
    {
     "name": "stdout",
     "output_type": "stream",
     "text": [
      "[1, 4, 9, 16]\n"
     ]
    }
   ],
   "source": [
    "#01.02.02. Écrire votre/vos instruction(s) ci-dessous\n",
    "res = [x*x for x in range(1,5)]\n",
    "print(res)"
   ]
  },
  {
   "attachments": {},
   "cell_type": "markdown",
   "metadata": {},
   "source": [
    "Utiliser vos connaissances sur les listes et les boucles pour imprimer la table de multiplication par 7 en utilisant des phrases du types :\n",
    "\n",
    "« 1 x 7 =  »\n",
    "\n",
    "chacune de ces opération occupant une ligne."
   ]
  },
  {
   "cell_type": "code",
   "execution_count": 39,
   "metadata": {},
   "outputs": [
    {
     "name": "stdout",
     "output_type": "stream",
     "text": [
      "1 x 7 = 7\n",
      "2 x 7 = 14\n",
      "3 x 7 = 21\n",
      "4 x 7 = 28\n",
      "5 x 7 = 35\n",
      "6 x 7 = 42\n"
     ]
    }
   ],
   "source": [
    "#01.02.03. Écrire vos instructions ci-dessous\n",
    "for i in range(1,7):\n",
    "    print(f'{i} x 7 = {i*7}')"
   ]
  },
  {
   "attachments": {},
   "cell_type": "markdown",
   "metadata": {},
   "source": [
    "J'ai utilisé les [f-string](https://docs.python.org/3/tutorial/inputoutput.html) qui veut dire les *fancy string*."
   ]
  },
  {
   "attachments": {},
   "cell_type": "markdown",
   "metadata": {},
   "source": [
    "Écrire une liste contenant les 50 premiers chiffres impaires."
   ]
  },
  {
   "cell_type": "code",
   "execution_count": 44,
   "metadata": {},
   "outputs": [
    {
     "name": "stdout",
     "output_type": "stream",
     "text": [
      "[1, 3, 5, 7, 9, 11, 13, 15, 17, 19, 21, 23, 25, 27, 29, 31, 33, 35, 37, 39, 41, 43, 45, 47, 49]\n"
     ]
    }
   ],
   "source": [
    "#01.02.04. Écrire votre instruction ci-dessous\n",
    "print([1+2*x for x in range(25)])"
   ]
  },
  {
   "attachments": {},
   "cell_type": "markdown",
   "metadata": {},
   "source": [
    "Écrire une liste des cinq premiers entier avec une phrase précisant s'il est pair ou impair.\n",
    "\n",
    "« Le chiffre 1 est impair »\n",
    "\n",
    "« Le chiffre 2 est pair »\n",
    "\n",
    "…"
   ]
  },
  {
   "cell_type": "code",
   "execution_count": 4,
   "metadata": {},
   "outputs": [
    {
     "name": "stdout",
     "output_type": "stream",
     "text": [
      "le chiffre 1 est impaire\n",
      "le chiffre 2 est paire\n",
      "le chiffre 3 est impaire\n",
      "le chiffre 4 est paire\n",
      "le chiffre 5 est impaire\n"
     ]
    }
   ],
   "source": [
    "#01.02.05. Écrire vos instructions ci-dessous\n",
    "for x in range(1,6):\n",
    "    if x // 2 == x/2:\n",
    "        print(f'le chiffre {x} est paire')\n",
    "    else:\n",
    "        print(f'le chiffre {x} est impaire')"
   ]
  },
  {
   "cell_type": "code",
   "execution_count": 5,
   "metadata": {},
   "outputs": [
    {
     "name": "stdout",
     "output_type": "stream",
     "text": [
      "le chiffre 1 est impaire\n",
      "le chiffre 2 est paire\n",
      "le chiffre 3 est impaire\n",
      "le chiffre 4 est paire\n",
      "le chiffre 5 est impaire\n"
     ]
    }
   ],
   "source": [
    "for x in range(1,6):\n",
    "    if x % 2 == 0:\n",
    "        print(f'le chiffre {x} est paire')\n",
    "    else:\n",
    "        print(f'le chiffre {x} est impaire')"
   ]
  },
  {
   "attachments": {},
   "cell_type": "markdown",
   "metadata": {},
   "source": [
    "Écrire une liste contenant les noms des 12 mois. Pouvez-vous écrire une fonction qui convertit une date donnée sous la forme `20/02/2023` en une chaîne de la forme `20 février 2023`. Utilisez les tranches de chaînes de caractère pour arriver à votre but. Tester la fonction.\n",
    "\n",
    "Si on accepte les entrées de la forme `20/2/2023', comment faudrait-il changer cette fonction ?"
   ]
  },
  {
   "cell_type": "code",
   "execution_count": 59,
   "metadata": {},
   "outputs": [
    {
     "data": {
      "text/plain": [
       "'20 février 2023'"
      ]
     },
     "execution_count": 59,
     "metadata": {},
     "output_type": "execute_result"
    }
   ],
   "source": [
    "mois = ['janvier', 'février', 'mars', 'avril', 'mai', 'juin', 'juillet', 'août', 'septembre', 'octobre', 'novembre', 'décembre']\n",
    "\n",
    "def convertit_date(date_chiffre):\n",
    "    day = date_chiffre[0:2]\n",
    "    month = date_chiffre[3:5]\n",
    "    month = mois[int(month) -1]\n",
    "    year = date_chiffre[6:]\n",
    "    return f'{day} {month} {year}'\n",
    "\n",
    "convertit_date('20/02/2023')"
   ]
  },
  {
   "attachments": {},
   "cell_type": "markdown",
   "metadata": {},
   "source": [
    "# 01.03 Les boucles\n",
    "\n",
    "Il y a trois méthodes pour écrire des boucles :\n",
    "- utiliser le mot clé `while`\n",
    "- utiliser une récurrence dans une liste\n",
    "- utiliser une fonction récursive\n",
    "\n",
    "Utiliser les trois méthodes pour écrire trois définitions possibles de la fonction renvoyant le factoriel de n (la multiplication des n premiers entrée). La tester sur 10!\n"
   ]
  },
  {
   "cell_type": "code",
   "execution_count": 1,
   "metadata": {},
   "outputs": [
    {
     "data": {
      "text/plain": [
       "3628800"
      ]
     },
     "execution_count": 1,
     "metadata": {},
     "output_type": "execute_result"
    }
   ],
   "source": [
    "# 01.03.01 factoriel utilisant while\n",
    "def factoriel1(n):\n",
    "    if not type(n) is int:\n",
    "        raise TypeError('n doit être un entier')\n",
    "    elif n <= 0:\n",
    "        raise Exception('n doit être strictement positif')\n",
    "    i = 1\n",
    "    res = 1\n",
    "    while i <= n:\n",
    "        res = res * i\n",
    "        i += 1\n",
    "    return res\n",
    "\n",
    "factoriel1(10)"
   ]
  },
  {
   "cell_type": "code",
   "execution_count": 3,
   "metadata": {},
   "outputs": [
    {
     "data": {
      "text/plain": [
       "3628800"
      ]
     },
     "execution_count": 3,
     "metadata": {},
     "output_type": "execute_result"
    }
   ],
   "source": [
    "# 01.03.02 factoriel utilisant une récurrence dans une liste\n",
    "def factoriel2(n):\n",
    "    if not type(n) is int:\n",
    "        raise TypeError('n doit être un entier')\n",
    "    elif n <= 0:\n",
    "        raise Exception('n doit être strictement positif')\n",
    "    res = 1\n",
    "    for i in range(1,n):\n",
    "        res = res * i\n",
    "    return res*n\n",
    "\n",
    "factoriel2(10)"
   ]
  },
  {
   "cell_type": "code",
   "execution_count": 2,
   "metadata": {},
   "outputs": [
    {
     "name": "stdout",
     "output_type": "stream",
     "text": [
      "3628800\n"
     ]
    }
   ],
   "source": [
    "# 01.03.03 factoriel utilisant une fonction récursive\n",
    "def factoriel(n):\n",
    "    if n == 0:\n",
    "        return 1\n",
    "    else:\n",
    "        return n*factoriel(n-1)\n",
    "    \n",
    "print(factoriel(10))"
   ]
  },
  {
   "cell_type": "markdown",
   "metadata": {},
   "source": [
    "On obtient une liste de 50 entiers tirés au hazard entre 1 et 100 avec les instructions suivantes."
   ]
  },
  {
   "cell_type": "code",
   "execution_count": 69,
   "metadata": {},
   "outputs": [
    {
     "name": "stdout",
     "output_type": "stream",
     "text": [
      "[38 13 73 10 76  6 80 65 17  2 77 72  7 26 51 21 19 85 12 29 30 15 51 69\n",
      " 88 88 95 97 87 14 10  8 64 62 23 58  2  1 61 82  9 89 14 48 73 31 72  4\n",
      " 71 22]\n"
     ]
    }
   ],
   "source": [
    "import numpy as np\n",
    "rng = np.random.RandomState(seed=1)\n",
    "hazard = rng.randint(1, 100, size = 50)\n",
    "print(hazard)"
   ]
  },
  {
   "attachments": {},
   "cell_type": "markdown",
   "metadata": {},
   "source": [
    "Écrire une boucle qui cherche si un chiffre donné (par exemple 48) est dans la liste.\n",
    "Pour aller plus vite, on utilisera la commande `break` qui permet d'interompre une boucle. \n",
    "Essayer la boucle avec un chiffre qui n'existe pas dans la liste (par exemple 49)."
   ]
  },
  {
   "cell_type": "code",
   "execution_count": 72,
   "metadata": {},
   "outputs": [
    {
     "name": "stdout",
     "output_type": "stream",
     "text": [
      "trouvé\n"
     ]
    }
   ],
   "source": [
    "# 01.03.04 factoriel utilisant une fonction récursive\n",
    "\n",
    "rech = 48\n",
    "\n",
    "for x in hazard:\n",
    "    if x == rech:\n",
    "        print('trouvé')\n",
    "        break"
   ]
  },
  {
   "cell_type": "markdown",
   "metadata": {},
   "source": [
    "Écrire les nombres de 1 à 10 en utilisant une phrase:\n",
    "\n",
    "« nombre : 1 »\n",
    "\n",
    "« nombre : 2 »\n",
    "\n",
    "…\n",
    "\n",
    "en excluant le nombre 5."
   ]
  },
  {
   "cell_type": "code",
   "execution_count": 4,
   "metadata": {},
   "outputs": [
    {
     "name": "stdout",
     "output_type": "stream",
     "text": [
      "nombre : 1\n",
      "nombre : 2\n",
      "nombre : 3\n",
      "nombre : 4\n",
      "nombre : 6\n",
      "nombre : 7\n",
      "nombre : 8\n",
      "nombre : 9\n"
     ]
    }
   ],
   "source": [
    "# 01.03.05\n",
    "for i in range(1,10):\n",
    "    if i == 5:\n",
    "        continue\n",
    "    else:\n",
    "        print(f'nombre : {i}')"
   ]
  },
  {
   "cell_type": "markdown",
   "metadata": {},
   "source": [
    "## 01.04 Revoir les dictionnaires"
   ]
  },
  {
   "cell_type": "markdown",
   "metadata": {},
   "source": [
    "Écrire un dictionnaire `personnage` contenant les données suivantes :\n",
    "- nom : Harry Potter\n",
    "- âge : 12\n",
    "- profession : sorcier\n",
    "\n",
    "Imprimer ce dictionnaire"
   ]
  },
  {
   "cell_type": "code",
   "execution_count": 9,
   "metadata": {},
   "outputs": [
    {
     "name": "stdout",
     "output_type": "stream",
     "text": [
      "{'nom': 'Harry Potter', 'âge': 12, 'profession': 'sorcier'}\n"
     ]
    }
   ],
   "source": [
    "# 01.04.01\n",
    "personnage = {\n",
    "    \"nom\": \"Harry Potter\",\n",
    "    \"âge\": 12,\n",
    "    \"profession\": \"sorcier\"\n",
    "}\n",
    "\n",
    "print(personnage)"
   ]
  },
  {
   "cell_type": "markdown",
   "metadata": {},
   "source": [
    "Afficher le nom du personnage que nous venons de créer."
   ]
  },
  {
   "cell_type": "code",
   "execution_count": 12,
   "metadata": {},
   "outputs": [
    {
     "name": "stdout",
     "output_type": "stream",
     "text": [
      "Harry Potter\n"
     ]
    }
   ],
   "source": [
    "# 01.04.02\n",
    "print(personnage['nom'])"
   ]
  },
  {
   "cell_type": "markdown",
   "metadata": {},
   "source": [
    "Ajouter l'information suivante à notre personnage:\n",
    "\n",
    "- niveau : débutant"
   ]
  },
  {
   "cell_type": "code",
   "execution_count": 13,
   "metadata": {},
   "outputs": [
    {
     "name": "stdout",
     "output_type": "stream",
     "text": [
      "{'nom': 'Harry Potter', 'âge': 12, 'profession': 'sorcier', 'niveau': 'débutant'}\n"
     ]
    }
   ],
   "source": [
    "# 01.04.03\n",
    "personnage[\"niveau\"] = \"débutant\"\n",
    "print(personnage)"
   ]
  },
  {
   "cell_type": "markdown",
   "metadata": {},
   "source": [
    "Inclure notre personnage dans une liste nommée `personnages` (avec un 's').\n",
    "\n",
    "Ajouter à cette liste le personnage\n",
    "- nom : Drago Malfoy\n",
    "- âge: 15\n",
    "- profession: boulanger\n",
    "\n",
    "Imprimer cette liste"
   ]
  },
  {
   "cell_type": "code",
   "execution_count": 15,
   "metadata": {},
   "outputs": [
    {
     "name": "stdout",
     "output_type": "stream",
     "text": [
      "{'nom': 'Harry Potter', 'âge': 12, 'profession': 'sorcier', 'niveau': 'débutant'}\n",
      "{'nom': 'Drago Malfoy', 'âge': 15, 'profession': 'boulanger'}\n"
     ]
    }
   ],
   "source": [
    "# 01.04.04\n",
    "personnages = [personnage]\n",
    "personnages.append({\n",
    "    \"nom\": \"Drago Malfoy\",\n",
    "    \"âge\": 15,\n",
    "    \"profession\": \"boulanger\"\n",
    "})\n",
    "\n",
    "for pers in personnages:\n",
    "    print(pers)"
   ]
  },
  {
   "cell_type": "markdown",
   "metadata": {},
   "source": [
    "Nous avons fait plein d'erreur avec ce second personnage. Redonner l'âge de 12 ans, profession sorcier.\n",
    "\n",
    "Afficher uniquement ce personnage pour vérifier vos entrées."
   ]
  },
  {
   "cell_type": "code",
   "execution_count": 16,
   "metadata": {},
   "outputs": [
    {
     "name": "stdout",
     "output_type": "stream",
     "text": [
      "{'nom': 'Drago Malfoy', 'âge': 12, 'profession': 'sorcier'}\n"
     ]
    }
   ],
   "source": [
    "# 01.04.05\n",
    "personnages[1][\"âge\"] = 12\n",
    "personnages[1][\"profession\"] = \"sorcier\"\n",
    "\n",
    "print(personnages[1])"
   ]
  },
  {
   "cell_type": "markdown",
   "metadata": {},
   "source": [
    "Afficher les types d'information (les clés) stockés dans le deuxième personnage et le premier personnage. Constatez qu'il manque l'information de niveau dans le deuxième personnage et l'ajouter."
   ]
  },
  {
   "cell_type": "code",
   "execution_count": 17,
   "metadata": {},
   "outputs": [
    {
     "name": "stdout",
     "output_type": "stream",
     "text": [
      "{'nom': 'Drago Malfoy', 'âge': 12, 'profession': 'sorcier', 'niveau': 'débutant'}\n"
     ]
    }
   ],
   "source": [
    "personnages[1][\"niveau\"] = \"débutant\"\n",
    "print(personnages[1])"
   ]
  }
 ],
 "metadata": {
  "kernelspec": {
   "display_name": ".venv",
   "language": "python",
   "name": "python3"
  },
  "language_info": {
   "codemirror_mode": {
    "name": "ipython",
    "version": 3
   },
   "file_extension": ".py",
   "mimetype": "text/x-python",
   "name": "python",
   "nbconvert_exporter": "python",
   "pygments_lexer": "ipython3",
   "version": "3.10.7"
  },
  "orig_nbformat": 4
 },
 "nbformat": 4,
 "nbformat_minor": 2
}
