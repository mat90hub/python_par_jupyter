{
 "cells": [
  {
   "attachments": {},
   "cell_type": "markdown",
   "metadata": {},
   "source": [
    "# Exercices pour apprendre les bases\n",
    "\n",
    "*Ce cahier rassemble des exercices pour vérifier votre apprentissage du langage Python*"
   ]
  },
  {
   "attachments": {},
   "cell_type": "markdown",
   "metadata": {},
   "source": [
    "# 01. Revoir les bases\n",
    "\n",
    "## 01.01 Revoir les chaînes de caractères\n",
    "\n",
    "Écrire une instruction qui renvoie la chaîne suivante en utilisant `print` (on dira imprimer par la suite, bien qu'il ne s'agisse que de renvoyer à l'écran et non à imprimer sur une imprimante):\n",
    "\n",
    "« L'instruction n'est pas si difficile ! »\n",
    "\n",
    "Connaissez-vous une deuxième solution pour échapper l'apostrophe ?"
   ]
  },
  {
   "cell_type": "code",
   "execution_count": null,
   "metadata": {},
   "outputs": [],
   "source": [
    "# 01.01.01. Écrire votre instruction ci-dessous\n"
   ]
  },
  {
   "attachments": {},
   "cell_type": "markdown",
   "metadata": {},
   "source": [
    "Écrire l'instruction suivant en calculant le résulat et en l'affichant avec deux chiffres après la virgule.\n",
    "\n",
    "« Le résultat de 10 / 3 est : … »\n",
    "\n",
    "Savez-vous faire la même chose en faisant une division entière ? Si on veut un résultat entier uniquement, existe-t'il une autre solution ?"
   ]
  },
  {
   "cell_type": "code",
   "execution_count": null,
   "metadata": {},
   "outputs": [],
   "source": [
    "#01.01.02. Écrire votre instruction ci-dessous\n"
   ]
  },
  {
   "attachments": {},
   "cell_type": "markdown",
   "metadata": {},
   "source": [
    "## 01.02 Revoir les listes\n",
    "\n",
    "Déclarer une liste nommée contenant les 5 premiers entiers. Comment feriez-vous pour déclarer une liste contenant les 50 premiers entiers ? \n",
    "Imprimer la liste contenant les 5 premiers entiers."
   ]
  },
  {
   "cell_type": "code",
   "execution_count": null,
   "metadata": {},
   "outputs": [],
   "source": [
    "#01.02.01. Écrire vos instructions ci-dessous\n",
    "mes_5_premiers_entiers = \n",
    "mes_50_premiers_entiers = "
   ]
  },
  {
   "attachments": {},
   "cell_type": "markdown",
   "metadata": {},
   "source": [
    "Écrire une liste contenant les 5 premiers carrés (entiers au carré). Savez-vous écrire ceci en une seule instruction ? Comment appelle-t-on cette méthode d'écriture ?"
   ]
  },
  {
   "cell_type": "code",
   "execution_count": null,
   "metadata": {},
   "outputs": [],
   "source": [
    "#01.02.02. Écrire votre/vos instruction(s) ci-dessous\n"
   ]
  },
  {
   "attachments": {},
   "cell_type": "markdown",
   "metadata": {},
   "source": [
    "Utiliser vos connaissances sur les listes et les boucles pour imprimer la table de multiplication par 7 en utilisant des phrases du types :\n",
    "\n",
    "« 1 x 7 =  »\n",
    "\n",
    "chacune de ces opération occupant une ligne."
   ]
  },
  {
   "cell_type": "code",
   "execution_count": null,
   "metadata": {},
   "outputs": [],
   "source": [
    "#01.02.03. Écrire vos instructions ci-dessous"
   ]
  },
  {
   "attachments": {},
   "cell_type": "markdown",
   "metadata": {},
   "source": [
    "Écrire une liste contenant les 50 premiers chiffres impaires."
   ]
  },
  {
   "cell_type": "code",
   "execution_count": null,
   "metadata": {},
   "outputs": [],
   "source": [
    "#01.02.04. Écrire votre instruction ci-dessous\n"
   ]
  },
  {
   "attachments": {},
   "cell_type": "markdown",
   "metadata": {},
   "source": [
    "Écrire une liste des cinq premiers entierq avec une phrase précisant s'il est pair ou impair.\n",
    "\n",
    "« Le chiffre 1 est impaire »\n",
    "\n",
    "« Le chiffre 2 est impaire »\n",
    "\n",
    "…"
   ]
  },
  {
   "cell_type": "code",
   "execution_count": null,
   "metadata": {},
   "outputs": [],
   "source": [
    "#01.02.05. Écrire vos instructions ci-dessous\n"
   ]
  },
  {
   "attachments": {},
   "cell_type": "markdown",
   "metadata": {},
   "source": [
    "Écrire une liste contenant les noms des 12 mois. Pouvez-vous écrire une fonction qui convertit une date donnée sous la forme `20/02/2023` en une chaîne de la forme `20 février 2023`. Utilisez les tranches de chaînes de caractère pour arriver à votre but. Tester la fonction.\n",
    "\n",
    "Si on accepte les entrées de la forme `20/2/2023', comment faudrait-il changer cette fonction ?"
   ]
  },
  {
   "cell_type": "code",
   "execution_count": null,
   "metadata": {},
   "outputs": [],
   "source": [
    "mois = …\n",
    "\n",
    "def convertit_date(date_chiffre)…"
   ]
  }
 ],
 "metadata": {
  "language_info": {
   "name": "python"
  },
  "orig_nbformat": 4
 },
 "nbformat": 4,
 "nbformat_minor": 2
}
