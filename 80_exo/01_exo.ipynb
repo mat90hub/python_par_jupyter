{
 "cells": [
  {
   "attachments": {},
   "cell_type": "markdown",
   "metadata": {},
   "source": [
    "# 01 Exercices pour réviser les bases\n",
    "\n",
    "*Ce cahier rassemble des exercices pour vérifier votre apprentissage du langage Python*\n",
    "\n",
    " : «   » … ’"
   ]
  },
  {
   "attachments": {},
   "cell_type": "markdown",
   "metadata": {},
   "source": [
    "## 01.01 Revoir les chaînes de caractères\n",
    "\n",
    "Écrire une instruction qui renvoie la chaîne suivante en utilisant `print` (on dira imprimer par la suite, bien qu'il ne s'agisse que de renvoyer à l'écran et non à imprimer sur une imprimante):\n",
    "\n",
    "« L'instruction n'est pas si difficile ! »\n",
    "\n",
    "Connaissez-vous une deuxième solution pour échapper l'apostrophe ?"
   ]
  },
  {
   "cell_type": "code",
   "execution_count": null,
   "metadata": {},
   "outputs": [],
   "source": [
    "# 01.01.01. Écrire votre instruction ci-dessous\n"
   ]
  },
  {
   "attachments": {},
   "cell_type": "markdown",
   "metadata": {},
   "source": [
    "Écrire l'instruction suivant en calculant le résulat et en l'affichant avec deux chiffres après la virgule.\n",
    "\n",
    "« Le résultat de 10 / 3 est : … »\n",
    "\n",
    "Savez-vous faire la même chose en faisant une division entière ? Si on veut un résultat entier uniquement, existe-t'il une autre solution ?"
   ]
  },
  {
   "cell_type": "code",
   "execution_count": null,
   "metadata": {},
   "outputs": [],
   "source": [
    "#01.01.02. Écrire votre instruction ci-dessous\n"
   ]
  },
  {
   "attachments": {},
   "cell_type": "markdown",
   "metadata": {},
   "source": [
    "## 01.02 Revoir les listes\n",
    "\n",
    "Déclarer une liste nommée contenant les 5 premiers entiers. Comment feriez-vous pour déclarer une liste contenant les 50 premiers entiers ? \n",
    "Imprimer la liste contenant les 5 premiers entiers."
   ]
  },
  {
   "cell_type": "code",
   "execution_count": null,
   "metadata": {},
   "outputs": [],
   "source": [
    "#01.02.01. Écrire vos instructions ci-dessous\n",
    "mes_5_premiers_entiers = \n",
    "mes_50_premiers_entiers = "
   ]
  },
  {
   "attachments": {},
   "cell_type": "markdown",
   "metadata": {},
   "source": [
    "Écrire une liste contenant les 5 premiers carrés (entiers au carré). Savez-vous écrire ceci en une seule instruction ? Comment appelle-t-on cette méthode d'écriture ?"
   ]
  },
  {
   "cell_type": "code",
   "execution_count": null,
   "metadata": {},
   "outputs": [],
   "source": [
    "#01.02.02. Écrire votre/vos instruction(s) ci-dessous\n"
   ]
  },
  {
   "attachments": {},
   "cell_type": "markdown",
   "metadata": {},
   "source": [
    "Utiliser vos connaissances sur les listes et les boucles pour imprimer la table de multiplication par 7 en utilisant des phrases du types :\n",
    "\n",
    "« 1 x 7 =  »\n",
    "\n",
    "chacune de ces opération occupant une ligne."
   ]
  },
  {
   "cell_type": "code",
   "execution_count": null,
   "metadata": {},
   "outputs": [],
   "source": [
    "#01.02.03. Écrire vos instructions ci-dessous"
   ]
  },
  {
   "attachments": {},
   "cell_type": "markdown",
   "metadata": {},
   "source": [
    "Écrire une liste contenant les 50 premiers chiffres impaires."
   ]
  },
  {
   "cell_type": "code",
   "execution_count": null,
   "metadata": {},
   "outputs": [],
   "source": [
    "#01.02.04. Écrire votre instruction ci-dessous\n"
   ]
  },
  {
   "attachments": {},
   "cell_type": "markdown",
   "metadata": {},
   "source": [
    "Écrire une liste des cinq premiers entier avec une phrase précisant s'il est pair ou impair.\n",
    "\n",
    "« Le chiffre 1 est impair »\n",
    "\n",
    "« Le chiffre 2 est pair »\n",
    "\n",
    "…"
   ]
  },
  {
   "cell_type": "code",
   "execution_count": null,
   "metadata": {},
   "outputs": [],
   "source": [
    "#01.02.05. Écrire vos instructions ci-dessous\n"
   ]
  },
  {
   "attachments": {},
   "cell_type": "markdown",
   "metadata": {},
   "source": [
    "Écrire une liste contenant les noms des 12 mois. Pouvez-vous écrire une fonction qui convertit une date donnée sous la forme `20/02/2023` en une chaîne de la forme `20 février 2023`. Utilisez les tranches de chaînes de caractère pour arriver à votre but. Tester la fonction.\n",
    "\n",
    "Si on accepte les entrées de la forme `20/2/2023', comment faudrait-il changer cette fonction ?"
   ]
  },
  {
   "cell_type": "code",
   "execution_count": null,
   "metadata": {},
   "outputs": [],
   "source": [
    "mois = …\n",
    "\n",
    "def convertit_date(date_chiffre)…"
   ]
  },
  {
   "attachments": {},
   "cell_type": "markdown",
   "metadata": {},
   "source": [
    "## 01.03 Les boucles\n",
    "\n",
    "Il y a trois méthodes pour écrire des boucles :\n",
    "- utiliser le mot clé `while`\n",
    "- utiliser une récurrence dans une liste\n",
    "- utiliser une fonction récursive\n",
    "\n",
    "Utiliser les trois méthodes pour écrire trois définitions possibles de la fonction renvoyant le factoriel de n (la multiplication des n premiers entrée). La tester sur 10!\n"
   ]
  },
  {
   "cell_type": "code",
   "execution_count": 1,
   "metadata": {},
   "outputs": [],
   "source": [
    "# 01.03.01 factoriel utilisant while\n"
   ]
  },
  {
   "cell_type": "code",
   "execution_count": 2,
   "metadata": {},
   "outputs": [],
   "source": [
    "# 01.03.02 factoriel utilisant une récurrence dans une liste\n"
   ]
  },
  {
   "cell_type": "code",
   "execution_count": 3,
   "metadata": {},
   "outputs": [],
   "source": [
    "# 01.03.03 factoriel utilisant une fonction récursive\n"
   ]
  },
  {
   "attachments": {},
   "cell_type": "markdown",
   "metadata": {},
   "source": [
    "On obtient une liste de 50 entiers tirés au hazard entre 1 et 100 avec les instructions suivantes."
   ]
  },
  {
   "cell_type": "code",
   "execution_count": 6,
   "metadata": {},
   "outputs": [
    {
     "name": "stdout",
     "output_type": "stream",
     "text": [
      "[38 13 73 10 76  6 80 65 17  2 77 72  7 26 51 21 19 85 12 29 30 15 51 69\n",
      " 88 88 95 97 87 14 10  8 64 62 23 58  2  1 61 82  9 89 14 48 73 31 72  4\n",
      " 71 22]\n"
     ]
    }
   ],
   "source": [
    "import numpy as np\n",
    "rng = np.random.RandomState(seed=1)\n",
    "hazard = rng.randint(1, 100, size = 50)\n",
    "print(hazard)"
   ]
  },
  {
   "attachments": {},
   "cell_type": "markdown",
   "metadata": {},
   "source": [
    "Écrire une boucle qui cherche si un chiffre donné (par exemple 48) est dans la liste.\n",
    "Pour aller plus vite, on utilisera la commande `break` qui permet d'interompre une boucle. Essayer la boucle avec un chiffre qui n'existe pas dans la liste (par exemple 49)."
   ]
  },
  {
   "cell_type": "code",
   "execution_count": 4,
   "metadata": {},
   "outputs": [],
   "source": [
    "# 01.03.04 "
   ]
  },
  {
   "attachments": {},
   "cell_type": "markdown",
   "metadata": {},
   "source": [
    "Écrire les nombres de 1 à 10 en utilisant une phrase:\n",
    "\n",
    "« nombre : 1 »\n",
    "\n",
    "« nombre : 2 »\n",
    "\n",
    "…\n",
    "\n",
    "en excluant le nombre 5."
   ]
  },
  {
   "cell_type": "code",
   "execution_count": 5,
   "metadata": {},
   "outputs": [],
   "source": [
    "# 01.03.05\n"
   ]
  },
  {
   "attachments": {},
   "cell_type": "markdown",
   "metadata": {},
   "source": [
    "## 01.04 Revoir les dictionnaires"
   ]
  },
  {
   "attachments": {},
   "cell_type": "markdown",
   "metadata": {},
   "source": [
    "Écrire un dictionnaire `personnage` contenant les données suivantes :\n",
    "- nom : Harry Potter\n",
    "- âge : 12\n",
    "- profession : sorcier\n",
    "\n",
    "Imprimer ce dictionnaire"
   ]
  },
  {
   "cell_type": "code",
   "execution_count": null,
   "metadata": {},
   "outputs": [],
   "source": [
    "# 01.04.01\n"
   ]
  },
  {
   "attachments": {},
   "cell_type": "markdown",
   "metadata": {},
   "source": [
    "Afficher le nom du personnage que nous venons de créer."
   ]
  },
  {
   "cell_type": "code",
   "execution_count": 6,
   "metadata": {},
   "outputs": [],
   "source": [
    "# 01.04.02"
   ]
  },
  {
   "attachments": {},
   "cell_type": "markdown",
   "metadata": {},
   "source": [
    "Ajouter l'information suivante à notre personnage:\n",
    "\n",
    "- niveau : débutant"
   ]
  },
  {
   "cell_type": "code",
   "execution_count": 7,
   "metadata": {},
   "outputs": [],
   "source": [
    "# 01.04.03\n"
   ]
  },
  {
   "attachments": {},
   "cell_type": "markdown",
   "metadata": {},
   "source": [
    "Inclure notre personnage dans une liste nommée `personnages` (avec un 's').\n",
    "\n",
    "Ajouter à cette liste le personnage\n",
    "- nom : Drago Malfoy\n",
    "- âge: 15\n",
    "- profession: boulanger\n",
    "\n",
    "Imprimer cette liste"
   ]
  },
  {
   "cell_type": "code",
   "execution_count": 8,
   "metadata": {},
   "outputs": [],
   "source": [
    "# 01.04.04\n"
   ]
  },
  {
   "attachments": {},
   "cell_type": "markdown",
   "metadata": {},
   "source": [
    "Nous avons fait plein d'erreur avec ce second personnage. Redonner l'âge de 12 ans, profession sorcier.\n",
    "\n",
    "Afficher uniquement ce personnage pour vérifier vos entrées."
   ]
  },
  {
   "cell_type": "code",
   "execution_count": null,
   "metadata": {},
   "outputs": [],
   "source": [
    "# 01.04.05"
   ]
  },
  {
   "attachments": {},
   "cell_type": "markdown",
   "metadata": {},
   "source": [
    "Afficher les types d'information (les clés) stockés dans le deuxième personnage et le premier personnage. Constatez qu'il manque l'information de niveau dans le deuxième personnage et l'ajouter."
   ]
  },
  {
   "cell_type": "markdown",
   "metadata": {},
   "source": []
  }
 ],
 "metadata": {
  "kernelspec": {
   "display_name": ".venv",
   "language": "python",
   "name": "python3"
  },
  "language_info": {
   "codemirror_mode": {
    "name": "ipython",
    "version": 3
   },
   "file_extension": ".py",
   "mimetype": "text/x-python",
   "name": "python",
   "nbconvert_exporter": "python",
   "pygments_lexer": "ipython3",
   "version": "3.10.7"
  },
  "orig_nbformat": 4
 },
 "nbformat": 4,
 "nbformat_minor": 2
}
