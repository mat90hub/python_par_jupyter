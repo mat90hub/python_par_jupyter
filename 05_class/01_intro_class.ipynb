{
 "cells": [
  {
   "attachments": {},
   "cell_type": "markdown",
   "metadata": {},
   "source": [
    "# Introduction aux classes sous Python"
   ]
  },
  {
   "attachments": {},
   "cell_type": "markdown",
   "metadata": {},
   "source": [
    "typographie française : #    «   » … ’"
   ]
  },
  {
   "attachments": {},
   "cell_type": "markdown",
   "metadata": {},
   "source": [
    "En Python, tout est objet. Mais nous allons voir ici comment créer nos propres objets. Les objets sont toujours créés à partir d'une classe d'objets, qui sont en quelque sorte les modèles. Quand on crée une variable objet à partir d’une classe donnée, on dit qu'on instancie un objet. \n",
    "\n",
    "Les objets contiennent à la fois des variables \"internes\" à l'objet et des méthodes. La définition d'un objet passe normalement par un constructeur, qui en Python s'appelle toujours `__init__` comme nous le voyons sous le modèle suivant."
   ]
  },
  {
   "cell_type": "code",
   "execution_count": 16,
   "metadata": {},
   "outputs": [
    {
     "name": "stdout",
     "output_type": "stream",
     "text": [
      "13:58:0\n"
     ]
    }
   ],
   "source": [
    "class Time(object):\n",
    "    \"Encore une nouvelle classe temporelle\"\n",
    "\n",
    "    def __init__(self, hh=12, mm=0, ss=0):\n",
    "        self.heure = hh\n",
    "        self.minute = mm\n",
    "        self.seconde = ss\n",
    "    \n",
    "    def affiche_heure(self):\n",
    "        print(\"{}:{}:{}\".format(self.heure, self.minute, self.seconde))\n",
    "\n",
    "tstart = Time(13,58)\n",
    "tstart.affiche_heure()"
   ]
  },
  {
   "attachments": {},
   "cell_type": "markdown",
   "metadata": {},
   "source": [
    "Je peux ajouter une méthode pour avancer l'heure. Je le fais ici après coup. Je commence par déclarer ma fonction (toujours avec `self`), puis je la déclare comme une méthode attachée à la classe `Time` définie plus haut."
   ]
  },
  {
   "cell_type": "code",
   "execution_count": 17,
   "metadata": {},
   "outputs": [
    {
     "name": "stdout",
     "output_type": "stream",
     "text": [
      "16:58:0\n"
     ]
    }
   ],
   "source": [
    "def avance_heure(self, delta_heure):\n",
    "    self.heure += delta_heure\n",
    "\n",
    "Time.avance_heure = avance_heure\n",
    "\n",
    "tstart.avance_heure(3)\n",
    "tstart.affiche_heure()"
   ]
  },
  {
   "attachments": {},
   "cell_type": "markdown",
   "metadata": {},
   "source": [
    "Voici maintenant un autre exemple, pour lequel on déclare le type des propriétés de l'objet en préliminaire."
   ]
  },
  {
   "cell_type": "code",
   "execution_count": 18,
   "metadata": {},
   "outputs": [
    {
     "data": {
      "text/plain": [
       "'Gerald'"
      ]
     },
     "execution_count": 18,
     "metadata": {},
     "output_type": "execute_result"
    }
   ],
   "source": [
    "class Person:\n",
    "    name: str\n",
    "    job: str\n",
    "    age: int\n",
    "\n",
    "    def __init__(self, name, job, age):\n",
    "        self.name = name\n",
    "        self.job = job\n",
    "        self.age = age\n",
    "\n",
    "person1= Person(\"Gerald\", \"Witcher\", 30)\n",
    "\n",
    "person1.name"
   ]
  },
  {
   "attachments": {},
   "cell_type": "markdown",
   "metadata": {},
   "source": [
    "Magré que les tuples aient été déclarés en avance, il n'y a pas de vérification d'erreur par défaut. Il faudrrait les inclure dans le constructeur."
   ]
  },
  {
   "cell_type": "code",
   "execution_count": 19,
   "metadata": {},
   "outputs": [
    {
     "data": {
      "text/plain": [
       "30"
      ]
     },
     "execution_count": 19,
     "metadata": {},
     "output_type": "execute_result"
    }
   ],
   "source": [
    "person2 = Person(\"Norbert\", \"Legrand\", \"10ans\")\n",
    "person1.age"
   ]
  },
  {
   "cell_type": "code",
   "execution_count": 20,
   "metadata": {},
   "outputs": [
    {
     "name": "stdout",
     "output_type": "stream",
     "text": [
      "mauvaise entrée\n"
     ]
    }
   ],
   "source": [
    "class Person:\n",
    "    name: str\n",
    "    job: str\n",
    "    age: int\n",
    "\n",
    "    def __init__(self, name, job, age):\n",
    "        self.name = name\n",
    "        self.job = job\n",
    "        if isinstance(age, int):\n",
    "            self.age = age\n",
    "        else:\n",
    "            raise TypeError(\"l'âge doit être un entier\")\n",
    "        \n",
    "\n",
    "try:\n",
    "    person2 = Person(\"Norbert\", \"Legrand\", \"10ans\")\n",
    "except TypeError:\n",
    "    print(\"mauvaise entrée\")"
   ]
  },
  {
   "attachments": {},
   "cell_type": "markdown",
   "metadata": {},
   "source": [
    "## Les différentes portées des variables"
   ]
  },
  {
   "attachments": {},
   "cell_type": "markdown",
   "metadata": {},
   "source": [
    "Dans l'exemple suivant la variable `aa` dans différents contextes."
   ]
  },
  {
   "cell_type": "code",
   "execution_count": 21,
   "metadata": {},
   "outputs": [
    {
     "name": "stdout",
     "output_type": "stream",
     "text": [
      "12 33 67\n"
     ]
    }
   ],
   "source": [
    "class Espaces(object):\n",
    "    aa = 33              # déclaration dans l'espace de nom de la classe\n",
    "    def affiche(self):\n",
    "        print(aa, Espaces.aa, self.aa)\n",
    "\n",
    "\n",
    "aa = 12                   # déclaration dans l'espace de nom global\n",
    "\n",
    "essai = Espaces()\n",
    "essai.aa = 67             # déclaration dans l'espace de l'instance\n",
    "\n",
    "essai.affiche()"
   ]
  },
  {
   "cell_type": "code",
   "execution_count": 22,
   "metadata": {},
   "outputs": [
    {
     "name": "stdout",
     "output_type": "stream",
     "text": [
      "12 33 67\n"
     ]
    }
   ],
   "source": [
    "print(aa, Espaces.aa, essai.aa)"
   ]
  },
  {
   "attachments": {},
   "cell_type": "markdown",
   "metadata": {},
   "source": [
    "## L'héritage"
   ]
  },
  {
   "attachments": {},
   "cell_type": "markdown",
   "metadata": {},
   "source": [
    "Les objets peuvent s'hériter."
   ]
  },
  {
   "cell_type": "code",
   "execution_count": 3,
   "metadata": {},
   "outputs": [
    {
     "name": "stdout",
     "output_type": "stream",
     "text": [
      "il allaite ses petits ; il se nourrit de la chair de ses proies ; son cri s'appelle aboiement ;\n"
     ]
    }
   ],
   "source": [
    "class Mammifere(object):\n",
    "    caract1 = \"il allaite ses petits ;\"\n",
    "\n",
    "class Carnivore(Mammifere):\n",
    "    caract2 = \"il se nourrit de la chair de ses proies ;\"\n",
    "\n",
    "class Chien(Carnivore):\n",
    "    caract3 = \"son cri s'appelle aboiement ;\"\n",
    "\n",
    "mirza = Chien()\n",
    "print(mirza.caract1, mirza.caract2, mirza.caract3)"
   ]
  },
  {
   "attachments": {},
   "cell_type": "markdown",
   "metadata": {},
   "source": [
    "## Accéder à la classe parent\n",
    "\n",
    "Parfois il peut êter utile d'accéder à la classe parent. C'est par exemple utile quand on définit ses propres interruptions, qui sont donc des descendants de la classe `BaseException` ou `ValueError`, qui est la plus commune.\n",
    "\n",
    "Voici un exemple de la définition d'une erreur que nous créons plus tard dans un morceau de code, pour être levé quand on essaie de donner plus de vacances à employé que ce qu'il a dans son compteur. "
   ]
  },
  {
   "cell_type": "code",
   "execution_count": null,
   "metadata": {},
   "outputs": [],
   "source": [
    "class VacationDayShortage(ValueError):\n",
    "    \"\"\"Custom error raised when not enough vacation left\"\"\"\n",
    "    def __init__(self, requested_days:int, remaining_days:int, message: str) -> str:\n",
    "        self.requested_days = requested_days\n",
    "        self.remaining_days = remaining_days\n",
    "        self.message = message\n",
    "        super().__init__(message)"
   ]
  },
  {
   "attachments": {},
   "cell_type": "markdown",
   "metadata": {},
   "source": [
    "L'utilisation de la commande `super()` permet ici d'accéder au constructeur de la classe parent sans avoir à la ré-écrire. Cet exemple est réutilisé plus bas."
   ]
  },
  {
   "attachments": {},
   "cell_type": "markdown",
   "metadata": {},
   "source": [
    "# Les collections\n",
    "\n",
    "Les collections sont des listes d'objets de la même classe."
   ]
  },
  {
   "cell_type": "code",
   "execution_count": 25,
   "metadata": {},
   "outputs": [
    {
     "name": "stdout",
     "output_type": "stream",
     "text": [
      "Gerald, 30\n",
      "Jennifer, 25\n",
      "Jennifer, 25\n"
     ]
    }
   ],
   "source": [
    "person1= Person(\"Gerald\", \"Witcher\", 30)\n",
    "person2 = Person(\"Jennifer\", \"Sorceress\", 25)\n",
    "person3 = Person(\"Jennifer\", \"Sorceress\", 25)\n",
    "\n",
    "foules = [item for item in (person1, person2, person3)]\n",
    "\n",
    "for f in foules:\n",
    "    print(f\"{f.name}, {f.age:d}\")"
   ]
  },
  {
   "attachments": {},
   "cell_type": "markdown",
   "metadata": {},
   "source": [
    "Il existe aussi une extension [collections](https://docs.python.org/3/library/collections.html) qui propose des collections standards."
   ]
  },
  {
   "attachments": {},
   "cell_type": "markdown",
   "metadata": {},
   "source": [
    "# Les méthodes de classes et les méthodes statiques\n",
    "\n",
    "Parfois une méthode ne s'applique pas à l'objet, mais à la classe d'objet toute entière. Voici un [exemple](https://stackoverflow.com/questions/54264073/what-is-the-use-and-when-to-use-classmethod-in-python) que je traduis ci-dessous.\n"
   ]
  },
  {
   "cell_type": "code",
   "execution_count": 10,
   "metadata": {},
   "outputs": [],
   "source": [
    "from datetime import date\n",
    "\n",
    "class Person():\n",
    "    species='homo_sapiens' # variable de classe\n",
    "    def __init__(self, name, age):\n",
    "        self.name = name   # variable d'isinstance\n",
    "        self.age = age\n",
    "\n",
    "    def show(self):\n",
    "        print('Name: {}, age: {}.'.format(self.name, self.age))\n",
    "    \n",
    "    @classmethod\n",
    "    def create_with_birth_year(cls,name, birth_year):\n",
    "        return cls(name, date.today().year - birth_year)\n",
    "    \n",
    "    @classmethod\n",
    "    def print_species(cls):\n",
    "        print('species: {}'.format(cls.species))\n",
    "    \n",
    "    @staticmethod\n",
    "    def get_birth_year(age):\n",
    "        return date.today().year - age\n",
    "    \n",
    "class Teacher(Person):\n",
    "    pass\n"
   ]
  },
  {
   "attachments": {},
   "cell_type": "markdown",
   "metadata": {},
   "source": [
    "Une méthode d'instance comme `show` a besoin d'une instance et son premier paramètre doit être `self`. Elle accède à l'instance à travers l'objet `self` et peut influencer l'état de l'instance.\n",
    "\n",
    "Une méthode de classe comme `create_with_birth_year` ou `print_species` n'a pas besoin d'une instance et elle utilise l'objet `cls` pour accéder à la classe et influencer l'état de la classe. On utilise `@classmethod` pour la construire.\n",
    "\n",
    "Voici un exemple."
   ]
  },
  {
   "cell_type": "code",
   "execution_count": 11,
   "metadata": {},
   "outputs": [
    {
     "name": "stdout",
     "output_type": "stream",
     "text": [
      "Name: Navy Cheng, age: 34.\n"
     ]
    }
   ],
   "source": [
    "navy = Person.create_with_birth_year('Navy Cheng', 1989)\n",
    "navy.show()"
   ]
  },
  {
   "attachments": {},
   "cell_type": "markdown",
   "metadata": {},
   "source": [
    "On a pu crée une nouvelle instance avec la méthode de classe `create_with_birth_year` car une méthode de classe ne nécessite pas que l'instance pré-existe pour être appelée. Ce n'est pas le cas de la méthode d'instance `show` qui nécessite bien sûr que l'instance existe pour être appelée.\n",
    "\n",
    "Cette méthode de classe avec cette méthode de construction d'un objet peut être héritée comme le montre l'exemple qui suit."
   ]
  },
  {
   "cell_type": "code",
   "execution_count": 13,
   "metadata": {},
   "outputs": [
    {
     "name": "stdout",
     "output_type": "stream",
     "text": [
      "<class '__main__.Teacher'>\n",
      "Name: zhang, age: 43.\n"
     ]
    }
   ],
   "source": [
    "zhang = Teacher.create_with_birth_year('zhang', 1980)\n",
    "print(type(zhang))\n",
    "zhang.show()"
   ]
  },
  {
   "attachments": {},
   "cell_type": "markdown",
   "metadata": {},
   "source": [
    "Les méthodes de classe peuvent être utilisées pour accéder aux variables de classe."
   ]
  },
  {
   "cell_type": "code",
   "execution_count": 14,
   "metadata": {},
   "outputs": [
    {
     "name": "stdout",
     "output_type": "stream",
     "text": [
      "species: homo_sapiens\n"
     ]
    }
   ],
   "source": [
    "Person.print_species()"
   ]
  },
  {
   "attachments": {},
   "cell_type": "markdown",
   "metadata": {},
   "source": [
    "Une méthode statique comme `get_birth_year` n'a pas besoin des paramètres spéciaux `self` ou `cls` et elle changera l'état d'une classe ou d'une instance. Elle peut typiquement servir à donner des fonctions d'aide sur une classe."
   ]
  },
  {
   "cell_type": "code",
   "execution_count": 16,
   "metadata": {},
   "outputs": [
    {
     "data": {
      "text/plain": [
       "1963"
      ]
     },
     "execution_count": 16,
     "metadata": {},
     "output_type": "execute_result"
    }
   ],
   "source": [
    "Person.get_birth_year(60)"
   ]
  },
  {
   "attachments": {},
   "cell_type": "markdown",
   "metadata": {},
   "source": [
    "Une méthode statique se comporte donc comme une fonction habituelle, sauf qu'elle est appelée à partir d'une classe ou d'une instance."
   ]
  },
  {
   "cell_type": "code",
   "execution_count": 17,
   "metadata": {},
   "outputs": [
    {
     "data": {
      "text/plain": [
       "1980"
      ]
     },
     "execution_count": 17,
     "metadata": {},
     "output_type": "execute_result"
    }
   ],
   "source": [
    "zhang.get_birth_year(zhang.age)"
   ]
  },
  {
   "attachments": {},
   "cell_type": "markdown",
   "metadata": {},
   "source": [
    "# Les méthodes dites abstraites.\n",
    "\n",
    "On peut vouloir créer une classe racine qui permet de décliner ensuite plusieurs enfants. Dans la classe racine, il peut être utile de déclarer une méthode qui sera présente dans tous les descendants, mais qu'on ne peut pas déclarer dans la classe racine.\n",
    "\n",
    "Voici un exemple de classe d'employés dont certains ont un salaire mensuel et d'autres sont payés à l'heure. Tous les employés seront payés et on a donc toujours une méthode `pay`, mais son contenu ne peut être défini que dans les descendants (voir la vidéo de [ArjanCodes](https://www.youtube.com/watch?v=LrtnLEkOwFE)).\n",
    "\n",
    "Le classes abstraites sont définies dans le module [abc](https://docs.python.org/3/library/abc.html)."
   ]
  },
  {
   "cell_type": "code",
   "execution_count": 1,
   "metadata": {},
   "outputs": [
    {
     "name": "stdout",
     "output_type": "stream",
     "text": [
      "['Gus', 'Nova']\n",
      "Paying employee Gus a monthly salary of 3000€\n",
      "Louis is taking 10 days of holiday, remaining 15 days in counter.\n"
     ]
    },
    {
     "ename": "VacationDayShortage",
     "evalue": "Louis hasn't any holiday left!",
     "output_type": "error",
     "traceback": [
      "\u001b[0;31m---------------------------------------------------------------------------\u001b[0m",
      "\u001b[0;31mVacationDayShortage\u001b[0m                       Traceback (most recent call last)",
      "Cell \u001b[0;32mIn[1], line 108\u001b[0m\n\u001b[1;32m    105\u001b[0m company\u001b[39m.\u001b[39mpay_employee(company\u001b[39m.\u001b[39memployees[\u001b[39m1\u001b[39m])\n\u001b[1;32m    107\u001b[0m company\u001b[39m.\u001b[39memployees[\u001b[39m0\u001b[39m]\u001b[39m.\u001b[39mtake_holidays(\u001b[39m10\u001b[39m)\n\u001b[0;32m--> 108\u001b[0m company\u001b[39m.\u001b[39;49memployees[\u001b[39m0\u001b[39;49m]\u001b[39m.\u001b[39;49mtake_holidays(\u001b[39m20\u001b[39;49m)\n",
      "Cell \u001b[0;32mIn[1], line 39\u001b[0m, in \u001b[0;36mEmployee.take_holidays\u001b[0;34m(self, days)\u001b[0m\n\u001b[1;32m     37\u001b[0m \u001b[39m\u001b[39m\u001b[39m\"\"\"Let the employee take holiday\"\"\"\u001b[39;00m\n\u001b[1;32m     38\u001b[0m \u001b[39mif\u001b[39;00m days \u001b[39m>\u001b[39m \u001b[39mself\u001b[39m\u001b[39m.\u001b[39mvacation_days:\n\u001b[0;32m---> 39\u001b[0m     \u001b[39mraise\u001b[39;00m VacationDayShortage(\n\u001b[1;32m     40\u001b[0m         remaining_days\u001b[39m=\u001b[39m\u001b[39mself\u001b[39m\u001b[39m.\u001b[39mvacation_days,\n\u001b[1;32m     41\u001b[0m         requested_days\u001b[39m=\u001b[39mdays,\n\u001b[1;32m     42\u001b[0m         message\u001b[39m=\u001b[39m\u001b[39mf\u001b[39m\u001b[39m\"\u001b[39m\u001b[39m{\u001b[39;00m\u001b[39mself\u001b[39m\u001b[39m.\u001b[39mname\u001b[39m}\u001b[39;00m\u001b[39m hasn\u001b[39m\u001b[39m'\u001b[39m\u001b[39mt any holiday left!\u001b[39m\u001b[39m\"\u001b[39m\n\u001b[1;32m     43\u001b[0m     )\n\u001b[1;32m     44\u001b[0m \u001b[39melse\u001b[39;00m:\n\u001b[1;32m     45\u001b[0m     \u001b[39mself\u001b[39m\u001b[39m.\u001b[39mvacation_days \u001b[39m-\u001b[39m\u001b[39m=\u001b[39m days\n",
      "\u001b[0;31mVacationDayShortage\u001b[0m: Louis hasn't any holiday left!"
     ]
    }
   ],
   "source": [
    "from abc import ABC, abstractmethod\n",
    "\n",
    "from dataclasses import dataclass\n",
    "from typing import List\n",
    "from enum import Enum, auto\n",
    "\n",
    "FIXED_VACATION_DAYS_PAYOUT = 5\n",
    "\n",
    "class VacationDayShortage(Warning):\n",
    "    \"\"\"Custom error raised when not enough vacation left\"\"\"\n",
    "    def __init__(self, requested_days:int, remaining_days:int, message: str) -> str:\n",
    "        self.requested_days = requested_days\n",
    "        self.remaining_days = remaining_days\n",
    "        self.message = message\n",
    "        super().__init__(message)\n",
    "\n",
    "class Role(Enum):\n",
    "    \"\"\"Employee roles\"\"\"\n",
    "    PRESIDENT = auto()\n",
    "    VICE_PRESIDENT = auto()\n",
    "    MANAGER = auto()\n",
    "    PROGRAMMER = auto()\n",
    "    WORKER = auto()\n",
    "\n",
    "@dataclass\n",
    "class Employee(ABC):\n",
    "    \"\"\"Basic representation of an employee at the company\"\"\"\n",
    "    name: str\n",
    "    role: Role\n",
    "    vacation_days: int = 25\n",
    "\n",
    "    def __init__(self, name: str, role:Role, vacation_days:int=25) -> None:\n",
    "        self.name = name\n",
    "        self.role = role\n",
    "\n",
    "    def take_holidays(self, days: int=1) -> None:\n",
    "        \"\"\"Let the employee take holiday\"\"\"\n",
    "        if days > self.vacation_days:\n",
    "            raise VacationDayShortage(\n",
    "                remaining_days=self.vacation_days,\n",
    "                requested_days=days,\n",
    "                message=f\"{self.name} hasn't any holiday left!\"\n",
    "            )\n",
    "        else:\n",
    "            self.vacation_days -= days\n",
    "            print(\n",
    "                f\"{self.name} is taking {days} days of holiday, remaining {self.vacation_days} days in counter.\"                \n",
    "            )\n",
    "\n",
    "    @abstractmethod\n",
    "    def pay(self) -> None:\n",
    "        \"\"\"Pay an employee\"\"\"\n",
    "\n",
    "class SalariedEmployee(Employee):\n",
    "\n",
    "    monthly_salary_euros: int = 3000\n",
    "\n",
    "    def pay(self) -> None:\n",
    "        \"\"\"Pay an employee\"\"\"\n",
    "        print(\n",
    "            f\"Paying employee {self.name} a monthly salary of {self.monthly_salary_euros}€\"\n",
    "        )\n",
    "\n",
    "class HourlyEmployee(Employee):\n",
    "\n",
    "    hourly_rate_euros: int = 20\n",
    "    hours_worked: int = 0\n",
    "\n",
    "    def pay(self) -> None:\n",
    "        \"\"\"Pay an employee\"\"\"\n",
    "        print(\n",
    "            f\"Paying employee {self.name} {self.hourly_rate_euros * self.hours_worked}€\"\n",
    "        )\n",
    "\n",
    "\n",
    "class Company:\n",
    "    \"\"\"Represent a company with employees\"\"\"\n",
    "\n",
    "    def __init__(self) -> None:\n",
    "        self.employees: List[Employee] = []\n",
    "\n",
    "    def add_employee(self, employee: Employee) -> None:\n",
    "        \"\"\"Add an employee to the list of employees.\"\"\"\n",
    "        self.employees.append(employee)\n",
    "\n",
    "    def find_employee(self, role:Role) -> List[Employee]:\n",
    "        \"\"\"Find all employee for a given role.\"\"\"\n",
    "        return [employee for employee in self.employees if employee.role is role]\n",
    "\n",
    "    def pay_employee(self, employee:Employee) ->None:\n",
    "        \"\"\"Pay an employee\"\"\"\n",
    "        return employee.pay()\n",
    "\n",
    "\n",
    "company = Company()\n",
    "company.add_employee(SalariedEmployee(name=\"Louis\", role=Role.MANAGER))\n",
    "company.add_employee(SalariedEmployee(name=\"Gus\", role=Role.WORKER))\n",
    "company.add_employee(SalariedEmployee(name=\"Nova\", role=Role.WORKER))\n",
    "\n",
    "trouve = []\n",
    "for employee in company.find_employee(role=Role.WORKER):\n",
    "    trouve.append(employee.name)\n",
    "print(trouve)\n",
    "\n",
    "company.pay_employee(company.employees[1])\n",
    "\n",
    "company.employees[0].take_holidays(10)\n",
    "company.employees[0].take_holidays(20)\n"
   ]
  },
  {
   "cell_type": "code",
   "execution_count": null,
   "metadata": {},
   "outputs": [],
   "source": []
  }
 ],
 "metadata": {
  "kernelspec": {
   "display_name": ".venv",
   "language": "python",
   "name": "python3"
  },
  "language_info": {
   "codemirror_mode": {
    "name": "ipython",
    "version": 3
   },
   "file_extension": ".py",
   "mimetype": "text/x-python",
   "name": "python",
   "nbconvert_exporter": "python",
   "pygments_lexer": "ipython3",
   "version": "3.10.7"
  },
  "orig_nbformat": 4,
  "vscode": {
   "interpreter": {
    "hash": "f2aec3b84089aa708d4850c58218314a12e464c7021fc707cb33bd662b6900e2"
   }
  }
 },
 "nbformat": 4,
 "nbformat_minor": 2
}
