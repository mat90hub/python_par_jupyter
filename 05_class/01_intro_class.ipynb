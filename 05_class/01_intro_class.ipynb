{
 "cells": [
  {
   "attachments": {},
   "cell_type": "markdown",
   "metadata": {},
   "source": [
    "# Introduction aux classes sous Python"
   ]
  },
  {
   "attachments": {},
   "cell_type": "markdown",
   "metadata": {},
   "source": [
    "typographie française : #    «   » … ’"
   ]
  },
  {
   "attachments": {},
   "cell_type": "markdown",
   "metadata": {},
   "source": [
    "En Python, tout est objet. Mais nous allons voir ici comment créer nos propres objets. Les objets sont toujours créés à partir d'une classe d'objets, qui sont en quelque sorte les modèles. Quand on crée une variable objet à partir d’une classe donnée, on dit qu'on instancie un objet. \n",
    "\n",
    "Les objets contiennent à la fois des variables \"internes\" à l'objet et des méthodes. La définition d'un objet passe normalement par un constructeur, qui en Python s'appelle toujours `__init__` comme nous le voyons sous le modèle suivant."
   ]
  },
  {
   "cell_type": "code",
   "execution_count": 1,
   "metadata": {},
   "outputs": [
    {
     "name": "stdout",
     "output_type": "stream",
     "text": [
      "13:58:0\n"
     ]
    }
   ],
   "source": [
    "class Time(object):\n",
    "    \"Encore une nouvelle classe temporelle\"\n",
    "\n",
    "    def __init__(self, hh=12, mm=0, ss=0):\n",
    "        self.heure = hh\n",
    "        self.minute = mm\n",
    "        self.seconde = ss\n",
    "    \n",
    "    def affiche_heure(self):\n",
    "        print(\"{}:{}:{}\".format(self.heure, self.minute, self.seconde))\n",
    "\n",
    "tstart = Time(13,58)\n",
    "tstart.affiche_heure()"
   ]
  },
  {
   "attachments": {},
   "cell_type": "markdown",
   "metadata": {},
   "source": [
    "Je peux ajouter une méthode pour avancer l'heure. Je le fais ici après coup. Je commence par déclarer ma fonction (toujours avec `self`), puis je la déclare comme une méthode attachée à la classe `Time` définie plus haut."
   ]
  },
  {
   "cell_type": "code",
   "execution_count": 2,
   "metadata": {},
   "outputs": [
    {
     "name": "stdout",
     "output_type": "stream",
     "text": [
      "16:58:0\n"
     ]
    }
   ],
   "source": [
    "def avance_heure(self, delta_heure):\n",
    "    self.heure += delta_heure\n",
    "\n",
    "Time.avance_heure = avance_heure\n",
    "\n",
    "tstart.avance_heure(3)\n",
    "tstart.affiche_heure()"
   ]
  },
  {
   "attachments": {},
   "cell_type": "markdown",
   "metadata": {},
   "source": [
    "Voici maintenant un autre exemple, pour lequel on déclare le type des propriétés de l'objet en préliminaire."
   ]
  },
  {
   "cell_type": "code",
   "execution_count": 16,
   "metadata": {},
   "outputs": [
    {
     "data": {
      "text/plain": [
       "'Gerald'"
      ]
     },
     "execution_count": 16,
     "metadata": {},
     "output_type": "execute_result"
    }
   ],
   "source": [
    "class Person:\n",
    "    name: str\n",
    "    job: str\n",
    "    age: int\n",
    "\n",
    "    def __init__(self, name, job, age):\n",
    "        self.name = name\n",
    "        self.job = job\n",
    "        self.age = age\n",
    "\n",
    "person1= Person(\"Gerald\", \"Witcher\", 30)\n",
    "\n",
    "person1.name"
   ]
  },
  {
   "attachments": {},
   "cell_type": "markdown",
   "metadata": {},
   "source": [
    "Magré que les tuples aient été déclarés en avance, il n'y a pas de vérification d'erreur par défaut. Il faudrrait les inclure dans le constructeur."
   ]
  },
  {
   "cell_type": "code",
   "execution_count": 9,
   "metadata": {},
   "outputs": [
    {
     "data": {
      "text/plain": [
       "'10ans'"
      ]
     },
     "execution_count": 9,
     "metadata": {},
     "output_type": "execute_result"
    }
   ],
   "source": [
    "person2 = Person(\"Norbert\", \"Legrand\", \"10ans\")\n",
    "person1.age"
   ]
  },
  {
   "cell_type": "code",
   "execution_count": 14,
   "metadata": {},
   "outputs": [
    {
     "name": "stdout",
     "output_type": "stream",
     "text": [
      "mauvaise entrée\n"
     ]
    }
   ],
   "source": [
    "class Person:\n",
    "    name: str\n",
    "    job: str\n",
    "    age: int\n",
    "\n",
    "    def __init__(self, name, job, age):\n",
    "        self.name = name\n",
    "        self.job = job\n",
    "        if isinstance(age, int):\n",
    "            self.age = age\n",
    "        else:\n",
    "            raise TypeError(\"l'âge doit être un entier\")\n",
    "        \n",
    "\n",
    "try:\n",
    "    person2 = Person(\"Norbert\", \"Legrand\", \"10ans\")\n",
    "except TypeError:\n",
    "    print(\"mauvaise entrée\")"
   ]
  },
  {
   "attachments": {},
   "cell_type": "markdown",
   "metadata": {},
   "source": [
    "## Les différentes portées des variables"
   ]
  },
  {
   "attachments": {},
   "cell_type": "markdown",
   "metadata": {},
   "source": [
    "Dans l'exemple suivant la variable `aa` dans différents contextes."
   ]
  },
  {
   "cell_type": "code",
   "execution_count": 1,
   "metadata": {},
   "outputs": [
    {
     "name": "stdout",
     "output_type": "stream",
     "text": [
      "12 33 67\n"
     ]
    }
   ],
   "source": [
    "class Espaces(object):\n",
    "    aa = 33              # déclaration dans l'espace de nom de la classe\n",
    "    def affiche(self):\n",
    "        print(aa, Espaces.aa, self.aa)\n",
    "\n",
    "\n",
    "aa = 12                   # déclaration dans l'espace de nom global\n",
    "\n",
    "essai = Espaces()\n",
    "essai.aa = 67             # déclaration dans l'espace de l'instance\n",
    "\n",
    "essai.affiche()"
   ]
  },
  {
   "cell_type": "code",
   "execution_count": 2,
   "metadata": {},
   "outputs": [
    {
     "name": "stdout",
     "output_type": "stream",
     "text": [
      "12 33 67\n"
     ]
    }
   ],
   "source": [
    "print(aa, Espaces.aa, essai.aa)"
   ]
  },
  {
   "attachments": {},
   "cell_type": "markdown",
   "metadata": {},
   "source": [
    "## L'héritage"
   ]
  },
  {
   "attachments": {},
   "cell_type": "markdown",
   "metadata": {},
   "source": [
    "Les objets peuvent s'hériter."
   ]
  },
  {
   "cell_type": "code",
   "execution_count": 3,
   "metadata": {},
   "outputs": [
    {
     "name": "stdout",
     "output_type": "stream",
     "text": [
      "il allaite ses petits ; il se nourrit de la chair de ses proies ; son cri s'appelle aboiement ;\n"
     ]
    }
   ],
   "source": [
    "class Mammifere(object):\n",
    "    caract1 = \"il allaite ses petits ;\"\n",
    "\n",
    "class Carnivore(Mammifere):\n",
    "    caract2 = \"il se nourrit de la chair de ses proies ;\"\n",
    "\n",
    "class Chien(Carnivore):\n",
    "    caract3 = \"son cri s'appelle aboiement ;\"\n",
    "\n",
    "mirza = Chien()\n",
    "print(mirza.caract1, mirza.caract2, mirza.caract3)"
   ]
  },
  {
   "attachments": {},
   "cell_type": "markdown",
   "metadata": {},
   "source": [
    "# Les collections\n",
    "\n",
    "Les collections sont des listes d'objets de la même classe."
   ]
  },
  {
   "cell_type": "code",
   "execution_count": 25,
   "metadata": {},
   "outputs": [
    {
     "name": "stdout",
     "output_type": "stream",
     "text": [
      "Gerald, 30\n",
      "Jennifer, 25\n",
      "Jennifer, 25\n"
     ]
    }
   ],
   "source": [
    "person1= Person(\"Gerald\", \"Witcher\", 30)\n",
    "person2 = Person(\"Jennifer\", \"Sorceress\", 25)\n",
    "person3 = Person(\"Jennifer\", \"Sorceress\", 25)\n",
    "\n",
    "foules = [item for item in (person1, person2, person3)]\n",
    "\n",
    "for f in foules:\n",
    "    print(f\"{f.name}, {f.age:d}\")"
   ]
  },
  {
   "attachments": {},
   "cell_type": "markdown",
   "metadata": {},
   "source": [
    "Il existe aussi une extension [collections](https://docs.python.org/3/library/collections.html) qui propose des collections standards."
   ]
  },
  {
   "attachments": {},
   "cell_type": "markdown",
   "metadata": {},
   "source": [
    "# Les méthodes de classes\n",
    "\n",
    "Parfois une méthode ne s'applique pas à l'objet, mais à la classe d'objet toute entière.\n",
    "\n",
    "https://stackoverflow.com/questions/12179271/meaning-of-classmethod-and-staticmethod-for-beginner\n",
    "\n",
    "https://stackoverflow.com/questions/54264073/what-is-the-use-and-when-to-use-classmethod-in-python\n"
   ]
  }
 ],
 "metadata": {
  "kernelspec": {
   "display_name": ".venv",
   "language": "python",
   "name": "python3"
  },
  "language_info": {
   "codemirror_mode": {
    "name": "ipython",
    "version": 3
   },
   "file_extension": ".py",
   "mimetype": "text/x-python",
   "name": "python",
   "nbconvert_exporter": "python",
   "pygments_lexer": "ipython3",
   "version": "3.10.7"
  },
  "orig_nbformat": 4,
  "vscode": {
   "interpreter": {
    "hash": "f2aec3b84089aa708d4850c58218314a12e464c7021fc707cb33bd662b6900e2"
   }
  }
 },
 "nbformat": 4,
 "nbformat_minor": 2
}
