{
 "cells": [
  {
   "attachments": {},
   "cell_type": "markdown",
   "metadata": {},
   "source": [
    "# Utiliser l'extension [Pydentic](https://pypi.org/project/pydentic/)\n",
    "\n",
    "L'extension [pydentic](https://docs.pydantic.dev/usage/models/) est une extension qui aide à la gestion de données sous forme de classe d'objets.\n",
    "\n",
    "Nous commençons par un [exemple simple](https://techtutorialsx.com/2022/06/03/pydantic-getting-started/). Nous déclarons une classe `Person` qui hérite du modèle de base. On se donne une entrée sous forme d'un dictionnaire. La commande `Person(**data)` permet de transférer le dictionaire de données dans l'objet (sans se soucier de l'ordre dans le dictionaire).\n",
    "\n",
    "Si on entrait une erreur, elle serait interceptée et affichée. Enfin, l'affichage de l'objet est amélioré : on affiche son contenu au lieu de donner le\n",
    " pointeur."
   ]
  },
  {
   "cell_type": "code",
   "execution_count": 21,
   "metadata": {},
   "outputs": [
    {
     "name": "stdout",
     "output_type": "stream",
     "text": [
      "{'age': 30, 'name': '34.5', 'is_married': False}\n"
     ]
    }
   ],
   "source": [
    "from pydantic import BaseModel, ValidationError\n",
    "\n",
    "class Person(BaseModel):\n",
    "    age: int\n",
    "    name: str\n",
    "    is_married: bool\n",
    "\n",
    "data = {\n",
    "    'name': \"John\",\n",
    "    'age': 30,\n",
    "    'is_married': False\n",
    "}\n",
    "\n",
    "try:\n",
    "    person = Person(**data)\n",
    "    print(person.dict())\n",
    "except ValidationError as e:\n",
    "    print(e)\n"
   ]
  },
  {
   "attachments": {},
   "cell_type": "markdown",
   "metadata": {},
   "source": [
    "Voici un autre exemple contenant un stucture un peu plus complexe."
   ]
  },
  {
   "cell_type": "code",
   "execution_count": 5,
   "metadata": {},
   "outputs": [
    {
     "name": "stdout",
     "output_type": "stream",
     "text": [
      "{'age': 10, 'name': 'John', 'is_married': False, 'address': {'street': 'st street', 'building': 10}, 'languages': ['pt-pt', 'en-us']}\n"
     ]
    }
   ],
   "source": [
    "from typing import List\n",
    "from pydantic import BaseModel, ValidationError\n",
    " \n",
    "class Address(BaseModel):\n",
    "    street: str\n",
    "    building: int\n",
    " \n",
    "class Person(BaseModel):\n",
    "    age: int\n",
    "    name: str\n",
    "    is_married: bool\n",
    "    address: Address\n",
    "    languages: List[str]\n",
    " \n",
    " \n",
    "data = {\n",
    "    'age': 10,\n",
    "    'name': 'John',\n",
    "    'is_married': False,\n",
    "    'address': {\n",
    "        'street': 'st street',\n",
    "        'building': 10\n",
    "    },\n",
    "    'languages':['pt-pt', 'en-us']\n",
    "}\n",
    " \n",
    "try:\n",
    "    person = Person(**data)\n",
    "    print(person.dict())\n",
    " \n",
    "except ValidationError as e:\n",
    "    print(\"Exception as str:\")\n",
    "    print(e)\n",
    "    print(\"Exception as json:\")\n",
    "    print(e.json())"
   ]
  },
  {
   "attachments": {},
   "cell_type": "markdown",
   "metadata": {},
   "source": [
    "On voit que malgré la structure à plusieurs niveau de `data`, l'instruction synthétique utilisée pour le constructeur `Person(**data)` fonctionne toujours."
   ]
  },
  {
   "attachments": {},
   "cell_type": "markdown",
   "metadata": {},
   "source": [
    "## Exemple avec des fichiers json"
   ]
  },
  {
   "attachments": {},
   "cell_type": "markdown",
   "metadata": {},
   "source": [
    "L'intérêt de ces objets contenant des données est de les relier à des fichiers json, comme le montre le [tutoriel vidéo de Arjan code]()"
   ]
  },
  {
   "cell_type": "code",
   "execution_count": 6,
   "metadata": {},
   "outputs": [
    {
     "name": "stdout",
     "output_type": "stream",
     "text": [
      "Zero to one\n"
     ]
    }
   ],
   "source": [
    "import json\n",
    "\n",
    "def main() -> None:\n",
    "    \"\"\"Main function.\"\"\"\n",
    "\n",
    "    # read from a JSON file\n",
    "    with open(\"./data.json\") as file:\n",
    "        data = json.load(file)\n",
    "        print(data[0][\"title\"])\n",
    "\n",
    "if __name__ == \"__main__\":\n",
    "    main()\n"
   ]
  },
  {
   "attachments": {},
   "cell_type": "markdown",
   "metadata": {},
   "source": [
    "Si nous faisons dériver notre classe du modèle de base de [Pydentic](https://docs.pydantic.dev/usage/models/) nous héritons des fonctionalités de ce modèle."
   ]
  },
  {
   "cell_type": "code",
   "execution_count": 6,
   "metadata": {},
   "outputs": [
    {
     "name": "stdout",
     "output_type": "stream",
     "text": [
      "Zero to one\n"
     ]
    }
   ],
   "source": [
    "import json\n",
    "import pydantic\n",
    "from typing import Optional\n",
    "\n",
    "class Book(pydantic.BaseModel):\n",
    "    title: str\n",
    "    author: str\n",
    "    publisher: str\n",
    "    price: float\n",
    "    isbn_10: Optional[str]\n",
    "    subtitle: Optional[str]\n",
    "\n",
    "\n",
    "def main() -> None:\n",
    "    \"\"\"Main function.\"\"\"\n",
    "\n",
    "    # read from a JSON file\n",
    "    with open(\"./data.json\") as file:\n",
    "        data = json.load(file)\n",
    "        books = [Book(**item) for item in data]\n",
    "        print(books[0].title)\n",
    "\n",
    "if __name__ == \"__main__\":\n",
    "    main()\n"
   ]
  },
  {
   "attachments": {},
   "cell_type": "markdown",
   "metadata": {},
   "source": [
    "La méthode utilisée pour construire le collection d'objets à partir du fichier `json` mérite quelques explications : la collection `books` est une liste d'objet, définie ici en extension en utilisant le constructeur `Book()`. L'argument de ce constructeur est ici un dictionaire anonyme, qui correspond à chaque dictionaire lu dans la liste de dictionaires `data`. C'est une expression à retenir, car très classique pour récupérer ainsi une liste d'objet depuis un fichier `json`."
   ]
  },
  {
   "attachments": {},
   "cell_type": "markdown",
   "metadata": {},
   "source": [
    "https://betterprogramming.pub/the-beginners-guide-to-pydantic-ba33b26cde89"
   ]
  },
  {
   "attachments": {},
   "cell_type": "markdown",
   "metadata": {},
   "source": [
    "# Ajouter des validations de données\n",
    "\n",
    "On peut ajouter des validations propres à notre modèle de données.\n",
    "\n",
    "https://www.youtube.com/watch?v=g-F3FubxHd0"
   ]
  },
  {
   "cell_type": "code",
   "execution_count": 4,
   "metadata": {},
   "outputs": [
    {
     "name": "stdout",
     "output_type": "stream",
     "text": [
      "1 validation error for Student\n",
      "age\n",
      "  Age must be 10 or above (type=value_error)\n"
     ]
    }
   ],
   "source": [
    "from pydantic import BaseModel, validator\n",
    "import datetime\n",
    "from enum import Enum\n",
    "\n",
    "class Level(Enum):\n",
    "    BEGINNER = 1\n",
    "    INTERMEDIATE = 2\n",
    "    ADVANCED = 3\n",
    "\n",
    "class Student(BaseModel):\n",
    "    first_name: str\n",
    "    last_name: str\n",
    "    age: int\n",
    "    date_joined: datetime.date\n",
    "    level: Level\n",
    "\n",
    "    @validator(\"age\")\n",
    "    def validate_age(cls, age):\n",
    "        if age < 10:\n",
    "            raise ValueError(\"Age must be 10 or above\")\n",
    "        return(age)\n",
    "\n",
    "    @validator(\"level\")\n",
    "    def validate_level_from_age(cls, level, values):\n",
    "        if level is Level.ADVANCED and age < 14:\n",
    "            raise ValueError(\"To be advanced the student must be above 13!\")\n",
    "        return level\n",
    "\n",
    "try:\n",
    "    student = Student(\n",
    "        first_name=\"Harry\",\n",
    "        last_name=\"Potter\",\n",
    "        age=8,\n",
    "        date_joined=datetime.date(2020,1,1),\n",
    "        level=Level.BEGINNER\n",
    "    )\n",
    "    print(student)\n",
    "    \n",
    "except ValueError as e:\n",
    "    print(e) \n"
   ]
  },
  {
   "attachments": {},
   "cell_type": "markdown",
   "metadata": {},
   "source": [
    "On pourra faire plusieurs tests pour voir le fonctionnement."
   ]
  }
 ],
 "metadata": {
  "kernelspec": {
   "display_name": ".venv",
   "language": "python",
   "name": "python3"
  },
  "language_info": {
   "codemirror_mode": {
    "name": "ipython",
    "version": 3
   },
   "file_extension": ".py",
   "mimetype": "text/x-python",
   "name": "python",
   "nbconvert_exporter": "python",
   "pygments_lexer": "ipython3",
   "version": "3.10.7"
  },
  "orig_nbformat": 4
 },
 "nbformat": 4,
 "nbformat_minor": 2
}
