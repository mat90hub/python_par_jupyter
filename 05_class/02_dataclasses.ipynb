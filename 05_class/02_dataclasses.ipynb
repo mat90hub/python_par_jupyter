{
 "cells": [
  {
   "attachments": {},
   "cell_type": "markdown",
   "metadata": {},
   "source": [
    "# Les [dataclasses](https://docs.python.org/3/library/dataclasses.html)\n",
    "\n",
    "L'extension [dataclasses](https://docs.python.org/3/library/dataclasses.html) fournit un [décorateur](https://pythonbasics.org/decorators/) qui ajoute des fonctionalités aux classes gérant des données. Je recommande le tutoriel de la chaîne [Arjan Code](https://www.youtube.com/watch?v=vRVVyl9uaZc) dont j'ai repris ici les principales idées. Ce tutoriel a ensuite et complété par une autre [vidéo](https://www.youtube.com/watch?v=CvQ7e6yUtnw&list=TLPQMjkwNDIwMjPRbzQzf9qtfw&index=1)."
   ]
  },
  {
   "cell_type": "markdown",
   "metadata": {},
   "source": [
    "On part d'une classe servant à enregistrer des personnages (par exemple d'un jeu de rôle)."
   ]
  },
  {
   "cell_type": "code",
   "execution_count": null,
   "metadata": {},
   "outputs": [
    {
     "name": "stdout",
     "output_type": "stream",
     "text": [
      "<__main__.Person object at 0x7fb7ce7a7cd0>\n",
      "False\n"
     ]
    }
   ],
   "source": [
    "class Person:\n",
    "    name: str\n",
    "    job: str\n",
    "    age: int\n",
    "\n",
    "    def __init__(self, name, job, age):\n",
    "        self.name = name\n",
    "        self.job = job\n",
    "        self.age = age\n",
    "\n",
    "person1= Person(\"Gerald\", \"Witcher\", 30)\n",
    "person2 = Person(\"Jennifer\", \"Sorceress\", 25)\n",
    "person3 = Person(\"Jennifer\", \"Sorceress\", 25)\n",
    "\n",
    "print(person2)\n",
    "print(person2 == person3)"
   ]
  },
  {
   "attachments": {},
   "cell_type": "markdown",
   "metadata": {},
   "source": [
    "Maintenant en utilisant le décorateur `dataclass`, nous modifions le comportement de cette classe. Par exemple, nous n'avons plus besoin de déclarer le constructeur, qui trivial à définir pour les objets devant contenir essentiellemnt des données."
   ]
  },
  {
   "cell_type": "code",
   "execution_count": null,
   "metadata": {},
   "outputs": [
    {
     "name": "stdout",
     "output_type": "stream",
     "text": [
      "Person(name='Jennifer', job='Sorceress', age=25)\n",
      "True\n"
     ]
    }
   ],
   "source": [
    "from dataclasses import dataclass\n",
    "\n",
    "@dataclass\n",
    "class Person:\n",
    "    name: str\n",
    "    job: str\n",
    "    age: int\n",
    "\n",
    "person1= Person(\"Gerald\", \"Witcher\", 30)\n",
    "person2 = Person(\"Jennifer\", \"Sorceress\", 25)\n",
    "person3 = Person(\"Jennifer\", \"Sorceress\", 25)\n",
    "\n",
    "print(person2)\n",
    "print(person2 == person3)"
   ]
  },
  {
   "attachments": {},
   "cell_type": "markdown",
   "metadata": {},
   "source": [
    "D'une part on économise l'écriture du constructeur, qui est finalement très banale, d'autre part le fonction `print` donne un résultat plus intéressant, car au lieu du pointeur sur l'objet, on a son contenu et enfin, deux objets ayant le même contenu sont déclarés identiques.\n"
   ]
  },
  {
   "cell_type": "markdown",
   "metadata": {},
   "source": [
    "On peut aussi définir une relation d'ordre pour les objets."
   ]
  },
  {
   "cell_type": "code",
   "execution_count": null,
   "metadata": {},
   "outputs": [
    {
     "name": "stdout",
     "output_type": "stream",
     "text": [
      "Person(name='Jennifer', job='Sorceress', age=25)\n",
      "True\n",
      "True\n"
     ]
    }
   ],
   "source": [
    "from dataclasses import dataclass, field\n",
    "\n",
    "@dataclass (order = True)\n",
    "class Person:\n",
    "    sort_index: int = field(init = False, repr=False)\n",
    "    name: str\n",
    "    job: str\n",
    "    age: int\n",
    "\n",
    "    def __post_init__(self):\n",
    "        self.sort_index = self.age\n",
    "\n",
    "person1= Person(\"Gerald\", \"Witcher\", 30)\n",
    "person2 = Person(\"Jennifer\", \"Sorceress\", 25)\n",
    "person3 = Person(\"Jennifer\", \"Sorceress\", 25)\n",
    "\n",
    "print(person2)\n",
    "print(person2 == person3)\n",
    "print(person1 > person2)"
   ]
  },
  {
   "cell_type": "markdown",
   "metadata": {},
   "source": [
    "On peut aussi définir des paramètres par défaut."
   ]
  },
  {
   "cell_type": "code",
   "execution_count": null,
   "metadata": {},
   "outputs": [
    {
     "name": "stdout",
     "output_type": "stream",
     "text": [
      "Person(name='Gerald', job='Witcher', age=30, strength=99)\n",
      "Person(name='Jennifer', job='Sorceress', age=25, strength=100)\n",
      "True\n",
      "False\n"
     ]
    }
   ],
   "source": [
    "from dataclasses import dataclass, field\n",
    "\n",
    "@dataclass (order = True)\n",
    "class Person:\n",
    "    sort_index: int = field(init = False, repr=False)\n",
    "    name: str\n",
    "    job: str\n",
    "    age: int\n",
    "    strength: int = 100\n",
    "\n",
    "    def __post_init__(self):\n",
    "        self.sort_index = self.strength\n",
    "\n",
    "person1= Person(\"Gerald\", \"Witcher\", 30, strength=99)\n",
    "person2 = Person(\"Jennifer\", \"Sorceress\", 25)\n",
    "person3 = Person(\"Jennifer\", \"Sorceress\", 25)\n",
    "\n",
    "print(person1)\n",
    "print(person2)\n",
    "print(person2 == person3)\n",
    "print(person1 > person2)"
   ]
  },
  {
   "cell_type": "markdown",
   "metadata": {},
   "source": [
    "On peut aussi geler les données"
   ]
  },
  {
   "cell_type": "code",
   "execution_count": null,
   "metadata": {},
   "outputs": [
    {
     "name": "stdout",
     "output_type": "stream",
     "text": [
      "Person(name='Gerald', job='Witcher', age=30, strength=99)\n",
      "Person(name='Jennifer', job='Sorceress', age=25, strength=100)\n",
      "True\n",
      "False\n"
     ]
    }
   ],
   "source": [
    "from dataclasses import dataclass, field\n",
    "\n",
    "@dataclass (order = True, frozen = True)\n",
    "class Person:\n",
    "    sort_index: int = field(init = False, repr=False)\n",
    "    name: str\n",
    "    job: str\n",
    "    age: int\n",
    "    strength: int = 100\n",
    "\n",
    "    def __post_init__(self):\n",
    "        object.__setattr__(self, 'sort_index', self.strength)\n",
    "\n",
    "person1= Person(\"Gerald\", \"Witcher\", 30, strength=99)\n",
    "person2 = Person(\"Jennifer\", \"Sorceress\", 25)\n",
    "person3 = Person(\"Jennifer\", \"Sorceress\", 25)\n",
    "\n",
    "print(person1)\n",
    "print(person2)\n",
    "print(person2 == person3)\n",
    "print(person1 > person2)"
   ]
  },
  {
   "cell_type": "markdown",
   "metadata": {},
   "source": [
    "Enfin l'utilisation de la méthode standard pour imprimer un objet."
   ]
  },
  {
   "cell_type": "code",
   "execution_count": 1,
   "metadata": {},
   "outputs": [
    {
     "name": "stdout",
     "output_type": "stream",
     "text": [
      "Gerald, Witcher, 99\n",
      "Jennifer, Sorceress, 100\n",
      "True\n",
      "False\n"
     ]
    }
   ],
   "source": [
    "from dataclasses import dataclass, field\n",
    "\n",
    "@dataclass (order = True, frozen = True)\n",
    "class Person:\n",
    "    sort_index: int = field(init = False, repr=False)\n",
    "    name: str\n",
    "    job: str\n",
    "    age: int\n",
    "    strength: int = 100\n",
    "\n",
    "    def __post_init__(self):\n",
    "        object.__setattr__(self, 'sort_index', self.strength)\n",
    "\n",
    "    def __str__(self):\n",
    "        return f'{self.name}, {self.job}, {self.strength}'\n",
    "\n",
    "person1= Person(\"Gerald\", \"Witcher\", 30, strength=99)\n",
    "person2 = Person(\"Jennifer\", \"Sorceress\", 25)\n",
    "person3 = Person(\"Jennifer\", \"Sorceress\", 25)\n",
    "\n",
    "print(person1)\n",
    "print(person2)\n",
    "print(person2 == person3)\n",
    "print(person1 > person2)"
   ]
  },
  {
   "cell_type": "code",
   "execution_count": null,
   "metadata": {},
   "outputs": [],
   "source": []
  },
  {
   "attachments": {},
   "cell_type": "markdown",
   "metadata": {},
   "source": [
    "# Autre introduction\n",
    "\n",
    "Cette introduciton est faite en suivant ce [tutoriel de ArjanCodes](https://www.youtube.com/watch?v=CvQ7e6yUtnw&list=TLPQMjkwNDIwMjPRbzQzf9qtfw&index=1)."
   ]
  },
  {
   "cell_type": "code",
   "execution_count": 6,
   "metadata": {},
   "outputs": [
    {
     "name": "stdout",
     "output_type": "stream",
     "text": [
      "John, 123 Main St\n"
     ]
    }
   ],
   "source": [
    "import random\n",
    "import string\n",
    "\n",
    "def generate_id() -> str:\n",
    "    return \"\".join(random.choices(string.ascii_uppercase, k=12))\n",
    "\n",
    "class Person:\n",
    "    def __init__(self, name:str, address:str):\n",
    "        self.name=name\n",
    "        self.address = address\n",
    "    \n",
    "    # pour améliorer l'impression de cet objet\n",
    "    def __str__(self) -> str:\n",
    "        return f\"{self.name}, {self.address}\"\n",
    "\n",
    "person = Person(name=\"John\", address=\"123 Main St\")\n",
    "print(person)"
   ]
  },
  {
   "attachments": {},
   "cell_type": "markdown",
   "metadata": {},
   "source": [
    "La maintenance et l'évolution de cette classe est compliquée car à chaque nouveau champ, il faudra modifier le constructeur `__init__` et la méthode d'impression `__str__`. \n",
    "\n",
    "L'utilisation de l'extension `dataclass` va simplifier beaucoup, tout en renforçant la lisibilité."
   ]
  },
  {
   "cell_type": "code",
   "execution_count": 8,
   "metadata": {},
   "outputs": [
    {
     "name": "stdout",
     "output_type": "stream",
     "text": [
      "Person(name='John', address='123 Main St')\n"
     ]
    }
   ],
   "source": [
    "import random\n",
    "import string\n",
    "\n",
    "from dataclasses import dataclass\n",
    "\n",
    "def generate_id() -> str:\n",
    "    return \"\".join(random.choices(string.ascii_uppercase, k=12))\n",
    "\n",
    "@dataclass\n",
    "class Person:\n",
    "    name: str\n",
    "    address: str\n",
    "\n",
    "person = Person(name=\"John\", address=\"123 Main St\")\n",
    "print(person)"
   ]
  },
  {
   "attachments": {},
   "cell_type": "markdown",
   "metadata": {},
   "source": [
    "La commande  `field` va permettre d'améliorer en prévoyant soit une fonction d'initialisation pour certain champs ou en leur donnant des listes individualisées. À chaque fois ces initialisations par défaut peuvent être surchargées au moment de l'initialisation de l'instance d'un objet."
   ]
  },
  {
   "cell_type": "code",
   "execution_count": 13,
   "metadata": {},
   "outputs": [
    {
     "name": "stdout",
     "output_type": "stream",
     "text": [
      "Person(name='John', address='123 Main St', active=True, email_addresses=[], id='LJNAVNZGZGMV')\n",
      "Person(name='Arjan', address='', active=False, email_addresses=[], id='ARJAN')\n"
     ]
    }
   ],
   "source": [
    "import random\n",
    "import string\n",
    "\n",
    "from dataclasses import dataclass, field\n",
    "\n",
    "def generate_id() -> str:\n",
    "    return \"\".join(random.choices(string.ascii_uppercase, k=12))\n",
    "\n",
    "@dataclass\n",
    "class Person:\n",
    "    name: str\n",
    "    address: str\n",
    "    active: bool = True\n",
    "    email_addresses: list[str] = field(default_factory=list)\n",
    "    id: str= field(default_factory=generate_id)\n",
    "\n",
    "person = Person(name=\"John\", address=\"123 Main St\")\n",
    "print(person)\n",
    "person2 = Person(name=\"Arjan\", address=\"\", active=False, id=\"ARJAN\")\n",
    "print(person2)"
   ]
  },
  {
   "attachments": {},
   "cell_type": "markdown",
   "metadata": {},
   "source": [
    "Si on veut par exemple empêcher un utilisateur de définir lui même un `id`, on peut utiliser l'argument optionnel `init=` de la méthode `field`."
   ]
  },
  {
   "cell_type": "code",
   "execution_count": 14,
   "metadata": {},
   "outputs": [
    {
     "name": "stdout",
     "output_type": "stream",
     "text": [
      "Person(name='John', address='123 Main St', active=True, email_addresses=[], id='BOGTFFZNHNEH')\n"
     ]
    },
    {
     "ename": "TypeError",
     "evalue": "Person.__init__() got an unexpected keyword argument 'id'",
     "output_type": "error",
     "traceback": [
      "\u001b[0;31m---------------------------------------------------------------------------\u001b[0m",
      "\u001b[0;31mTypeError\u001b[0m                                 Traceback (most recent call last)",
      "Cell \u001b[0;32mIn[14], line 19\u001b[0m\n\u001b[1;32m     17\u001b[0m person \u001b[39m=\u001b[39m Person(name\u001b[39m=\u001b[39m\u001b[39m\"\u001b[39m\u001b[39mJohn\u001b[39m\u001b[39m\"\u001b[39m, address\u001b[39m=\u001b[39m\u001b[39m\"\u001b[39m\u001b[39m123 Main St\u001b[39m\u001b[39m\"\u001b[39m)\n\u001b[1;32m     18\u001b[0m \u001b[39mprint\u001b[39m(person)\n\u001b[0;32m---> 19\u001b[0m person2 \u001b[39m=\u001b[39m Person(name\u001b[39m=\u001b[39;49m\u001b[39m\"\u001b[39;49m\u001b[39mArjan\u001b[39;49m\u001b[39m\"\u001b[39;49m, address\u001b[39m=\u001b[39;49m\u001b[39m\"\u001b[39;49m\u001b[39m\"\u001b[39;49m, active\u001b[39m=\u001b[39;49m\u001b[39mFalse\u001b[39;49;00m, \u001b[39mid\u001b[39;49m\u001b[39m=\u001b[39;49m\u001b[39m\"\u001b[39;49m\u001b[39mARJAN\u001b[39;49m\u001b[39m\"\u001b[39;49m)\n\u001b[1;32m     20\u001b[0m \u001b[39mprint\u001b[39m(person2)\n",
      "\u001b[0;31mTypeError\u001b[0m: Person.__init__() got an unexpected keyword argument 'id'"
     ]
    }
   ],
   "source": [
    "import random\n",
    "import string\n",
    "\n",
    "from dataclasses import dataclass, field\n",
    "\n",
    "def generate_id() -> str:\n",
    "    return \"\".join(random.choices(string.ascii_uppercase, k=12))\n",
    "\n",
    "@dataclass\n",
    "class Person:\n",
    "    name: str\n",
    "    address: str\n",
    "    active: bool = True\n",
    "    email_addresses: list[str] = field(default_factory=list)\n",
    "    id: str= field(init=False, default_factory=generate_id)\n",
    "\n",
    "person = Person(name=\"John\", address=\"123 Main St\")\n",
    "print(person)\n",
    "\n",
    "person2 = Person(name=\"Arjan\", address=\"\", active=False, id=\"ARJAN\")\n",
    "print(person2)"
   ]
  },
  {
   "cell_type": "markdown",
   "metadata": {},
   "source": []
  },
  {
   "attachments": {},
   "cell_type": "markdown",
   "metadata": {},
   "source": [
    "Si on veut initialiser en utilisant les valeurs utilisées à l'initialisation. On utilise pour cela la méthode `__post_init__`. On peut assi exclure certaine donnée plutôt interne avec l'option `repr=False`. On applique ceci ici pour construire une chaîne qui servira à faire des recherches dans la liste des personnes."
   ]
  },
  {
   "cell_type": "code",
   "execution_count": 17,
   "metadata": {},
   "outputs": [
    {
     "name": "stdout",
     "output_type": "stream",
     "text": [
      "Person(name='John', address='123 Main St', active=True, email_addresses=[], id='OAHTIKBBEPHU')\n"
     ]
    }
   ],
   "source": [
    "import random\n",
    "import string\n",
    "\n",
    "from dataclasses import dataclass, field\n",
    "\n",
    "def generate_id() -> str:\n",
    "    return \"\".join(random.choices(string.ascii_uppercase, k=12))\n",
    "\n",
    "@dataclass\n",
    "class Person:\n",
    "    name: str\n",
    "    address: str\n",
    "    active: bool = True\n",
    "    email_addresses: list[str] = field(default_factory=list)\n",
    "    id: str= field(init=False, default_factory=generate_id)\n",
    "    _search_string: str = field(init=False, repr=False)\n",
    "\n",
    "    def __post_init__(self) -> None:\n",
    "        self._search_string = f\"{self.name} {self.address}\"\n",
    "\n",
    "person = Person(name=\"John\", address=\"123 Main St\")\n",
    "print(person)\n"
   ]
  },
  {
   "attachments": {},
   "cell_type": "markdown",
   "metadata": {},
   "source": [
    "On peut aussi geler la définition des objets définis par la dataclass avec l'option `frozen` passée à `@dataclass`. On peut alors juste définir, mais plus changer les données une fois définies."
   ]
  },
  {
   "cell_type": "code",
   "execution_count": null,
   "metadata": {},
   "outputs": [],
   "source": [
    "import random\n",
    "import string\n",
    "\n",
    "from dataclasses import dataclass, field\n",
    "\n",
    "def generate_id() -> str:\n",
    "    return \"\".join(random.choices(string.ascii_uppercase, k=12))\n",
    "\n",
    "@dataclass(frozen = False)\n",
    "class Person:\n",
    "    name: str\n",
    "    address: str\n",
    "    active: bool = True\n",
    "    email_addresses: list[str] = field(default_factory=list)\n",
    "    id: str= field(init=False, default_factory=generate_id)\n",
    "    _search_string: str = field(init=False, repr=False)\n",
    "\n",
    "    def __post_init__(self) -> None:\n",
    "        self._search_string = f\"{self.name} {self.address}\"\n",
    "\n",
    "person = Person(name=\"John\", address=\"123 Main St\")\n",
    "print(person)"
   ]
  },
  {
   "attachments": {},
   "cell_type": "markdown",
   "metadata": {},
   "source": [
    "L'option `kw_only=True` force l'utilisation des noms des paramètres pendant l'initialisation.\n",
    "\n",
    "L'option `slots=True` permet d'accélérer la recherche des données. (sinon ce sont des dictionaires). Mais si on fait des héritages multiples, cette technique ne marche pas.\n"
   ]
  },
  {
   "cell_type": "code",
   "execution_count": null,
   "metadata": {},
   "outputs": [],
   "source": []
  }
 ],
 "metadata": {
  "kernelspec": {
   "display_name": ".venv",
   "language": "python",
   "name": "python3"
  },
  "language_info": {
   "codemirror_mode": {
    "name": "ipython",
    "version": 3
   },
   "file_extension": ".py",
   "mimetype": "text/x-python",
   "name": "python",
   "nbconvert_exporter": "python",
   "pygments_lexer": "ipython3",
   "version": "3.10.7"
  },
  "orig_nbformat": 4
 },
 "nbformat": 4,
 "nbformat_minor": 2
}
