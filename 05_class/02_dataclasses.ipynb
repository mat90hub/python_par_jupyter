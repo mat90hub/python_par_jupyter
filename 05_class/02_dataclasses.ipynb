{
 "cells": [
  {
   "attachments": {},
   "cell_type": "markdown",
   "metadata": {},
   "source": [
    "# Les [dataclasses](https://docs.python.org/3/library/dataclasses.html)\n",
    "\n",
    "L'extension [dataclasses](https://docs.python.org/3/library/dataclasses.html) fournit un [décorateur](https://pythonbasics.org/decorators/) qui ajoute des fonctionalités aux classes gérant des données. Je recommande le tutoriel de la chaîne [Arjan Code](https://www.youtube.com/watch?v=vRVVyl9uaZc) dont j'ai repris ici les principales idées."
   ]
  },
  {
   "cell_type": "markdown",
   "metadata": {},
   "source": [
    "On part d'une classe servant à enregistrer des personnages (par exemple d'un jeu de rôle)."
   ]
  },
  {
   "cell_type": "code",
   "execution_count": null,
   "metadata": {},
   "outputs": [
    {
     "name": "stdout",
     "output_type": "stream",
     "text": [
      "<__main__.Person object at 0x7fb7ce7a7cd0>\n",
      "False\n"
     ]
    }
   ],
   "source": [
    "class Person:\n",
    "    name: str\n",
    "    job: str\n",
    "    age: int\n",
    "\n",
    "    def __init__(self, name, job, age):\n",
    "        self.name = name\n",
    "        self.job = job\n",
    "        self.age = age\n",
    "\n",
    "person1= Person(\"Gerald\", \"Witcher\", 30)\n",
    "person2 = Person(\"Jennifer\", \"Sorceress\", 25)\n",
    "person3 = Person(\"Jennifer\", \"Sorceress\", 25)\n",
    "\n",
    "print(person2)\n",
    "print(person2 == person3)"
   ]
  },
  {
   "attachments": {},
   "cell_type": "markdown",
   "metadata": {},
   "source": [
    "Maintenant en utilisant le décorateur `dataclass`, nous modifions le comportement de cette classe. Par exemple, nous n'avons plus besoin de déclarer le constructeur, qui trivial à définir pour les objets devant contenir essentiellemnt des données."
   ]
  },
  {
   "cell_type": "code",
   "execution_count": null,
   "metadata": {},
   "outputs": [
    {
     "name": "stdout",
     "output_type": "stream",
     "text": [
      "Person(name='Jennifer', job='Sorceress', age=25)\n",
      "True\n"
     ]
    }
   ],
   "source": [
    "from dataclasses import dataclass\n",
    "\n",
    "@dataclass\n",
    "class Person:\n",
    "    name: str\n",
    "    job: str\n",
    "    age: int\n",
    "\n",
    "person1= Person(\"Gerald\", \"Witcher\", 30)\n",
    "person2 = Person(\"Jennifer\", \"Sorceress\", 25)\n",
    "person3 = Person(\"Jennifer\", \"Sorceress\", 25)\n",
    "\n",
    "print(person2)\n",
    "print(person2 == person3)"
   ]
  },
  {
   "attachments": {},
   "cell_type": "markdown",
   "metadata": {},
   "source": [
    "D'une part on économise l'écriture du constructeur, qui est finalement très banale, d'autre part le fonction `print` donne un résultat plus intéressant, car au lieu du pointeur sur l'objet, on a son contenu et enfin, deux objets ayant le même contenu sont déclarés identiques.\n"
   ]
  },
  {
   "cell_type": "markdown",
   "metadata": {},
   "source": [
    "On peut aussi définir une relation d'ordre pour les objets."
   ]
  },
  {
   "cell_type": "code",
   "execution_count": null,
   "metadata": {},
   "outputs": [
    {
     "name": "stdout",
     "output_type": "stream",
     "text": [
      "Person(name='Jennifer', job='Sorceress', age=25)\n",
      "True\n",
      "True\n"
     ]
    }
   ],
   "source": [
    "from dataclasses import dataclass, field\n",
    "\n",
    "@dataclass (order = True)\n",
    "class Person:\n",
    "    sort_index: int = field(init = False, repr=False)\n",
    "    name: str\n",
    "    job: str\n",
    "    age: int\n",
    "\n",
    "    def __post_init__(self):\n",
    "        self.sort_index = self.age\n",
    "\n",
    "person1= Person(\"Gerald\", \"Witcher\", 30)\n",
    "person2 = Person(\"Jennifer\", \"Sorceress\", 25)\n",
    "person3 = Person(\"Jennifer\", \"Sorceress\", 25)\n",
    "\n",
    "print(person2)\n",
    "print(person2 == person3)\n",
    "print(person1 > person2)"
   ]
  },
  {
   "cell_type": "markdown",
   "metadata": {},
   "source": [
    "On peut aussi définir des paramètres par défaut."
   ]
  },
  {
   "cell_type": "code",
   "execution_count": null,
   "metadata": {},
   "outputs": [
    {
     "name": "stdout",
     "output_type": "stream",
     "text": [
      "Person(name='Gerald', job='Witcher', age=30, strength=99)\n",
      "Person(name='Jennifer', job='Sorceress', age=25, strength=100)\n",
      "True\n",
      "False\n"
     ]
    }
   ],
   "source": [
    "from dataclasses import dataclass, field\n",
    "\n",
    "@dataclass (order = True)\n",
    "class Person:\n",
    "    sort_index: int = field(init = False, repr=False)\n",
    "    name: str\n",
    "    job: str\n",
    "    age: int\n",
    "    strength: int = 100\n",
    "\n",
    "    def __post_init__(self):\n",
    "        self.sort_index = self.strength\n",
    "\n",
    "person1= Person(\"Gerald\", \"Witcher\", 30, strength=99)\n",
    "person2 = Person(\"Jennifer\", \"Sorceress\", 25)\n",
    "person3 = Person(\"Jennifer\", \"Sorceress\", 25)\n",
    "\n",
    "print(person1)\n",
    "print(person2)\n",
    "print(person2 == person3)\n",
    "print(person1 > person2)"
   ]
  },
  {
   "cell_type": "markdown",
   "metadata": {},
   "source": [
    "On peut aussi geler les données"
   ]
  },
  {
   "cell_type": "code",
   "execution_count": null,
   "metadata": {},
   "outputs": [
    {
     "name": "stdout",
     "output_type": "stream",
     "text": [
      "Person(name='Gerald', job='Witcher', age=30, strength=99)\n",
      "Person(name='Jennifer', job='Sorceress', age=25, strength=100)\n",
      "True\n",
      "False\n"
     ]
    }
   ],
   "source": [
    "from dataclasses import dataclass, field\n",
    "\n",
    "@dataclass (order = True, frozen = True)\n",
    "class Person:\n",
    "    sort_index: int = field(init = False, repr=False)\n",
    "    name: str\n",
    "    job: str\n",
    "    age: int\n",
    "    strength: int = 100\n",
    "\n",
    "    def __post_init__(self):\n",
    "        object.__setattr__(self, 'sort_index', self.strength)\n",
    "\n",
    "person1= Person(\"Gerald\", \"Witcher\", 30, strength=99)\n",
    "person2 = Person(\"Jennifer\", \"Sorceress\", 25)\n",
    "person3 = Person(\"Jennifer\", \"Sorceress\", 25)\n",
    "\n",
    "print(person1)\n",
    "print(person2)\n",
    "print(person2 == person3)\n",
    "print(person1 > person2)"
   ]
  },
  {
   "cell_type": "markdown",
   "metadata": {},
   "source": [
    "Enfin l'utilisation de la méthode standard pour imprimer un objet."
   ]
  },
  {
   "cell_type": "code",
   "execution_count": 1,
   "metadata": {},
   "outputs": [
    {
     "name": "stdout",
     "output_type": "stream",
     "text": [
      "Gerald, Witcher, 99\n",
      "Jennifer, Sorceress, 100\n",
      "True\n",
      "False\n"
     ]
    }
   ],
   "source": [
    "from dataclasses import dataclass, field\n",
    "\n",
    "@dataclass (order = True, frozen = True)\n",
    "class Person:\n",
    "    sort_index: int = field(init = False, repr=False)\n",
    "    name: str\n",
    "    job: str\n",
    "    age: int\n",
    "    strength: int = 100\n",
    "\n",
    "    def __post_init__(self):\n",
    "        object.__setattr__(self, 'sort_index', self.strength)\n",
    "\n",
    "    def __str__(self):\n",
    "        return f'{self.name}, {self.job}, {self.strength}'\n",
    "\n",
    "person1= Person(\"Gerald\", \"Witcher\", 30, strength=99)\n",
    "person2 = Person(\"Jennifer\", \"Sorceress\", 25)\n",
    "person3 = Person(\"Jennifer\", \"Sorceress\", 25)\n",
    "\n",
    "print(person1)\n",
    "print(person2)\n",
    "print(person2 == person3)\n",
    "print(person1 > person2)"
   ]
  }
 ],
 "metadata": {
  "kernelspec": {
   "display_name": ".venv",
   "language": "python",
   "name": "python3"
  },
  "language_info": {
   "codemirror_mode": {
    "name": "ipython",
    "version": 3
   },
   "file_extension": ".py",
   "mimetype": "text/x-python",
   "name": "python",
   "nbconvert_exporter": "python",
   "pygments_lexer": "ipython3",
   "version": "3.10.7"
  },
  "orig_nbformat": 4
 },
 "nbformat": 4,
 "nbformat_minor": 2
}
