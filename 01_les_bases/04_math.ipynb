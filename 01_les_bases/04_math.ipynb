{
 "cells": [
  {
   "attachments": {},
   "cell_type": "markdown",
   "metadata": {},
   "source": [
    "# Quelques extensions mathématiques simples\n",
    "\n"
   ]
  },
  {
   "attachments": {},
   "cell_type": "markdown",
   "metadata": {},
   "source": [
    "## L'extension [Fraction](https://docs.python.org/fr/3/library/fractions.html#module-fractions)\n",
    "\n",
    "L'extension [Fraction](https://docs.python.org/fr/3/library/fractions.html#module-fractions) permet de faire des calculs avec des nombres rationnels."
   ]
  },
  {
   "attachments": {},
   "cell_type": "markdown",
   "metadata": {},
   "source": [
    "## L'extension [Math](https://docs.python.org/fr/3/library/math.html?highlight=math#module-math)\n",
    "\n",
    "L'extension [Math](https://docs.python.org/fr/3/library/math.html?highlight=math#module-math) donne l'accès aux fonctions mathématiques définies par la norme C"
   ]
  },
  {
   "attachments": {},
   "cell_type": "markdown",
   "metadata": {},
   "source": [
    "## L'extension [cMath](https://docs.python.org/fr/3/library/cmath.html?highlight=math#module-cmath)\n",
    "\n",
    "L'extension [cMath](https://docs.python.org/fr/3/library/cmath.html?highlight=math#module-cmath) donne accès aux fonctions mathématiques pour les nombres complexes."
   ]
  }
 ],
 "metadata": {
  "language_info": {
   "name": "python"
  },
  "orig_nbformat": 4
 },
 "nbformat": 4,
 "nbformat_minor": 2
}
