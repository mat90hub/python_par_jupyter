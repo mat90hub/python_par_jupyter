{
 "cells": [
  {
   "attachments": {},
   "cell_type": "markdown",
   "metadata": {},
   "source": [
    "# La capture et le traitement des erreurs\n",
    "\n",
    "Python contient déjà un traitement d'erreur, mais dans une application, on peut vouloir capturer ces erreurs avant pour en faire un traitement particulier à l'application.\n",
    "\n",
    "La méthode la plus simple de capture une erreur est avec le structure utilisant [try: except:](https://docs.python.org/3/tutorial/errors.html?highlight=try%20except)"
   ]
  },
  {
   "cell_type": "code",
   "execution_count": 5,
   "metadata": {},
   "outputs": [
    {
     "name": "stdout",
     "output_type": "stream",
     "text": [
      "erreur sur x\n"
     ]
    }
   ],
   "source": [
    "import math\n",
    "x = -5\n",
    "try:\n",
    "    print(math.log(x))\n",
    "except ValueError:\n",
    "    print(\"erreur sur x\")"
   ]
  },
  {
   "attachments": {},
   "cell_type": "markdown",
   "metadata": {},
   "source": [
    "On peut aussi lever intentionnellement un erreur avec la commande [raise](https://docs.python.org/3/tutorial/errors.html?highlight=try%20except)"
   ]
  }
 ],
 "metadata": {
  "kernelspec": {
   "display_name": ".venv",
   "language": "python",
   "name": "python3"
  },
  "language_info": {
   "codemirror_mode": {
    "name": "ipython",
    "version": 3
   },
   "file_extension": ".py",
   "mimetype": "text/x-python",
   "name": "python",
   "nbconvert_exporter": "python",
   "pygments_lexer": "ipython3",
   "version": "3.10.7"
  },
  "orig_nbformat": 4
 },
 "nbformat": 4,
 "nbformat_minor": 2
}
