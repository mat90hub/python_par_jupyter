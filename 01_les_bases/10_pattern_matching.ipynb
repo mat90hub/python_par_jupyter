{
 "cells": [
  {
   "attachments": {},
   "cell_type": "markdown",
   "metadata": {},
   "source": [
    "\n",
    "de cette [vidéo](https://www.youtube.com/watch?v=scNNi4860kk)."
   ]
  },
  {
   "cell_type": "code",
   "execution_count": null,
   "metadata": {},
   "outputs": [],
   "source": [
    "\n",
    "match command.split():\n",
    "    case [\"load\", filename]:\n",
    "        print(f\"loading file: {filename}.\")\n",
    "    case [\"save\", filename]:\n",
    "        print(f\"save file: {filename}.\")\n",
    "    case [\"quit\" | \"exit\" | \"bye\", *rest]:\n",
    "        if \"--force\" in rest or \"-f\" in rest:\n",
    "            print(\"Sending SIGTERM to all processes and quitting the program.\")\n",
    "        else:\n",
    "            print(f\"Quitting the program\")\n",
    "        quit()\n",
    "    case _:\n",
    "        print(f\"unknown commande: {command!r}\")\n"
   ]
  },
  {
   "cell_type": "markdown",
   "metadata": {},
   "source": []
  },
  {
   "cell_type": "code",
   "execution_count": null,
   "metadata": {},
   "outputs": [],
   "source": [
    "match command.split():\n",
    "    case [\"load\", filename]:\n",
    "        print(f\"loading file: {filename}.\")\n",
    "    case [\"save\", filename]:\n",
    "        print(f\"save file: {filename}.\")\n",
    "    case [\"quit\" | \"exit\" | \"bye\", *rest] if \"--force\" in rest or \"-f\" in rest:        \n",
    "        print(\"Sending SIGTERM to all processes and quitting the program.\")\n",
    "        quit()\n",
    "    case [\"quit\" | \"exit\" | \"bye\", *rest]:\n",
    "        print(f\"Quitting the program\")\n",
    "        quit()\n",
    "    case _:\n",
    "        print(f\"unknown commande: {command!r}\")\n"
   ]
  },
  {
   "cell_type": "code",
   "execution_count": null,
   "metadata": {},
   "outputs": [],
   "source": [
    "from dataclasses import dataclass\n",
    "from typing import List\n",
    "import shlex\n",
    "\n",
    "@dataclass\n",
    "class Command:\n",
    "    command: str\n",
    "    arguments: List[str]\n",
    "\n",
    "\n",
    "# command = input(\"$\")  # pour une application hors notebook\n",
    "command, *argument = shlex.split(input(\"$\"))\n",
    "\n",
    "\n",
    "\n",
    "    "
   ]
  }
 ],
 "metadata": {
  "language_info": {
   "name": "python"
  },
  "orig_nbformat": 4
 },
 "nbformat": 4,
 "nbformat_minor": 2
}
