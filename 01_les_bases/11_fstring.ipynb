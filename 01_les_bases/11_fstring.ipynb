{
 "cells": [
  {
   "attachments": {},
   "cell_type": "markdown",
   "metadata": {},
   "source": [
    "# Les `fstrings`\n",
    "\n",
    "Les `fstrings` est une méthode pour intégrer du code (des variables ou des calculs élémentaires) dans des chaînes à afficher. C'est donc une méthode très pratique.\n",
    "\n",
    "Ce [tutoriel de Arjan Code](https://www.youtube.com/watch?v=Mfmr_Puhtew) en fait la présentation. Je conserve ici les principaux aspects."
   ]
  },
  {
   "cell_type": "code",
   "execution_count": 4,
   "metadata": {},
   "outputs": [
    {
     "name": "stdout",
     "output_type": "stream",
     "text": [
      "L'entier est 800\n"
     ]
    }
   ],
   "source": [
    "entier = 800\n",
    "print(f\"L'entier est {entier}\")"
   ]
  },
  {
   "cell_type": "code",
   "execution_count": 5,
   "metadata": {},
   "outputs": [
    {
     "name": "stdout",
     "output_type": "stream",
     "text": [
      "Ce qui fait en hexadécimal 320\n",
      "ou en octal 1440\n"
     ]
    }
   ],
   "source": [
    "print(f\"Ce qui fait en hexadécimal {entier:x}\")\n",
    "print(f\"ou en octal {entier:o}\")"
   ]
  },
  {
   "attachments": {},
   "cell_type": "markdown",
   "metadata": {},
   "source": [
    "Plus intéressant la représentation des flottants et de la notation scientifique."
   ]
  },
  {
   "cell_type": "code",
   "execution_count": 3,
   "metadata": {},
   "outputs": [
    {
     "name": "stdout",
     "output_type": "stream",
     "text": [
      "Le flottant avec deux décimals est 54.35\n",
      "en notation scientifique 5.43e+01\n"
     ]
    }
   ],
   "source": [
    "flot = 54.34566\n",
    "print(f\"Le flottant avec deux décimals est {flot:.2f}\")\n",
    "print(f\"en notation scientifique {flot:.2e}\")"
   ]
  },
  {
   "attachments": {},
   "cell_type": "markdown",
   "metadata": {},
   "source": [
    "Plus intéressant est de formatter pour aligner les nombres, par exemple en mettant des 0 devant."
   ]
  },
  {
   "cell_type": "code",
   "execution_count": 6,
   "metadata": {},
   "outputs": [
    {
     "name": "stdout",
     "output_type": "stream",
     "text": [
      "l'entier formatté avec des 0 devant 000800\n"
     ]
    }
   ],
   "source": [
    "print(f\"l'entier formatté avec des 0 devant {entier:06}\")"
   ]
  },
  {
   "cell_type": "code",
   "execution_count": 7,
   "metadata": {},
   "outputs": [
    {
     "name": "stdout",
     "output_type": "stream",
     "text": [
      "ou sans 0 mais des espaces    800\n"
     ]
    }
   ],
   "source": [
    "print(f\"ou sans 0 mais des espaces {entier:6}\")"
   ]
  },
  {
   "attachments": {},
   "cell_type": "markdown",
   "metadata": {},
   "source": [
    "Ce qui va être utile pour aligner une série"
   ]
  },
  {
   "cell_type": "code",
   "execution_count": 17,
   "metadata": {},
   "outputs": [
    {
     "name": "stdout",
     "output_type": "stream",
     "text": [
      "le 1° multiple de 3 est   3\n",
      "le 2° multiple de 3 est   6\n",
      "le 3° multiple de 3 est   9\n",
      "le 4° multiple de 3 est  12\n",
      "le 5° multiple de 3 est  15\n",
      "le 6° multiple de 3 est  18\n",
      "le 7° multiple de 3 est  21\n",
      "le 8° multiple de 3 est  24\n",
      "le 9° multiple de 3 est  27\n"
     ]
    }
   ],
   "source": [
    "for i in range(1,10):\n",
    "    print(f\"le {i}° multiple de 3 est {i*3:3}\")"
   ]
  },
  {
   "attachments": {},
   "cell_type": "markdown",
   "metadata": {},
   "source": [
    "Pour les grands nombres, on peut introduire des séparateurs des milliers."
   ]
  },
  {
   "cell_type": "code",
   "execution_count": 27,
   "metadata": {},
   "outputs": [
    {
     "name": "stdout",
     "output_type": "stream",
     "text": [
      "une gros chiffre est 40_000_000_000.00\n"
     ]
    }
   ],
   "source": [
    "big = 40000000000\n",
    "print(f\"une gros chiffre est {big:_.2f}\")"
   ]
  },
  {
   "attachments": {},
   "cell_type": "markdown",
   "metadata": {},
   "source": [
    "hélas, cela n'a pas été conçu pour les Français et donc le séparateur des milliers ne peut pas être uniquement un espace."
   ]
  },
  {
   "attachments": {},
   "cell_type": "markdown",
   "metadata": {},
   "source": [
    "On peut aussi utiliser pour représenter les pourcentages."
   ]
  },
  {
   "cell_type": "code",
   "execution_count": 28,
   "metadata": {},
   "outputs": [
    {
     "name": "stdout",
     "output_type": "stream",
     "text": [
      "le pourcentages est 85.68%\n"
     ]
    }
   ],
   "source": [
    "perc = 0.85677\n",
    "print(f\"le pourcentages est {perc:.2%}\")"
   ]
  },
  {
   "attachments": {},
   "cell_type": "markdown",
   "metadata": {},
   "source": [
    "Les alignements se font simplement avec les nombres comme nous l'avons vu plus haut, mais on peut aussi le faire avec du texte."
   ]
  },
  {
   "cell_type": "code",
   "execution_count": 33,
   "metadata": {},
   "outputs": [
    {
     "name": "stdout",
     "output_type": "stream",
     "text": [
      "        bonjour\n",
      "    bonjour    \n",
      "bonjour        \n"
     ]
    }
   ],
   "source": [
    "sal = 'bonjour'\n",
    "print(f\"{sal:>15}\")  # alignement à droite\n",
    "print(f\"{sal:^15}\")  # centrage\n",
    "print(f\"{sal:<15}\")  # alignment à gauche"
   ]
  },
  {
   "attachments": {},
   "cell_type": "markdown",
   "metadata": {},
   "source": [
    "On peut aussi encadrer le texte avec un caractère choisi."
   ]
  },
  {
   "cell_type": "code",
   "execution_count": 38,
   "metadata": {},
   "outputs": [
    {
     "name": "stdout",
     "output_type": "stream",
     "text": [
      "________bonjour\n",
      "****bonjour****\n",
      "bonjour%%%%%%%%\n"
     ]
    }
   ],
   "source": [
    "print(f\"{sal:_>15}\")  # alignement à droite\n",
    "print(f\"{sal:*^15}\")  # centrage\n",
    "print(f\"{sal:%<15}\")  # alignment à gauche"
   ]
  },
  {
   "attachments": {},
   "cell_type": "markdown",
   "metadata": {},
   "source": [
    "Avec les objets, on peut aussi avoir une utilisation avancée de cette commande en définissant la méthode d'impression (sinon on obtiendrait l'adresse le l'instance)."
   ]
  },
  {
   "cell_type": "code",
   "execution_count": 44,
   "metadata": {},
   "outputs": [
    {
     "name": "stdout",
     "output_type": "stream",
     "text": [
      "Loïc Fouchtra\n"
     ]
    }
   ],
   "source": [
    "class User:\n",
    "    def __init__(self, first_name:str, last_name: str)->None:\n",
    "        self.first_name=first_name\n",
    "        self.last_name=last_name\n",
    "\n",
    "    def __str__(self) -> str:\n",
    "        return f\"{self.first_name} {self.last_name}\"\n",
    "\n",
    "utilisateur= User(\"Loïc\", \"Fouchtra\")\n",
    "print(f\"{utilisateur}\")"
   ]
  },
  {
   "attachments": {},
   "cell_type": "markdown",
   "metadata": {},
   "source": [
    "Quand on utilise l'extension `dataclasses`, on bénéficie de sa méthode d'affichage par défaut."
   ]
  },
  {
   "cell_type": "code",
   "execution_count": 45,
   "metadata": {},
   "outputs": [
    {
     "name": "stdout",
     "output_type": "stream",
     "text": [
      "User(first_name='Loïc', last_name='Fouchtra')\n"
     ]
    }
   ],
   "source": [
    "from dataclasses import dataclass\n",
    "@dataclass\n",
    "class User:\n",
    "    first_name: str\n",
    "    last_name: str\n",
    "\n",
    "utilisateur= User(\"Loïc\", \"Fouchtra\")\n",
    "print(f\"{utilisateur}\")"
   ]
  },
  {
   "attachments": {},
   "cell_type": "markdown",
   "metadata": {},
   "source": [
    "Que l'on peut aussi améliorer avec une méthode `__str__`."
   ]
  },
  {
   "cell_type": "code",
   "execution_count": 50,
   "metadata": {},
   "outputs": [
    {
     "name": "stdout",
     "output_type": "stream",
     "text": [
      "Loïc Fouchtra\n",
      "User(first_name='Loïc', last_name='Fouchtra')\n"
     ]
    }
   ],
   "source": [
    "from dataclasses import dataclass\n",
    "@dataclass\n",
    "class User:\n",
    "    first_name: str\n",
    "    last_name: str\n",
    "    def __str__(self)->str:\n",
    "        return f\"{self.first_name} {self.last_name}\"\n",
    "    \n",
    "utilisateur= User(\"Loïc\", \"Fouchtra\")\n",
    "print(f\"{utilisateur}\")    # en utilisant __str__\n",
    "print(f\"{utilisateur!r}\")  # en utilisant la méthode par défaut\n"
   ]
  },
  {
   "attachments": {},
   "cell_type": "markdown",
   "metadata": {},
   "source": [
    "Il y a aussi beaucoup d'aide pour les dates."
   ]
  },
  {
   "cell_type": "code",
   "execution_count": 54,
   "metadata": {},
   "outputs": [
    {
     "name": "stdout",
     "output_type": "stream",
     "text": [
      "impression simple : 2023-05-20 16:37:18.586073\n"
     ]
    }
   ],
   "source": [
    "import datetime\n",
    "today = datetime.datetime.now()\n",
    "print(f\"impression simple : {today}\")"
   ]
  },
  {
   "cell_type": "code",
   "execution_count": 69,
   "metadata": {},
   "outputs": [
    {
     "name": "stdout",
     "output_type": "stream",
     "text": [
      "16:37\n",
      "16:37:18.586073\n",
      "20/05/2023 16:37\n",
      "05/20/23\n",
      "16:37:18\n",
      "Saturday\n",
      "05/20/23\n",
      "16:37:18\n"
     ]
    }
   ],
   "source": [
    "print(f\"{today:%H:%M}\")          # heures et minutes\n",
    "print(f\"{today:%H:%M:%S.%f}\")    # heures et minutes, secondes et millisecondes\n",
    "print(f\"{today:%d/%m/%Y %H:%M}\") # avec le jour\n",
    "print(f\"{today:%D}\")             # juste le jour\n",
    "print(f\"{today:%T}\")             # juste le temps\n",
    "print(f\"{today:%A}\")             # le jour\n",
    "print(f\"{today:%x}\")             # la date avec la locale\n",
    "print(f\"{today:%X}\")"
   ]
  },
  {
   "attachments": {},
   "cell_type": "markdown",
   "metadata": {},
   "source": [
    "Remarquons qu'avec les dictionaires (qui demande que les clés soit entre guillemets), il faut utiliser les guillemets appropriées."
   ]
  },
  {
   "cell_type": "code",
   "execution_count": 71,
   "metadata": {},
   "outputs": [
    {
     "name": "stdout",
     "output_type": "stream",
     "text": [
      " Hello world\n"
     ]
    }
   ],
   "source": [
    "dict = {\"hello\": \"world\"}\n",
    "print(f\" Hello {dict['hello']}\")"
   ]
  },
  {
   "attachments": {},
   "cell_type": "markdown",
   "metadata": {},
   "source": [
    "Pour le debogage, voici une méthode rapide pour écrire des variables en les faisant suivre d'un signe `=`."
   ]
  },
  {
   "cell_type": "code",
   "execution_count": 73,
   "metadata": {},
   "outputs": [
    {
     "name": "stdout",
     "output_type": "stream",
     "text": [
      "x = 45, y = 50\n"
     ]
    }
   ],
   "source": [
    "x = 45\n",
    "y = 50\n",
    "print(f\"{x = }, {y = }\")"
   ]
  },
  {
   "attachments": {},
   "cell_type": "markdown",
   "metadata": {},
   "source": [
    "plus d'info [ici](https://www.pythonmorsels.com/string-formatting/)"
   ]
  }
 ],
 "metadata": {
  "kernelspec": {
   "display_name": ".venv",
   "language": "python",
   "name": "python3"
  },
  "language_info": {
   "codemirror_mode": {
    "name": "ipython",
    "version": 3
   },
   "file_extension": ".py",
   "mimetype": "text/x-python",
   "name": "python",
   "nbconvert_exporter": "python",
   "pygments_lexer": "ipython3",
   "version": "3.10.7"
  },
  "orig_nbformat": 4
 },
 "nbformat": 4,
 "nbformat_minor": 2
}
