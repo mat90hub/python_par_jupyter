{
 "cells": [
  {
   "attachments": {},
   "cell_type": "markdown",
   "metadata": {},
   "source": [
    "# Écrire dans un fichier"
   ]
  },
  {
   "attachments": {},
   "cell_type": "markdown",
   "metadata": {},
   "source": [
    "L'écriture dans un fichier "
   ]
  },
  {
   "cell_type": "code",
   "execution_count": 10,
   "metadata": {},
   "outputs": [
    {
     "data": {
      "text/plain": [
       "<function TextIOWrapper.close()>"
      ]
     },
     "execution_count": 10,
     "metadata": {},
     "output_type": "execute_result"
    }
   ],
   "source": [
    "# création du fichier en mode écriture\n",
    "file = open('fichier.txt', 'w')\n",
    "file.write('Bonjour tout le monde !')\n",
    "file.flush()\n",
    "file.close"
   ]
  },
  {
   "attachments": {},
   "cell_type": "markdown",
   "metadata": {},
   "source": [
    "La variable `file` se nomme en anglais un *file handler*, qui est un pointeur sur un objet qui permet de manipuler le fichier. La méthode [flush()](https://www.w3schools.com/python/ref_file_flush.asp) est utile à connaître. L'écriture ne se fait pas directement dans le fichier stocké sur le disque dur, mais d'abord dans une mémoire tampon. Cette mémoire est recopiée dans le fichier à un moment optimium décidé par les règles internes de Python (et du système d'exploitation). Cette commande permet de forcer la vidange de cette mémoire tampon dans le fichier, pour être sûr que l'écriture soit vraiment faite à ce moment du programme."
   ]
  },
  {
   "attachments": {},
   "cell_type": "markdown",
   "metadata": {},
   "source": [
    "La lecture dans un fichier."
   ]
  },
  {
   "cell_type": "code",
   "execution_count": 11,
   "metadata": {},
   "outputs": [
    {
     "name": "stdout",
     "output_type": "stream",
     "text": [
      "Bonjour tout le monde !\n"
     ]
    }
   ],
   "source": [
    "file = open('fichier.txt', 'r')\n",
    "tampon = file.read()\n",
    "print(tampon)\n",
    "file.close()"
   ]
  },
  {
   "attachments": {},
   "cell_type": "markdown",
   "metadata": {},
   "source": [
    "On peut aussi ajouter dans le fichier."
   ]
  },
  {
   "cell_type": "code",
   "execution_count": 12,
   "metadata": {},
   "outputs": [
    {
     "name": "stdout",
     "output_type": "stream",
     "text": [
      "Bonjour tout le monde !\n",
      "Et une autre ligne !\n"
     ]
    }
   ],
   "source": [
    "file = open('fichier.txt', 'a')\n",
    "file.write(\"\\nEt une autre ligne !\")\n",
    "file.flush()\n",
    "file.close()\n",
    "\n",
    "file = open('fichier.txt', 'r')\n",
    "tampon = file.read()\n",
    "print(tampon)\n",
    "file.close()"
   ]
  },
  {
   "attachments": {},
   "cell_type": "markdown",
   "metadata": {},
   "source": [
    "# Ne plus avoir à refermer explicitement le *file handler*\n",
    "\n",
    "Les commandes précédantes peuvent s'écrire plus élégamment en utilisant la structure commençant par `with open`. Cette structure définit un espace de nom pour ce *file handler* qui se referme donc automatiquement dès qu'on sort de ce bloc."
   ]
  },
  {
   "cell_type": "code",
   "execution_count": 13,
   "metadata": {},
   "outputs": [
    {
     "name": "stdout",
     "output_type": "stream",
     "text": [
      "Bonjour tout le monde !\n",
      "Et une autre ligne !\n",
      "Et encore une autre ligne !\n"
     ]
    }
   ],
   "source": [
    "with open('fichier.txt', 'a') as file:\n",
    "    file.write(\"\\nEt encore une autre ligne !\")\n",
    "    \n",
    "with open('fichier.txt', 'r') as file:\n",
    "    tampon = file.read()\n",
    "\n",
    "print(tampon)"
   ]
  },
  {
   "attachments": {},
   "cell_type": "markdown",
   "metadata": {},
   "source": [
    "Cette méthode est aussi plus solide. Par exemple, je n'ai pas eu besoin d'utiliser la méthode [flush](https://stackoverflow.com/questions/51300181/is-it-necessary-to-call-flush-method-of-file-handler-in-python) ici."
   ]
  },
  {
   "attachments": {},
   "cell_type": "markdown",
   "metadata": {},
   "source": [
    "# Les fichiers [JSON](https://json.org/json-fr.html)\n",
    "\n",
    "[JSON](https://www.hostinger.fr/tutoriels/quest-ce-que-json) est un format de fichier très utile car il permet de stocker les structures utilisés dans Python. On utilise pour cela l'esxtension [json](https://docs.python.org/fr/3/library/json.html) qui soit charge (*moad*) une expresion chaîne dans le format json soit l'écrit (avec *dump*)."
   ]
  },
  {
   "cell_type": "code",
   "execution_count": 2,
   "metadata": {},
   "outputs": [
    {
     "name": "stdout",
     "output_type": "stream",
     "text": [
      "[\n",
      " {\n",
      "  \"name\": \"Jennifer\",\n",
      "  \"age\": 25\n",
      " },\n",
      " {\n",
      "  \"name\": \"Tom\",\n",
      "  \"age\": 33\n",
      " },\n",
      " {\n",
      "  \"name\": \"Rachel\",\n",
      "  \"age\": 44\n",
      " }\n",
      "]\n"
     ]
    }
   ],
   "source": [
    "import json\n",
    "\n",
    "names = [x for x in [\"Jennifer\", \"Tom\", \"Rachel\"]]\n",
    "ages = [x for x in [25, 33, 44]]\n",
    "\n",
    "persons = []\n",
    "for n,a in zip(names,ages):\n",
    "    persons.append({\n",
    "        'name': n,\n",
    "        'age': a\n",
    "    })\n",
    "\n",
    "# on peut améliorer l'impression avec dumps\n",
    "print(json.dumps(persons, indent=True))"
   ]
  },
  {
   "attachments": {},
   "cell_type": "markdown",
   "metadata": {},
   "source": [
    "Il n'y ensuite plus qu'à écrire ces chaînes dans fichier, pour éventuellement relire ensuite. Mais en fait, on peut directement agir sur les fichiers comme le montre ce [lien](https://pythonforge.com/donnees-json/))."
   ]
  },
  {
   "cell_type": "code",
   "execution_count": 4,
   "metadata": {},
   "outputs": [
    {
     "data": {
      "text/plain": [
       "'Tom'"
      ]
     },
     "execution_count": 4,
     "metadata": {},
     "output_type": "execute_result"
    }
   ],
   "source": [
    "with open('persons.json', 'w') as file:\n",
    "    json.dump(persons, file, indent=True)\n",
    "\n",
    "with open('persons.json', 'r') as file:\n",
    "    data = json.load(file)\n",
    "\n",
    "# ici on ré-imprime directement la liste \n",
    "# sans formater avec dumps\n",
    "data[1]['name']\n"
   ]
  },
  {
   "attachments": {},
   "cell_type": "markdown",
   "metadata": {},
   "source": [
    "On remarquera qu'il y a une commande `dump` pour écrire dans un fichier et une commande `dumps` (`s` pour `string`) pour écrire dans une chaîne de caractères."
   ]
  },
  {
   "attachments": {},
   "cell_type": "markdown",
   "metadata": {},
   "source": [
    "La simplicité de stockage et de lecture entre des listes de dictionaires et des fichiers fait des fichiers JSON un moyen privilégié pour les fichiers de configuration (voir par exemple les fichiers de configuration de VSC !)."
   ]
  },
  {
   "attachments": {},
   "cell_type": "markdown",
   "metadata": {},
   "source": [
    "# Travailler avec des fichiers `csv`"
   ]
  },
  {
   "attachments": {},
   "cell_type": "markdown",
   "metadata": {},
   "source": [
    "Il existe plusieurs extensions très utiles pour lire un fichier `csv` :  \n",
    "- [`lib/csv.py`](https://docs.python.org/fr/3/library/csv.html) ;\n",
    "- [pandas](https://pandas.pydata.org/docs/user_guide/io.html#csv-text-files)\n",
    "\n",
    "Dès qu'on commence à utiliser des tables, il est conseillé d'utiliser [panda](https://pandas.pydata.org/docs/user_guide/io.html#csv-text-files) qui offre des fonctionalités remarquables (voir le fichier qui lui ai dédié)."
   ]
  },
  {
   "attachments": {},
   "cell_type": "markdown",
   "metadata": {},
   "source": [
    "# Travailler avec des fichiers Excel\n",
    "Il existe aussi des extensions permettant de travailler directement avec des fichiers Excel.\n",
    "- [pandas](https://pandas.pydata.org/docs/user_guide/io.html#binary-excel-xlsb-files)\n",
    "- [openpyxl](https://openpyxl.readthedocs.io/en/stable/tutorial.html)\n",
    "- [xlwings](https://docs.xlwings.org/en/stable/)\n",
    "\n",
    "Ces extensions sont les plus modernes, mais il en existe aussi d'autres [ici](https://www.python-excel.org/)"
   ]
  },
  {
   "cell_type": "markdown",
   "metadata": {},
   "source": [
    "# Accéder aux répertoires"
   ]
  },
  {
   "cell_type": "markdown",
   "metadata": {},
   "source": [
    "L'extension [os](https://docs.python.org/3/library/os.html#module-os) permet d'interagir avec le système de fichier."
   ]
  },
  {
   "cell_type": "code",
   "execution_count": 21,
   "metadata": {},
   "outputs": [],
   "source": [
    "import os"
   ]
  },
  {
   "cell_type": "markdown",
   "metadata": {},
   "source": [
    "Pour avoir le répertoire courant, on utlise `getcwd()` :"
   ]
  },
  {
   "cell_type": "code",
   "execution_count": 5,
   "metadata": {},
   "outputs": [
    {
     "data": {
      "text/plain": [
       "'/home/mathieu/Sync/informatique/programmation/python/python_par_jupyter/01_les_bases'"
      ]
     },
     "execution_count": 5,
     "metadata": {},
     "output_type": "execute_result"
    }
   ],
   "source": [
    "rep_cour = os.getcwd()\n",
    "rep_cour"
   ]
  },
  {
   "cell_type": "markdown",
   "metadata": {},
   "source": [
    "Pour créer un répertoire, on peut utliser la fonction `mkdir` et depuis Python3.4, la fonction `makedirs`. Cette dernière possède un paramètre optionnel `exist_ok` qui permet d'éviter de renvoyer une erreur si le répetoire existe déjà."
   ]
  },
  {
   "cell_type": "code",
   "execution_count": 6,
   "metadata": {},
   "outputs": [
    {
     "data": {
      "text/plain": [
       "'/home/mathieu/Sync/informatique/programmation/python/python_par_jupyter/01_les_bases/fichiers'"
      ]
     },
     "execution_count": 6,
     "metadata": {},
     "output_type": "execute_result"
    }
   ],
   "source": [
    "os.makedirs(\"./fichiers\", exist_ok=True)\n",
    "os.chdir(\"./fichiers\")\n",
    "rep_cour = os.getcwd()\n",
    "rep_cour"
   ]
  },
  {
   "cell_type": "markdown",
   "metadata": {},
   "source": [
    "On revient en arrière."
   ]
  },
  {
   "cell_type": "code",
   "execution_count": 7,
   "metadata": {},
   "outputs": [
    {
     "data": {
      "text/plain": [
       "'/home/mathieu/Sync/informatique/programmation/python/python_par_jupyter/01_les_bases'"
      ]
     },
     "execution_count": 7,
     "metadata": {},
     "output_type": "execute_result"
    }
   ],
   "source": [
    "os.chdir(\"..\")\n",
    "rep_cour = os.getcwd()\n",
    "rep_cour"
   ]
  },
  {
   "cell_type": "code",
   "execution_count": 8,
   "metadata": {},
   "outputs": [],
   "source": [
    "os.rmdir(\"./fichiers\")"
   ]
  },
  {
   "cell_type": "markdown",
   "metadata": {},
   "source": [
    "# Vérifier si un fichier existe"
   ]
  },
  {
   "attachments": {},
   "cell_type": "markdown",
   "metadata": {},
   "source": [
    "Vérifier si un fichier existe et le supprimer le cas échéant, ce qui me permet de remettre ici mon répertoire à jour."
   ]
  },
  {
   "cell_type": "code",
   "execution_count": 24,
   "metadata": {},
   "outputs": [],
   "source": [
    "# j'efface le fichier s'il pré-existe\n",
    "if os.path.exists('fichier.txt'):\n",
    "    os.remove('fichier.txt')\n",
    "    os.remove('persons.json')"
   ]
  }
 ],
 "metadata": {
  "kernelspec": {
   "display_name": ".venv",
   "language": "python",
   "name": "python3"
  },
  "language_info": {
   "codemirror_mode": {
    "name": "ipython",
    "version": 3
   },
   "file_extension": ".py",
   "mimetype": "text/x-python",
   "name": "python",
   "nbconvert_exporter": "python",
   "pygments_lexer": "ipython3",
   "version": "3.10.7"
  },
  "orig_nbformat": 4,
  "vscode": {
   "interpreter": {
    "hash": "f2aec3b84089aa708d4850c58218314a12e464c7021fc707cb33bd662b6900e2"
   }
  }
 },
 "nbformat": 4,
 "nbformat_minor": 2
}
