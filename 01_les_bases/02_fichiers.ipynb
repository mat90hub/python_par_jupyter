{
 "cells": [
  {
   "attachments": {},
   "cell_type": "markdown",
   "metadata": {},
   "source": [
    "# Écrire dans un fichier"
   ]
  },
  {
   "attachments": {},
   "cell_type": "markdown",
   "metadata": {},
   "source": [
    "L'écriture dans un fichier "
   ]
  },
  {
   "cell_type": "code",
   "execution_count": 1,
   "metadata": {},
   "outputs": [
    {
     "data": {
      "text/plain": [
       "<function TextIOWrapper.close()>"
      ]
     },
     "execution_count": 1,
     "metadata": {},
     "output_type": "execute_result"
    }
   ],
   "source": [
    "# création du fichier en mode écriture\n",
    "file = open('fichier.txt', 'w')\n",
    "file.write('Bonjour tout le monde !')\n",
    "file.flush()\n",
    "file.close"
   ]
  },
  {
   "attachments": {},
   "cell_type": "markdown",
   "metadata": {},
   "source": [
    "La lecture dans un fichier."
   ]
  },
  {
   "cell_type": "code",
   "execution_count": 2,
   "metadata": {},
   "outputs": [
    {
     "name": "stdout",
     "output_type": "stream",
     "text": [
      "Bonjour tout le monde !\n"
     ]
    }
   ],
   "source": [
    "file = open('fichier.txt', 'r')\n",
    "tampon = file.read()\n",
    "print(tampon)\n",
    "file.close()"
   ]
  },
  {
   "attachments": {},
   "cell_type": "markdown",
   "metadata": {},
   "source": [
    "On peut aussi ajouter dans le fichier."
   ]
  },
  {
   "cell_type": "code",
   "execution_count": 3,
   "metadata": {},
   "outputs": [
    {
     "name": "stdout",
     "output_type": "stream",
     "text": [
      "Bonjour tout le monde !\n",
      "Et une autre ligne !\n"
     ]
    }
   ],
   "source": [
    "file = open('fichier.txt', 'a')\n",
    "file.write(\"\\nEt une autre ligne !\")\n",
    "file.flush()\n",
    "file.close()\n",
    "\n",
    "file = open('fichier.txt', 'r')\n",
    "tampon = file.read()\n",
    "print(tampon)\n",
    "file.close()"
   ]
  },
  {
   "attachments": {},
   "cell_type": "markdown",
   "metadata": {},
   "source": [
    "# Travailler avec des fichiers `csv`"
   ]
  },
  {
   "attachments": {},
   "cell_type": "markdown",
   "metadata": {},
   "source": [
    "Il existe plusieurs extensions très utiles pour lire un fichier `csv` :  \n",
    "- [`lib/csv.py`](https://docs.python.org/fr/3/library/csv.html) ;\n",
    "- [pandas](https://pandas.pydata.org/docs/user_guide/io.html#csv-text-files)"
   ]
  },
  {
   "attachments": {},
   "cell_type": "markdown",
   "metadata": {},
   "source": [
    "# Travailler avec des fichiers Excel\n",
    "Il existe aussi des extensions permettant de travailler directement avec des fichiers Excel.\n",
    "- [pandas](https://pandas.pydata.org/docs/user_guide/io.html#binary-excel-xlsb-files)\n",
    "- [openpyxl](https://openpyxl.readthedocs.io/en/stable/tutorial.html)\n",
    "- [xlwings](https://docs.xlwings.org/en/stable/)\n",
    "\n",
    "Ces extensions sont les plus modernes, mais il en existe aussi d'autres [ici](https://www.python-excel.org/)"
   ]
  },
  {
   "cell_type": "markdown",
   "metadata": {},
   "source": [
    "# Accéder aux répertoires"
   ]
  },
  {
   "cell_type": "markdown",
   "metadata": {},
   "source": [
    "L'extension [os](https://docs.python.org/3/library/os.html#module-os) permet d'interagir avec le système de fichier."
   ]
  },
  {
   "cell_type": "code",
   "execution_count": 4,
   "metadata": {},
   "outputs": [],
   "source": [
    "import os"
   ]
  },
  {
   "cell_type": "markdown",
   "metadata": {},
   "source": [
    "Pour avoir le répertoire courant, on utlise `getcwd()` :"
   ]
  },
  {
   "cell_type": "code",
   "execution_count": 5,
   "metadata": {},
   "outputs": [
    {
     "data": {
      "text/plain": [
       "'/home/mathieu/Sync/informatique/programmation/python/python_par_jupyter/01_les_bases'"
      ]
     },
     "execution_count": 5,
     "metadata": {},
     "output_type": "execute_result"
    }
   ],
   "source": [
    "rep_cour = os.getcwd()\n",
    "rep_cour"
   ]
  },
  {
   "cell_type": "markdown",
   "metadata": {},
   "source": [
    "Pour créer un répertoire, on peut utliser la fonction `mkdir` et depuis Python3.4, la fonction `makedirs`. Cette dernière possède un paramètre optionnel `exist_ok` qui permet d'éviter de renvoyer une erreur si le répetoire existe déjà."
   ]
  },
  {
   "cell_type": "code",
   "execution_count": 6,
   "metadata": {},
   "outputs": [
    {
     "data": {
      "text/plain": [
       "'/home/mathieu/Sync/informatique/programmation/python/python_par_jupyter/01_les_bases/fichiers'"
      ]
     },
     "execution_count": 6,
     "metadata": {},
     "output_type": "execute_result"
    }
   ],
   "source": [
    "os.makedirs(\"./fichiers\", exist_ok=True)\n",
    "os.chdir(\"./fichiers\")\n",
    "rep_cour = os.getcwd()\n",
    "rep_cour"
   ]
  },
  {
   "cell_type": "markdown",
   "metadata": {},
   "source": [
    "On revient en arrière."
   ]
  },
  {
   "cell_type": "code",
   "execution_count": 7,
   "metadata": {},
   "outputs": [
    {
     "data": {
      "text/plain": [
       "'/home/mathieu/Sync/informatique/programmation/python/python_par_jupyter/01_les_bases'"
      ]
     },
     "execution_count": 7,
     "metadata": {},
     "output_type": "execute_result"
    }
   ],
   "source": [
    "os.chdir(\"..\")\n",
    "rep_cour = os.getcwd()\n",
    "rep_cour"
   ]
  },
  {
   "cell_type": "code",
   "execution_count": 8,
   "metadata": {},
   "outputs": [],
   "source": [
    "os.rmdir(\"./fichiers\")"
   ]
  },
  {
   "cell_type": "markdown",
   "metadata": {},
   "source": [
    "# Vérifier si un fichier existe"
   ]
  },
  {
   "cell_type": "markdown",
   "metadata": {},
   "source": [
    "Vérifier si un fichier existe et le supprimer le cas échéant."
   ]
  },
  {
   "cell_type": "code",
   "execution_count": 9,
   "metadata": {},
   "outputs": [],
   "source": [
    "# j'efface le fichier s'il pré-existe\n",
    "if os.path.exists('fichier.txt'):\n",
    "    os.remove('fichier.txt')"
   ]
  }
 ],
 "metadata": {
  "kernelspec": {
   "display_name": ".venv",
   "language": "python",
   "name": "python3"
  },
  "language_info": {
   "codemirror_mode": {
    "name": "ipython",
    "version": 3
   },
   "file_extension": ".py",
   "mimetype": "text/x-python",
   "name": "python",
   "nbconvert_exporter": "python",
   "pygments_lexer": "ipython3",
   "version": "3.10.7"
  },
  "orig_nbformat": 4,
  "vscode": {
   "interpreter": {
    "hash": "f2aec3b84089aa708d4850c58218314a12e464c7021fc707cb33bd662b6900e2"
   }
  }
 },
 "nbformat": 4,
 "nbformat_minor": 2
}
