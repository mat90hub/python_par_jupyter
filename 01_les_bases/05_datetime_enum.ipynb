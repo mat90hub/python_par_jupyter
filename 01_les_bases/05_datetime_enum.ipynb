{
 "cells": [
  {
   "attachments": {},
   "cell_type": "markdown",
   "metadata": {},
   "source": [
    "# Utiliser les temps et heures avec [datetime](https://docs.python.org/3/library/datetime.html)\n",
    "\n",
    "L'extension [datetime](https://docs.python.org/3/library/datetime.html) donne toutes les fonctions utiles autour des dates et des heures.\n",
    "\n",
    "Il y a plusieurs sous-modules :\n",
    "- [le module calendar](https://docs.python.org/3/library/calendar.html#module-calendar) pour toutes les fonctions liées au calendrier ;\n",
    "- [le module time](https://docs.python.org/3/library/time.html#module-time) pour gérer le temps et ses conversions ;\n",
    "- [le module zoneinfo](https://docs.python.org/3/library/zoneinfo.html#module-zoneinfo) pour tous les sujets liés aux zones horaires\n",
    "- [le module dateutil](https://dateutil.readthedocs.io/en/stable/) qui est une extension supplémentaire apportant d'autres fonctions utiles non encore intégrées dans corpus officiel de Python."
   ]
  },
  {
   "attachments": {},
   "cell_type": "markdown",
   "metadata": {},
   "source": [
    "# Utiliser des énumérations avec [enum](https://docs.python.org/3/library/enum.html)\n",
    "\n",
    "L'extension [enum](https://docs.python.org/3/library/enum.html) permet de définir des énumérations, qui rendent la lecture plus digeste."
   ]
  },
  {
   "cell_type": "code",
   "execution_count": 2,
   "metadata": {},
   "outputs": [
    {
     "name": "stdout",
     "output_type": "stream",
     "text": [
      "True\n"
     ]
    }
   ],
   "source": [
    "from enum import Enum\n",
    "\n",
    "class Color(Enum):\n",
    "    RED = 1\n",
    "    GREEN = 2\n",
    "    BLUE = 3\n",
    "\n",
    "# Color = Enum('Color', ['RED', 'GREEN', 'BLUE'])\n",
    "\n",
    "some_var = Color.RED\n",
    "print(some_var in Color)"
   ]
  },
  {
   "cell_type": "code",
   "execution_count": 3,
   "metadata": {},
   "outputs": [
    {
     "name": "stdout",
     "output_type": "stream",
     "text": [
      "3\n"
     ]
    }
   ],
   "source": [
    "print(Color.BLUE.value)"
   ]
  },
  {
   "attachments": {},
   "cell_type": "markdown",
   "metadata": {},
   "source": [
    "voici un autre exemple qu'on trouve par exemple [ici](https://docs.python.org/3/howto/enum.html)"
   ]
  },
  {
   "cell_type": "code",
   "execution_count": 14,
   "metadata": {},
   "outputs": [
    {
     "data": {
      "text/plain": [
       "<JourDeLaSemaine.SAMEDI: 6>"
      ]
     },
     "execution_count": 14,
     "metadata": {},
     "output_type": "execute_result"
    }
   ],
   "source": [
    "class JourDeLaSemaine(Enum):\n",
    "    LUNDI=1\n",
    "    MARDI=2\n",
    "    MERCREDI=3\n",
    "    JEUDI=4\n",
    "    VENDREDI=5\n",
    "    SAMEDI=6\n",
    "    DIMANCHE=7\n",
    "\n",
    "    @classmethod\n",
    "    def from_date(cls, date):\n",
    "        return cls(date.isoweekday())\n",
    "    \n",
    "from datetime import date\n",
    "JourDeLaSemaine.from_date(date.today())"
   ]
  },
  {
   "cell_type": "code",
   "execution_count": 6,
   "metadata": {},
   "outputs": [
    {
     "data": {
      "text/plain": [
       "<JourDeLaSemaine.VENDREDI: 5>"
      ]
     },
     "execution_count": 6,
     "metadata": {},
     "output_type": "execute_result"
    }
   ],
   "source": [
    "jour = JourDeLaSemaine.VENDREDI\n",
    "jour"
   ]
  },
  {
   "cell_type": "code",
   "execution_count": 7,
   "metadata": {},
   "outputs": [
    {
     "data": {
      "text/plain": [
       "<JourDeLaSemaine.MERCREDI: 3>"
      ]
     },
     "execution_count": 7,
     "metadata": {},
     "output_type": "execute_result"
    }
   ],
   "source": [
    "JourDeLaSemaine(3)"
   ]
  },
  {
   "cell_type": "code",
   "execution_count": 11,
   "metadata": {},
   "outputs": [
    {
     "data": {
      "text/plain": [
       "<JourDeLaSemaine.MARDI: 2>"
      ]
     },
     "execution_count": 11,
     "metadata": {},
     "output_type": "execute_result"
    }
   ],
   "source": [
    "JourDeLaSemaine.from_date(date(2020, 2,11))"
   ]
  },
  {
   "cell_type": "code",
   "execution_count": 21,
   "metadata": {},
   "outputs": [
    {
     "data": {
      "text/plain": [
       "<JourDeLaSemaine.SAMEDI: 6>"
      ]
     },
     "execution_count": 21,
     "metadata": {},
     "output_type": "execute_result"
    }
   ],
   "source": [
    "from datetime import date\n",
    "JourDeLaSemaine.from_date(date.fromisoformat('2023-04-22'))"
   ]
  },
  {
   "attachments": {},
   "cell_type": "markdown",
   "metadata": {},
   "source": [
    "Voir aussi la vidéop de [ArjanCodes](https://www.youtube.com/watch?v=LrtnLEkOwFE)."
   ]
  }
 ],
 "metadata": {
  "kernelspec": {
   "display_name": ".venv",
   "language": "python",
   "name": "python3"
  },
  "language_info": {
   "codemirror_mode": {
    "name": "ipython",
    "version": 3
   },
   "file_extension": ".py",
   "mimetype": "text/x-python",
   "name": "python",
   "nbconvert_exporter": "python",
   "pygments_lexer": "ipython3",
   "version": "3.10.7"
  },
  "orig_nbformat": 4
 },
 "nbformat": 4,
 "nbformat_minor": 2
}
