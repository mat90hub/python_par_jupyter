{
 "cells": [
  {
   "cell_type": "markdown",
   "metadata": {},
   "source": [
    "# Introduction à Python par Jupyter !"
   ]
  },
  {
   "attachments": {},
   "cell_type": "markdown",
   "metadata": {},
   "source": [
    "<em>Notes: quand on écrit de long texte en Français, on peut avoir besoin de ces caractères : «   » … ’ qui ne sont pas accessibles directement avec le clavier. L'apostrophe ’ permet de se différentier du guillemet simple anglais ' qui a souvent une signification d'échappement. Les catactères double-points et guillemets sont ici entourés d'espaces insécables, qui ne se distinguent pas, mais sont néanmoins présents « : ».</em>"
   ]
  },
  {
   "attachments": {},
   "cell_type": "markdown",
   "metadata": {},
   "source": [
    "## De quoi parle-t-on ?"
   ]
  },
  {
   "attachments": {},
   "cell_type": "markdown",
   "metadata": {},
   "source": [
    "Ce fichier est le premier d'une série de fichiers `ipynb`, qui sont des notes que j'ai prises en apprenant à utiliser [Python](https://openclassrooms.com/fr/courses/7168871-apprenez-les-bases-du-langage-python). Pour cela, j'utilise le [notebook Jupyter](https://jupyter.org/), qui permet d'écrire du texte enrichi d'images avec du code <strong>Python</strong> directement exécutable, ce qui permet de la vérifier immédiatement.\n",
    "\n",
    "Il faut [avoir installé Python](https://fr.wikihow.com/installer-Python) puis [Jupyter](https://jupyter.org/install). Il existe aussi [JupyterLab](https://github.com/jupyterlab/jupyterlab), qui est un interface plus avancé, mais comme je passe par l'éditeur [Visual Studio Code](https://code.visualstudio.com/) je n'en ai pas ressenti l'utilité. Les liens qui sont donnés montrent comment ouvrir les fichiers `ipynb` sur un navigateur.\n",
    "\n",
    "Mais ici, j'ai choisi de rester entièrement sur Visual Studio Code. Il faut choisir [les extensions Jupyter](https://marketplace.visualstudio.com/items?itemName=bodrick.vscode-extensions-notebooks) et ensuite [configurer VSC](https://code.visualstudio.com/docs/datascience/jupyter-kernel-management). Nous revenons plus bas sur l'installation d'un environnement virtuel et des extensions nécessaires.\n",
    "\n",
    "Les parties de texte sont écrites en utilisant le langage [Markdown](https://www.markdownguide.org/), qui est une version simplifiée du langage [HTML]https://fr.wikipedia.org/wiki/HTML5) permettant d'enrichir les effets sur le texte et d'intégrer des liens et des images."
   ]
  },
  {
   "attachments": {},
   "cell_type": "markdown",
   "metadata": {},
   "source": [
    "Un fichier de notebook est composé de cellules indépendantes, qui sont soit en mode texte (c'est-à dire *markdown*) soit en mode code (c'est-à dire ici en *Python*).\n",
    "\n",
    "Pendant l'édition, on est soit dans une cellule en train de la modifier. Pour cela il faut cliquer dans la cellule. \n",
    "\n",
    "Soit on est à l'extérieur des cellules et on arrange les cellules entre-elles. On passe dans ce mode en appuyant sur la touche **ESC**. \n",
    "\n",
    "Les commandes de base quand on est dans ce mode sont les suivantes :\n",
    "<ul>\n",
    "<li>le passage en cellule pour entrer du code <code>[Y]</code> ou pour entrer du texte en Markdown <code>[M]</code></li>\n",
    "<li>ou l'insertion d'une cellule avant <code>[A]</code> ou après <code>[B]</code>.</li>\n",
    "<li>effacer une cellule et son contenu avec <code>[X]</code>.\n",
    "<li>coller une cellule qui vient d'être effacée (et est donc toujours en mémoire) avec <code>[V]</code>\n",
    "<li>exécuter une cellule de code <code>[ctrl-Entrée]</code> ou <code>[maj-Entrée]</code>\n",
    "</ul>\n",
    "\n",
    "<p>On retrouve ces commandes dans les menus ainsi que d'autres raccourcis utilisés moins souvent.</p>"
   ]
  },
  {
   "attachments": {},
   "cell_type": "markdown",
   "metadata": {},
   "source": [
    "# Mes images ne s'affichent pas !\n",
    "\n",
    "Le texte peut inclure des images, qui sont des liens particuliers. Ces liens sont soit des liens vers des images disponibles librement sur internet, soit des liens vers des images stockées localement.\n",
    "\n",
    "Les copies locales ont l'avantage d'être toujours disponibles, mais elles demandent de préciser le chemin vers l'image. Ce chemin va dépendre de chacune de nos installation et ne sera donc pas unique pour tous comme le serait une adresse internet. Vous trouverez dans certain répertoire le sous-répertoire `./img/` ou je mets les images du chapitre pour ne pas qu'elles se mélangent avec les fichiers. En passant d'un chapitre à l'autre, vous pourriez rencontrer des difficultés, à cause du chemin par défaut qui est compris par le coeur Python qui tourne en arrière plan.\n",
    "\n",
    "Les lignes qui suivent permettent de changer ce répertoire par défaut. S'il y a un problème, il faut recopier ces lignes dans une cellule Python et les exécuter avec `Ctrl - Entrée`. "
   ]
  },
  {
   "cell_type": "code",
   "execution_count": 1,
   "metadata": {},
   "outputs": [
    {
     "name": "stdout",
     "output_type": "stream",
     "text": [
      "/home/mathieu/Sync/informatique/programmation/python/python_par_jupyter/01_les_bases\n"
     ]
    }
   ],
   "source": [
    "import os\n",
    "try:\n",
    "    os.chdir(os.path.join(os.getcwd(),'.'))\n",
    "    print(os.getcwd())\n",
    "except:\n",
    "    pass"
   ]
  },
  {
   "cell_type": "markdown",
   "metadata": {},
   "source": [
    "## Découvrir Python "
   ]
  },
  {
   "attachments": {},
   "cell_type": "markdown",
   "metadata": {},
   "source": [
    "<p><strong>Python</strong> est un langage script, qui s'exécute dans une console ou ici dans une cellule et donne immédiatement le résultat sans passer par une phase de compilation comme le demanderait le C. Il a une syntaxe rapide à apprendre et surtout il existe une communauté très active, qui développe des bibliothèques étendant fortement les capacités du langage.</p>"
   ]
  },
  {
   "attachments": {},
   "cell_type": "markdown",
   "metadata": {},
   "source": [
    "Il y a plusieurs façon d'introduire le langage. Ce texte a été construit peu à peu, chaque fois que je rencontre une structure de code intéressante à retenir et n'entrant pas dans les autres catégories que j'ai définies. Mais il existe d'autres introductions très intéressantes.\n",
    "\n",
    "Voici une liste de liens:\n",
    "- [Rappels de Python et Numpy de l'université de Montpellier](https://www.univ-montp3.fr/miap/ens/miashs/master/ues/test_maximilien/htmls/0_requisite/rappels_python.html)\n",
    "- [tutoriel Python sur le site officiel de Python](https://docs.python.org/fr/3/tutorial/)\n"
   ]
  },
  {
   "attachments": {},
   "cell_type": "markdown",
   "metadata": {},
   "source": [
    "# Les bases du langage Python"
   ]
  },
  {
   "attachments": {},
   "cell_type": "markdown",
   "metadata": {},
   "source": [
    "<p>Dans beaucoup d’autres langages de programmation, les instructions se terminent par un point virgule. En Python, une instruction se termine par un retour à la ligne ou l’insertion d'un commentaire de fin de ligne et qui débute alors par le caractère dièse (#). On peut néanmoins échapper ce retour à la ligne avec une barre oblique inversée '\\'. Dans ce cas, l’instruction s’écrit sur plusieurs lignes.</p>\n",
    "<p>Ensuite, il est courant en programmation d’avoir à recourir à des décomposition en blocs. Un bloc est une suite d’instructions dont le résultat est ensuite retourné au bloc supérieur. En `C` ces blocs se délimitent entre accolades. En Python, l’indentation délimitera le bloc. Cette pratique d’indenter les blocs existe déjà dans les autres langages, pour améliorer la lisibilité du code. Ici, elle est obligatoire, car faisant partie du langage.</p>\n",
    "<p>Voici un premier exemple de test élémentaire.</p>"
   ]
  },
  {
   "cell_type": "code",
   "execution_count": 22,
   "metadata": {},
   "outputs": [
    {
     "name": "stdout",
     "output_type": "stream",
     "text": [
      "a est grand\n"
     ]
    }
   ],
   "source": [
    "a = 50\n",
    "if a > 30:\n",
    "    print(\"a est grand\")"
   ]
  },
  {
   "attachments": {},
   "cell_type": "markdown",
   "metadata": {},
   "source": [
    "On remarquera que la ligne précédent le sous-bloc se termine par le caractère deux points (:). Cette ligne agit en quelque sorte comme une étiquette du bloc."
   ]
  },
  {
   "attachments": {},
   "cell_type": "markdown",
   "metadata": {},
   "source": [
    "<p>Voici un autre exemple faisant intervenir une boucle.</p>"
   ]
  },
  {
   "cell_type": "code",
   "execution_count": 23,
   "metadata": {},
   "outputs": [
    {
     "name": "stdout",
     "output_type": "stream",
     "text": [
      "1 | 2 | 3 | 4 | "
     ]
    }
   ],
   "source": [
    "a = 1\n",
    "while a < 5:\n",
    "    print(a, end=\" | \")\n",
    "    a = a+1"
   ]
  },
  {
   "attachments": {},
   "cell_type": "markdown",
   "metadata": {},
   "source": [
    "À noter que toutes les lignes du sous-blocs doivent être indentées de la même manière. En particulier, il ne faut pas mélangé des lignes indentées par des espaces avec des lignes indentées par des tabulations. Ces lignes risqueraient d'être interprétées comme des sous-blocs différents. Heureusement, les éditeurs intelligents règlent ce problème silencieusement en remplaçant les tabulations par des espaces, quand ils sont bien réglés. Mais il convient de rester vigilant avec avec cette source de bogue, difficile à détecter. "
   ]
  },
  {
   "attachments": {},
   "cell_type": "markdown",
   "metadata": {},
   "source": [
    "# Les types de données\n",
    "## un typage dynamique\n",
    "\n",
    "Le type des variables est déterminé par le langage au moment de l'affectation. On ne déclare pas le type d'une variable. Dans certains cas, on peut avoir à faire des traductions de type (typiquement d'un float en integer ou inversement).\n",
    "\n",
    "## Les types de base\n",
    "\n",
    "Python a peu de types de base:\n",
    "\n",
    "### types numériques\n",
    "\n",
    "Les deux types numériques de base en Python sont <code>float</code> et <code>integer</code>. La bibliothèques de base [numpy](https://numpy.org/doc/) introduit d'autres types numériques.\n",
    "\n",
    "###  type alphanumérique\n",
    "\n",
    "<p>Les chaînes de caractères ou <code>string</code> en Anglais sont des lignes de texte délimité par des apostrophes simples ou doubles. Ces chaînes reconnaissent les commandes échappées avec un une barre oblique inversée (antislash) <code>\\</code> qui permet en particulier le retour à la ligne <code>\\n</code>.</p>\n",
    "\n",
    "<p>En Python, une chaîne est une liste de caractères, on peut donc accéder aux caractères de la manière suivante.</p>\n",
    "\n",
    "<p><em>(les bibliothèques proposent d'autres types de données dédiées à leurs propres objectifs)</em></p>"
   ]
  },
  {
   "cell_type": "code",
   "execution_count": 24,
   "metadata": {},
   "outputs": [
    {
     "name": "stdout",
     "output_type": "stream",
     "text": [
      "Ceci est une longue chaîne\n",
      "et un retour à la ligne\n",
      "C\n"
     ]
    }
   ],
   "source": [
    "ch = 'Ceci est une longue chaîne\\net un retour à la ligne'\n",
    "print(ch)\n",
    "print(ch[0])"
   ]
  },
  {
   "attachments": {},
   "cell_type": "markdown",
   "metadata": {},
   "source": [
    "On peut aussi afficher les caractères non accessibles au clavier avec le fonction `chr`."
   ]
  },
  {
   "cell_type": "code",
   "execution_count": 25,
   "metadata": {},
   "outputs": [
    {
     "name": "stdout",
     "output_type": "stream",
     "text": [
      "Alphabet grec (minuscule) :  αβγδεζηθικλμνξοπρςστυφχψω\n"
     ]
    }
   ],
   "source": [
    "s = \"\"                   # chaîne vide\n",
    "i = 945                  # premier code\n",
    "while i <= 969:          # dernier code\n",
    "    s += chr(i)\n",
    "    i = i + 1\n",
    "print(\"Alphabet grec (minuscule) : \", s)"
   ]
  },
  {
   "attachments": {},
   "cell_type": "markdown",
   "metadata": {},
   "source": [
    "## les types composites\n",
    "  \n",
    "La chaîne de caractère est déjà un type composite, puisqu'il s'agit d'une liste de caractères.\n",
    "\n",
    "\n",
    "### Les tuples\n",
    "\n",
    "Un tuple rassemble des données fixes entre parenthèses <code>()</code>. Les données peuvent être de types différent. On accède aux éléments avec la notation utilisant les crochets <code>[]</code>"
   ]
  },
  {
   "cell_type": "code",
   "execution_count": 26,
   "metadata": {},
   "outputs": [
    {
     "name": "stdout",
     "output_type": "stream",
     "text": [
      "gt 45\n"
     ]
    }
   ],
   "source": [
    "t = ('gt', 45)\n",
    "print(t[0], t[1])"
   ]
  },
  {
   "cell_type": "code",
   "execution_count": 27,
   "metadata": {},
   "outputs": [
    {
     "name": "stdout",
     "output_type": "stream",
     "text": [
      "x=Marion, y=P'pa\n"
     ]
    }
   ],
   "source": [
    "x, y = 'Marion', \"P'pa\"\n",
    "print(f\"x={x}, y={y}\")"
   ]
  },
  {
   "cell_type": "markdown",
   "metadata": {},
   "source": [
    "La limitation d'un tuple est que ses données doivent rester des constantes et on ne peut donc pas faire d'affectation aux éléments d'un tuple."
   ]
  },
  {
   "attachments": {},
   "cell_type": "markdown",
   "metadata": {},
   "source": [
    "### Les listes\n",
    "\n",
    "La liste étend le tuple aux variables, donc aux éléments pouvant changer de valeur. On remplacer les parenthèses par des crochets <code>[]</code>. Si on reprend la déclaration précédente avec des crochets."
   ]
  },
  {
   "cell_type": "code",
   "execution_count": 28,
   "metadata": {},
   "outputs": [
    {
     "name": "stdout",
     "output_type": "stream",
     "text": [
      "gt 45\n"
     ]
    }
   ],
   "source": [
    "v = ['gt', 45]\n",
    "print(t[0], t[1])"
   ]
  },
  {
   "attachments": {},
   "cell_type": "markdown",
   "metadata": {},
   "source": [
    "<p>Les listes sont des séquences ordonnées. On peut donc accéder aux éléments en donnant leur rang, comme nous l’avons fait avec les chaînes de caractères.</p>"
   ]
  },
  {
   "cell_type": "code",
   "execution_count": 29,
   "metadata": {},
   "outputs": [
    {
     "name": "stdout",
     "output_type": "stream",
     "text": [
      "lt 45\n"
     ]
    }
   ],
   "source": [
    "v[0] = 'lt'\n",
    "print(v[0], v[1])"
   ]
  },
  {
   "attachments": {},
   "cell_type": "markdown",
   "metadata": {},
   "source": [
    "Ce genre d'opération n'aurait pas été possible avec le tuple <code>t</code> déclarée précédemment, car un tuple ne peut pas être modifié."
   ]
  },
  {
   "cell_type": "markdown",
   "metadata": {
    "hideCode": true
   },
   "source": [
    "Les tuples et les listes permettent à Python de faire des affectations multiples sur une seule ligne."
   ]
  },
  {
   "cell_type": "code",
   "execution_count": 30,
   "metadata": {},
   "outputs": [
    {
     "name": "stdout",
     "output_type": "stream",
     "text": [
      "a = 1  ,  b = 2\n"
     ]
    }
   ],
   "source": [
    "a, b = 1, 2\n",
    "print(\"a =\", a, \" , \", \"b =\", b)"
   ]
  },
  {
   "attachments": {},
   "cell_type": "markdown",
   "metadata": {},
   "source": [
    "Cette méthode d’affectation permet de réaliser un échange de valeurs entre deux variables de manière élégante. Cet échange est un problème type en programmation, qui s'appelle un « swap » en anglais. Dans la plupart des autres langages de programmation, il nécessite l’intervention d’une troisième variable. Ici on écrira l'affectation par tuple permet de simplifier la résolution."
   ]
  },
  {
   "cell_type": "code",
   "execution_count": 31,
   "metadata": {},
   "outputs": [
    {
     "name": "stdout",
     "output_type": "stream",
     "text": [
      "a = 2 , b = 1\n"
     ]
    }
   ],
   "source": [
    "a,b = 1, 2\n",
    "a,b = b, a\n",
    "print(f'a = {a} , b = {b}')"
   ]
  },
  {
   "attachments": {},
   "cell_type": "markdown",
   "metadata": {},
   "source": [
    "Nous verrons que les listes sont utilisées dans les boucles. Et il existe pour cela une fonction <code>range</code> qui génère des listes d'entiers."
   ]
  },
  {
   "cell_type": "code",
   "execution_count": 11,
   "metadata": {},
   "outputs": [
    {
     "name": "stdout",
     "output_type": "stream",
     "text": [
      "[0, 10, 20, 30, 40, 50, 60, 70, 80, 90]\n"
     ]
    }
   ],
   "source": [
    "lst = range(0,100,10)\n",
    "print(list(lst))"
   ]
  },
  {
   "attachments": {},
   "cell_type": "markdown",
   "metadata": {},
   "source": [
    "Obtenir la longueur d'une liste."
   ]
  },
  {
   "cell_type": "code",
   "execution_count": 15,
   "metadata": {},
   "outputs": [
    {
     "data": {
      "text/plain": [
       "10"
      ]
     },
     "execution_count": 15,
     "metadata": {},
     "output_type": "execute_result"
    }
   ],
   "source": [
    "len(lst)"
   ]
  },
  {
   "attachments": {},
   "cell_type": "markdown",
   "metadata": {},
   "source": [
    "### Les dictionnaires\n",
    "\n",
    "Les dictionnaires sont une autre forme de type composite, qui associe une clé à une valeur. La liste des clés doit être de type non mutable, typiquement, ce peut être un tuple, mais pas une liste. Attention aussi quand on utilise des chaînes de caractères, il vaut mieux éviter les caractères non ASCII (pas de lettres accentuées par exemple), ce qui peut amener pour le moment des difficultés supplémentaires au moment de l'affichage.\n",
    "\n",
    "Les dictionnaires se déclarent avec des acolades <code>{}</code>."
   ]
  },
  {
   "cell_type": "code",
   "execution_count": 33,
   "metadata": {},
   "outputs": [
    {
     "name": "stdout",
     "output_type": "stream",
     "text": [
      "{'car': 'voiture', 'plane': 'avion', 'bus': 'bus'}\n"
     ]
    }
   ],
   "source": [
    "dico = {}\n",
    "dico['car'] = 'voiture'\n",
    "dico['plane'] = 'avion'\n",
    "dico['bus']='bus'\n",
    "print(dico)"
   ]
  },
  {
   "cell_type": "markdown",
   "metadata": {},
   "source": [
    "Il existe ensuite plusieurs méthodes, automatiquement crées par exemple pour avoir liste des clés ou des valeurs."
   ]
  },
  {
   "cell_type": "code",
   "execution_count": 34,
   "metadata": {},
   "outputs": [
    {
     "name": "stdout",
     "output_type": "stream",
     "text": [
      "dict_keys(['car', 'plane', 'bus'])\n",
      "dict_values(['voiture', 'avion', 'bus'])\n"
     ]
    }
   ],
   "source": [
    "print(dico.keys())\n",
    "print(dico.values())"
   ]
  },
  {
   "attachments": {},
   "cell_type": "markdown",
   "metadata": {},
   "source": [
    "Il y a deux façons de déclarer un dictionnaire en extension. Dans la première méthode, on utilise les accolades et les clés doivent être échappées par des guillemets. Les valeurs sont séparées des clés par le caractère deux points et elles sont soit numérique, soit des chaînes de caractères entre guillemets ... ou d'autres objets encore."
   ]
  },
  {
   "cell_type": "code",
   "execution_count": 2,
   "metadata": {},
   "outputs": [
    {
     "data": {
      "text/plain": [
       "{'key1': 1, 'key2': 'deux'}"
      ]
     },
     "execution_count": 2,
     "metadata": {},
     "output_type": "execute_result"
    }
   ],
   "source": [
    "dico1 = {'key1': 1 , 'key2': 'deux'}\n",
    "dico1"
   ]
  },
  {
   "attachments": {},
   "cell_type": "markdown",
   "metadata": {},
   "source": [
    "La deuxième méthode consiste à utiliser la fonction `dict`. Dans ce cas, les clés n'ont pas besoin d'être entre guillemets et les valeurs sont séparées des clés par le signe égale."
   ]
  },
  {
   "cell_type": "code",
   "execution_count": 3,
   "metadata": {},
   "outputs": [
    {
     "data": {
      "text/plain": [
       "{'key1': 1, 'key2': 'deux'}"
      ]
     },
     "execution_count": 3,
     "metadata": {},
     "output_type": "execute_result"
    }
   ],
   "source": [
    "dico2 = dict (key1 = 1, key2 = 'deux')\n",
    "dico2"
   ]
  },
  {
   "attachments": {},
   "cell_type": "markdown",
   "metadata": {},
   "source": [
    "### Les vecteurs (array)\n",
    "\n",
    "Les vecteurs <em>(<code>array</code> en Anglais)</em> sont des listes dont les termes sont du même type. Ce type est plus courant dans les langages de programmation comme **C** ou **Pascal**. Il permet des optimisations, qui peuvent être efficaces pour le calcul numérique. On accède à ces types avec des bibliothèques comme <code>array</code> ou la bibliothèque <code>numpy</code>, qui est spécialisée dans le calcul numérique ."
   ]
  },
  {
   "attachments": {},
   "cell_type": "markdown",
   "metadata": {},
   "source": [
    "### La notation « pointée »"
   ]
  },
  {
   "attachments": {},
   "cell_type": "markdown",
   "metadata": {},
   "source": [
    "\n",
    "En Python tout est objet, c'est-à-dire qu'une variable a automatiquement des méthodes, qui lui sont associées et qu'on peut appeler en utilisant une notation « pointée ». Le type chaîne peut ainsi se voir appliquer la méthode <code>format</code>. Ci-dessous, la chaîne se voit appliquer cette méthode, qui insère les nombres données en argument selon les formats définis dans la chaîne."
   ]
  },
  {
   "cell_type": "code",
   "execution_count": 35,
   "metadata": {},
   "outputs": [
    {
     "name": "stdout",
     "output_type": "stream",
     "text": [
      "la racine carré de 2 est 1.414\n",
      "la racine carré de 3 est 1.732\n",
      "la racine carré de 4 est 2.000\n"
     ]
    }
   ],
   "source": [
    "for i in range(2,5):\n",
    "    print(\"la racine carré de {:d} est {:.3f}\".format(i, i**0.5))"
   ]
  },
  {
   "attachments": {},
   "cell_type": "markdown",
   "metadata": {},
   "source": [
    "# Les tests logiques\n",
    "\n",
    "Les valeurs logiques « vrai » et « faux » s'écrivent en Python `True` et `False` (attention à la majuscule). Le signe égalité s'écrit `==` comme dans d'autres langage pour le distinger du signe d'affactation, les signes `<`, `>`, `<=` et `>=` ont leurs significations usuelles dans les tests."
   ]
  },
  {
   "cell_type": "code",
   "execution_count": 16,
   "metadata": {},
   "outputs": [
    {
     "name": "stdout",
     "output_type": "stream",
     "text": [
      "x=2\n"
     ]
    }
   ],
   "source": [
    "x = 2\n",
    "if x == 2:\n",
    "    print(f'x={x}')"
   ]
  },
  {
   "attachments": {},
   "cell_type": "markdown",
   "metadata": {},
   "source": [
    "C'est la structure en bloc qui déterminera la fin et le début d'une expression logique.\n",
    "\n",
    "On peut chaîner les `if` et `elif` et le `else` final.\n",
    "Pour plus d'information, voir par exemple le [cours de l'université Paris Diderot](https://python.sdv.univ-paris-diderot.fr/06_tests/)\n"
   ]
  },
  {
   "attachments": {},
   "cell_type": "markdown",
   "metadata": {},
   "source": [
    "On peut aussi écrire un test logique sur une ligne, ce qui peut être parfois pratique."
   ]
  },
  {
   "cell_type": "code",
   "execution_count": 3,
   "metadata": {},
   "outputs": [
    {
     "data": {
      "text/plain": [
       "1"
      ]
     },
     "execution_count": 3,
     "metadata": {},
     "output_type": "execute_result"
    }
   ],
   "source": [
    "a = 2\n",
    "b = 1 if a == 2 else 3\n",
    "b"
   ]
  },
  {
   "attachments": {},
   "cell_type": "markdown",
   "metadata": {},
   "source": [
    "## Vérifier le type d'une donnée\n",
    "\n",
    "Il peut êter utile de véfifier le type d'un variable. Il existe pour cela deux fonctions possible. D'abord la fonction [type](https://www.delftstack.com/fr/howto/python/python-check-variable-type/#utilisez-la-fonction-type-pour-v%C3%A9rifier-le-type-dune-variable-en-python)"
   ]
  },
  {
   "cell_type": "code",
   "execution_count": 1,
   "metadata": {},
   "outputs": [
    {
     "name": "stdout",
     "output_type": "stream",
     "text": [
      "<class 'int'>\n"
     ]
    }
   ],
   "source": [
    "myInt = 50\n",
    "print(type(myInt))"
   ]
  },
  {
   "cell_type": "code",
   "execution_count": 3,
   "metadata": {},
   "outputs": [
    {
     "name": "stdout",
     "output_type": "stream",
     "text": [
      "<class 'str'>\n"
     ]
    }
   ],
   "source": [
    "myString = \"une chaine\"\n",
    "print(type(myString))"
   ]
  },
  {
   "attachments": {},
   "cell_type": "markdown",
   "metadata": {},
   "source": [
    "Une autre fonction possible est `isinstance` en se rappelant qu'en Python tout est objet, donc instance de quelque chose."
   ]
  },
  {
   "cell_type": "code",
   "execution_count": 4,
   "metadata": {},
   "outputs": [
    {
     "name": "stdout",
     "output_type": "stream",
     "text": [
      "c'est un entier\n"
     ]
    }
   ],
   "source": [
    "if isinstance(myInt, int):\n",
    "    print(\"c'est un entier\")"
   ]
  },
  {
   "attachments": {},
   "cell_type": "markdown",
   "metadata": {},
   "source": [
    "Il existe encore bien d'autre [commande de vérification ou de traduciton de type](https://docs.python.org/3/library/stdtypes.html)."
   ]
  },
  {
   "attachments": {},
   "cell_type": "markdown",
   "metadata": {},
   "source": [
    "# Itérer\n",
    "Le propre de tout langage de programmation est de pouvoir faire des calculs tout seul, selon un règle pré-établie. Bref, d'itérer un calcul. En Python il y a plusieurs moyens de faire ces itérations. Ces itérations seront toujours construites selon le même modèle :\n",
    "- une phrase définissant la boucle et se terminant par deux points (`:`) ;\n",
    "- le bloc en retrait définissant les calculs à répéter."
   ]
  },
  {
   "attachments": {},
   "cell_type": "markdown",
   "metadata": {},
   "source": [
    "## La boucle itérant sur les membres d’une liste\n",
    "Nous avons vu cette méthode plus haut en parlant de liste ou d’un tuple. C’est une façon assez naturelle d’écrire une boucle en Python. "
   ]
  },
  {
   "cell_type": "code",
   "execution_count": 36,
   "metadata": {},
   "outputs": [
    {
     "name": "stdout",
     "output_type": "stream",
     "text": [
      "1 4 9 16 "
     ]
    }
   ],
   "source": [
    "for i in (1, 2, 3, 4):\n",
    "    print(i*i, end=' ')"
   ]
  },
  {
   "attachments": {},
   "cell_type": "markdown",
   "metadata": {},
   "source": [
    "Si on veut utiliser souvent ces cas de boucles utilisant un indice entier, nous avons vu qu'il existe la fonction `range` qui génère une suite d'entiers et permet donc de se ramener à ces boucles classiques dans les autres langages."
   ]
  },
  {
   "cell_type": "code",
   "execution_count": 37,
   "metadata": {},
   "outputs": [
    {
     "name": "stdout",
     "output_type": "stream",
     "text": [
      "1 4 9 16 "
     ]
    }
   ],
   "source": [
    "for i in range(1,5,1):\n",
    "    print(i*i, end=' ')"
   ]
  },
  {
   "attachments": {},
   "cell_type": "markdown",
   "metadata": {},
   "source": [
    "Quand on utilise ce genre de boucles, on peut rapidement avoir besoin de la fonction [zip](https://docs.python.org/3/library/functions.html#zip) qui comme une fermeture éclair (traduction de 'zip' en français) permet de coller deux listes pour les parcourir ensemble."
   ]
  },
  {
   "cell_type": "code",
   "execution_count": 1,
   "metadata": {},
   "outputs": [
    {
     "name": "stdout",
     "output_type": "stream",
     "text": [
      "(1, 'sucre')\n",
      "(2, 'vanille')\n",
      "(3, 'chocolat')\n"
     ]
    }
   ],
   "source": [
    "for item in zip([1,2,3], ['sucre', 'vanille', 'chocolat']):\n",
    "    print(item)"
   ]
  },
  {
   "attachments": {},
   "cell_type": "markdown",
   "metadata": {},
   "source": [
    "## La boucle « tant que »\n",
    "Nous avons déjà vu l’expresion `while` qui permet de répéter un calcul tant qu’une valeur n'est pas atteinte. Par contre attention, il faut que la variable servant à l’itération ait été définie, qu'elle ait une valeur et un principe d’itération (ici une augmentation d’un pas de 1) qui va l’amener progressibement à la valeur à atteindre. Si on ne fait pas attention, ce type de boucle peut facilement devenir une bocule infinie bloquant votre ordinateur !"
   ]
  },
  {
   "cell_type": "code",
   "execution_count": 38,
   "metadata": {},
   "outputs": [
    {
     "name": "stdout",
     "output_type": "stream",
     "text": [
      "1 4 9 16 "
     ]
    }
   ],
   "source": [
    "i=1\n",
    "while i<5:\n",
    "    print(i*i, end=' ')\n",
    "    i+=1"
   ]
  },
  {
   "attachments": {},
   "cell_type": "markdown",
   "metadata": {},
   "source": [
    "## La boucle « répète tant que »\n",
    "La boucle `repeat … until` qui existe dans d’autres langages permet de vérifier la condition seulement après la première itération. C’est parfois utile. En Python, il n’existe pas de mot clé pour cela, mais on peut émuler ce comportement de la mnière suivante."
   ]
  },
  {
   "cell_type": "code",
   "execution_count": 39,
   "metadata": {},
   "outputs": [
    {
     "name": "stdout",
     "output_type": "stream",
     "text": [
      "1 4 9 16 "
     ]
    }
   ],
   "source": [
    "i=1\n",
    "while True:\n",
    "    print(i*i, end=' ')\n",
    "    i+=1\n",
    "    if i>=5:\n",
    "        break"
   ]
  },
  {
   "attachments": {},
   "cell_type": "markdown",
   "metadata": {},
   "source": [
    "# Étendre le langage avec des fonctions"
   ]
  },
  {
   "cell_type": "markdown",
   "metadata": {},
   "source": [
    "On peut définir des nouvelles fonctions de la façon suivante."
   ]
  },
  {
   "cell_type": "code",
   "execution_count": 40,
   "metadata": {},
   "outputs": [
    {
     "data": {
      "text/plain": [
       "(9, 27, 81)"
      ]
     },
     "execution_count": 40,
     "metadata": {},
     "output_type": "execute_result"
    }
   ],
   "source": [
    "def powers(x):\n",
    "    \"\"\"Retourne les premières puissances de x.\"\"\"\n",
    "    return x**2, x**3, x**4\n",
    "\n",
    "powers(3)"
   ]
  },
  {
   "attachments": {},
   "cell_type": "markdown",
   "metadata": {},
   "source": [
    "Python permet plusieurs utilisations avancées des paramètres, comme les paramètres optionnels."
   ]
  },
  {
   "cell_type": "code",
   "execution_count": 41,
   "metadata": {},
   "outputs": [
    {
     "data": {
      "text/plain": [
       "(100, 1000, 10000)"
      ]
     },
     "execution_count": 41,
     "metadata": {},
     "output_type": "execute_result"
    }
   ],
   "source": [
    "def powers(x=10):\n",
    "    \"\"\"Retourne les premières puissances de x, par défaut 10.\"\"\"\n",
    "    return x**2, x**3, x**4\n",
    "\n",
    "powers()"
   ]
  },
  {
   "cell_type": "markdown",
   "metadata": {},
   "source": [
    "Quand il y a plusieurs paramètres, les paramètres optionnels doivent se mettre en dernier, car ils peuvent être omis au contraire des premiers."
   ]
  },
  {
   "cell_type": "code",
   "execution_count": 42,
   "metadata": {},
   "outputs": [
    {
     "data": {
      "text/plain": [
       "(100, 1000, 10000)"
      ]
     },
     "execution_count": 42,
     "metadata": {},
     "output_type": "execute_result"
    }
   ],
   "source": [
    "def powers(puiss, x=10):\n",
    "    \"\"\"Retourne les puissances de x, par défaut 10.\"\"\"\n",
    "    return x**puiss[0], x**puiss[1], x**puiss[2]\n",
    "\n",
    "powers([2, 3, 4])"
   ]
  },
  {
   "attachments": {},
   "cell_type": "markdown",
   "metadata": {},
   "source": [
    "Quand on nomme les paramètres, on peut ensuite les utiliser dans le désordre. Il suffit pour cela d'appeler les noms de paramètres."
   ]
  },
  {
   "cell_type": "code",
   "execution_count": 43,
   "metadata": {},
   "outputs": [
    {
     "name": "stdout",
     "output_type": "stream",
     "text": [
      "Ce perroquet ne pourra pas vous approuver\n",
      "si vous le branchez sur 250 volts !\n",
      "L'auteur de ceci est complètement givré\n"
     ]
    }
   ],
   "source": [
    "def oiseau(voltage=100, état='allumé', action='danser la java'):\n",
    "    print('Ce perroquet ne pourra pas', action)\n",
    "    print('si vous le branchez sur', voltage, 'volts !')\n",
    "    print(\"L'auteur de ceci est complètement\", état)\n",
    "\n",
    "oiseau(état='givré', voltage=250, action='vous approuver')"
   ]
  },
  {
   "attachments": {},
   "cell_type": "markdown",
   "metadata": {},
   "source": [
    "## Les annotations de fonction ([PEP 3107](https://peps.python.org/pep-3107/))\n",
    "\n",
    "Python ne demande pas de définir les types des variables, mais parfois, ceci peut devnir utile et ceci s'applique aussi aux arguments et/ou du résultat. "
   ]
  },
  {
   "cell_type": "code",
   "execution_count": 3,
   "metadata": {},
   "outputs": [
    {
     "data": {
      "text/plain": [
       "6.283185307179586"
      ]
     },
     "execution_count": 3,
     "metadata": {},
     "output_type": "execute_result"
    }
   ],
   "source": [
    "from math import pi \n",
    "def perimetre(r):\n",
    "    return 2*pi*r\n",
    "\n",
    "perimetre(1)\n"
   ]
  },
  {
   "cell_type": "code",
   "execution_count": 8,
   "metadata": {},
   "outputs": [
    {
     "data": {
      "text/plain": [
       "6.2832"
      ]
     },
     "execution_count": 8,
     "metadata": {},
     "output_type": "execute_result"
    }
   ],
   "source": [
    "pi: float = 3.1416\n",
    "def perimetre(rayon: float) -> float:\n",
    "    \"\"\"Calcule le périmètre d'un cercle\"\"\"\n",
    "    return 2 * pi * rayon\n",
    "\n",
    "perimetre(1)"
   ]
  },
  {
   "attachments": {},
   "cell_type": "markdown",
   "metadata": {},
   "source": [
    "La méthode `__annotations__` permet alors de retrouver les types des paramètres de la fonction."
   ]
  },
  {
   "cell_type": "code",
   "execution_count": 9,
   "metadata": {},
   "outputs": [
    {
     "data": {
      "text/plain": [
       "{'rayon': float, 'return': float}"
      ]
     },
     "execution_count": 9,
     "metadata": {},
     "output_type": "execute_result"
    }
   ],
   "source": [
    "perimetre.__annotations__"
   ]
  },
  {
   "attachments": {},
   "cell_type": "markdown",
   "metadata": {},
   "source": [
    "# Utiliser des modules"
   ]
  },
  {
   "attachments": {},
   "cell_type": "markdown",
   "metadata": {},
   "source": [
    "La syntaxe de Python combinée avec des modules très puissants font tout l'intérêt de ce langage. Ces modules, que j'appelle aussi des bibliothèques sont des collections de fonctions (et d'autres choses aussi) qui étendent le langage Python dans des domaines particuliers.\n",
    "\n",
    "Un des modules les plus courant est <code>numpy</code> qui permet le calcul numérique, mais il existe aussi <code>math</code> pour un accès simple à des fonctions mathématiques et d'autres encore que nous allons découvrir.\n",
    "\n",
    "Le domaine est très dynamique et à cause de cela, pas toujours très ordonné. On retrouvera par exemple la même fonction mathématique dans plusieurs modules. Mais ce n'est pas très important. L'essentiel est de trouver les modules dont on a besoin.\n",
    "\n",
    "Pour accéder aux fonctions d'un modules, il faut commencer par le déclarer."
   ]
  },
  {
   "cell_type": "code",
   "execution_count": 44,
   "metadata": {},
   "outputs": [],
   "source": [
    "import math"
   ]
  },
  {
   "cell_type": "markdown",
   "metadata": {},
   "source": [
    "Je peux maintenant utiliser les fonctions du module <code>math</code> en les préfixant par le nom du module."
   ]
  },
  {
   "cell_type": "code",
   "execution_count": 45,
   "metadata": {},
   "outputs": [
    {
     "name": "stdout",
     "output_type": "stream",
     "text": [
      "0.5000000000000001\n"
     ]
    }
   ],
   "source": [
    "print(math.cos(math.pi/3))"
   ]
  },
  {
   "cell_type": "markdown",
   "metadata": {},
   "source": [
    "On remarquera au passage l'utilisation de la constante $\\pi$ qui se trouve dans ce module <code>math</code>"
   ]
  },
  {
   "cell_type": "markdown",
   "metadata": {},
   "source": [
    "Mais on peut se fatiguer, surtout si le nom du module est long. On peut alors lui donner un surnom plus court."
   ]
  },
  {
   "cell_type": "code",
   "execution_count": 46,
   "metadata": {},
   "outputs": [
    {
     "name": "stdout",
     "output_type": "stream",
     "text": [
      "0.5000000000000001\n"
     ]
    }
   ],
   "source": [
    "import math as mt\n",
    "print(mt.cos(mt.pi/3))"
   ]
  },
  {
   "cell_type": "markdown",
   "metadata": {},
   "source": [
    "Si on estime que c'est encore trop long et qu'il est évident que cette fonction vient de ce module et qu'on va la réutiliser souvant, on peut aussi l'importer complètement et on n'aura pas plus à donner de préfixe."
   ]
  },
  {
   "cell_type": "code",
   "execution_count": 47,
   "metadata": {},
   "outputs": [
    {
     "name": "stdout",
     "output_type": "stream",
     "text": [
      "racine carrée de 121 = 11.0\n",
      "sinus de 0.5235987755982988 radians = 0.49999999999999994\n"
     ]
    }
   ],
   "source": [
    "from math import *\n",
    "nombre = 121\n",
    "angle = pi/6 # soit 30°, (la bibliothèque math inclut aussi la définition de pi)\n",
    "print(\"racine carrée de\", nombre, \"=\", sqrt(nombre))\n",
    "print(\"sinus de\", angle, \"radians\", \"=\", sin(angle))"
   ]
  },
  {
   "attachments": {},
   "cell_type": "markdown",
   "metadata": {},
   "source": [
    "# Manipuler les listes"
   ]
  },
  {
   "attachments": {},
   "cell_type": "markdown",
   "metadata": {},
   "source": [
    "On peut étendre une liste avec la méthode `append()`"
   ]
  },
  {
   "cell_type": "code",
   "execution_count": 48,
   "metadata": {},
   "outputs": [
    {
     "name": "stdout",
     "output_type": "stream",
     "text": [
      "[1, 'deux', 3, 'quatre', 5]\n"
     ]
    }
   ],
   "source": [
    "a = [1, 'deux', 3, 'quatre']\n",
    "a.append(5)\n",
    "print(a)"
   ]
  },
  {
   "attachments": {},
   "cell_type": "markdown",
   "metadata": {},
   "source": [
    "On pourrait aussi utiliser une concaténation avec"
   ]
  },
  {
   "cell_type": "code",
   "execution_count": 49,
   "metadata": {},
   "outputs": [
    {
     "name": "stdout",
     "output_type": "stream",
     "text": [
      "[1, 'deux', 3, 'quatre', 5, 'six']\n"
     ]
    }
   ],
   "source": [
    "a += ['six']\n",
    "print(a)"
   ]
  },
  {
   "attachments": {},
   "cell_type": "markdown",
   "metadata": {},
   "source": [
    "mais cette méthode est moins efficace que la méthode `append()` car elle copie la liste dans une autre liste avant de la remettre dans la liste d'origine. La méthode `append()` est donc préférable."
   ]
  },
  {
   "attachments": {},
   "cell_type": "markdown",
   "metadata": {},
   "source": [
    "## Copier des listes"
   ]
  },
  {
   "attachments": {},
   "cell_type": "markdown",
   "metadata": {},
   "source": [
    "La méthode suivante ne fait pas une vraie copie, mais définit un alias pour la liste `a`."
   ]
  },
  {
   "cell_type": "code",
   "execution_count": 50,
   "metadata": {},
   "outputs": [
    {
     "name": "stdout",
     "output_type": "stream",
     "text": [
      "[1, 'deux', 3, 'quatre', 5, 'six', 7]\n"
     ]
    }
   ],
   "source": [
    "b = a\n",
    "b.append(7)\n",
    "print(a)"
   ]
  },
  {
   "attachments": {},
   "cell_type": "markdown",
   "metadata": {},
   "source": [
    "on voit qu'en ajoutant `7` à la liste `b`, on l'a aussi ajouté à la liste `a`."
   ]
  },
  {
   "attachments": {},
   "cell_type": "markdown",
   "metadata": {},
   "source": [
    "Pour copier une liste dans une liste indépendante, il faut recopier élément par élément."
   ]
  },
  {
   "cell_type": "code",
   "execution_count": 51,
   "metadata": {},
   "outputs": [
    {
     "name": "stdout",
     "output_type": "stream",
     "text": [
      "[1, 'deux', 3, 'quatre', 5, 'six', 7]\n"
     ]
    }
   ],
   "source": [
    "c = []\n",
    "for e in a:\n",
    "    c.append(e)\n",
    "print(c)"
   ]
  },
  {
   "cell_type": "code",
   "execution_count": 52,
   "metadata": {},
   "outputs": [
    {
     "name": "stdout",
     "output_type": "stream",
     "text": [
      "[1, 'deux', 3, 'quatre', 5, 'six', 7, 'huit']\n"
     ]
    }
   ],
   "source": [
    "c.append('huit')\n",
    "print(c)"
   ]
  },
  {
   "cell_type": "code",
   "execution_count": 53,
   "metadata": {},
   "outputs": [
    {
     "name": "stdout",
     "output_type": "stream",
     "text": [
      "[1, 'deux', 3, 'quatre', 5, 'six', 7]\n"
     ]
    }
   ],
   "source": [
    "print(a)"
   ]
  },
  {
   "attachments": {},
   "cell_type": "markdown",
   "metadata": {},
   "source": [
    "# Les listes en compréhension"
   ]
  },
  {
   "attachments": {},
   "cell_type": "markdown",
   "metadata": {},
   "source": [
    "On peut créer la liste des 5 premiers carrés en utilisant la commande [list()](https://docs.python.org/3/library/stdtypes.html#list) et une [fonction lambda](https://www.pythoniste.fr/python/a-quoi-servent-les-fonctions-lambdas-en-python/)."
   ]
  },
  {
   "cell_type": "code",
   "execution_count": 54,
   "metadata": {},
   "outputs": [
    {
     "data": {
      "text/plain": [
       "[0, 1, 4, 9, 16]"
      ]
     },
     "execution_count": 54,
     "metadata": {},
     "output_type": "execute_result"
    }
   ],
   "source": [
    "squares = list(map(lambda x: x*x, range(5)))\n",
    "squares"
   ]
  },
  {
   "attachments": {},
   "cell_type": "markdown",
   "metadata": {},
   "source": [
    "Mais on peut l'écrire plus rapidement de la manière suivante."
   ]
  },
  {
   "cell_type": "code",
   "execution_count": 55,
   "metadata": {},
   "outputs": [
    {
     "data": {
      "text/plain": [
       "[0, 1, 4, 9, 16]"
      ]
     },
     "execution_count": 55,
     "metadata": {},
     "output_type": "execute_result"
    }
   ],
   "source": [
    "squares = [x*x for x in range(5)]\n",
    "squares"
   ]
  },
  {
   "attachments": {},
   "cell_type": "markdown",
   "metadata": {},
   "source": [
    "Voici aussi des listes imbriquées"
   ]
  },
  {
   "cell_type": "code",
   "execution_count": 56,
   "metadata": {},
   "outputs": [
    {
     "data": {
      "text/plain": [
       "[[1, 2, 3, 4], [5, 6, 7, 8], [9, 10, 11, 12]]"
      ]
     },
     "execution_count": 56,
     "metadata": {},
     "output_type": "execute_result"
    }
   ],
   "source": [
    "matrix = [\n",
    "    [1,2,3,4],\n",
    "    [5,6,7,8],\n",
    "    [9,10,11,12]\n",
    "]\n",
    "matrix"
   ]
  },
  {
   "attachments": {},
   "cell_type": "markdown",
   "metadata": {},
   "source": [
    "Et voici comment transposer cette matrice."
   ]
  },
  {
   "cell_type": "code",
   "execution_count": 57,
   "metadata": {},
   "outputs": [
    {
     "data": {
      "text/plain": [
       "[[1, 5, 9], [2, 6, 10], [3, 7, 11], [4, 8, 12]]"
      ]
     },
     "execution_count": 57,
     "metadata": {},
     "output_type": "execute_result"
    }
   ],
   "source": [
    "[[row[i] for row in matrix] for i in range(4)]"
   ]
  },
  {
   "attachments": {},
   "cell_type": "markdown",
   "metadata": {},
   "source": [
    "Plus d'information [ici](https://docs.python.org/fr/3/tutorial/datastructures.html)"
   ]
  },
  {
   "attachments": {},
   "cell_type": "markdown",
   "metadata": {},
   "source": [
    "## Ranger une liste avec une fonction [lambda](https://www.pythoniste.fr/python/a-quoi-servent-les-fonctions-lambdas-en-python/)\n",
    "\n",
    "La commande [sorted](https://docs.python.org/3/howto/sorting.html) permet de ranger une liste selon un critère qui peut être une fonction lambda. Par exemple ici vous allons ordonner les entiers allant de -5 à 5 en fonction de la valeur de leur carré."
   ]
  },
  {
   "cell_type": "code",
   "execution_count": 10,
   "metadata": {},
   "outputs": [
    {
     "data": {
      "text/plain": [
       "[0, -1, 1, -2, 2, -3, 3, -4, 4, -5, 5]"
      ]
     },
     "execution_count": 10,
     "metadata": {},
     "output_type": "execute_result"
    }
   ],
   "source": [
    "sorted(range(-5,6), key=lambda x: x** 2)"
   ]
  },
  {
   "attachments": {},
   "cell_type": "markdown",
   "metadata": {},
   "source": [
    "## Filtrer une liste\n",
    "\n",
    "Sur le même modèle, on peut aussi filtrer les listes avec [filter](https://docs.python.org/3/library/functions.html?highlight=filter#filter)"
   ]
  },
  {
   "cell_type": "code",
   "execution_count": 13,
   "metadata": {},
   "outputs": [
    {
     "data": {
      "text/plain": [
       "[0, 2, 4, 6, 8, 10, 12, 14]"
      ]
     },
     "execution_count": 13,
     "metadata": {},
     "output_type": "execute_result"
    }
   ],
   "source": [
    "list(filter(lambda x: x%2==0, range(16)))"
   ]
  },
  {
   "attachments": {},
   "cell_type": "markdown",
   "metadata": {},
   "source": [
    "mais ici, il est beaucoup plus lisible d'écrire cette liste en compréhension de la manière suivante."
   ]
  },
  {
   "cell_type": "code",
   "execution_count": 15,
   "metadata": {},
   "outputs": [
    {
     "data": {
      "text/plain": [
       "[0, 2, 4, 6, 8, 10, 12, 14]"
      ]
     },
     "execution_count": 15,
     "metadata": {},
     "output_type": "execute_result"
    }
   ],
   "source": [
    "[x for x in range(16) if x % 2 ==0]"
   ]
  },
  {
   "attachments": {},
   "cell_type": "markdown",
   "metadata": {},
   "source": [
    "## Les listes en tranches\n",
    "On peut aussi découper les listes en morceaux, et ceci s'appelle des `slices` en anglais."
   ]
  },
  {
   "cell_type": "code",
   "execution_count": 58,
   "metadata": {},
   "outputs": [
    {
     "name": "stdout",
     "output_type": "stream",
     "text": [
      "[10, 15, 20]\n"
     ]
    }
   ],
   "source": [
    "lst = range(0,100,5)\n",
    "print(list(lst[2:5]))"
   ]
  },
  {
   "attachments": {},
   "cell_type": "markdown",
   "metadata": {},
   "source": [
    "Plus d'information possible [ici](https://www.learnbyexample.org/python-list-slicing/) ou [ici](https://www.geeksforgeeks.org/python-list-slicing/)"
   ]
  },
  {
   "attachments": {},
   "cell_type": "markdown",
   "metadata": {},
   "source": [
    "# Les listes numériques\n",
    "\n",
    "Les listes faites que de nombre permettent certaines manipulations supplémentaires, comme la recherche du maximum ou d'un minimum."
   ]
  },
  {
   "cell_type": "code",
   "execution_count": 2,
   "metadata": {},
   "outputs": [
    {
     "name": "stdout",
     "output_type": "stream",
     "text": [
      "min=1 , max=5\n"
     ]
    }
   ],
   "source": [
    "liste_num = [1, 2 , 3, 4, 5]\n",
    "print(f'min={min(liste_num)} , max={max(liste_num)}')"
   ]
  },
  {
   "attachments": {},
   "cell_type": "markdown",
   "metadata": {},
   "source": [
    "# Les asterisque (`*`) avec les listes\n",
    "\n",
    "Le signe astérisque signifie normalement la multiplication entre des nombres. Mais on peut l'utiliser dans deux autres cas avec des listes.\n",
    "\n",
    "Pour contruire rapidement une liste en multipliant un singleton."
   ]
  },
  {
   "cell_type": "code",
   "execution_count": 59,
   "metadata": {},
   "outputs": [
    {
     "data": {
      "text/plain": [
       "['geek', 'geek', 'geek']"
      ]
     },
     "execution_count": 59,
     "metadata": {},
     "output_type": "execute_result"
    }
   ],
   "source": [
    "ma_liste = ['geek'] * 3\n",
    "ma_liste"
   ]
  },
  {
   "attachments": {},
   "cell_type": "markdown",
   "metadata": {},
   "source": [
    "ou pour désempacter les éléments d'une liste et la transformer en suite d'éléments."
   ]
  },
  {
   "cell_type": "code",
   "execution_count": 60,
   "metadata": {},
   "outputs": [
    {
     "name": "stdout",
     "output_type": "stream",
     "text": [
      "lundi mardi mercredi jeudi vendredi samedi\n"
     ]
    }
   ],
   "source": [
    "arr = ['lundi', 'mardi', 'mercredi', 'jeudi', 'vendredi', 'samedi']\n",
    "print(*arr)"
   ]
  },
  {
   "attachments": {},
   "cell_type": "markdown",
   "metadata": {},
   "source": [
    "Attention, ceci fonctionne ici parcequ'il s'agit d'un argument de fonction. D'ailleurs, c'est utilisé pour définir une liste d'arguments dont le nombre n'est pas figé."
   ]
  },
  {
   "cell_type": "code",
   "execution_count": 61,
   "metadata": {},
   "outputs": [
    {
     "data": {
      "text/plain": [
       "10"
      ]
     },
     "execution_count": 61,
     "metadata": {},
     "output_type": "execute_result"
    }
   ],
   "source": [
    "def add(*args):\n",
    "    return sum(args)\n",
    "\n",
    "add(1,2,3,4)"
   ]
  },
  {
   "attachments": {},
   "cell_type": "markdown",
   "metadata": {},
   "source": [
    "Si on avait une liste, on peut toujours utiliser la fonction en écrivant ceci :"
   ]
  },
  {
   "cell_type": "code",
   "execution_count": 62,
   "metadata": {},
   "outputs": [
    {
     "data": {
      "text/plain": [
       "10"
      ]
     },
     "execution_count": 62,
     "metadata": {},
     "output_type": "execute_result"
    }
   ],
   "source": [
    "suite = [1,2,3,4]\n",
    "add(*suite)"
   ]
  },
  {
   "attachments": {},
   "cell_type": "markdown",
   "metadata": {},
   "source": [
    "On trouvera plus d'information [ici](https://www.geeksforgeeks.org/python-star-or-asterisk-operator/)."
   ]
  },
  {
   "attachments": {},
   "cell_type": "markdown",
   "metadata": {},
   "source": [
    "# Les ensembles (`set`)\n",
    "\n",
    "Les ensembles sont des listes non ordonnées, mais qui n'acceptent pas les doublons. Ils s'écrivent avec des accolades comme les dictionnaires, mais non pas de binôme clé/valeur."
   ]
  },
  {
   "cell_type": "code",
   "execution_count": 63,
   "metadata": {},
   "outputs": [
    {
     "data": {
      "text/plain": [
       "{3, 'deux', 'un'}"
      ]
     },
     "execution_count": 63,
     "metadata": {},
     "output_type": "execute_result"
    }
   ],
   "source": [
    "mon_ensemble = {\"un\", \"deux\", 3}\n",
    "mon_ensemble"
   ]
  },
  {
   "attachments": {},
   "cell_type": "markdown",
   "metadata": {},
   "source": [
    "On trouvera plus d'information sur la [documentation officielle](https://docs.python.org/3/tutorial/datastructures.html)."
   ]
  },
  {
   "attachments": {},
   "cell_type": "markdown",
   "metadata": {},
   "source": [
    "On construit un ensemble avec la commande `set`."
   ]
  },
  {
   "cell_type": "code",
   "execution_count": 64,
   "metadata": {},
   "outputs": [
    {
     "data": {
      "text/plain": [
       "{1, 3, 5, 6}"
      ]
     },
     "execution_count": 64,
     "metadata": {},
     "output_type": "execute_result"
    }
   ],
   "source": [
    "ma_liste = [1, 3, 5, 6, 3, 5, 6, 1]\n",
    "mon_ensemble = set(ma_liste)\n",
    "mon_ensemble"
   ]
  },
  {
   "attachments": {},
   "cell_type": "markdown",
   "metadata": {},
   "source": [
    "Cette commande permet d'enlever rapidement les doublons dans une liste. On convertit la liste en ensemble (ce qui supprime les doublons), on enlève les accolades avec l'astérisque et on reconvertit en liste avec les crochets."
   ]
  },
  {
   "cell_type": "code",
   "execution_count": 65,
   "metadata": {},
   "outputs": [
    {
     "data": {
      "text/plain": [
       "[1, 3, 5, 6]"
      ]
     },
     "execution_count": 65,
     "metadata": {},
     "output_type": "execute_result"
    }
   ],
   "source": [
    "ma_liste = [1, 3, 5, 6, 3, 5, 6, 1]\n",
    "sans_doublon = [*set(ma_liste)]\n",
    "sans_doublon"
   ]
  },
  {
   "attachments": {},
   "cell_type": "markdown",
   "metadata": {},
   "source": [
    "# Générer des nombres aléatoires"
   ]
  },
  {
   "attachments": {},
   "cell_type": "markdown",
   "metadata": {},
   "source": [
    "On peut avoir besoin de générer des nombres aléatoires grâce au module `random`."
   ]
  },
  {
   "cell_type": "code",
   "execution_count": 66,
   "metadata": {},
   "outputs": [
    {
     "name": "stdout",
     "output_type": "stream",
     "text": [
      "6 9 6 6 9 3 12 3 6 6 9 9 6 12 12 "
     ]
    }
   ],
   "source": [
    "from random import *\n",
    "for i in range(15):\n",
    "    print(randrange(3,13,3), end = ' ')"
   ]
  },
  {
   "attachments": {},
   "cell_type": "markdown",
   "metadata": {},
   "source": [
    "La fonction `randrange` admet trois paramètres optionnels.\n",
    "- avec un seul argument, la fonction renvoie un nombre aléatoire entre 0 et cet argument moins 1.\n",
    "- avec deux arguments, la fonction renvoie un nombre aléatoire entre le premier argument et le second moins un.\n",
    "- avec trois arguments, la fonction renvoie aléatoire entre le premier et le deuxième paramètre moins un, avec un décalage égale au troisième paramètre.\n",
    "\n",
    "La fonction `random` ne prend pas d'argument et génère un nombre aléatoire entre 0 et 1 (exclu)."
   ]
  },
  {
   "attachments": {},
   "cell_type": "markdown",
   "metadata": {},
   "source": [
    "# Manipuler les dictionnaires"
   ]
  },
  {
   "cell_type": "markdown",
   "metadata": {},
   "source": []
  },
  {
   "cell_type": "code",
   "execution_count": 67,
   "metadata": {},
   "outputs": [
    {
     "name": "stdout",
     "output_type": "stream",
     "text": [
      "{'pommes': 430, 'bananes': 312, 'oranges': 274, 'poires': 137}\n"
     ]
    }
   ],
   "source": [
    "invent = {'pommes': 430, 'bananes': 312, 'oranges' : 274, 'poires' : 137}\n",
    "print(invent)"
   ]
  },
  {
   "attachments": {},
   "cell_type": "markdown",
   "metadata": {},
   "source": [
    "On peut enlever un élément."
   ]
  },
  {
   "cell_type": "code",
   "execution_count": 68,
   "metadata": {},
   "outputs": [
    {
     "name": "stdout",
     "output_type": "stream",
     "text": [
      "{'bananes': 312, 'oranges': 274, 'poires': 137}\n"
     ]
    }
   ],
   "source": [
    "del invent['pommes']\n",
    "print(invent)"
   ]
  },
  {
   "attachments": {},
   "cell_type": "markdown",
   "metadata": {},
   "source": [
    "On peut aussi compter le nombre d'éléments."
   ]
  },
  {
   "cell_type": "code",
   "execution_count": 70,
   "metadata": {},
   "outputs": [
    {
     "name": "stdout",
     "output_type": "stream",
     "text": [
      "L'inventaire comprend maintenant 3 éléments.\n"
     ]
    }
   ],
   "source": [
    "print(f'L\\'inventaire comprend maintenant {len(invent)} éléments.')"
   ]
  },
  {
   "attachments": {},
   "cell_type": "markdown",
   "metadata": {},
   "source": [
    "On peut aussi vérifier si une clé est dans le dictionnaire."
   ]
  },
  {
   "cell_type": "code",
   "execution_count": null,
   "metadata": {},
   "outputs": [
    {
     "name": "stdout",
     "output_type": "stream",
     "text": [
      "Désolé, nous n'avons plus de pommes.\n"
     ]
    }
   ],
   "source": [
    "if \"pommes\" in invent:\n",
    "    print(f'Nous avons {invent[\"pommes\"]} pommes.')\n",
    "else:\n",
    "    print(\"Désolé, nous n'avons plus de pommes.\")"
   ]
  },
  {
   "cell_type": "code",
   "execution_count": null,
   "metadata": {},
   "outputs": [
    {
     "name": "stdout",
     "output_type": "stream",
     "text": [
      "Nous avons 274 oranges.\n"
     ]
    }
   ],
   "source": [
    "if \"oranges\" in invent:\n",
    "    print(f'Nous avons {invent[\"oranges\"]} oranges.')\n",
    "else:\n",
    "    print(\"Désolé, nous n'avons plus d'oranges.\")"
   ]
  },
  {
   "attachments": {},
   "cell_type": "markdown",
   "metadata": {},
   "source": [
    "Il existe plusieurs méthodes sur les dictionnaires."
   ]
  },
  {
   "cell_type": "code",
   "execution_count": null,
   "metadata": {},
   "outputs": [
    {
     "name": "stdout",
     "output_type": "stream",
     "text": [
      "dict_keys(['bananes', 'oranges', 'poires'])\n"
     ]
    }
   ],
   "source": [
    "print(invent.keys())"
   ]
  },
  {
   "cell_type": "code",
   "execution_count": null,
   "metadata": {},
   "outputs": [
    {
     "name": "stdout",
     "output_type": "stream",
     "text": [
      "dict_values([312, 274, 137])\n"
     ]
    }
   ],
   "source": [
    "print(invent.values())"
   ]
  },
  {
   "attachments": {},
   "cell_type": "markdown",
   "metadata": {},
   "source": [
    "On peut traduire ces résultats avec les fonctions `tuple()` et `list()`."
   ]
  },
  {
   "cell_type": "code",
   "execution_count": null,
   "metadata": {},
   "outputs": [
    {
     "name": "stdout",
     "output_type": "stream",
     "text": [
      "('bananes', 'oranges', 'poires')\n"
     ]
    }
   ],
   "source": [
    "print(tuple(invent.keys()))"
   ]
  },
  {
   "cell_type": "code",
   "execution_count": null,
   "metadata": {},
   "outputs": [
    {
     "name": "stdout",
     "output_type": "stream",
     "text": [
      "[312, 274, 137]\n"
     ]
    }
   ],
   "source": [
    "print(list(invent.values()))"
   ]
  },
  {
   "attachments": {},
   "cell_type": "markdown",
   "metadata": {},
   "source": [
    "On peut aussi utiliser la méthode `items()` pour obtenir une séquence de tuples."
   ]
  },
  {
   "cell_type": "code",
   "execution_count": null,
   "metadata": {},
   "outputs": [
    {
     "name": "stdout",
     "output_type": "stream",
     "text": [
      "dict_items([('bananes', 312), ('oranges', 274), ('poires', 137)])\n"
     ]
    }
   ],
   "source": [
    "print(invent.items())"
   ]
  },
  {
   "attachments": {},
   "cell_type": "markdown",
   "metadata": {},
   "source": [
    "Cette méthode peut être utilisée typiquement dans des boucles."
   ]
  },
  {
   "cell_type": "code",
   "execution_count": null,
   "metadata": {},
   "outputs": [
    {
     "name": "stdout",
     "output_type": "stream",
     "text": [
      "bananes 312\n",
      "oranges 274\n",
      "poires 137\n"
     ]
    }
   ],
   "source": [
    "for clef, valeur in invent.items():\n",
    "    print(clef, valeur)a"
   ]
  },
  {
   "attachments": {},
   "cell_type": "markdown",
   "metadata": {},
   "source": [
    "Les clés d'un dictionnaire ne sont nécessairement des chaînes de caractère ou des chiffres. On peut aussi utiliser des tuples. Imaginons par exemple que nous peuplons un damier de 6 cases sur 6 avec des icônes d'arbres."
   ]
  },
  {
   "cell_type": "code",
   "execution_count": null,
   "metadata": {},
   "outputs": [
    {
     "name": "stdout",
     "output_type": "stream",
     "text": [
      "{(1, 2): 'Peuplier', (3, 4): 'Platane', (6, 5): 'Palmier', (5, 1): 'Cycas', (7, 3): 'Sapin'}\n"
     ]
    }
   ],
   "source": [
    "arb = {}\n",
    "arb[(1,2)] = 'Peuplier'\n",
    "arb[(3,4)] = 'Platane'\n",
    "arb[6,5] = 'Palmier'\n",
    "arb[5,1] = 'Cycas'\n",
    "arb[7,3] = 'Sapin'\n",
    "\n",
    "print(arb)"
   ]
  },
  {
   "attachments": {},
   "cell_type": "markdown",
   "metadata": {},
   "source": [
    "On remarque qu'on a simplifié la notation du tuple en oubliant les parenthèses à partir de la troisième affectation. En effet, un tuple n'a pas besoin de parenthèse, quand il n'y a pas d'ambiguïté. \n",
    "\n",
    "On retrouve ensuite un arbre avec ses coodonnées."
   ]
  },
  {
   "cell_type": "code",
   "execution_count": null,
   "metadata": {},
   "outputs": [
    {
     "name": "stdout",
     "output_type": "stream",
     "text": [
      "Palmier\n"
     ]
    }
   ],
   "source": [
    "print(arb[6,5])"
   ]
  },
  {
   "attachments": {},
   "cell_type": "markdown",
   "metadata": {},
   "source": [
    "Mais que faire si on tombe sur une partie vide du damier ? On utilise la méthode `get` qui prend comme deuxième paramètre optionnel, ce qu'il faut renvoyer si la clé donnée n premier paramètre n'existe pas."
   ]
  },
  {
   "cell_type": "code",
   "execution_count": null,
   "metadata": {},
   "outputs": [
    {
     "data": {
      "text/plain": [
       "'Peuplier'"
      ]
     },
     "execution_count": 5,
     "metadata": {},
     "output_type": "execute_result"
    }
   ],
   "source": [
    "arb.get((1,2), 'néant')"
   ]
  },
  {
   "cell_type": "code",
   "execution_count": null,
   "metadata": {},
   "outputs": [
    {
     "data": {
      "text/plain": [
       "'néant'"
      ]
     },
     "execution_count": 6,
     "metadata": {},
     "output_type": "execute_result"
    }
   ],
   "source": [
    "arb.get((2,1), 'néant')"
   ]
  },
  {
   "attachments": {},
   "cell_type": "markdown",
   "metadata": {},
   "source": [
    "utilisons maintenant cette méthode `get` pour compter les lettres utilisées dans une phrases."
   ]
  },
  {
   "cell_type": "code",
   "execution_count": null,
   "metadata": {},
   "outputs": [
    {
     "name": "stdout",
     "output_type": "stream",
     "text": [
      "{'l': 3, 'e': 5, 's': 14, ' ': 8, 'a': 4, 'u': 2, 'c': 3, 'i': 3, 't': 2, 'o': 3, 'n': 3, 'd': 1, 'r': 1}\n"
     ]
    }
   ],
   "source": [
    "texte = \"les saucisses et saucissons secs sont dans le saloir\"\n",
    "lettres = {}\n",
    "for c in texte:\n",
    "    lettres[c]=lettres.get(c, 0) + 1\n",
    "\n",
    "print(lettres)"
   ]
  },
  {
   "attachments": {},
   "cell_type": "markdown",
   "metadata": {},
   "source": [
    "Nous allons maintenant trier les lettres par ordre alphabétique."
   ]
  },
  {
   "cell_type": "code",
   "execution_count": null,
   "metadata": {},
   "outputs": [
    {
     "name": "stdout",
     "output_type": "stream",
     "text": [
      "[(' ', 8), ('a', 4), ('c', 3), ('d', 1), ('e', 5), ('i', 3), ('l', 3), ('n', 3), ('o', 3), ('r', 1), ('s', 14), ('t', 2), ('u', 2)]\n"
     ]
    }
   ],
   "source": [
    "lettres_triées = list(lettres.items())\n",
    "lettres_triées.sort()\n",
    "print(lettres_triées)"
   ]
  }
 ],
 "metadata": {
  "kernelspec": {
   "display_name": ".venv",
   "language": "python",
   "name": "python3"
  },
  "language_info": {
   "codemirror_mode": {
    "name": "ipython",
    "version": 3
   },
   "file_extension": ".py",
   "mimetype": "text/x-python",
   "name": "python",
   "nbconvert_exporter": "python",
   "pygments_lexer": "ipython3",
   "version": "3.10.7"
  },
  "vscode": {
   "interpreter": {
    "hash": "f2aec3b84089aa708d4850c58218314a12e464c7021fc707cb33bd662b6900e2"
   }
  }
 },
 "nbformat": 4,
 "nbformat_minor": 4
}
