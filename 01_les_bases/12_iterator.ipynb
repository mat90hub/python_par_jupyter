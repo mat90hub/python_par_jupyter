{
 "cells": [
  {
   "attachments": {},
   "cell_type": "markdown",
   "metadata": {},
   "source": [
    "# Les itérateurs\n",
    "\n",
    "Présentation des itérateurs Python basé sur ce [tutoriel](https://www.youtube.com/watch?v=aumxFs2DO5o)"
   ]
  },
  {
   "cell_type": "code",
   "execution_count": 1,
   "metadata": {},
   "outputs": [
    {
     "name": "stdout",
     "output_type": "stream",
     "text": [
      "Germany\n",
      "France\n",
      "Italy\n",
      "Spain\n",
      "Portugal\n"
     ]
    }
   ],
   "source": [
    "countries = (\"Germany\", \"France\", \"Italy\", \"Spain\", \"Portugal\", \"Sweden\", \"Greece\")\n",
    "country_iter = iter(countries)\n",
    "\n",
    "print(next(country_iter))\n",
    "print(next(country_iter))\n",
    "print(next(country_iter))\n",
    "print(next(country_iter))\n",
    "print(next(country_iter))"
   ]
  },
  {
   "attachments": {},
   "cell_type": "markdown",
   "metadata": {},
   "source": [
    "Une solution dans une boucle `while`."
   ]
  },
  {
   "cell_type": "code",
   "execution_count": 2,
   "metadata": {},
   "outputs": [
    {
     "name": "stdout",
     "output_type": "stream",
     "text": [
      "Sweden\n"
     ]
    }
   ],
   "source": [
    "while True:\n",
    "    try:\n",
    "        country = next(country_iter)\n",
    "    except StopIteration:\n",
    "        break\n",
    "    else:\n",
    "        print(country)"
   ]
  },
  {
   "attachments": {},
   "cell_type": "markdown",
   "metadata": {},
   "source": [
    "Ce montre l'utilisation de l'interruption `StopIteration`, mais la façon réaliste de faire serait la suivante, sans utiliser l'`iterator`, car la liste des pays est 'itérable' et n'a donc pas réellement besoin d'un itérateeur."
   ]
  },
  {
   "cell_type": "code",
   "execution_count": null,
   "metadata": {},
   "outputs": [],
   "source": [
    "for country in countries:\n",
    "    print(country)"
   ]
  },
  {
   "attachments": {},
   "cell_type": "markdown",
   "metadata": {},
   "source": [
    "Voici un exemple plus intéressant ou on utilise l'itérateur pour exécuter une fonction sur une liste de variables jusqu'à obtenir une certaine valeur, ici la lecture d'une ligne dans un fichier jusqu'à obtenir la fin de fichier (ici la chaîne vide)."
   ]
  },
  {
   "cell_type": "code",
   "execution_count": 3,
   "metadata": {},
   "outputs": [
    {
     "name": "stdout",
     "output_type": "stream",
     "text": [
      "Germany\n",
      "France\n",
      "Italy\n",
      "Spain\n",
      "Portugal\n",
      "Sweden\n",
      "Greece"
     ]
    }
   ],
   "source": [
    "with open(\"./img/countries.txt\") as file:\n",
    "    for line in iter(file.readline, \"\"):\n",
    "        print(line, end=\"\")"
   ]
  },
  {
   "attachments": {},
   "cell_type": "markdown",
   "metadata": {},
   "source": [
    "Les itérables peuvent aussi servir à introduire de l'abstraction avec le type `iterable` de l'extension `typing`."
   ]
  },
  {
   "cell_type": "code",
   "execution_count": 11,
   "metadata": {},
   "outputs": [
    {
     "name": "stdout",
     "output_type": "stream",
     "text": [
      "2\n",
      "12\n",
      "30\n"
     ]
    }
   ],
   "source": [
    "from dataclasses import dataclass\n",
    "from typing import Iterable\n",
    "\n",
    "@dataclass(frozen=True)\n",
    "class LineItem:\n",
    "    price: int\n",
    "    quantity: int\n",
    "\n",
    "    def total_price(self) -> int:\n",
    "        return self.price * self.quantity\n",
    "\n",
    "def print_totals(items: Iterable[LineItem]) -> None:\n",
    "    for item in items:\n",
    "        print(item.total_price())\n",
    "\n",
    "line_item = [\n",
    "    LineItem(1,2),\n",
    "    LineItem(3,4),\n",
    "    LineItem(5,6),\n",
    "]\n",
    "\n",
    "print_totals(line_item)"
   ]
  },
  {
   "attachments": {},
   "cell_type": "markdown",
   "metadata": {},
   "source": [
    "L'avantage est qu'ici l'objet à sommet peut être de différent type (mais attention à l'option `froze` qui doit être `True`)."
   ]
  },
  {
   "attachments": {},
   "cell_type": "markdown",
   "metadata": {},
   "source": [
    "Voici d'autres exemple"
   ]
  },
  {
   "cell_type": "code",
   "execution_count": null,
   "metadata": {},
   "outputs": [],
   "source": [
    "from dataclasses import dataclass\n",
    "from typing import Self\n",
    "\n",
    "@dataclass\n",
    "class InfiniteNumberIterator:\n",
    "    num: int=0\n",
    "\n",
    "    def __iter__(self) -> Self:\n",
    "        return self\n",
    "    def __next__(self) -> int:\n",
    "        self.num += 1\n",
    "        return self.num\n",
    "    \n",
    "@dataclass\n",
    "class NumberIterator:\n",
    "    max: int\n",
    "    num: int = 0\n",
    "\n",
    "    def __iter__(self) -> Self:\n",
    "        return self\n",
    "    def __next__(self) -> int:\n",
    "        if sel.num >= self.max:\n",
    "            raise StopIteration\n",
    "        else:\n",
    "            self.num += 1\n",
    "        return self.num\n"
   ]
  },
  {
   "attachments": {},
   "cell_type": "markdown",
   "metadata": {},
   "source": [
    "L'extension [itertools](https://docs.python.org/fr/3/library/itertools.html) propose une algèbre des itérateurs. Elle permet de réduire les boucles imbriquées.\n"
   ]
  },
  {
   "cell_type": "code",
   "execution_count": 13,
   "metadata": {},
   "outputs": [
    {
     "name": "stdout",
     "output_type": "stream",
     "text": [
      "10\n",
      "11\n",
      "12\n",
      "13\n",
      "14\n",
      "15\n"
     ]
    }
   ],
   "source": [
    "import itertools\n",
    "\n",
    "def main() -> None:\n",
    "    for i in itertools.count(10):\n",
    "        print(i)\n",
    "        if i == 15:\n",
    "            break\n",
    "\n",
    "main()"
   ]
  },
  {
   "cell_type": "code",
   "execution_count": 14,
   "metadata": {},
   "outputs": [
    {
     "name": "stdout",
     "output_type": "stream",
     "text": [
      "10\n",
      "10\n",
      "10\n",
      "10\n"
     ]
    }
   ],
   "source": [
    "import itertools\n",
    "\n",
    "def main() -> None:\n",
    "    for i in itertools.repeat(10, 4):\n",
    "        print(i)\n",
    "        \n",
    "main()"
   ]
  },
  {
   "cell_type": "code",
   "execution_count": 15,
   "metadata": {},
   "outputs": [
    {
     "name": "stdout",
     "output_type": "stream",
     "text": [
      "1\n",
      "3\n",
      "6\n",
      "10\n",
      "15\n",
      "21\n",
      "28\n",
      "36\n",
      "45\n",
      "55\n"
     ]
    }
   ],
   "source": [
    "import itertools\n",
    "\n",
    "def main() -> None:\n",
    "    for i in itertools.accumulate(range(1, 11)):\n",
    "        print(i)\n",
    "        \n",
    "main()"
   ]
  },
  {
   "attachments": {},
   "cell_type": "markdown",
   "metadata": {},
   "source": [
    "Ci dessous la fonction [itertools.starmap](https://docs.python.org/3/library/itertools.html#itertools.starmap)"
   ]
  },
  {
   "cell_type": "code",
   "execution_count": 17,
   "metadata": {},
   "outputs": [
    {
     "name": "stdout",
     "output_type": "stream",
     "text": [
      "[12, 32, 15]\n"
     ]
    }
   ],
   "source": [
    "print(list(itertools.starmap(lambda x,y: x*y, [(2,6),[8,4],[5,3]])))"
   ]
  },
  {
   "attachments": {},
   "cell_type": "markdown",
   "metadata": {},
   "source": [
    "Plus sur les fonctions d'itetools [ici](https://docs.python.org/3/library/itertools.html)"
   ]
  }
 ],
 "metadata": {
  "kernelspec": {
   "display_name": ".venv",
   "language": "python",
   "name": "python3"
  },
  "language_info": {
   "codemirror_mode": {
    "name": "ipython",
    "version": 3
   },
   "file_extension": ".py",
   "mimetype": "text/x-python",
   "name": "python",
   "nbconvert_exporter": "python",
   "pygments_lexer": "ipython3",
   "version": "3.10.6"
  },
  "orig_nbformat": 4
 },
 "nbformat": 4,
 "nbformat_minor": 2
}
