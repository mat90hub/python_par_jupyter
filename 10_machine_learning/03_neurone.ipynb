{
 "cells": [
  {
   "attachments": {},
   "cell_type": "markdown",
   "metadata": {},
   "source": [
    "# Construction d'un neurone\n",
    "\n",
    "On commence par construire un neurone simple, qu'on va ensuite tester. Je m'inspire beaucoup de l'exemple donné par [Miximum](https://www.miximum.fr/blog/introduction-au-deep-learning-1/)."
   ]
  },
  {
   "attachments": {},
   "cell_type": "markdown",
   "metadata": {},
   "source": [
    "J'utilise une classe définissant un objet neurone, qui aura:\n",
    "- un constructeur (nommé classiquement `__init__`), \n",
    "- une méthode d'activation \n",
    "- une méthode de mise à jour les poids des neurones qui lui sont connectés en amont. \n",
    "\n",
    "Pour s'intégrer plus tard dans un réseau, le neurone doit renvoyer un résultat de même nature que son entrée. Dans cette première version, les entrées seront entre 0 et 1 et la sortie devra donc être aussi entre 0 et 1. Ici, la sortie sera la moyenne pondérée des signaux qui lui arrivent."
   ]
  },
  {
   "cell_type": "code",
   "execution_count": 3,
   "metadata": {},
   "outputs": [],
   "source": [
    "import numpy as np\n",
    "\n",
    "class Neuron:\n",
    "    def __init__(self, input_weights):\n",
    "        \"\"\"Initialisation des poids.\"\"\"\n",
    "        self.weights = input_weights\n",
    "        \n",
    "    def activation(self, X):\n",
    "        \"\"\"X est le vecteur d'entrée du neurone.\"\"\"\n",
    "        return np.average(X, weights= self.weights)\n",
    "    \n",
    "    def update_weights(self, input_weights):\n",
    "        \"\"\" mise à jour des poids \"\"\"\n",
    "        self.weights = input_weights"
   ]
  },
  {
   "attachments": {},
   "cell_type": "markdown",
   "metadata": {},
   "source": [
    "Le neurone sera testé en lui demandant de distinguer deux entrées qui sont radicalement différentes : `Vec1` et `Vec2`."
   ]
  },
  {
   "cell_type": "code",
   "execution_count": 4,
   "metadata": {},
   "outputs": [
    {
     "data": {
      "text/plain": [
       "array([0., 0., 0., 0., 0., 1., 1., 1., 1., 1.])"
      ]
     },
     "execution_count": 4,
     "metadata": {},
     "output_type": "execute_result"
    }
   ],
   "source": [
    "n = 10\n",
    "nb_zeros = 5\n",
    "Uns = np.ones(nb_zeros)\n",
    "Zeros = np.zeros(n - nb_zeros)\n",
    "Vec1 =  np.concatenate((Zeros, Uns))\n",
    "Vec1"
   ]
  },
  {
   "cell_type": "code",
   "execution_count": 5,
   "metadata": {},
   "outputs": [
    {
     "data": {
      "text/plain": [
       "array([1., 1., 1., 1., 1., 0., 0., 0., 0., 0.])"
      ]
     },
     "execution_count": 5,
     "metadata": {},
     "output_type": "execute_result"
    }
   ],
   "source": [
    "Vec2 = np.concatenate((Uns, Zeros))\n",
    "Vec2"
   ]
  },
  {
   "attachments": {},
   "cell_type": "markdown",
   "metadata": {},
   "source": [
    "Je veux distinguer `Vec1` de `Vec2`. L'objectif est de trouver les poids pour que la sortie du neurone soit 0 quand l'entrée est `Vec1` et 1 pour `Vec2`."
   ]
  },
  {
   "cell_type": "code",
   "execution_count": 6,
   "metadata": {},
   "outputs": [
    {
     "data": {
      "text/plain": [
       "array([0., 0., 0., 0., 0., 1., 1., 1., 1., 1.])"
      ]
     },
     "execution_count": 6,
     "metadata": {},
     "output_type": "execute_result"
    }
   ],
   "source": [
    "VecWght = Vec1\n",
    "VecWght"
   ]
  },
  {
   "attachments": {},
   "cell_type": "markdown",
   "metadata": {},
   "source": [
    "Je construis maintenant mon neurone avec la classe définit précédement. Je me souviens que pour cela, le constructeur `__init__` demande de donner le nombre de neurones connectés en amont, donc ici mes `n` entrées.\n",
    "\n",
    "Je présente ici (comme plus tard) le résultat qui est entre 0 et 255 comme un pourcentage."
   ]
  },
  {
   "cell_type": "code",
   "execution_count": 7,
   "metadata": {},
   "outputs": [
    {
     "name": "stdout",
     "output_type": "stream",
     "text": [
      "100.00%\n"
     ]
    }
   ],
   "source": [
    "mon_neurone = Neuron(VecWght)\n",
    "res = mon_neurone.activation(Vec1)\n",
    "print(f'{res*100:.2f}%')"
   ]
  },
  {
   "cell_type": "code",
   "execution_count": 8,
   "metadata": {},
   "outputs": [
    {
     "name": "stdout",
     "output_type": "stream",
     "text": [
      "0.00%\n"
     ]
    }
   ],
   "source": [
    "res = mon_neurone.activation(Vec2)\n",
    "print(f'{res*100:.2f}%')"
   ]
  },
  {
   "attachments": {},
   "cell_type": "markdown",
   "metadata": {},
   "source": [
    "La reconnaissance est parfaite, mais ce cas est trivial."
   ]
  },
  {
   "attachments": {},
   "cell_type": "markdown",
   "metadata": {},
   "source": [
    "# Rendre l'entrée plus visuelle"
   ]
  },
  {
   "attachments": {},
   "cell_type": "markdown",
   "metadata": {},
   "source": [
    "Ici je rend l'entrée plus visuelle en affichant une matrice de point comme un image. Pour garder une reconnaissance simple, je choisis  deux images radicalement différentes, la première aura sa moitié inférieure blanche et la moitié supérieure noire. Pour la deuxième, ce sera la contraire. \n",
    "\n",
    "Je garde une image petit constituée d'une matrice 12x12 qui contient donc 144 points. L'extension [matplotlib.pyplot](https://matplotlib.org/stable/tutorials/introductory/quick_start.html) propose la commande [imshow](https://matplotlib.org/stable/api/_as_gen/matplotlib.pyplot.imshow.html) pour afficher des matrices de points.\n",
    "\n",
    "Le neurone voit chaque pixel de l'image d'entrée qui donne son intensité, ici choisit entre 0 et 255. Je reste avec une image en noir et blanc (en valeurs de gris plus précisément). Une image en couleur demanderait de refaire la reconnaissance sur les trois couche *Red Green Blue*."
   ]
  },
  {
   "attachments": {},
   "cell_type": "markdown",
   "metadata": {},
   "source": [
    "Pour construire mon image, j'utilise les techniques de remplissage rapide sur les vecteurs Numpy données dans le fichier [01_numpy.ipynb](../02_std_ext/01_numpy.ipynb). Je fais aussi un prétraitement qui consiste à convertir la matrice de point 12x12 en un vecteur de 144 points avec la commande [numpy.reshape](https://www.w3schools.com/python/numpy/numpy_array_reshape.asp), ce qui permet de n'avoir qu'une boucle sur tous les pixels au lieu de deux."
   ]
  },
  {
   "cell_type": "code",
   "execution_count": 9,
   "metadata": {},
   "outputs": [
    {
     "data": {
      "image/png": "[encoded data removed]",
      "text/plain": [
       "<Figure size 200x200 with 1 Axes>"
      ]
     },
     "metadata": {},
     "output_type": "display_data"
    }
   ],
   "source": [
    "nb_points = 144\n",
    "points_noirs = np.zeros(nb_points//2)   # attention, bien utiliser la division d'entiers\n",
    "points_blancs = np.ones(nb_points - nb_points // 2)  # on pourrait faire plus simple\n",
    "points_blancs = points_blancs * 255     # on veut une échelle de 1 à 255 pour les nuances de gris ensuite\n",
    "\n",
    "Input1 = np.concatenate((points_noirs, points_blancs))\n",
    "Matrice1 = np.reshape(Input1, (12, 12))\n",
    "\n",
    "import matplotlib.pyplot as plt\n",
    "\n",
    "plt.figure(figsize=(2,2))\n",
    "plt.imshow(Matrice1, cmap=\"gray\")\n",
    "plt.title('Image1')\n",
    "plt.axis(\"off\")\n",
    "plt.show()"
   ]
  },
  {
   "attachments": {},
   "cell_type": "markdown",
   "metadata": {},
   "source": [
    "Pour la deuxième image à distinguer, qui sera donc `Input2`, je choisis de mettre en blanc la partie supérieure de l'image."
   ]
  },
  {
   "cell_type": "code",
   "execution_count": 10,
   "metadata": {},
   "outputs": [
    {
     "data": {
      "image/png": "[encoded data removed]",
      "text/plain": [
       "<Figure size 200x200 with 1 Axes>"
      ]
     },
     "metadata": {},
     "output_type": "display_data"
    }
   ],
   "source": [
    "Input2 = np.concatenate((points_blancs, points_noirs))\n",
    "Matrice2 = np.reshape(Input2, (12, 12))\n",
    "\n",
    "import matplotlib.pyplot as plt\n",
    "\n",
    "plt.figure(figsize=(2,2))\n",
    "plt.imshow(Matrice2, cmap=\"gray\")\n",
    "plt.title('Image2')\n",
    "plt.axis(\"off\")\n",
    "plt.show()"
   ]
  },
  {
   "attachments": {},
   "cell_type": "markdown",
   "metadata": {},
   "source": [
    "Pour distinguer `Image1` d'`Image2`, je peux facilement deviner les poids qu'il faut utiliser."
   ]
  },
  {
   "cell_type": "code",
   "execution_count": 11,
   "metadata": {},
   "outputs": [],
   "source": [
    "Weight = np.concatenate((np.ones(nb_points//2), np.zeros(nb_points//2)))"
   ]
  },
  {
   "attachments": {},
   "cell_type": "markdown",
   "metadata": {},
   "source": [
    "Avec ces poids, on est sûr de pouvoir reconnaitre l'`Image2`. L'activation du neurone sur l'`Image2` avec ce filtre donnera une valeur de 255 et de 0 sur l'`Image1`. Je convertis ici en pourcentage."
   ]
  },
  {
   "cell_type": "code",
   "execution_count": 12,
   "metadata": {},
   "outputs": [
    {
     "name": "stdout",
     "output_type": "stream",
     "text": [
      "0%\n"
     ]
    }
   ],
   "source": [
    "# on aplatit la matrice de poids\n",
    "mon_neurone = Neuron(Weight)\n",
    "res = mon_neurone.activation(Input1)\n",
    "print(f'{res *100 / 255:.0f}%')"
   ]
  },
  {
   "cell_type": "code",
   "execution_count": 13,
   "metadata": {},
   "outputs": [
    {
     "name": "stdout",
     "output_type": "stream",
     "text": [
      "100%\n"
     ]
    }
   ],
   "source": [
    "res = mon_neurone.activation(Input2)\n",
    "print(f'{res * 100 / 255:.0f}%')"
   ]
  },
  {
   "attachments": {},
   "cell_type": "markdown",
   "metadata": {},
   "source": [
    "Sur ce cas trivial, j'obtient un résultat simple et clair."
   ]
  },
  {
   "attachments": {},
   "cell_type": "markdown",
   "metadata": {},
   "source": [
    "# Rendre l'entrée moins simple\n",
    "\n",
    "Le cas précédant était trop simple pour montrer l'intérêt du neurone. J'introduis maintenant du bruit pour rendre la distinction moins triviale. J'utilise les fonctions randoms présentées dans le fichier [02_random](../02_std_ext/02_random.ipynb) pour générer des séries de nombres entre 0 et 255 qui donnent une échelle de gris. Par contre, les entrées `Input3` et `Input4` sont consituées de valeurs normalisées entre 0 et 1. Enfin j'affiche les images côte à côte avec le commande [subplot](https://matplotlib.org/stable/api/_as_gen/matplotlib.pyplot.subplot.html)."
   ]
  },
  {
   "cell_type": "code",
   "execution_count": 14,
   "metadata": {},
   "outputs": [
    {
     "data": {
      "image/png": "[encoded data removed]",
      "text/plain": [
       "<Figure size 400x800 with 2 Axes>"
      ]
     },
     "metadata": {},
     "output_type": "display_data"
    }
   ],
   "source": [
    "rng = np.random.RandomState(seed=1)\n",
    "Sombres = rng.randint(0, 90, size= nb_points // 2)\n",
    "Clairs = rng.randint(150, 255, size= nb_points // 2)\n",
    "\n",
    "Input3 = np.concatenate((Sombres, Clairs))\n",
    "Input4 = np.concatenate((Clairs, Sombres))\n",
    "\n",
    "plt.figure(figsize=(4,8))\n",
    "plt.subplot(1,2, 1)\n",
    "plt.imshow(np.reshape(Input3,(12,12)), cmap=\"gray\")\n",
    "plt.axis(\"off\")\n",
    "plt.title(\"Image3\")\n",
    "\n",
    "plt.subplot(1,2, 2)\n",
    "plt.imshow(np.reshape(Input4,(12,12)), cmap=\"gray\")\n",
    "plt.axis(\"off\")\n",
    "plt.title(\"Image4\")\n",
    "\n",
    "plt.show()\n"
   ]
  },
  {
   "attachments": {},
   "cell_type": "markdown",
   "metadata": {},
   "source": [
    "J'essaye toujours d'appliquer la distinction faite par le neurone pour ces deux images différentes."
   ]
  },
  {
   "cell_type": "code",
   "execution_count": 15,
   "metadata": {},
   "outputs": [],
   "source": [
    "Weight = np.concatenate((np.ones(nb_points//2), np.zeros(nb_points//2)))"
   ]
  },
  {
   "cell_type": "code",
   "execution_count": 16,
   "metadata": {},
   "outputs": [
    {
     "name": "stdout",
     "output_type": "stream",
     "text": [
      "16%\n"
     ]
    }
   ],
   "source": [
    "mon_neurone = Neuron(Weight)\n",
    "res = mon_neurone.activation(Input3)\n",
    "print(f'{res * 100 /255:.0f}%')"
   ]
  },
  {
   "cell_type": "code",
   "execution_count": 17,
   "metadata": {},
   "outputs": [
    {
     "name": "stdout",
     "output_type": "stream",
     "text": [
      "79%\n"
     ]
    }
   ],
   "source": [
    "res = mon_neurone.activation(Input4)\n",
    "print(f'{res * 100 / 255:.0f}%')"
   ]
  },
  {
   "attachments": {},
   "cell_type": "markdown",
   "metadata": {},
   "source": [
    "Sans trop de surprise la reconnaissance, la reconnaissance est moins claire. \n",
    "\n",
    "Pour améliorer la reconnaissance, j'applique un filtre qui a pour fonction d'écarter les extrèmes. Les points ont une valeur entre 0 (le noir) et 255 (le blanc). Le filtre pousse les valeurs gris claires vers le blanc (255) et les valeurs gris sombres vers le noir (0)."
   ]
  },
  {
   "cell_type": "code",
   "execution_count": 18,
   "metadata": {},
   "outputs": [
    {
     "data": {
      "application/vnd.plotly.v1+json": {
       "config": {
        "plotlyServerURL": "https://plot.ly"
       },
       "data": [
        {
         "type": "scatter",
         "x": [
          0,
          1,
          2,
          3,
          4,
          5,
          6,
          7,
          8,
          9,
          10,
          11,
          12,
          13,
          14,
          15,
          16,
          17,
          18,
          19,
          20,
          21,
          22,
          23,
          24,
          25,
          26,
          27,
          28,
          29,
          30,
          31,
          32,
          33,
          34,
          35,
          36,
          37,
          38,
          39,
          40,
          41,
          42,
          43,
          44,
          45,
          46,
          47,
          48,
          49,
          50,
          51,
          52,
          53,
          54,
          55,
          56,
          57,
          58,
          59,
          60,
          61,
          62,
          63,
          64,
          65,
          66,
          67,
          68,
          69,
          70,
          71,
          72,
          73,
          74,
          75,
          76,
          77,
          78,
          79,
          80,
          81,
          82,
          83,
          84,
          85,
          86,
          87,
          88,
          89,
          90,
          91,
          92,
          93,
          94,
          95,
          96,
          97,
          98,
          99,
          100,
          101,
          102,
          103,
          104,
          105,
          106,
          107,
          108,
          109,
          110,
          111,
          112,
          113,
          114,
          115,
          116,
          117,
          118,
          119,
          120,
          121,
          122,
          123,
          124,
          125,
          126,
          127,
          128,
          129,
          130,
          131,
          132,
          133,
          134,
          135,
          136,
          137,
          138,
          139,
          140,
          141,
          142,
          143,
          144,
          145,
          146,
          147,
          148,
          149,
          150,
          151,
          152,
          153,
          154,
          155,
          156,
          157,
          158,
          159,
          160,
          161,
          162,
          163,
          164,
          165,
          166,
          167,
          168,
          169,
          170,
          171,
          172,
          173,
          174,
          175,
          176,
          177,
          178,
          179,
          180,
          181,
          182,
          183,
          184,
          185,
          186,
          187,
          188,
          189,
          190,
          191,
          192,
          193,
          194,
          195,
          196,
          197,
          198,
          199,
          200,
          201,
          202,
          203,
          204,
          205,
          206,
          207,
          208,
          209,
          210,
          211,
          212,
          213,
          214,
          215,
          216,
          217,
          218,
          219,
          220,
          221,
          222,
          223,
          224,
          225,
          226,
          227,
          228,
          229,
          230,
          231,
          232,
          233,
          234,
          235,
          236,
          237,
          238,
          239,
          240,
          241,
          242,
          243,
          244,
          245,
          246,
          247,
          248,
          249,
          250,
          251,
          252,
          253,
          254
         ],
         "y": [
          0,
          0,
          0,
          0,
          0,
          0,
          0,
          0,
          0,
          0,
          0,
          0,
          0,
          0,
          0,
          0,
          0,
          0,
          0,
          0,
          0,
          0,
          0,
          0,
          0,
          0,
          0,
          0,
          0,
          0,
          0,
          0,
          0,
          0,
          0,
          0,
          0,
          0,
          0,
          0,
          0,
          0,
          0,
          0,
          0,
          0,
          0,
          0,
          0,
          0,
          0,
          0,
          0,
          0,
          0,
          0,
          0,
          0,
          0,
          0,
          0,
          0,
          0,
          0,
          0,
          0,
          0,
          0,
          0,
          0,
          0,
          0,
          0,
          0,
          0,
          0,
          0,
          0,
          0,
          0,
          0,
          0,
          0,
          0,
          0,
          0,
          0,
          0,
          0,
          0,
          0,
          0,
          0,
          0,
          0,
          0,
          0,
          0,
          0,
          0,
          0,
          0,
          0,
          0,
          0,
          0,
          0,
          0,
          0,
          6.375,
          12.75,
          19.125,
          25.5,
          31.875,
          38.25,
          44.625,
          51,
          57.375,
          63.75,
          70.125,
          76.5,
          82.875,
          89.25,
          95.625,
          102,
          108.375,
          114.75,
          121.125,
          127.5,
          133.875,
          140.25,
          146.625,
          153,
          159.375,
          165.75,
          172.125,
          178.5,
          184.875,
          191.25,
          197.625,
          204,
          210.375,
          216.75,
          223.125,
          229.5,
          235.875,
          242.25,
          248.625,
          255,
          255,
          255,
          255,
          255,
          255,
          255,
          255,
          255,
          255,
          255,
          255,
          255,
          255,
          255,
          255,
          255,
          255,
          255,
          255,
          255,
          255,
          255,
          255,
          255,
          255,
          255,
          255,
          255,
          255,
          255,
          255,
          255,
          255,
          255,
          255,
          255,
          255,
          255,
          255,
          255,
          255,
          255,
          255,
          255,
          255,
          255,
          255,
          255,
          255,
          255,
          255,
          255,
          255,
          255,
          255,
          255,
          255,
          255,
          255,
          255,
          255,
          255,
          255,
          255,
          255,
          255,
          255,
          255,
          255,
          255,
          255,
          255,
          255,
          255,
          255,
          255,
          255,
          255,
          255,
          255,
          255,
          255,
          255,
          255,
          255,
          255,
          255,
          255,
          255,
          255,
          255,
          255,
          255,
          255,
          255,
          255,
          255,
          255,
          255,
          255,
          255,
          255,
          255,
          255,
          255,
          255
         ]
        }
       ],
       "layout": {
        "height": 200,
        "template": {
         "data": {
          "bar": [
           {
            "error_x": {
             "color": "#2a3f5f"
            },
            "error_y": {
             "color": "#2a3f5f"
            },
            "marker": {
             "line": {
              "color": "#E5ECF6",
              "width": 0.5
             },
             "pattern": {
              "fillmode": "overlay",
              "size": 10,
              "solidity": 0.2
             }
            },
            "type": "bar"
           }
          ],
          "barpolar": [
           {
            "marker": {
             "line": {
              "color": "#E5ECF6",
              "width": 0.5
             },
             "pattern": {
              "fillmode": "overlay",
              "size": 10,
              "solidity": 0.2
             }
            },
            "type": "barpolar"
           }
          ],
          "carpet": [
           {
            "aaxis": {
             "endlinecolor": "#2a3f5f",
             "gridcolor": "white",
             "linecolor": "white",
             "minorgridcolor": "white",
             "startlinecolor": "#2a3f5f"
            },
            "baxis": {
             "endlinecolor": "#2a3f5f",
             "gridcolor": "white",
             "linecolor": "white",
             "minorgridcolor": "white",
             "startlinecolor": "#2a3f5f"
            },
            "type": "carpet"
           }
          ],
          "choropleth": [
           {
            "colorbar": {
             "outlinewidth": 0,
             "ticks": ""
            },
            "type": "choropleth"
           }
          ],
          "contour": [
           {
            "colorbar": {
             "outlinewidth": 0,
             "ticks": ""
            },
            "colorscale": [
             [
              0,
              "#0d0887"
             ],
             [
              0.1111111111111111,
              "#46039f"
             ],
             [
              0.2222222222222222,
              "#7201a8"
             ],
             [
              0.3333333333333333,
              "#9c179e"
             ],
             [
              0.4444444444444444,
              "#bd3786"
             ],
             [
              0.5555555555555556,
              "#d8576b"
             ],
             [
              0.6666666666666666,
              "#ed7953"
             ],
             [
              0.7777777777777778,
              "#fb9f3a"
             ],
             [
              0.8888888888888888,
              "#fdca26"
             ],
             [
              1,
              "#f0f921"
             ]
            ],
            "type": "contour"
           }
          ],
          "contourcarpet": [
           {
            "colorbar": {
             "outlinewidth": 0,
             "ticks": ""
            },
            "type": "contourcarpet"
           }
          ],
          "heatmap": [
           {
            "colorbar": {
             "outlinewidth": 0,
             "ticks": ""
            },
            "colorscale": [
             [
              0,
              "#0d0887"
             ],
             [
              0.1111111111111111,
              "#46039f"
             ],
             [
              0.2222222222222222,
              "#7201a8"
             ],
             [
              0.3333333333333333,
              "#9c179e"
             ],
             [
              0.4444444444444444,
              "#bd3786"
             ],
             [
              0.5555555555555556,
              "#d8576b"
             ],
             [
              0.6666666666666666,
              "#ed7953"
             ],
             [
              0.7777777777777778,
              "#fb9f3a"
             ],
             [
              0.8888888888888888,
              "#fdca26"
             ],
             [
              1,
              "#f0f921"
             ]
            ],
            "type": "heatmap"
           }
          ],
          "heatmapgl": [
           {
            "colorbar": {
             "outlinewidth": 0,
             "ticks": ""
            },
            "colorscale": [
             [
              0,
              "#0d0887"
             ],
             [
              0.1111111111111111,
              "#46039f"
             ],
             [
              0.2222222222222222,
              "#7201a8"
             ],
             [
              0.3333333333333333,
              "#9c179e"
             ],
             [
              0.4444444444444444,
              "#bd3786"
             ],
             [
              0.5555555555555556,
              "#d8576b"
             ],
             [
              0.6666666666666666,
              "#ed7953"
             ],
             [
              0.7777777777777778,
              "#fb9f3a"
             ],
             [
              0.8888888888888888,
              "#fdca26"
             ],
             [
              1,
              "#f0f921"
             ]
            ],
            "type": "heatmapgl"
           }
          ],
          "histogram": [
           {
            "marker": {
             "pattern": {
              "fillmode": "overlay",
              "size": 10,
              "solidity": 0.2
             }
            },
            "type": "histogram"
           }
          ],
          "histogram2d": [
           {
            "colorbar": {
             "outlinewidth": 0,
             "ticks": ""
            },
            "colorscale": [
             [
              0,
              "#0d0887"
             ],
             [
              0.1111111111111111,
              "#46039f"
             ],
             [
              0.2222222222222222,
              "#7201a8"
             ],
             [
              0.3333333333333333,
              "#9c179e"
             ],
             [
              0.4444444444444444,
              "#bd3786"
             ],
             [
              0.5555555555555556,
              "#d8576b"
             ],
             [
              0.6666666666666666,
              "#ed7953"
             ],
             [
              0.7777777777777778,
              "#fb9f3a"
             ],
             [
              0.8888888888888888,
              "#fdca26"
             ],
             [
              1,
              "#f0f921"
             ]
            ],
            "type": "histogram2d"
           }
          ],
          "histogram2dcontour": [
           {
            "colorbar": {
             "outlinewidth": 0,
             "ticks": ""
            },
            "colorscale": [
             [
              0,
              "#0d0887"
             ],
             [
              0.1111111111111111,
              "#46039f"
             ],
             [
              0.2222222222222222,
              "#7201a8"
             ],
             [
              0.3333333333333333,
              "#9c179e"
             ],
             [
              0.4444444444444444,
              "#bd3786"
             ],
             [
              0.5555555555555556,
              "#d8576b"
             ],
             [
              0.6666666666666666,
              "#ed7953"
             ],
             [
              0.7777777777777778,
              "#fb9f3a"
             ],
             [
              0.8888888888888888,
              "#fdca26"
             ],
             [
              1,
              "#f0f921"
             ]
            ],
            "type": "histogram2dcontour"
           }
          ],
          "mesh3d": [
           {
            "colorbar": {
             "outlinewidth": 0,
             "ticks": ""
            },
            "type": "mesh3d"
           }
          ],
          "parcoords": [
           {
            "line": {
             "colorbar": {
              "outlinewidth": 0,
              "ticks": ""
             }
            },
            "type": "parcoords"
           }
          ],
          "pie": [
           {
            "automargin": true,
            "type": "pie"
           }
          ],
          "scatter": [
           {
            "fillpattern": {
             "fillmode": "overlay",
             "size": 10,
             "solidity": 0.2
            },
            "type": "scatter"
           }
          ],
          "scatter3d": [
           {
            "line": {
             "colorbar": {
              "outlinewidth": 0,
              "ticks": ""
             }
            },
            "marker": {
             "colorbar": {
              "outlinewidth": 0,
              "ticks": ""
             }
            },
            "type": "scatter3d"
           }
          ],
          "scattercarpet": [
           {
            "marker": {
             "colorbar": {
              "outlinewidth": 0,
              "ticks": ""
             }
            },
            "type": "scattercarpet"
           }
          ],
          "scattergeo": [
           {
            "marker": {
             "colorbar": {
              "outlinewidth": 0,
              "ticks": ""
             }
            },
            "type": "scattergeo"
           }
          ],
          "scattergl": [
           {
            "marker": {
             "colorbar": {
              "outlinewidth": 0,
              "ticks": ""
             }
            },
            "type": "scattergl"
           }
          ],
          "scattermapbox": [
           {
            "marker": {
             "colorbar": {
              "outlinewidth": 0,
              "ticks": ""
             }
            },
            "type": "scattermapbox"
           }
          ],
          "scatterpolar": [
           {
            "marker": {
             "colorbar": {
              "outlinewidth": 0,
              "ticks": ""
             }
            },
            "type": "scatterpolar"
           }
          ],
          "scatterpolargl": [
           {
            "marker": {
             "colorbar": {
              "outlinewidth": 0,
              "ticks": ""
             }
            },
            "type": "scatterpolargl"
           }
          ],
          "scatterternary": [
           {
            "marker": {
             "colorbar": {
              "outlinewidth": 0,
              "ticks": ""
             }
            },
            "type": "scatterternary"
           }
          ],
          "surface": [
           {
            "colorbar": {
             "outlinewidth": 0,
             "ticks": ""
            },
            "colorscale": [
             [
              0,
              "#0d0887"
             ],
             [
              0.1111111111111111,
              "#46039f"
             ],
             [
              0.2222222222222222,
              "#7201a8"
             ],
             [
              0.3333333333333333,
              "#9c179e"
             ],
             [
              0.4444444444444444,
              "#bd3786"
             ],
             [
              0.5555555555555556,
              "#d8576b"
             ],
             [
              0.6666666666666666,
              "#ed7953"
             ],
             [
              0.7777777777777778,
              "#fb9f3a"
             ],
             [
              0.8888888888888888,
              "#fdca26"
             ],
             [
              1,
              "#f0f921"
             ]
            ],
            "type": "surface"
           }
          ],
          "table": [
           {
            "cells": {
             "fill": {
              "color": "#EBF0F8"
             },
             "line": {
              "color": "white"
             }
            },
            "header": {
             "fill": {
              "color": "#C8D4E3"
             },
             "line": {
              "color": "white"
             }
            },
            "type": "table"
           }
          ]
         },
         "layout": {
          "margin": {
           "b": 10,
           "l": 20,
           "r": 20,
           "t": 60
          },
          "paper_bgcolor": "gray",
          "plot_bgcolor": "lightgray",
          "title": {
           "font": {
            "color": "black",
            "size": 24
           }
          }
         }
        },
        "title": {
         "text": "filtre"
        },
        "width": 400
       }
      }
     },
     "metadata": {},
     "output_type": "display_data"
    }
   ],
   "source": [
    "spc = 40\n",
    "val_min = 0  # pour mémoire\n",
    "val_max = 255\n",
    "hlim = 256 // 2 + spc // 2 \n",
    "llim = hlim - spc\n",
    "\n",
    "def filtre(x):\n",
    "    if x <= llim:\n",
    "        return 0\n",
    "    elif x < hlim:\n",
    "        return val_max * (x - llim) / (hlim - llim)\n",
    "    else:\n",
    "        return val_max\n",
    "\n",
    "X_val = list(range(val_max))\n",
    "Y_val = [filtre(x) for x in X_val]\n",
    "\n",
    "import plotly.graph_objects as go\n",
    "# mon style personnalisé pour les graphiques\n",
    "fond_gris = {\n",
    "  'layout': go.Layout(\n",
    "            title={'font_size':24, 'font_color':'black'},\n",
    "            margin={'t': 60, 'b': 10, 'l': 20, 'r': 20},\n",
    "            paper_bgcolor='gray',\n",
    "            plot_bgcolor='lightgray'\n",
    "  )\n",
    "}\n",
    "# plus d'info sur les personnalisations graphiques sur :\n",
    "# https://plotly.com/python/templates/\n",
    "\n",
    "fig = go.Figure(data=go.Scatter(x=X_val, y=Y_val))\n",
    "fig.update_layout(title='filtre', template=fond_gris, width = 400, height = 200)\n",
    "fig.show()"
   ]
  },
  {
   "attachments": {},
   "cell_type": "markdown",
   "metadata": {},
   "source": [
    "Voici la deuxième version du neurone qui applique ce filtre à la somme des entrées pondérées (cette somme pondérée donnant un signal est ici nommé `aggregation`)."
   ]
  },
  {
   "cell_type": "code",
   "execution_count": 19,
   "metadata": {},
   "outputs": [],
   "source": [
    "class Neuron2:\n",
    "    spc = 40\n",
    "    val_min = 0\n",
    "    val_max = 255\n",
    "    hlim = 256 // 2 + spc // 2\n",
    "    llim = hlim - spc\n",
    "\n",
    "    def __init__(self, input_weights):\n",
    "        \"\"\"Initialisation des poids.\"\"\"\n",
    "        self.weights = input_weights\n",
    "    \n",
    "    def _filter_(self, val):\n",
    "        \"\"\"définition de la fonction de filtre\"\"\"        \n",
    "        if val <= llim:\n",
    "            return 0\n",
    "        elif val < hlim:\n",
    "            return val_max * (val - llim) / (hlim - llim)\n",
    "        else:\n",
    "            return val_max\n",
    "\n",
    "    def _filter_prime_(self, val):\n",
    "        \"\"\"dérivée de la fonction de filtre\"\"\"\n",
    "        if val <= llim:\n",
    "            return 0\n",
    "        elif val < hlim:\n",
    "            return val_max / (hlim - llim)\n",
    "        else:\n",
    "            return 0\n",
    "        \n",
    "    def activation(self, X):\n",
    "        \"\"\"X est le vecteur d'entrée du neurone.\"\"\"\n",
    "        # aggregation = np.dot(self.weights, X)  # produit scalaire\n",
    "        aggregation = np.average(X, weights= self.weights)\n",
    "        return self._filter_(aggregation)\n",
    "    \n",
    "    def update_weights(self, input_weights):\n",
    "        \"\"\" mise à jour des poids \"\"\"\n",
    "        self.weights = input_weights"
   ]
  },
  {
   "attachments": {},
   "cell_type": "markdown",
   "metadata": {},
   "source": [
    "En appliquant ce nouveau neurone à la distinction des images."
   ]
  },
  {
   "cell_type": "code",
   "execution_count": 20,
   "metadata": {},
   "outputs": [],
   "source": [
    "Weight = np.concatenate((np.ones(nb_points//2), np.zeros(nb_points//2)))"
   ]
  },
  {
   "cell_type": "code",
   "execution_count": 21,
   "metadata": {},
   "outputs": [
    {
     "name": "stdout",
     "output_type": "stream",
     "text": [
      "0%\n"
     ]
    }
   ],
   "source": [
    "mon_neurone2 = Neuron2(Weight)\n",
    "res = mon_neurone2.activation(Input3)\n",
    "print(f'{res*100/255:.0f}%')"
   ]
  },
  {
   "cell_type": "code",
   "execution_count": 22,
   "metadata": {},
   "outputs": [
    {
     "name": "stdout",
     "output_type": "stream",
     "text": [
      "100%\n"
     ]
    }
   ],
   "source": [
    "res = mon_neurone2.activation(Input4)\n",
    "print(f'{res*100/255:.0f}%')"
   ]
  },
  {
   "attachments": {},
   "cell_type": "markdown",
   "metadata": {},
   "source": [
    "Comme attendu, le filtre améliore radicalement la clareté de la reconnaissance."
   ]
  },
  {
   "attachments": {},
   "cell_type": "markdown",
   "metadata": {},
   "source": [
    "# Vers un apprentissage supervisé automatique (pas fini !)"
   ]
  },
  {
   "attachments": {},
   "cell_type": "markdown",
   "metadata": {},
   "source": [
    "L'objectif d'un apprentissage automatique supervisé est de construire un algorithme permettant de trouver automatiquement les poids à utiliser en fonction des images qui lui sont soumises et du résultat qu'on veut en obtenir.\n",
    "\n",
    "Ici nous avons quatres images et je veux classer ainsi :\n",
    "- Image1, Image2 : le résultat doit être 0\n",
    "- Image2, Image4 : le résultat doit être à 255 (qu'on peut traduire en 100% en post traitement)"
   ]
  },
  {
   "cell_type": "code",
   "execution_count": 45,
   "metadata": {},
   "outputs": [],
   "source": [
    "Inputs = [Input1, Input2, Input3, Input4]\n",
    "Expected = [0, 255, 0, 255]"
   ]
  },
  {
   "attachments": {},
   "cell_type": "markdown",
   "metadata": {},
   "source": [
    "Dans cet exemple simplifié, je vais paramétrer le nombre de lectures pour \"apprendre\". Un algorithme final chercherait à minimiser une erreur."
   ]
  },
  {
   "attachments": {},
   "cell_type": "markdown",
   "metadata": {},
   "source": [
    "L'algorithme va définir une fonction calculant une erreur qui exprime la distance entre le résultat obtenu par le neurone et le résultat attendu. L'objectif sera de réduire cette distance au minimum en modifiant les poids en consuisant mes pas *dans la bonne direction* grâce à la méthode de descente du gradient."
   ]
  },
  {
   "attachments": {},
   "cell_type": "markdown",
   "metadata": {},
   "source": [
    "La définition du neurone doit aussi être revue pour inclure cette mise à jour des poids.\n",
    "\n",
    "Si je note $(w_i)_i$ les points des entrées $(a_i)_i$ et $f$ la fonction de filtrage, le calcul effectué par le neurone correspond à l'équation suivante.\n",
    "\n",
    "$$ y = f\\big(\\sum_{i=1}^n w_i \\cdot a_i \\big) = f(A) \\quad \\text{avec} \\quad A = \\sum_{i=1}^n w_i \\cdot a_i $$\n",
    "\n",
    "Je fais varier ces poids $(w_i)_i$ et je cherche à minimiser cette erreur. Le gradient en fonction des $(w_i)_i$ se calcule de la manière suivante.\n",
    "\n",
    "$$\\overrightarrow{\\nabla y} = \\sum_{i=1}^n \\frac{\\partial y}{\\partial w_i} \\overrightarrow{e_i}$$\n",
    "\n",
    "Chacune de dérivée partielle se calcule ainsi.\n",
    "\n",
    "$$\\frac{\\partial y}{\\partial w_i} = \\frac{\\partial{f(A)}}{\\partial w_i} = a_i \\cdot f'(A)$$\n",
    "\n",
    "Le principe de la descente du gradient donc de réduire le vecteur des poids en utilisant ce gradient, éventuellement avec une vitesse de descente $\\alpha$.\n",
    "\n",
    "$$w_i \\longrightarrow w_i - \\alpha \\cdot a_i \\cdot f'(A)$$"
   ]
  },
  {
   "attachments": {},
   "cell_type": "markdown",
   "metadata": {},
   "source": [
    "Voici la version 3 du neurone."
   ]
  },
  {
   "cell_type": "code",
   "execution_count": 207,
   "metadata": {},
   "outputs": [],
   "source": [
    "class Neuron3:\n",
    "    \"\"\"\n",
    "    Troisième version du neurone permettant l'apprentissage automatique\n",
    "    \"\"\"\n",
    "    spc = 40\n",
    "    val_min = 0\n",
    "    val_max = 255\n",
    "    hlim = 256 // 2 + spc // 2\n",
    "    llim = hlim - spc\n",
    "    # speed = 1\n",
    "    \n",
    "    def __init__(self, input_weights):\n",
    "        \"\"\"Initialisation des poids.\"\"\"\n",
    "        self.weights = input_weights\n",
    "    \n",
    "    def _filter_(self, val):\n",
    "        \"\"\"définition de la fonction de filtre\"\"\"        \n",
    "        if val <= llim:\n",
    "            return 0\n",
    "        elif val < hlim:\n",
    "            return val_max * (val - llim) / (hlim - llim)\n",
    "        else:\n",
    "            return val_max\n",
    "\n",
    "    def _filter_prime_(self, val):\n",
    "        \"\"\"dérivée de la fonction de filtre en un point\"\"\"            \n",
    "        if val <= llim:\n",
    "            return 0\n",
    "        elif val < hlim:\n",
    "            return val_max / (hlim - llim)\n",
    "        else:\n",
    "            return 0\n",
    "    \n",
    "    # >>> revoir à partir d'ici\n",
    "    def activation(self, X):\n",
    "        \"\"\"X est le vecteur d'entrée du neurone.\"\"\"        \n",
    "        sum_weights = sum(self.weights)\n",
    "        if sum_weights == 0:\n",
    "            return 0\n",
    "        else:\n",
    "            aggr = np.dot(self.weights, X) / sum_weights\n",
    "            return self._filter_(aggr)\n",
    "    \n",
    "    def update_weights(self, X, speed = 0.01):        \n",
    "        \"\"\"mise à jour des poids, pour un vecteur d'entrée X et une vitesse choisie\"\"\"\n",
    "        # self.weights -= speed * np.dot(self.weights, self._filter_grad_(self.weights))\n",
    "        sum_weights = sum(self.weights)\n",
    "        if sum_weights == 0:\n",
    "            return\n",
    "        else:\n",
    "            aggr = np.dot(self.weights, X) / sum_weights\n",
    "\n",
    "        # aggr = np.average(X, weights = self.weights)\n",
    "        fpr = self._filter_prime_(aggr)\n",
    "        if fpr == 0:\n",
    "            return\n",
    "        else:\n",
    "            for id in range(len(self.weights)):\n",
    "                if self.weights[id] <= 0.0 or self.weights[id] >= 1.0:\n",
    "                    continue     # no more calculation on weight achieving 0 or 1\n",
    "                else:\n",
    "                    self.weights[id] -= speed * self.weights[id] * fpr\n",
    "                    if self.weights[id] < 0:\n",
    "                        self.weights[id] = 0   # weight cannot be below 0\n",
    "                    elif self.weights[id] > 1:\n",
    "                        self.weights[id] = 1   # weight cannot be above 1\n",
    "            "
   ]
  },
  {
   "attachments": {},
   "cell_type": "markdown",
   "metadata": {},
   "source": [
    "L'initialisation sera fait avec des poids choisis au hazard entre 0 et 1."
   ]
  },
  {
   "cell_type": "code",
   "execution_count": 208,
   "metadata": {},
   "outputs": [],
   "source": [
    "rng = np.random.RandomState(seed=5)\n",
    "Weight = rng.random_sample(144)\n",
    "mon_neurone3 = Neuron3(Weight)"
   ]
  },
  {
   "attachments": {},
   "cell_type": "markdown",
   "metadata": {},
   "source": [
    "Voici ces poids présenté comme une image."
   ]
  },
  {
   "cell_type": "code",
   "execution_count": 209,
   "metadata": {},
   "outputs": [
    {
     "data": {
      "image/png": "[encoded data removed]",
      "text/plain": [
       "<Figure size 200x200 with 1 Axes>"
      ]
     },
     "metadata": {},
     "output_type": "display_data"
    }
   ],
   "source": [
    "plt.figure(figsize=(2,2))\n",
    "plt.imshow(np.reshape(mon_neurone3.weights,(12,12)), cmap=\"gray\")\n",
    "plt.axis(\"off\")\n",
    "plt.title(\"Poids de départ\")\n",
    "plt.show()"
   ]
  },
  {
   "attachments": {},
   "cell_type": "markdown",
   "metadata": {},
   "source": [
    "Voici les résultats des reconnaissances avec ces poids aléatoires."
   ]
  },
  {
   "cell_type": "code",
   "execution_count": 210,
   "metadata": {},
   "outputs": [
    {
     "name": "stdout",
     "output_type": "stream",
     "text": [
      "Image1: 59.63%\n",
      "Image2: 37.87%\n",
      "Image3: 41.29%\n",
      "Image4: 25.90%\n"
     ]
    }
   ],
   "source": [
    "for X, num in zip(Inputs, (1, 2, 3, 4)):\n",
    "    res = mon_neurone3.activation(X)\n",
    "    print(f'Image{num}: {res*100/255:.2f}%')"
   ]
  },
  {
   "attachments": {},
   "cell_type": "markdown",
   "metadata": {},
   "source": [
    "Comme attendu, la reconnaissance faite avec ces poids aléatoires renvoie un joyeux bazare et ne permet pas de faire la distinction bien claire."
   ]
  },
  {
   "attachments": {},
   "cell_type": "markdown",
   "metadata": {},
   "source": [
    "Je vais maintenant plusieurs expérimentations et à chacune d'entre elle, j'améliore le poids avec la méthode du gradient."
   ]
  },
  {
   "cell_type": "code",
   "execution_count": 213,
   "metadata": {},
   "outputs": [
    {
     "name": "stdout",
     "output_type": "stream",
     "text": [
      "62.13%\n"
     ]
    }
   ],
   "source": [
    "y = mon_neurone3.activation(Input2)\n",
    "d = (255 - y) / 255.0\n",
    "print(f'{d*100:.2f}%')"
   ]
  },
  {
   "cell_type": "code",
   "execution_count": 214,
   "metadata": {},
   "outputs": [
    {
     "data": {
      "image/png": "[encoded data removed]",
      "text/plain": [
       "<Figure size 200x200 with 1 Axes>"
      ]
     },
     "metadata": {},
     "output_type": "display_data"
    }
   ],
   "source": [
    "mon_neurone3.update_weights(X, 0.2*d)\n",
    "\n",
    "plt.figure(figsize=(2,2))\n",
    "plt.imshow(np.reshape(mon_neurone3.weights,(12,12)), cmap=\"gray\")\n",
    "plt.axis(\"off\")\n",
    "plt.title(\"Poids\")\n",
    "plt.show()"
   ]
  },
  {
   "cell_type": "code",
   "execution_count": null,
   "metadata": {},
   "outputs": [],
   "source": []
  },
  {
   "cell_type": "code",
   "execution_count": null,
   "metadata": {},
   "outputs": [],
   "source": []
  },
  {
   "cell_type": "code",
   "execution_count": null,
   "metadata": {},
   "outputs": [],
   "source": []
  },
  {
   "cell_type": "code",
   "execution_count": 75,
   "metadata": {},
   "outputs": [
    {
     "data": {
      "image/png": "[encoded data removed]",
      "text/plain": [
       "<Figure size 200x200 with 1 Axes>"
      ]
     },
     "metadata": {},
     "output_type": "display_data"
    }
   ],
   "source": [
    "y = mon_neurone3.activation(Input2)\n",
    "\n",
    "        \n",
    "d = (255 - y) / 255.0\n",
    "y = mon_neurone3.update_weights(X, d)\n",
    "\n",
    "\n",
    "plt.figure(figsize=(2,2))\n",
    "plt.imshow(np.reshape(mon_neurone3.weights,(12,12)), cmap=\"gray\")\n",
    "plt.axis(\"off\")\n",
    "plt.title(\"Poids obtenus\")\n",
    "plt.show()"
   ]
  },
  {
   "cell_type": "code",
   "execution_count": null,
   "metadata": {},
   "outputs": [],
   "source": []
  },
  {
   "cell_type": "code",
   "execution_count": null,
   "metadata": {},
   "outputs": [],
   "source": []
  },
  {
   "cell_type": "code",
   "execution_count": null,
   "metadata": {},
   "outputs": [],
   "source": [
    "for X, y0 in zip(Inputs[0:1], Expected[0:1]):\n",
    "        y = mon_neurone3.activation(X)\n",
    "        d = (y0 - y) / 255.0\n",
    "        y = mon_neurone3.update_weights(X, d)\n",
    "\n",
    "plt.figure(figsize=(2,2))\n",
    "plt.imshow(np.reshape(mon_neurone3.weights,(12,12)), cmap=\"gray\")\n",
    "plt.axis(\"off\")\n",
    "plt.title(\"Poids obtenus\")\n",
    "plt.show()"
   ]
  },
  {
   "attachments": {},
   "cell_type": "markdown",
   "metadata": {},
   "source": [
    "Et donc avec ces nouveaux poids obtenus, on peut essayer une reconnaissance."
   ]
  },
  {
   "cell_type": "code",
   "execution_count": 42,
   "metadata": {},
   "outputs": [
    {
     "name": "stdout",
     "output_type": "stream",
     "text": [
      "Image1: 100.00%\n",
      "Image2: 0.00%\n",
      "Image3: 100.00%\n",
      "Image4: 0.00%\n"
     ]
    }
   ],
   "source": [
    "for X, num in zip(Inputs, (1, 2, 3, 4)):\n",
    "    res = mon_neurone3.activation(X)\n",
    "    print(f'Image{num}: {res*100/255:.2f}%')"
   ]
  },
  {
   "attachments": {},
   "cell_type": "markdown",
   "metadata": {},
   "source": []
  },
  {
   "attachments": {},
   "cell_type": "markdown",
   "metadata": {},
   "source": [
    "voir cours MIT : https://www.youtube.com/watch?v=VrMHA3yX_QI"
   ]
  }
 ],
 "metadata": {
  "kernelspec": {
   "display_name": ".venv",
   "language": "python",
   "name": "python3"
  },
  "language_info": {
   "codemirror_mode": {
    "name": "ipython",
    "version": 3
   },
   "file_extension": ".py",
   "mimetype": "text/x-python",
   "name": "python",
   "nbconvert_exporter": "python",
   "pygments_lexer": "ipython3",
   "version": "3.10.7"
  },
  "orig_nbformat": 4
 },
 "nbformat": 4,
 "nbformat_minor": 2
}
