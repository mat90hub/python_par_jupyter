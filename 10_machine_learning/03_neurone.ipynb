{
 "cells": [
  {
   "attachments": {},
   "cell_type": "markdown",
   "metadata": {},
   "source": [
    "# Construction d'un neurone\n",
    "\n",
    "On commence par construire un neurone simple, qu'on va ensuite tester. Je m'inspire beaucoup de l'exemple donné par [Miximum](https://www.miximum.fr/blog/introduction-au-deep-learning-1/)."
   ]
  },
  {
   "attachments": {},
   "cell_type": "markdown",
   "metadata": {},
   "source": [
    "J'utilise une classe définissant un objet neurone, qui aura:\n",
    "- un constructeur (nommé classiquement `__init__`), \n",
    "- une méthode d'activation \n",
    "- une méthode de mise à jour les poids des neurones qui lui sont connectés en amont. \n",
    "\n",
    "Dans cette première étape, l'activation du neurone consiste à faire la moyenne pondérée des signaux qui lui arrivent et de passer le résultat."
   ]
  },
  {
   "cell_type": "code",
   "execution_count": 5,
   "metadata": {},
   "outputs": [],
   "source": [
    "import numpy as np\n",
    "\n",
    "class Neuron:\n",
    "    def __init__(self, input_weights):\n",
    "        \"\"\"Initialisation des poids / biais avec des valeurs aléatoires.\"\"\"\n",
    "        self.weights = input_weights\n",
    "        \n",
    "    def activation(self, X):\n",
    "        \"\"\"On suppose que X est de la taille passée dans le constructeur.\"\"\"\n",
    "        return np.average(X, weights= self.weights)\n",
    "    \n",
    "    def update_weights(self, input_weights):\n",
    "        \"\"\" mise à jour des poids \"\"\"\n",
    "        self.weights = input_weights"
   ]
  },
  {
   "attachments": {},
   "cell_type": "markdown",
   "metadata": {},
   "source": [
    "Le neurone sera testé en lui demandant de distinguer deux entrées qui sont radicalement différentes : `Input1` et `Input2`."
   ]
  },
  {
   "cell_type": "code",
   "execution_count": 6,
   "metadata": {},
   "outputs": [
    {
     "data": {
      "text/plain": [
       "array([0., 0., 0., 0., 0., 1., 1., 1., 1., 1.])"
      ]
     },
     "execution_count": 6,
     "metadata": {},
     "output_type": "execute_result"
    }
   ],
   "source": [
    "n = 10\n",
    "nb_zeros = 5\n",
    "Uns = np.zeros(nb_zeros)\n",
    "Zeros = np.ones(n - nb_zeros)\n",
    "Input1 =  np.concatenate((Uns, Zeros))\n",
    "Input1"
   ]
  },
  {
   "cell_type": "code",
   "execution_count": 7,
   "metadata": {},
   "outputs": [
    {
     "data": {
      "text/plain": [
       "array([1., 1., 1., 1., 1., 0., 0., 0., 0., 0.])"
      ]
     },
     "execution_count": 7,
     "metadata": {},
     "output_type": "execute_result"
    }
   ],
   "source": [
    "Input2 = np.concatenate((Zeros, Uns))\n",
    "Input2"
   ]
  },
  {
   "attachments": {},
   "cell_type": "markdown",
   "metadata": {},
   "source": [
    "Je veux que mon neurone renvoie 1 avec `Input` et 0 avec `Input1`.\n",
    "\n",
    "L'objectif sera de trouver les bons adéquats pour que la sortie du neurone corresponde à cette reconnaissance recherchée. Le sujet est simple et je peux directement deviner les poids qui fonctionneront bien."
   ]
  },
  {
   "cell_type": "code",
   "execution_count": 8,
   "metadata": {},
   "outputs": [
    {
     "data": {
      "text/plain": [
       "array([0., 0., 0., 0., 0., 1., 1., 1., 1., 1.])"
      ]
     },
     "execution_count": 8,
     "metadata": {},
     "output_type": "execute_result"
    }
   ],
   "source": [
    "Weight = np.concatenate((Uns, Zeros))\n",
    "Weight"
   ]
  },
  {
   "cell_type": "markdown",
   "metadata": {},
   "source": [
    "Je construis maintenant mon neurone avec la classe définit précédement. Je me souviens que pour cela, le constructeur `__init__` demande de donner le nombre de neurones connectés en amont, donc ici mes `n` entrées."
   ]
  },
  {
   "cell_type": "code",
   "execution_count": 9,
   "metadata": {},
   "outputs": [
    {
     "name": "stdout",
     "output_type": "stream",
     "text": [
      "100.00%\n"
     ]
    }
   ],
   "source": [
    "mon_neurone = Neuron(Weight)\n",
    "res = mon_neurone.activation(Input1)\n",
    "print(f'{res*100:.2f}%')"
   ]
  },
  {
   "cell_type": "code",
   "execution_count": 10,
   "metadata": {},
   "outputs": [
    {
     "name": "stdout",
     "output_type": "stream",
     "text": [
      "0.00%\n"
     ]
    }
   ],
   "source": [
    "res = mon_neurone.activation(Input2)\n",
    "print(f'{res*100:.2f}%')"
   ]
  },
  {
   "attachments": {},
   "cell_type": "markdown",
   "metadata": {},
   "source": [
    "La reconnaissance est parfaite, mais le cas était bien sûr bien trop simple."
   ]
  },
  {
   "attachments": {},
   "cell_type": "markdown",
   "metadata": {},
   "source": [
    "# Rendre l'entrée plus visuelle"
   ]
  },
  {
   "attachments": {},
   "cell_type": "markdown",
   "metadata": {},
   "source": [
    "Les principes de base étant compris, j'améliore l'entrée pour qu'elle soit plus visuelle : je demande de reconnaître deux images radicalement différente. Pour rester simple, je prends une matrice 12x12 qui contient doinc 144 points. L'extension [matplotlib.pyplot](https://matplotlib.org/stable/tutorials/introductory/quick_start.html) propose la commande [imshow](https://matplotlib.org/stable/api/_as_gen/matplotlib.pyplot.imshow.html) pour afficher des matrices de points."
   ]
  },
  {
   "attachments": {},
   "cell_type": "markdown",
   "metadata": {},
   "source": [
    "Comme image je choisi simplement de mettre la moitié inférieur en blanc (avec des 1), la moitié supérieure restant noire. Pour construire mon image, j'utilise les techniques de remplissage rapide sur les vecteurs Numpy données dans le fichier [01_numpy.ipynb](../02_std_ext/01_numpy.ipynb). Ensuite, on passe d'un vecteur de 144 points à une matrice de 12x12 en utilisant la commande [numpy.reshape](https://www.w3schools.com/python/numpy/numpy_array_reshape.asp)."
   ]
  },
  {
   "cell_type": "code",
   "execution_count": 11,
   "metadata": {},
   "outputs": [
    {
     "data": {
      "text/plain": [
       "(-0.5, 11.5, 11.5, -0.5)"
      ]
     },
     "execution_count": 11,
     "metadata": {},
     "output_type": "execute_result"
    },
    {
     "data": {
      "image/png": "[encoded data removed]",
      "text/plain": [
       "<Figure size 200x200 with 1 Axes>"
      ]
     },
     "metadata": {},
     "output_type": "display_data"
    }
   ],
   "source": [
    "nb_points = 144\n",
    "Zeros = np.zeros(nb_points//2)   # attention, bien utiliser la division d'entiers\n",
    "Ones = np.ones(nb_points - nb_points // 2)\n",
    "\n",
    "Input1 = np.concatenate((Zeros, Ones))\n",
    "Matrice1 = np.reshape(Input1, (12, 12))\n",
    "\n",
    "import matplotlib.pyplot as plt\n",
    "\n",
    "plt.figure(figsize=(2,2))\n",
    "plt.imshow(Matrice1, cmap=\"gray\")\n",
    "plt.title('Image1')\n",
    "plt.axis(\"off\")"
   ]
  },
  {
   "attachments": {},
   "cell_type": "markdown",
   "metadata": {},
   "source": [
    "Pour la deuxième image à distinguer, qui sera donc `Input2`, je choisis de mettre en blanc la partie supérieure de l'image."
   ]
  },
  {
   "cell_type": "code",
   "execution_count": 12,
   "metadata": {},
   "outputs": [
    {
     "data": {
      "text/plain": [
       "(-0.5, 11.5, 11.5, -0.5)"
      ]
     },
     "execution_count": 12,
     "metadata": {},
     "output_type": "execute_result"
    },
    {
     "data": {
      "image/png": "[encoded data removed]",
      "text/plain": [
       "<Figure size 200x200 with 1 Axes>"
      ]
     },
     "metadata": {},
     "output_type": "display_data"
    }
   ],
   "source": [
    "Input2 = np.concatenate((Ones, Zeros))\n",
    "Matrice2 = np.reshape(Input2, (12, 12))\n",
    "\n",
    "import matplotlib.pyplot as plt\n",
    "\n",
    "plt.figure(figsize=(2,2))\n",
    "plt.imshow(Matrice2, cmap=\"gray\")\n",
    "plt.title('Image2')\n",
    "plt.axis(\"off\")"
   ]
  },
  {
   "attachments": {},
   "cell_type": "markdown",
   "metadata": {},
   "source": [
    "Pour distinguer `Image1` d'`Image2`, je peux facilement deviner les poids qu'il faut utiliser."
   ]
  },
  {
   "cell_type": "code",
   "execution_count": 13,
   "metadata": {},
   "outputs": [],
   "source": [
    "Weight = Input1"
   ]
  },
  {
   "attachments": {},
   "cell_type": "markdown",
   "metadata": {},
   "source": [
    "Avec ce poids, je suis sûr d'obtenir 1 avec `Input1` et 0 avec `Input2`."
   ]
  },
  {
   "cell_type": "code",
   "execution_count": 14,
   "metadata": {},
   "outputs": [
    {
     "data": {
      "text/plain": [
       "1.0"
      ]
     },
     "execution_count": 14,
     "metadata": {},
     "output_type": "execute_result"
    }
   ],
   "source": [
    "# on aplatit la matrice de poids\n",
    "mon_neurone = Neuron(Weight)\n",
    "mon_neurone.activation(Input1)"
   ]
  },
  {
   "cell_type": "code",
   "execution_count": 15,
   "metadata": {},
   "outputs": [
    {
     "data": {
      "text/plain": [
       "0.0"
      ]
     },
     "execution_count": 15,
     "metadata": {},
     "output_type": "execute_result"
    }
   ],
   "source": [
    "mon_neurone.activation(Input2)"
   ]
  },
  {
   "attachments": {},
   "cell_type": "markdown",
   "metadata": {},
   "source": [
    "Sur ces deux cas élémentaires, j'ai une distinction parfaite."
   ]
  },
  {
   "attachments": {},
   "cell_type": "markdown",
   "metadata": {},
   "source": [
    "# Rendre l'entrée moins simple\n",
    "\n",
    "Le cas précédant était trop simple pour montrer l'intérêt du neurone. J'introduit maintenant du bruit dans les deux entrées."
   ]
  },
  {
   "cell_type": "code",
   "execution_count": 16,
   "metadata": {},
   "outputs": [
    {
     "data": {
      "image/png": "[encoded data removed]",
      "text/plain": [
       "<Figure size 640x480 with 2 Axes>"
      ]
     },
     "metadata": {},
     "output_type": "display_data"
    }
   ],
   "source": [
    "rng = np.random.RandomState(seed=1)\n",
    "Ones = rng.random(nb_points - nb_points // 2)\n",
    "Input3 = np.concatenate((Zeros, Ones))\n",
    "\n",
    "Ones = rng.random(nb_points - nb_points // 2)\n",
    "Input4 = np.concatenate((Ones, Zeros))\n",
    "\n",
    "plt.subplot(1,2, 1)\n",
    "plt.imshow(np.reshape(Input3,(12,12)), cmap=\"gray\")\n",
    "plt.axis(\"off\")\n",
    "plt.title(\"Image3\")\n",
    "\n",
    "plt.subplot(1,2, 2)\n",
    "plt.imshow(np.reshape(Input4,(12,12)), cmap=\"gray\")\n",
    "plt.axis(\"off\")\n",
    "plt.title(\"Image4\")\n",
    "\n",
    "plt.show()\n"
   ]
  },
  {
   "attachments": {},
   "cell_type": "markdown",
   "metadata": {},
   "source": [
    "J'essaye toujours d'appliquer la distinction faite par le neurone pour ces deux images différentes."
   ]
  },
  {
   "cell_type": "code",
   "execution_count": 17,
   "metadata": {},
   "outputs": [
    {
     "name": "stdout",
     "output_type": "stream",
     "text": [
      "45.89%\n"
     ]
    }
   ],
   "source": [
    "mon_neurone = Neuron(Weight)\n",
    "res = mon_neurone.activation(Input3)\n",
    "print(f'{res*100:.2f}%')"
   ]
  },
  {
   "cell_type": "code",
   "execution_count": 18,
   "metadata": {},
   "outputs": [
    {
     "name": "stdout",
     "output_type": "stream",
     "text": [
      "0.00%\n"
     ]
    }
   ],
   "source": [
    "res = mon_neurone.activation(Input4)\n",
    "print(f'{res*100:.2f}%')"
   ]
  },
  {
   "attachments": {},
   "cell_type": "markdown",
   "metadata": {},
   "source": [
    "Sans trop de surprise la reconnaissance sur la zone bruitée est moins bonne. Mais c'est typiquement là qu'on peut utiliser La fonction [sigmoïde](02_regression_logistique.ipynb), car elle va aider à passer outre ce bruit et établir toujours une reconnaissance entre deux choix de manière plus tranchée. Nous introduisons donc cette fonction à l'intérieur de notre neurone."
   ]
  },
  {
   "cell_type": "code",
   "execution_count": 19,
   "metadata": {},
   "outputs": [],
   "source": [
    "def sigmoid(x):\n",
    "    return 1.0 / (1.0 + np.exp(-x))"
   ]
  },
  {
   "attachments": {},
   "cell_type": "markdown",
   "metadata": {},
   "source": [
    "Les poids doivent aussi être modifiés, car la fonction Sigmoïde demande une entrée entre $-\\infty$ et $+\\infty$. Je ne donne donc plus des poids à 0 ou 1 mais à -1 ou 1 selon la zone que je veux reconnaître. Ces choix de poids sont faits pour aller directement à un résultat pertinnent. Dans le chapitre suivant nous allons voir comment construire un algorithme qui retrouve ces *poids pertinents*."
   ]
  },
  {
   "cell_type": "code",
   "execution_count": 20,
   "metadata": {},
   "outputs": [],
   "source": [
    "Weight = np.concatenate((np.ones(72)*-1, np.ones(72)))"
   ]
  },
  {
   "cell_type": "code",
   "execution_count": 27,
   "metadata": {},
   "outputs": [],
   "source": [
    "class Neuron2:\n",
    "    def __init__(self, input_weights):\n",
    "        \"\"\"Initialisation des poids / biais avec des valeurs aléatoires.\"\"\"\n",
    "        self.weights = input_weights\n",
    "        \n",
    "    def activation(self, X):\n",
    "        \"\"\"On suppose que X est de la taille passée dans le constructeur.\"\"\"\n",
    "        agregation = np.dot(self.weights, X)  # produit scalaire\n",
    "        return sigmoid(agregation)\n",
    "    \n",
    "    def update_weights(self, input_weights):\n",
    "        \"\"\" mise à jour des poids \"\"\"\n",
    "        self.weights = input_weights"
   ]
  },
  {
   "cell_type": "code",
   "execution_count": 25,
   "metadata": {},
   "outputs": [
    {
     "name": "stdout",
     "output_type": "stream",
     "text": [
      "100.00%\n"
     ]
    }
   ],
   "source": [
    "mon_neurone2 = Neuron2(Weight)\n",
    "res = mon_neurone2.activation(Input3)\n",
    "print(f'{res*100:.2f}%')"
   ]
  },
  {
   "cell_type": "code",
   "execution_count": 26,
   "metadata": {},
   "outputs": [
    {
     "name": "stdout",
     "output_type": "stream",
     "text": [
      "0.00%\n"
     ]
    }
   ],
   "source": [
    "res = mon_neurone2.activation(Input4)\n",
    "print(f'{res*100:.2f}%')"
   ]
  },
  {
   "attachments": {},
   "cell_type": "markdown",
   "metadata": {},
   "source": [
    "Dans un cas plus complexe (et plus proche de la réalité de nos perception), la fonction Sigmoïde aide à faire la distinction entre deux zones, même si l'une des zones a été floutée."
   ]
  },
  {
   "attachments": {},
   "cell_type": "markdown",
   "metadata": {},
   "source": [
    "# Vers un apprentissage automatique"
   ]
  },
  {
   "attachments": {},
   "cell_type": "markdown",
   "metadata": {},
   "source": [
    "L'objectif d'un apprentissage automatique est de construire un algorithme permettant de trouver automatiquement les poids à utiliser en fonction des images qui lui sont soumises et du résultat qu'on veut en obtenir.\n",
    "\n",
    "Ici nous avons quatres images et nous voulons les classer ainsi :\n",
    "- Image1, Image2 : le résultat doit être vrai, ou 100%\n",
    "- Image2, Image4 : le résultat doit être faux, ou 0%\n",
    "\n",
    "Dans un premier temps nous allons paramétrer le nombre de lectures pour \"apprendre\". Dans un véritable algorithme, il faudrait paraméter l'algorithme en fonction de la précision de la reconnaissance qu'on recherche."
   ]
  },
  {
   "attachments": {},
   "cell_type": "markdown",
   "metadata": {},
   "source": [
    "Pour cette algorithme, on peut se souvenir de la méthode de la [regression logistique](02_regression_logistique.ipynb) que nous avons faite dans une autre présentation. Pour espérer avoir un résultat, il faut se donner une règle pour aller *dans le bonne direction* et une bonne méthode est de se ramener à une descente de gradient."
   ]
  },
  {
   "cell_type": "code",
   "execution_count": null,
   "metadata": {},
   "outputs": [],
   "source": []
  }
 ],
 "metadata": {
  "kernelspec": {
   "display_name": ".venv",
   "language": "python",
   "name": "python3"
  },
  "language_info": {
   "codemirror_mode": {
    "name": "ipython",
    "version": 3
   },
   "file_extension": ".py",
   "mimetype": "text/x-python",
   "name": "python",
   "nbconvert_exporter": "python",
   "pygments_lexer": "ipython3",
   "version": "3.10.7"
  },
  "orig_nbformat": 4
 },
 "nbformat": 4,
 "nbformat_minor": 2
}
