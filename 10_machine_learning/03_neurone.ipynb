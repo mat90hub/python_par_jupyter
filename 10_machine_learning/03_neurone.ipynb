{
 "cells": [
  {
   "attachments": {},
   "cell_type": "markdown",
   "metadata": {},
   "source": [
    "# Construction d'un neurone\n",
    "\n",
    "On commence par construire un neurone simple, qu'on va ensuite tester. Je m'inspire beaucoup de l'exemple donné par [Miximum](https://www.miximum.fr/blog/introduction-au-deep-learning-1/)."
   ]
  },
  {
   "attachments": {},
   "cell_type": "markdown",
   "metadata": {},
   "source": [
    "J'utilise une classe définissant un objet neurone, qui aura:\n",
    "- un constructeur (nommé classiquement `__init__`), \n",
    "- une méthode d'activation \n",
    "- une méthode de mise à jour les poids des neurones qui lui sont connectés en amont. \n",
    "\n",
    "Dans cette première étape, l'activation du neurone consiste à faire la moyenne pondérée des signaux qui lui arrivent et de passer le résultat."
   ]
  },
  {
   "cell_type": "code",
   "execution_count": 7,
   "metadata": {},
   "outputs": [],
   "source": [
    "import numpy as np\n",
    "\n",
    "class Neuron:\n",
    "    def __init__(self, input_weights):\n",
    "        \"\"\"Initialisation des poids / biais avec des valeurs aléatoires.\"\"\"\n",
    "        self.weights = input_weights\n",
    "        \n",
    "    def activation(self, X):\n",
    "        \"\"\"On suppose que X est de la taille passée dans le constructeur.\"\"\"\n",
    "        return np.average(X, weights= self.weights)\n",
    "    \n",
    "    def update_weights(self, input_weights):\n",
    "        \"\"\" mise à jour des poids \"\"\"\n",
    "        self.weights = input_weights"
   ]
  },
  {
   "attachments": {},
   "cell_type": "markdown",
   "metadata": {},
   "source": [
    "Le neurone sera testé en lui demandant de distinguer deux entrées qui sont radicalement différentes : `Vec1` et `Vec2`."
   ]
  },
  {
   "cell_type": "code",
   "execution_count": 8,
   "metadata": {},
   "outputs": [
    {
     "name": "stdout",
     "output_type": "stream",
     "text": [
      "[0. 0. 0. 0. 0. 1. 1. 1. 1. 1.]\n"
     ]
    }
   ],
   "source": [
    "n = 10\n",
    "nb_zeros = 5\n",
    "Uns = np.ones(nb_zeros)\n",
    "Zeros = np.zeros(n - nb_zeros)\n",
    "Vec1 =  np.concatenate((Zeros, Uns))\n",
    "print(Vec1)"
   ]
  },
  {
   "cell_type": "code",
   "execution_count": 9,
   "metadata": {},
   "outputs": [
    {
     "name": "stdout",
     "output_type": "stream",
     "text": [
      "[1. 1. 1. 1. 1. 0. 0. 0. 0. 0.]\n"
     ]
    }
   ],
   "source": [
    "Vec2 = np.concatenate((Uns, Zeros))\n",
    "print(Vec2)"
   ]
  },
  {
   "attachments": {},
   "cell_type": "markdown",
   "metadata": {},
   "source": [
    "Je veux que mon neurone renvoie 1 avec `Vec1` et 0 avec `Vec2`.\n",
    "\n",
    "L'objectif sera de trouver les bons adéquats pour que la sortie du neurone corresponde à cette reconnaissance recherchée. Le sujet est simple et je peux directement deviner les poids qui fonctionneront bien."
   ]
  },
  {
   "cell_type": "code",
   "execution_count": 10,
   "metadata": {},
   "outputs": [
    {
     "data": {
      "text/plain": [
       "array([0., 0., 0., 0., 0., 1., 1., 1., 1., 1.])"
      ]
     },
     "execution_count": 10,
     "metadata": {},
     "output_type": "execute_result"
    }
   ],
   "source": [
    "VecWght = Vec1\n",
    "VecWght"
   ]
  },
  {
   "cell_type": "markdown",
   "metadata": {},
   "source": [
    "Je construis maintenant mon neurone avec la classe définit précédement. Je me souviens que pour cela, le constructeur `__init__` demande de donner le nombre de neurones connectés en amont, donc ici mes `n` entrées."
   ]
  },
  {
   "cell_type": "code",
   "execution_count": 11,
   "metadata": {},
   "outputs": [
    {
     "name": "stdout",
     "output_type": "stream",
     "text": [
      "100.00%\n"
     ]
    }
   ],
   "source": [
    "mon_neurone = Neuron(VecWght)\n",
    "res = mon_neurone.activation(Vec1)\n",
    "print(f'{res*100:.2f}%')"
   ]
  },
  {
   "cell_type": "code",
   "execution_count": 12,
   "metadata": {},
   "outputs": [
    {
     "name": "stdout",
     "output_type": "stream",
     "text": [
      "0.00%\n"
     ]
    }
   ],
   "source": [
    "res = mon_neurone.activation(Vec2)\n",
    "print(f'{res*100:.2f}%')"
   ]
  },
  {
   "attachments": {},
   "cell_type": "markdown",
   "metadata": {},
   "source": [
    "La reconnaissance est parfaite, mais le cas était bien sûr bien trop simple."
   ]
  },
  {
   "attachments": {},
   "cell_type": "markdown",
   "metadata": {},
   "source": [
    "# Rendre l'entrée plus visuelle"
   ]
  },
  {
   "attachments": {},
   "cell_type": "markdown",
   "metadata": {},
   "source": [
    "Les principes de base étant compris, j'améliore l'entrée pour qu'elle soit plus visuelle : je demande de reconnaître deux images radicalement différente. Pour rester simple, je prends une matrice 12x12 qui contient doinc 144 points. L'extension [matplotlib.pyplot](https://matplotlib.org/stable/tutorials/introductory/quick_start.html) propose la commande [imshow](https://matplotlib.org/stable/api/_as_gen/matplotlib.pyplot.imshow.html) pour afficher des matrices de points."
   ]
  },
  {
   "attachments": {},
   "cell_type": "markdown",
   "metadata": {},
   "source": [
    "Comme image je choisi simplement de mettre la moitié inférieur en blanc (avec des 1), la moitié supérieure restant noire. Pour construire mon image, j'utilise les techniques de remplissage rapide sur les vecteurs Numpy données dans le fichier [01_numpy.ipynb](../02_std_ext/01_numpy.ipynb). Ensuite, on passe d'un vecteur de 144 points à une matrice de 12x12 en utilisant la commande [numpy.reshape](https://www.w3schools.com/python/numpy/numpy_array_reshape.asp)."
   ]
  },
  {
   "cell_type": "code",
   "execution_count": 13,
   "metadata": {},
   "outputs": [
    {
     "data": {
      "image/png": "[encoded data removed]",
      "text/plain": [
       "<Figure size 200x200 with 1 Axes>"
      ]
     },
     "metadata": {},
     "output_type": "display_data"
    }
   ],
   "source": [
    "nb_points = 144\n",
    "Zeros = np.zeros(nb_points//2)   # attention, bien utiliser la division d'entiers\n",
    "Ones = np.ones(nb_points - nb_points // 2)\n",
    "\n",
    "Input1 = np.concatenate((Zeros, Ones))\n",
    "Matrice1 = np.reshape(Input1, (12, 12))\n",
    "\n",
    "import matplotlib.pyplot as plt\n",
    "\n",
    "plt.figure(figsize=(2,2))\n",
    "plt.imshow(Matrice1, cmap=\"gray\")\n",
    "plt.title('Image1')\n",
    "plt.axis(\"off\")\n",
    "plt.show()"
   ]
  },
  {
   "attachments": {},
   "cell_type": "markdown",
   "metadata": {},
   "source": [
    "Pour la deuxième image à distinguer, qui sera donc `Input2`, je choisis de mettre en blanc la partie supérieure de l'image."
   ]
  },
  {
   "cell_type": "code",
   "execution_count": 14,
   "metadata": {},
   "outputs": [
    {
     "data": {
      "image/png": "[encoded data removed]",
      "text/plain": [
       "<Figure size 200x200 with 1 Axes>"
      ]
     },
     "metadata": {},
     "output_type": "display_data"
    }
   ],
   "source": [
    "Input2 = np.concatenate((Ones, Zeros))\n",
    "Matrice2 = np.reshape(Input2, (12, 12))\n",
    "\n",
    "import matplotlib.pyplot as plt\n",
    "\n",
    "plt.figure(figsize=(2,2))\n",
    "plt.imshow(Matrice2, cmap=\"gray\")\n",
    "plt.title('Image2')\n",
    "plt.axis(\"off\")\n",
    "plt.show()"
   ]
  },
  {
   "attachments": {},
   "cell_type": "markdown",
   "metadata": {},
   "source": [
    "Pour distinguer `Image1` d'`Image2`, je peux facilement deviner les poids qu'il faut utiliser."
   ]
  },
  {
   "cell_type": "code",
   "execution_count": 15,
   "metadata": {},
   "outputs": [],
   "source": [
    "Weight = Input1"
   ]
  },
  {
   "attachments": {},
   "cell_type": "markdown",
   "metadata": {},
   "source": [
    "Avec ce poids, je suis sûr d'obtenir 1 avec `Input1` et 0 avec `Input2`."
   ]
  },
  {
   "cell_type": "code",
   "execution_count": 16,
   "metadata": {},
   "outputs": [
    {
     "name": "stdout",
     "output_type": "stream",
     "text": [
      "100.00%\n"
     ]
    }
   ],
   "source": [
    "# on aplatit la matrice de poids\n",
    "mon_neurone = Neuron(Weight)\n",
    "res = mon_neurone.activation(Input1)\n",
    "print(f'{res*100:.2f}%')"
   ]
  },
  {
   "cell_type": "code",
   "execution_count": 17,
   "metadata": {},
   "outputs": [
    {
     "name": "stdout",
     "output_type": "stream",
     "text": [
      "0.00%\n"
     ]
    }
   ],
   "source": [
    "res = mon_neurone.activation(Input2)\n",
    "print(f'{res*100:.2f}%')"
   ]
  },
  {
   "attachments": {},
   "cell_type": "markdown",
   "metadata": {},
   "source": [
    "Sur ces deux cas élémentaires, j'ai une distinction parfaite."
   ]
  },
  {
   "attachments": {},
   "cell_type": "markdown",
   "metadata": {},
   "source": [
    "# Rendre l'entrée moins simple\n",
    "\n",
    "Le cas précédant était trop simple pour montrer l'intérêt du neurone. J'introduis maintenant du bruit pour rendre la distinction moins triviale. J'utilise les fonctions randoms présentées dans le fichier [02_random](../02_std_ext/02_random.ipynb) pour générer des séries de nombres entre 0 et 255 qui donnent une échelle de gris. Par contre, les entrées `Input3` et `Input4` sont consituées de valeurs normalisées entre 0 et 1. Enfin j'affiche les images côte à côte avec le commande [subplot](https://matplotlib.org/stable/api/_as_gen/matplotlib.pyplot.subplot.html)."
   ]
  },
  {
   "cell_type": "code",
   "execution_count": 18,
   "metadata": {},
   "outputs": [
    {
     "data": {
      "image/png": "[encoded data removed]",
      "text/plain": [
       "<Figure size 400x800 with 2 Axes>"
      ]
     },
     "metadata": {},
     "output_type": "display_data"
    }
   ],
   "source": [
    "rng = np.random.RandomState(seed=1)\n",
    "Sombres = rng.randint(0, 90, size= nb_points // 2) / 255\n",
    "Clairs = rng.randint(150, 255, size= nb_points // 2) /255\n",
    "\n",
    "Input3 = np.concatenate((Sombres, Clairs))\n",
    "Input4 = np.concatenate((Clairs, Sombres))\n",
    "\n",
    "plt.figure(figsize=(4,8))\n",
    "plt.subplot(1,2, 1)\n",
    "plt.imshow(np.reshape(Input3,(12,12)), cmap=\"gray\")\n",
    "plt.axis(\"off\")\n",
    "plt.title(\"Image3\")\n",
    "\n",
    "plt.subplot(1,2, 2)\n",
    "plt.imshow(np.reshape(Input4,(12,12)), cmap=\"gray\")\n",
    "plt.axis(\"off\")\n",
    "plt.title(\"Image4\")\n",
    "\n",
    "plt.show()\n"
   ]
  },
  {
   "attachments": {},
   "cell_type": "markdown",
   "metadata": {},
   "source": [
    "J'essaye toujours d'appliquer la distinction faite par le neurone pour ces deux images différentes."
   ]
  },
  {
   "cell_type": "code",
   "execution_count": 19,
   "metadata": {},
   "outputs": [],
   "source": [
    "# Weight = np.concatenate((np.ones(72)*-1, np.ones(72)))\n",
    "Weight = np.concatenate((np.zeros(72),np.ones(72)))"
   ]
  },
  {
   "cell_type": "code",
   "execution_count": 20,
   "metadata": {},
   "outputs": [
    {
     "name": "stdout",
     "output_type": "stream",
     "text": [
      "78.52%\n"
     ]
    }
   ],
   "source": [
    "mon_neurone = Neuron(Weight)\n",
    "res = mon_neurone.activation(Input3)\n",
    "print(f'{res*100:.2f}%')"
   ]
  },
  {
   "cell_type": "code",
   "execution_count": 21,
   "metadata": {},
   "outputs": [
    {
     "name": "stdout",
     "output_type": "stream",
     "text": [
      "16.43%\n"
     ]
    }
   ],
   "source": [
    "res = mon_neurone.activation(Input4)\n",
    "print(f'{res*100:.2f}%')"
   ]
  },
  {
   "attachments": {},
   "cell_type": "markdown",
   "metadata": {},
   "source": [
    "Sans trop de surprise la reconnaissance, la reconnaissance est moins claires. Sin on veut avoir une réponse plus claires, il faut utiliser La fonction [sigmoïde](02_regression_logistique.ipynb) qui séparera mieux les valeurs pour donner un résultat moins équivoque."
   ]
  },
  {
   "cell_type": "code",
   "execution_count": 22,
   "metadata": {},
   "outputs": [
    {
     "data": {
      "application/vnd.plotly.v1+json": {
       "config": {
        "plotlyServerURL": "https://plot.ly"
       },
       "data": [
        {
         "type": "scatter",
         "x": [
          -6,
          -5.9,
          -5.800000000000001,
          -5.700000000000001,
          -5.600000000000001,
          -5.500000000000002,
          -5.400000000000002,
          -5.3000000000000025,
          -5.200000000000003,
          -5.100000000000003,
          -5.0000000000000036,
          -4.900000000000004,
          -4.800000000000004,
          -4.700000000000005,
          -4.600000000000005,
          -4.500000000000005,
          -4.400000000000006,
          -4.300000000000006,
          -4.200000000000006,
          -4.100000000000007,
          -4.000000000000007,
          -3.9000000000000075,
          -3.800000000000008,
          -3.700000000000008,
          -3.6000000000000085,
          -3.500000000000009,
          -3.4000000000000092,
          -3.3000000000000096,
          -3.20000000000001,
          -3.1000000000000103,
          -3.0000000000000107,
          -2.900000000000011,
          -2.8000000000000114,
          -2.7000000000000117,
          -2.600000000000012,
          -2.5000000000000124,
          -2.400000000000013,
          -2.300000000000013,
          -2.2000000000000135,
          -2.100000000000014,
          -2.000000000000014,
          -1.9000000000000146,
          -1.800000000000015,
          -1.7000000000000153,
          -1.6000000000000156,
          -1.500000000000016,
          -1.4000000000000163,
          -1.3000000000000167,
          -1.200000000000017,
          -1.1000000000000174,
          -1.0000000000000178,
          -0.9000000000000181,
          -0.8000000000000185,
          -0.7000000000000188,
          -0.6000000000000192,
          -0.5000000000000195,
          -0.4000000000000199,
          -0.30000000000002025,
          -0.2000000000000206,
          -0.10000000000002096,
          -2.1316282072803006e-14,
          0.09999999999997833,
          0.19999999999997797,
          0.2999999999999776,
          0.39999999999997726,
          0.4999999999999769,
          0.5999999999999766,
          0.6999999999999762,
          0.7999999999999758,
          0.8999999999999755,
          0.9999999999999751,
          1.0999999999999748,
          1.1999999999999744,
          1.299999999999974,
          1.3999999999999737,
          1.4999999999999734,
          1.599999999999973,
          1.6999999999999726,
          1.7999999999999723,
          1.899999999999972,
          1.9999999999999716,
          2.0999999999999712,
          2.199999999999971,
          2.2999999999999705,
          2.39999999999997,
          2.49999999999997,
          2.5999999999999694,
          2.699999999999969,
          2.7999999999999687,
          2.8999999999999684,
          2.999999999999968,
          3.0999999999999677,
          3.1999999999999673,
          3.299999999999967,
          3.3999999999999666,
          3.4999999999999662,
          3.599999999999966,
          3.6999999999999655,
          3.799999999999965,
          3.899999999999965,
          3.9999999999999645,
          4.099999999999964,
          4.199999999999964,
          4.299999999999963,
          4.399999999999963,
          4.499999999999963,
          4.599999999999962,
          4.699999999999962,
          4.799999999999962,
          4.899999999999961,
          4.999999999999961,
          5.099999999999961,
          5.19999999999996,
          5.29999999999996,
          5.3999999999999595,
          5.499999999999959,
          5.599999999999959,
          5.699999999999958,
          5.799999999999958,
          5.899999999999958
         ],
         "y": [
          0.0024726231566347743,
          0.002731960763011059,
          0.0030184163247084215,
          0.0033348073074133413,
          0.003684239899435983,
          0.004070137715896121,
          0.00449627316094117,
          0.004966801650056948,
          0.00548629889945039,
          0.006059801491584095,
          0.006692850924284831,
          0.007391541344281945,
          0.00816257115315986,
          0.009013298652847784,
          0.009951801866904272,
          0.010986942630593122,
          0.012128434984274171,
          0.013386917827664697,
          0.014774031693272965,
          0.01630249937144083,
          0.017986209962091434,
          0.01984030573407736,
          0.021881270936130306,
          0.02412702141766901,
          0.026596993576865634,
          0.029312230751356066,
          0.03229546469845022,
          0.03557118927263585,
          0.03916572279676398,
          0.04310725494108569,
          0.0474258731775663,
          0.05215356307841718,
          0.05732417589886813,
          0.06297335605699579,
          0.06913842034334604,
          0.07585818002124269,
          0.0831726964939214,
          0.09112296101485505,
          0.09975048911968394,
          0.10909682119561159,
          0.11920292202211606,
          0.1301084743629962,
          0.14185106490048596,
          0.1544652650835327,
          0.16798161486607333,
          0.18242552380635396,
          0.19781611144141564,
          0.21416501695743861,
          0.23147521650097932,
          0.24973989440487915,
          0.2689414213699916,
          0.28905049737499233,
          0.3100255188723836,
          0.33181222783182973,
          0.35434369377420016,
          0.37754066879814085,
          0.4013123398875432,
          0.4255574831883361,
          0.450166002687517,
          0.47502081252105477,
          0.49999999999999467,
          0.5249791874789346,
          0.5498339973124724,
          0.5744425168116535,
          0.5986876601124465,
          0.6224593312018492,
          0.6456563062257901,
          0.6681877721681608,
          0.6899744811276073,
          0.710949502624999,
          0.73105857863,
          0.7502601055951129,
          0.7685247834990131,
          0.7858349830425543,
          0.8021838885585776,
          0.8175744761936398,
          0.8320183851339208,
          0.8455347349164618,
          0.8581489350995088,
          0.8698915256369989,
          0.8807970779778794,
          0.8909031788043843,
          0.9002495108803121,
          0.9088770389851414,
          0.9168273035060754,
          0.9241418199787544,
          0.9308615796566512,
          0.9370266439430016,
          0.9426758241011295,
          0.9478464369215808,
          0.9525741268224317,
          0.9568927450589124,
          0.9608342772032344,
          0.9644288107273626,
          0.9677045353015483,
          0.9706877692486428,
          0.9734030064231333,
          0.97587297858233,
          0.9781187290638689,
          0.9801596942659219,
          0.9820137900379078,
          0.9836975006285584,
          0.9852259683067265,
          0.9866130821723347,
          0.9878715650157253,
          0.9890130573694065,
          0.9900481981330953,
          0.9909867013471519,
          0.9918374288468399,
          0.9926084586557177,
          0.9933071490757148,
          0.9939401985084155,
          0.9945137011005493,
          0.9950331983499427,
          0.9955037268390586,
          0.9959298622841037,
          0.9963157601005639,
          0.9966651926925865,
          0.9969815836752914,
          0.9972680392369888
         ]
        }
       ],
       "layout": {
        "template": {
         "data": {
          "bar": [
           {
            "error_x": {
             "color": "#2a3f5f"
            },
            "error_y": {
             "color": "#2a3f5f"
            },
            "marker": {
             "line": {
              "color": "#E5ECF6",
              "width": 0.5
             },
             "pattern": {
              "fillmode": "overlay",
              "size": 10,
              "solidity": 0.2
             }
            },
            "type": "bar"
           }
          ],
          "barpolar": [
           {
            "marker": {
             "line": {
              "color": "#E5ECF6",
              "width": 0.5
             },
             "pattern": {
              "fillmode": "overlay",
              "size": 10,
              "solidity": 0.2
             }
            },
            "type": "barpolar"
           }
          ],
          "carpet": [
           {
            "aaxis": {
             "endlinecolor": "#2a3f5f",
             "gridcolor": "white",
             "linecolor": "white",
             "minorgridcolor": "white",
             "startlinecolor": "#2a3f5f"
            },
            "baxis": {
             "endlinecolor": "#2a3f5f",
             "gridcolor": "white",
             "linecolor": "white",
             "minorgridcolor": "white",
             "startlinecolor": "#2a3f5f"
            },
            "type": "carpet"
           }
          ],
          "choropleth": [
           {
            "colorbar": {
             "outlinewidth": 0,
             "ticks": ""
            },
            "type": "choropleth"
           }
          ],
          "contour": [
           {
            "colorbar": {
             "outlinewidth": 0,
             "ticks": ""
            },
            "colorscale": [
             [
              0,
              "#0d0887"
             ],
             [
              0.1111111111111111,
              "#46039f"
             ],
             [
              0.2222222222222222,
              "#7201a8"
             ],
             [
              0.3333333333333333,
              "#9c179e"
             ],
             [
              0.4444444444444444,
              "#bd3786"
             ],
             [
              0.5555555555555556,
              "#d8576b"
             ],
             [
              0.6666666666666666,
              "#ed7953"
             ],
             [
              0.7777777777777778,
              "#fb9f3a"
             ],
             [
              0.8888888888888888,
              "#fdca26"
             ],
             [
              1,
              "#f0f921"
             ]
            ],
            "type": "contour"
           }
          ],
          "contourcarpet": [
           {
            "colorbar": {
             "outlinewidth": 0,
             "ticks": ""
            },
            "type": "contourcarpet"
           }
          ],
          "heatmap": [
           {
            "colorbar": {
             "outlinewidth": 0,
             "ticks": ""
            },
            "colorscale": [
             [
              0,
              "#0d0887"
             ],
             [
              0.1111111111111111,
              "#46039f"
             ],
             [
              0.2222222222222222,
              "#7201a8"
             ],
             [
              0.3333333333333333,
              "#9c179e"
             ],
             [
              0.4444444444444444,
              "#bd3786"
             ],
             [
              0.5555555555555556,
              "#d8576b"
             ],
             [
              0.6666666666666666,
              "#ed7953"
             ],
             [
              0.7777777777777778,
              "#fb9f3a"
             ],
             [
              0.8888888888888888,
              "#fdca26"
             ],
             [
              1,
              "#f0f921"
             ]
            ],
            "type": "heatmap"
           }
          ],
          "heatmapgl": [
           {
            "colorbar": {
             "outlinewidth": 0,
             "ticks": ""
            },
            "colorscale": [
             [
              0,
              "#0d0887"
             ],
             [
              0.1111111111111111,
              "#46039f"
             ],
             [
              0.2222222222222222,
              "#7201a8"
             ],
             [
              0.3333333333333333,
              "#9c179e"
             ],
             [
              0.4444444444444444,
              "#bd3786"
             ],
             [
              0.5555555555555556,
              "#d8576b"
             ],
             [
              0.6666666666666666,
              "#ed7953"
             ],
             [
              0.7777777777777778,
              "#fb9f3a"
             ],
             [
              0.8888888888888888,
              "#fdca26"
             ],
             [
              1,
              "#f0f921"
             ]
            ],
            "type": "heatmapgl"
           }
          ],
          "histogram": [
           {
            "marker": {
             "pattern": {
              "fillmode": "overlay",
              "size": 10,
              "solidity": 0.2
             }
            },
            "type": "histogram"
           }
          ],
          "histogram2d": [
           {
            "colorbar": {
             "outlinewidth": 0,
             "ticks": ""
            },
            "colorscale": [
             [
              0,
              "#0d0887"
             ],
             [
              0.1111111111111111,
              "#46039f"
             ],
             [
              0.2222222222222222,
              "#7201a8"
             ],
             [
              0.3333333333333333,
              "#9c179e"
             ],
             [
              0.4444444444444444,
              "#bd3786"
             ],
             [
              0.5555555555555556,
              "#d8576b"
             ],
             [
              0.6666666666666666,
              "#ed7953"
             ],
             [
              0.7777777777777778,
              "#fb9f3a"
             ],
             [
              0.8888888888888888,
              "#fdca26"
             ],
             [
              1,
              "#f0f921"
             ]
            ],
            "type": "histogram2d"
           }
          ],
          "histogram2dcontour": [
           {
            "colorbar": {
             "outlinewidth": 0,
             "ticks": ""
            },
            "colorscale": [
             [
              0,
              "#0d0887"
             ],
             [
              0.1111111111111111,
              "#46039f"
             ],
             [
              0.2222222222222222,
              "#7201a8"
             ],
             [
              0.3333333333333333,
              "#9c179e"
             ],
             [
              0.4444444444444444,
              "#bd3786"
             ],
             [
              0.5555555555555556,
              "#d8576b"
             ],
             [
              0.6666666666666666,
              "#ed7953"
             ],
             [
              0.7777777777777778,
              "#fb9f3a"
             ],
             [
              0.8888888888888888,
              "#fdca26"
             ],
             [
              1,
              "#f0f921"
             ]
            ],
            "type": "histogram2dcontour"
           }
          ],
          "mesh3d": [
           {
            "colorbar": {
             "outlinewidth": 0,
             "ticks": ""
            },
            "type": "mesh3d"
           }
          ],
          "parcoords": [
           {
            "line": {
             "colorbar": {
              "outlinewidth": 0,
              "ticks": ""
             }
            },
            "type": "parcoords"
           }
          ],
          "pie": [
           {
            "automargin": true,
            "type": "pie"
           }
          ],
          "scatter": [
           {
            "fillpattern": {
             "fillmode": "overlay",
             "size": 10,
             "solidity": 0.2
            },
            "type": "scatter"
           }
          ],
          "scatter3d": [
           {
            "line": {
             "colorbar": {
              "outlinewidth": 0,
              "ticks": ""
             }
            },
            "marker": {
             "colorbar": {
              "outlinewidth": 0,
              "ticks": ""
             }
            },
            "type": "scatter3d"
           }
          ],
          "scattercarpet": [
           {
            "marker": {
             "colorbar": {
              "outlinewidth": 0,
              "ticks": ""
             }
            },
            "type": "scattercarpet"
           }
          ],
          "scattergeo": [
           {
            "marker": {
             "colorbar": {
              "outlinewidth": 0,
              "ticks": ""
             }
            },
            "type": "scattergeo"
           }
          ],
          "scattergl": [
           {
            "marker": {
             "colorbar": {
              "outlinewidth": 0,
              "ticks": ""
             }
            },
            "type": "scattergl"
           }
          ],
          "scattermapbox": [
           {
            "marker": {
             "colorbar": {
              "outlinewidth": 0,
              "ticks": ""
             }
            },
            "type": "scattermapbox"
           }
          ],
          "scatterpolar": [
           {
            "marker": {
             "colorbar": {
              "outlinewidth": 0,
              "ticks": ""
             }
            },
            "type": "scatterpolar"
           }
          ],
          "scatterpolargl": [
           {
            "marker": {
             "colorbar": {
              "outlinewidth": 0,
              "ticks": ""
             }
            },
            "type": "scatterpolargl"
           }
          ],
          "scatterternary": [
           {
            "marker": {
             "colorbar": {
              "outlinewidth": 0,
              "ticks": ""
             }
            },
            "type": "scatterternary"
           }
          ],
          "surface": [
           {
            "colorbar": {
             "outlinewidth": 0,
             "ticks": ""
            },
            "colorscale": [
             [
              0,
              "#0d0887"
             ],
             [
              0.1111111111111111,
              "#46039f"
             ],
             [
              0.2222222222222222,
              "#7201a8"
             ],
             [
              0.3333333333333333,
              "#9c179e"
             ],
             [
              0.4444444444444444,
              "#bd3786"
             ],
             [
              0.5555555555555556,
              "#d8576b"
             ],
             [
              0.6666666666666666,
              "#ed7953"
             ],
             [
              0.7777777777777778,
              "#fb9f3a"
             ],
             [
              0.8888888888888888,
              "#fdca26"
             ],
             [
              1,
              "#f0f921"
             ]
            ],
            "type": "surface"
           }
          ],
          "table": [
           {
            "cells": {
             "fill": {
              "color": "#EBF0F8"
             },
             "line": {
              "color": "white"
             }
            },
            "header": {
             "fill": {
              "color": "#C8D4E3"
             },
             "line": {
              "color": "white"
             }
            },
            "type": "table"
           }
          ]
         },
         "layout": {
          "margin": {
           "b": 10,
           "l": 20,
           "r": 20,
           "t": 60
          },
          "paper_bgcolor": "gray",
          "plot_bgcolor": "lightgray",
          "title": {
           "font": {
            "color": "black",
            "size": 24
           }
          }
         }
        },
        "title": {
         "text": "la fonction Sigmoïde"
        }
       }
      }
     },
     "metadata": {},
     "output_type": "display_data"
    }
   ],
   "source": [
    "def sigmoid(x):\n",
    "    return 1.0 / (1.0 + np.exp(-x))\n",
    "\n",
    "import plotly.graph_objects as go\n",
    "# mon style personnalisé pour les graphiques\n",
    "fond_gris = {\n",
    "  'layout': go.Layout(\n",
    "            title={'font_size':24, 'font_color':'black'},\n",
    "            margin={'t': 60, 'b': 10, 'l': 20, 'r': 20},\n",
    "            paper_bgcolor='gray',\n",
    "            plot_bgcolor='lightgray'\n",
    "  )\n",
    "}\n",
    "# plus d'info sur les personnalisations graphiques sur :\n",
    "# https://plotly.com/python/templates/\n",
    "\n",
    "x = np.arange(-6, 6, 0.1)\n",
    "fig = go.Figure(data=go.Scatter(x=x, y=sigmoid(x)))\n",
    "fig.update_layout(title='la fonction Sigmoïde', template=fond_gris)\n",
    "fig.show()"
   ]
  },
  {
   "cell_type": "code",
   "execution_count": 23,
   "metadata": {},
   "outputs": [],
   "source": [
    "class Neuron2:\n",
    "    def __init__(self, input_weights):\n",
    "        \"\"\"Initialisation des poids / biais avec des valeurs aléatoires.\"\"\"\n",
    "        self.weights = input_weights\n",
    "        \n",
    "    def activation(self, X):\n",
    "        \"\"\"On suppose que X est de la taille passée dans le constructeur.\"\"\"\n",
    "        aggregation = np.dot(self.weights, X)  # produit scalaire\n",
    "        return sigmoid(aggregation)\n",
    "    \n",
    "    def update_weights(self, input_weights):\n",
    "        \"\"\" mise à jour des poids \"\"\"\n",
    "        self.weights = input_weights"
   ]
  },
  {
   "attachments": {},
   "cell_type": "markdown",
   "metadata": {},
   "source": [
    "Les poids doivent aussi être modifiés, car la fonction Sigmoïde demande une entrée entre $-\\infty$ et $+\\infty$. Je ne donne donc plus des poids à 0 ou 1 mais à -1 ou 1 selon la zone que je veux reconnaître. Ces choix de poids sont faits pour aller directement à un résultat pertinnent. Dans le chapitre suivant nous allons voir comment construire un algorithme qui retrouve ces *poids pertinents*."
   ]
  },
  {
   "cell_type": "code",
   "execution_count": 24,
   "metadata": {},
   "outputs": [],
   "source": [
    "Weight = np.concatenate((np.ones(72)*-1, np.ones(72)))"
   ]
  },
  {
   "cell_type": "code",
   "execution_count": 25,
   "metadata": {},
   "outputs": [
    {
     "name": "stdout",
     "output_type": "stream",
     "text": [
      "100.00%\n"
     ]
    }
   ],
   "source": [
    "mon_neurone2 = Neuron2(Weight)\n",
    "res = mon_neurone2.activation(Input3)\n",
    "print(f'{res*100:.2f}%')"
   ]
  },
  {
   "cell_type": "code",
   "execution_count": 26,
   "metadata": {},
   "outputs": [
    {
     "name": "stdout",
     "output_type": "stream",
     "text": [
      "0.00%\n"
     ]
    }
   ],
   "source": [
    "res = mon_neurone2.activation(Input4)\n",
    "print(f'{res*100:.2f}%')"
   ]
  },
  {
   "attachments": {},
   "cell_type": "markdown",
   "metadata": {},
   "source": [
    "Dans un cas plus complexe (et plus proche de la réalité de nos perception), la fonction Sigmoïde aide à faire la distinction entre deux zones, même si l'une des zones a été floutée."
   ]
  },
  {
   "attachments": {},
   "cell_type": "markdown",
   "metadata": {},
   "source": [
    "# Vers un apprentissage supervisé automatique (pas fini !)"
   ]
  },
  {
   "attachments": {},
   "cell_type": "markdown",
   "metadata": {},
   "source": [
    "L'objectif d'un apprentissage automatique est de construire un algorithme permettant de trouver automatiquement les poids à utiliser en fonction des images qui lui sont soumises et du résultat qu'on veut en obtenir.\n",
    "\n",
    "Ici nous avons quatres images et nous voulons les classer ainsi :\n",
    "- Image1, Image2 : le résultat doit être vrai, ou 100%\n",
    "- Image2, Image4 : le résultat doit être faux, ou 0%"
   ]
  },
  {
   "cell_type": "code",
   "execution_count": 27,
   "metadata": {},
   "outputs": [],
   "source": [
    "Input = [Input1, Input2, Input3, Input4]\n",
    "Expected = [1., 0., 1., 0.]"
   ]
  },
  {
   "attachments": {},
   "cell_type": "markdown",
   "metadata": {},
   "source": [
    "Dans un premier temps nous allons paramétrer le nombre de lectures pour \"apprendre\". Dans un véritable algorithme, il faudrait paraméter l'algorithme en fonction de la précision de la reconnaissance qu'on recherche."
   ]
  },
  {
   "attachments": {},
   "cell_type": "markdown",
   "metadata": {},
   "source": [
    "L'algorithme va définir une fonction calculant une erreur qui exprime la distance entre le résultat obtenu par le neurone et le resultat attendu. L'objectif sera de réduire cette distance au minimum en modifiant les poids que nous nous donnons à chacune des entrées.\n",
    "\n",
    "Pour cette algorithme, on peut se souvenir de la méthode de la [regression logistique](02_regression_logistique.ipynb) que nous avons faite dans une autre présentation. On cherche une fonction simple à dériver exprimant cette erreur et on utilisera la méthode du gradien pour aller *dans le bonne direction* dans le recherche des poids qui optimiseront la reconnaissance."
   ]
  },
  {
   "attachments": {},
   "cell_type": "markdown",
   "metadata": {},
   "source": [
    "L'avantage de la fonction sigmoïde est qu'elle a une forme qui permet d'améliorer le reconnaissance et une dérivée simple à calculer."
   ]
  },
  {
   "cell_type": "code",
   "execution_count": 28,
   "metadata": {},
   "outputs": [
    {
     "data": {
      "application/vnd.plotly.v1+json": {
       "config": {
        "plotlyServerURL": "https://plot.ly"
       },
       "data": [
        {
         "type": "scatter",
         "x": [
          -6,
          -5.9,
          -5.800000000000001,
          -5.700000000000001,
          -5.600000000000001,
          -5.500000000000002,
          -5.400000000000002,
          -5.3000000000000025,
          -5.200000000000003,
          -5.100000000000003,
          -5.0000000000000036,
          -4.900000000000004,
          -4.800000000000004,
          -4.700000000000005,
          -4.600000000000005,
          -4.500000000000005,
          -4.400000000000006,
          -4.300000000000006,
          -4.200000000000006,
          -4.100000000000007,
          -4.000000000000007,
          -3.9000000000000075,
          -3.800000000000008,
          -3.700000000000008,
          -3.6000000000000085,
          -3.500000000000009,
          -3.4000000000000092,
          -3.3000000000000096,
          -3.20000000000001,
          -3.1000000000000103,
          -3.0000000000000107,
          -2.900000000000011,
          -2.8000000000000114,
          -2.7000000000000117,
          -2.600000000000012,
          -2.5000000000000124,
          -2.400000000000013,
          -2.300000000000013,
          -2.2000000000000135,
          -2.100000000000014,
          -2.000000000000014,
          -1.9000000000000146,
          -1.800000000000015,
          -1.7000000000000153,
          -1.6000000000000156,
          -1.500000000000016,
          -1.4000000000000163,
          -1.3000000000000167,
          -1.200000000000017,
          -1.1000000000000174,
          -1.0000000000000178,
          -0.9000000000000181,
          -0.8000000000000185,
          -0.7000000000000188,
          -0.6000000000000192,
          -0.5000000000000195,
          -0.4000000000000199,
          -0.30000000000002025,
          -0.2000000000000206,
          -0.10000000000002096,
          -2.1316282072803006e-14,
          0.09999999999997833,
          0.19999999999997797,
          0.2999999999999776,
          0.39999999999997726,
          0.4999999999999769,
          0.5999999999999766,
          0.6999999999999762,
          0.7999999999999758,
          0.8999999999999755,
          0.9999999999999751,
          1.0999999999999748,
          1.1999999999999744,
          1.299999999999974,
          1.3999999999999737,
          1.4999999999999734,
          1.599999999999973,
          1.6999999999999726,
          1.7999999999999723,
          1.899999999999972,
          1.9999999999999716,
          2.0999999999999712,
          2.199999999999971,
          2.2999999999999705,
          2.39999999999997,
          2.49999999999997,
          2.5999999999999694,
          2.699999999999969,
          2.7999999999999687,
          2.8999999999999684,
          2.999999999999968,
          3.0999999999999677,
          3.1999999999999673,
          3.299999999999967,
          3.3999999999999666,
          3.4999999999999662,
          3.599999999999966,
          3.6999999999999655,
          3.799999999999965,
          3.899999999999965,
          3.9999999999999645,
          4.099999999999964,
          4.199999999999964,
          4.299999999999963,
          4.399999999999963,
          4.499999999999963,
          4.599999999999962,
          4.699999999999962,
          4.799999999999962,
          4.899999999999961,
          4.999999999999961,
          5.099999999999961,
          5.19999999999996,
          5.29999999999996,
          5.3999999999999595,
          5.499999999999959,
          5.599999999999959,
          5.699999999999958,
          5.799999999999958,
          5.899999999999958
         ],
         "y": [
          0.002466509291360048,
          0.002724497153400427,
          0.003009305487599155,
          0.003323686367635764,
          0.0036706662757993867,
          0.00405357169486976,
          0.0044760566886033705,
          0.00494213253142594,
          0.005456199423836279,
          0.006023080297466689,
          0.006648056670790131,
          0.007336906460837715,
          0.008095943585329463,
          0.008932059100242355,
          0.009852763506506153,
          0.010866229722225179,
          0.011981336049106405,
          0.01320770825874005,
          0.01455575968079913,
          0.016036727885685,
          0.017662706213290996,
          0.0194466680024557,
          0.021402480918349964,
          0.02354490825518035,
          0.025889593509537803,
          0.028453023879735324,
          0.03125246765836137,
          0.03430587976636616,
          0.03763176895457102,
          0.04124901951252993,
          0.0451766597309117,
          0.04943356893664274,
          0.05403811475638375,
          0.05900771248391462,
          0.06435829917577283,
          0.07010371654510743,
          0.07625499905185143,
          0.08281956699074025,
          0.08980032904006775,
          0.09719470480062435,
          0.10499358540350538,
          0.11318025926192975,
          0.12172934028708408,
          0.13060574696620667,
          0.13976379193305954,
          0.14914645207033136,
          0.15868489749561307,
          0.16829836246905863,
          0.17789444064680407,
          0.18736987954751894,
          0.1966119332414802,
          0.20550030734226188,
          0.21390969652029293,
          0.22171287329310765,
          0.22878424045665602,
          0.23500371220159336,
          0.2402607457415282,
          0.24445831169074514,
          0.24751657271185945,
          0.2493760401928917,
          0.25,
          0.24937604019289225,
          0.2475165727118605,
          0.2444583116907467,
          0.24026074574153025,
          0.23500371220159583,
          0.22878424045665888,
          0.22171287329311082,
          0.21390969652029637,
          0.20550030734226554,
          0.1966119332414841,
          0.18736987954752293,
          0.17789444064680815,
          0.1682983624690627,
          0.15868489749561715,
          0.14914645207033533,
          0.13976379193306346,
          0.13060574696621047,
          0.1217293402870878,
          0.11318025926193338,
          0.10499358540350881,
          0.09719470480062756,
          0.0898003290400709,
          0.08281956699074318,
          0.07625499905185407,
          0.07010371654510986,
          0.06435829917577524,
          0.05900771248391689,
          0.05403811475638586,
          0.04943356893664458,
          0.04517665973091351,
          0.04124901951253166,
          0.03763176895457247,
          0.03430587976636757,
          0.031252467658362745,
          0.028453023879736434,
          0.025889593509538844,
          0.023544908255181275,
          0.021402480918350748,
          0.01944666800245644,
          0.01766270621329175,
          0.016036727885685716,
          0.014555759680799665,
          0.01320770825874066,
          0.011981336049106958,
          0.010866229722225567,
          0.00985276350650657,
          0.008932059100242624,
          0.008095943585329701,
          0.0073369064608380915,
          0.006648056670790471,
          0.0060230802974670615,
          0.005456199423836622,
          0.00494213253142624,
          0.004476056688603565,
          0.004053571694869899,
          0.0036706662757995177,
          0.0033236863676359557,
          0.0030093054875992946,
          0.002724497153400555
         ]
        }
       ],
       "layout": {
        "template": {
         "data": {
          "bar": [
           {
            "error_x": {
             "color": "#2a3f5f"
            },
            "error_y": {
             "color": "#2a3f5f"
            },
            "marker": {
             "line": {
              "color": "#E5ECF6",
              "width": 0.5
             },
             "pattern": {
              "fillmode": "overlay",
              "size": 10,
              "solidity": 0.2
             }
            },
            "type": "bar"
           }
          ],
          "barpolar": [
           {
            "marker": {
             "line": {
              "color": "#E5ECF6",
              "width": 0.5
             },
             "pattern": {
              "fillmode": "overlay",
              "size": 10,
              "solidity": 0.2
             }
            },
            "type": "barpolar"
           }
          ],
          "carpet": [
           {
            "aaxis": {
             "endlinecolor": "#2a3f5f",
             "gridcolor": "white",
             "linecolor": "white",
             "minorgridcolor": "white",
             "startlinecolor": "#2a3f5f"
            },
            "baxis": {
             "endlinecolor": "#2a3f5f",
             "gridcolor": "white",
             "linecolor": "white",
             "minorgridcolor": "white",
             "startlinecolor": "#2a3f5f"
            },
            "type": "carpet"
           }
          ],
          "choropleth": [
           {
            "colorbar": {
             "outlinewidth": 0,
             "ticks": ""
            },
            "type": "choropleth"
           }
          ],
          "contour": [
           {
            "colorbar": {
             "outlinewidth": 0,
             "ticks": ""
            },
            "colorscale": [
             [
              0,
              "#0d0887"
             ],
             [
              0.1111111111111111,
              "#46039f"
             ],
             [
              0.2222222222222222,
              "#7201a8"
             ],
             [
              0.3333333333333333,
              "#9c179e"
             ],
             [
              0.4444444444444444,
              "#bd3786"
             ],
             [
              0.5555555555555556,
              "#d8576b"
             ],
             [
              0.6666666666666666,
              "#ed7953"
             ],
             [
              0.7777777777777778,
              "#fb9f3a"
             ],
             [
              0.8888888888888888,
              "#fdca26"
             ],
             [
              1,
              "#f0f921"
             ]
            ],
            "type": "contour"
           }
          ],
          "contourcarpet": [
           {
            "colorbar": {
             "outlinewidth": 0,
             "ticks": ""
            },
            "type": "contourcarpet"
           }
          ],
          "heatmap": [
           {
            "colorbar": {
             "outlinewidth": 0,
             "ticks": ""
            },
            "colorscale": [
             [
              0,
              "#0d0887"
             ],
             [
              0.1111111111111111,
              "#46039f"
             ],
             [
              0.2222222222222222,
              "#7201a8"
             ],
             [
              0.3333333333333333,
              "#9c179e"
             ],
             [
              0.4444444444444444,
              "#bd3786"
             ],
             [
              0.5555555555555556,
              "#d8576b"
             ],
             [
              0.6666666666666666,
              "#ed7953"
             ],
             [
              0.7777777777777778,
              "#fb9f3a"
             ],
             [
              0.8888888888888888,
              "#fdca26"
             ],
             [
              1,
              "#f0f921"
             ]
            ],
            "type": "heatmap"
           }
          ],
          "heatmapgl": [
           {
            "colorbar": {
             "outlinewidth": 0,
             "ticks": ""
            },
            "colorscale": [
             [
              0,
              "#0d0887"
             ],
             [
              0.1111111111111111,
              "#46039f"
             ],
             [
              0.2222222222222222,
              "#7201a8"
             ],
             [
              0.3333333333333333,
              "#9c179e"
             ],
             [
              0.4444444444444444,
              "#bd3786"
             ],
             [
              0.5555555555555556,
              "#d8576b"
             ],
             [
              0.6666666666666666,
              "#ed7953"
             ],
             [
              0.7777777777777778,
              "#fb9f3a"
             ],
             [
              0.8888888888888888,
              "#fdca26"
             ],
             [
              1,
              "#f0f921"
             ]
            ],
            "type": "heatmapgl"
           }
          ],
          "histogram": [
           {
            "marker": {
             "pattern": {
              "fillmode": "overlay",
              "size": 10,
              "solidity": 0.2
             }
            },
            "type": "histogram"
           }
          ],
          "histogram2d": [
           {
            "colorbar": {
             "outlinewidth": 0,
             "ticks": ""
            },
            "colorscale": [
             [
              0,
              "#0d0887"
             ],
             [
              0.1111111111111111,
              "#46039f"
             ],
             [
              0.2222222222222222,
              "#7201a8"
             ],
             [
              0.3333333333333333,
              "#9c179e"
             ],
             [
              0.4444444444444444,
              "#bd3786"
             ],
             [
              0.5555555555555556,
              "#d8576b"
             ],
             [
              0.6666666666666666,
              "#ed7953"
             ],
             [
              0.7777777777777778,
              "#fb9f3a"
             ],
             [
              0.8888888888888888,
              "#fdca26"
             ],
             [
              1,
              "#f0f921"
             ]
            ],
            "type": "histogram2d"
           }
          ],
          "histogram2dcontour": [
           {
            "colorbar": {
             "outlinewidth": 0,
             "ticks": ""
            },
            "colorscale": [
             [
              0,
              "#0d0887"
             ],
             [
              0.1111111111111111,
              "#46039f"
             ],
             [
              0.2222222222222222,
              "#7201a8"
             ],
             [
              0.3333333333333333,
              "#9c179e"
             ],
             [
              0.4444444444444444,
              "#bd3786"
             ],
             [
              0.5555555555555556,
              "#d8576b"
             ],
             [
              0.6666666666666666,
              "#ed7953"
             ],
             [
              0.7777777777777778,
              "#fb9f3a"
             ],
             [
              0.8888888888888888,
              "#fdca26"
             ],
             [
              1,
              "#f0f921"
             ]
            ],
            "type": "histogram2dcontour"
           }
          ],
          "mesh3d": [
           {
            "colorbar": {
             "outlinewidth": 0,
             "ticks": ""
            },
            "type": "mesh3d"
           }
          ],
          "parcoords": [
           {
            "line": {
             "colorbar": {
              "outlinewidth": 0,
              "ticks": ""
             }
            },
            "type": "parcoords"
           }
          ],
          "pie": [
           {
            "automargin": true,
            "type": "pie"
           }
          ],
          "scatter": [
           {
            "fillpattern": {
             "fillmode": "overlay",
             "size": 10,
             "solidity": 0.2
            },
            "type": "scatter"
           }
          ],
          "scatter3d": [
           {
            "line": {
             "colorbar": {
              "outlinewidth": 0,
              "ticks": ""
             }
            },
            "marker": {
             "colorbar": {
              "outlinewidth": 0,
              "ticks": ""
             }
            },
            "type": "scatter3d"
           }
          ],
          "scattercarpet": [
           {
            "marker": {
             "colorbar": {
              "outlinewidth": 0,
              "ticks": ""
             }
            },
            "type": "scattercarpet"
           }
          ],
          "scattergeo": [
           {
            "marker": {
             "colorbar": {
              "outlinewidth": 0,
              "ticks": ""
             }
            },
            "type": "scattergeo"
           }
          ],
          "scattergl": [
           {
            "marker": {
             "colorbar": {
              "outlinewidth": 0,
              "ticks": ""
             }
            },
            "type": "scattergl"
           }
          ],
          "scattermapbox": [
           {
            "marker": {
             "colorbar": {
              "outlinewidth": 0,
              "ticks": ""
             }
            },
            "type": "scattermapbox"
           }
          ],
          "scatterpolar": [
           {
            "marker": {
             "colorbar": {
              "outlinewidth": 0,
              "ticks": ""
             }
            },
            "type": "scatterpolar"
           }
          ],
          "scatterpolargl": [
           {
            "marker": {
             "colorbar": {
              "outlinewidth": 0,
              "ticks": ""
             }
            },
            "type": "scatterpolargl"
           }
          ],
          "scatterternary": [
           {
            "marker": {
             "colorbar": {
              "outlinewidth": 0,
              "ticks": ""
             }
            },
            "type": "scatterternary"
           }
          ],
          "surface": [
           {
            "colorbar": {
             "outlinewidth": 0,
             "ticks": ""
            },
            "colorscale": [
             [
              0,
              "#0d0887"
             ],
             [
              0.1111111111111111,
              "#46039f"
             ],
             [
              0.2222222222222222,
              "#7201a8"
             ],
             [
              0.3333333333333333,
              "#9c179e"
             ],
             [
              0.4444444444444444,
              "#bd3786"
             ],
             [
              0.5555555555555556,
              "#d8576b"
             ],
             [
              0.6666666666666666,
              "#ed7953"
             ],
             [
              0.7777777777777778,
              "#fb9f3a"
             ],
             [
              0.8888888888888888,
              "#fdca26"
             ],
             [
              1,
              "#f0f921"
             ]
            ],
            "type": "surface"
           }
          ],
          "table": [
           {
            "cells": {
             "fill": {
              "color": "#EBF0F8"
             },
             "line": {
              "color": "white"
             }
            },
            "header": {
             "fill": {
              "color": "#C8D4E3"
             },
             "line": {
              "color": "white"
             }
            },
            "type": "table"
           }
          ]
         },
         "layout": {
          "margin": {
           "b": 10,
           "l": 20,
           "r": 20,
           "t": 60
          },
          "paper_bgcolor": "gray",
          "plot_bgcolor": "lightgray",
          "title": {
           "font": {
            "color": "black",
            "size": 24
           }
          }
         }
        },
        "title": {
         "text": "la dérivée de la fonction Sigmoïde"
        }
       }
      }
     },
     "metadata": {},
     "output_type": "display_data"
    }
   ],
   "source": [
    "def sigmoid_prime(x):\n",
    "    \"\"\"Dérivée de la fonction sigmoid\"\"\"\n",
    "    return sigmoid(x)* (1.0 - sigmoid(x))\n",
    "\n",
    "x = np.arange(-6, 6, 0.1)\n",
    "fig = go.Figure(data=go.Scatter(x=x, y=sigmoid_prime(x)))\n",
    "fig.update_layout(title='la dérivée de la fonction Sigmoïde', template=fond_gris)\n",
    "fig.show()"
   ]
  },
  {
   "attachments": {},
   "cell_type": "markdown",
   "metadata": {},
   "source": [
    "Nous devons aussi revoir la définition de notre neurone dans une troisième version, qui contient une méthode pour mettre à jour les poids utilisés par le neurone en fonction d'un gradient qui sera calculé dans notre procédure d'apprentissage automatique.\n",
    "\n",
    "Si nous notons $(w_i)_i$ les points des entrées $(a_i)_i$ et $\\sigma$ la fonction sigmoïde, le calcul effectué par le neurone correspond à l'équation suivante.\n",
    "\n",
    "$$ y = \\sum_{i=1}^n \\sigma\\left(w_i \\cdot a_i \\right)$$\n",
    "\n",
    "L'erreur sera la différence $\\delta = y_0 - y$ entre ce calcul est la valeur que nous recherchons pour une entrée $(a_i)_i\n",
    "$ donnée. Nous faisons varier ces poids $(w_i)_i$ et nous cherchons à minimiser cette erreur. Le gradient en fonction des $(w_i)_i$ se calcule de la manière suivante.\n",
    "\n",
    "$$\\overrightarrow{\\nabla y} = \\sum_{i=1}^n \\frac{\\partial y}{\\partial w_i} \\overrightarrow{e_i}$$\n",
    "\n",
    "Chacune de dérivée partielle se calcule ainsi.\n",
    "\n",
    "$$\\frac{\\partial y}{\\partial w_i} = \\frac{\\partial{\\sigma(w_i a_i)}}{\\partial w_i} = a_i \\cdot \\sigma(w_i a_i) \\cdot \\left[1 - \\sigma(w_i a_i)\\right]$$\n",
    "\n",
    "Le principe de la descente du gradient donc de réduire le vecteur des poids en utilisant ce gradient, éventuellement avec une vitesse de descente $\\alpha$.\n",
    "\n",
    "$$w_i \\longrightarrow w_i - \\alpha \\cdot a_i \\cdot \\sigma(w_i a_i) \\cdot \\left[1 - \\sigma(w_i a_i)\\right]$$"
   ]
  },
  {
   "cell_type": "code",
   "execution_count": 47,
   "metadata": {},
   "outputs": [],
   "source": [
    "class Neuron3:\n",
    "    \"\"\"\n",
    "    Troisième version du neurone permettant l'apprentissage automatique\n",
    "    \"\"\"\n",
    "    def __init__(self, Input_weight):\n",
    "        \"\"\"Initialisation des poids du neurone\"\"\"        \n",
    "        self.Weight = Input_weight\n",
    "    \n",
    "    def aggregation(self, Data):\n",
    "        \"\"\"Somme des entrées pondérée par les poids\"\"\"\n",
    "        return np.dot(self.Weight, Data)\n",
    "    \n",
    "    def activation(self, Input):\n",
    "        return sigmoid(self.aggregation(Input))\n",
    "    \n",
    "    def update_weights(self, Input, delta, learning_rate = 1):\n",
    "        \"\"\"Lise à jour des poids à partir du delta observé\"\"\"\n",
    "        for w,a in zip(self.Weight, Input):\n",
    "            w -= learning_rate * delta * a * sigmoid_prime(w * a)\n",
    "\n",
    "    def Weight(self):\n",
    "        return self.Weight"
   ]
  },
  {
   "attachments": {},
   "cell_type": "markdown",
   "metadata": {},
   "source": [
    "L'initialisation sera fait avec des poids choisis au hazard."
   ]
  },
  {
   "cell_type": "code",
   "execution_count": 48,
   "metadata": {},
   "outputs": [],
   "source": [
    "rng = np.random.RandomState(seed=5)\n",
    "Weight0 = rng.random_sample(144)\n",
    "mon_neurone3 = Neuron3(Weight0)"
   ]
  },
  {
   "attachments": {},
   "cell_type": "markdown",
   "metadata": {},
   "source": [
    "On visualise les poids avec une image."
   ]
  },
  {
   "cell_type": "code",
   "execution_count": 49,
   "metadata": {},
   "outputs": [
    {
     "data": {
      "image/png": "[encoded data removed]",
      "text/plain": [
       "<Figure size 200x200 with 1 Axes>"
      ]
     },
     "metadata": {},
     "output_type": "display_data"
    }
   ],
   "source": [
    "plt.figure(figsize=(2,2))\n",
    "plt.imshow(np.reshape(mon_neurone3.Weight,(12,12)), cmap=\"gray\")\n",
    "plt.axis(\"off\")\n",
    "plt.title(\"Poids de départ\")\n",
    "plt.show()"
   ]
  },
  {
   "attachments": {},
   "cell_type": "markdown",
   "metadata": {},
   "source": [
    "Voici les résultats des reconnaissances avec ces poids aléatoires."
   ]
  },
  {
   "cell_type": "code",
   "execution_count": 50,
   "metadata": {},
   "outputs": [
    {
     "name": "stdout",
     "output_type": "stream",
     "text": [
      "Image1: 100.00%\n",
      "Image2: 100.00%\n",
      "Image3: 100.00%\n",
      "Image4: 100.00%\n"
     ]
    }
   ],
   "source": [
    "for X, num in zip(Input, (1, 2, 3, 4)):\n",
    "    res = mon_neurone3.activation(X)\n",
    "    print(f'Image{num}: {res*100:.2f}%')"
   ]
  },
  {
   "attachments": {},
   "cell_type": "markdown",
   "metadata": {},
   "source": [
    "À priori, ces poids ne permettent pas de faire la distinction que nous attendons (souvent que des 100%)."
   ]
  },
  {
   "attachments": {},
   "cell_type": "markdown",
   "metadata": {},
   "source": [
    "Nous maintenant faire plusieur expérimentation et à chacune d'entre elle, nous améliorons le poids avec la méthode du gradient."
   ]
  },
  {
   "cell_type": "code",
   "execution_count": 51,
   "metadata": {},
   "outputs": [
    {
     "name": "stdout",
     "output_type": "stream",
     "text": [
      "Image1: 100.00%\n",
      "Image2: 100.00%\n",
      "Image3: 100.00%\n",
      "Image4: 100.00%\n"
     ]
    }
   ],
   "source": [
    "NB_ITERATIONS = 100\n",
    "for num_test in range(NB_ITERATIONS):\n",
    "    for X, y0 in zip(Input, Expected):\n",
    "        # calcul en avant (forward)\n",
    "        y = mon_neurone3.activation(X)\n",
    "        delta = y0 - y\n",
    "        \n",
    "        # pour mettre à jour les poids\n",
    "        mon_neurone3.update_weights(Input, delta, 1)\n",
    "\n",
    "        \n",
    "\n",
    "for X, num in zip(Input, (1, 2, 3, 4)):\n",
    "    res = mon_neurone3.activation(X)\n",
    "    print(f'Image{num}: {res*100:.2f}%')"
   ]
  },
  {
   "cell_type": "code",
   "execution_count": 53,
   "metadata": {},
   "outputs": [
    {
     "data": {
      "image/png": "[encoded data removed]",
      "text/plain": [
       "<Figure size 200x200 with 1 Axes>"
      ]
     },
     "metadata": {},
     "output_type": "display_data"
    }
   ],
   "source": [
    "plt.figure(figsize=(2,2))\n",
    "plt.imshow(np.reshape(mon_neurone3.Weight,(12,12)), cmap=\"gray\")\n",
    "plt.axis(\"off\")\n",
    "plt.title(\"Poids obtenus\")\n",
    "plt.show()"
   ]
  },
  {
   "cell_type": "code",
   "execution_count": null,
   "metadata": {},
   "outputs": [],
   "source": [
    "NB_ITERATIONS = 4\n",
    "for num_test in range(NB_ITERATIONS):\n",
    "    for X, y0 in zip(Input, Expected):\n",
    "        # calcul en avant (forward)\n",
    "        y = mon_neurone3.activation(X)\n",
    "        delta = y0 - y\n",
    "        \n",
    "        # pour mettre à jour les poids\n",
    "        mon_neurone3.update_weights(Input, delta, 1)\n"
   ]
  }
 ],
 "metadata": {
  "kernelspec": {
   "display_name": ".venv",
   "language": "python",
   "name": "python3"
  },
  "language_info": {
   "codemirror_mode": {
    "name": "ipython",
    "version": 3
   },
   "file_extension": ".py",
   "mimetype": "text/x-python",
   "name": "python",
   "nbconvert_exporter": "python",
   "pygments_lexer": "ipython3",
   "version": "3.10.6"
  },
  "orig_nbformat": 4
 },
 "nbformat": 4,
 "nbformat_minor": 2
}
