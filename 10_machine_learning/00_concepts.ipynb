{
 "cells": [
  {
   "attachments": {},
   "cell_type": "markdown",
   "metadata": {},
   "source": [
    "# Les concepts du *machine learning*.\n",
    "\n",
    "Ces notes ont été prises à partir de la video du site de [Machine Learnia](https://www.youtube.com/watch?v=K9z0OD22My4&list=PLO_fdPEVlfKqUF5BPKjGSh7aV9aBshrpY&index=2) qu'il est recommandé de visionner. Il s'agit de clarifier le vocabulaire (souvent anglais) et les concepts qui sous-tendent les applications d'apprentissage automatique (*machine learning* en anglais)."
   ]
  },
  {
   "attachments": {},
   "cell_type": "markdown",
   "metadata": {},
   "source": [
    "## Le jeu de données (*dataset*)\n",
    "\n",
    "Les données collectées sont organisées dans des tables ayant toujours la même structure :\n",
    "- chaque ligne correspond à un enregistrement (il y en a `m`);\n",
    "- chaque colonne correspond à une des caractéristiques de ces enregistrements (*feature* en anglais). \n",
    "Dans les problèmes d'apprentissage automatique, une de ces caractéristiques est identifiée comme celle qu'on veut pouvoir prédir à partir des autres. \n",
    "\n",
    "Dans l'apprentissage automatique supervisé, le jeu de données qui servira à l'apprentissage de notre machine, contient cette colonne de caractéristique à prédire. On l'isole du jeu de données et cela constitue la cible (*target*) de notre échantillon d'apprentissage : pour chacun des enregistrements, le modèle aura été entraîné à retrouver la composante cible correspondante. Cette cible est notée conventionnement `y`. Il s'agit donc d'un vecteur colonne ayant pour taille le nombre `m` d'enregistrements réalisés. Le reste des données auront `n` caractéristiques. Ce sera une table de `m` lignes et `n` colonne, usuellement représentée par une matrice `X`.\n",
    "\n",
    "Les éléments de la matrice `X` seront notés $x_i^{(j)}$, $i$ étant le numéro de ligne, c'est-à dire le numéro d'enregistrement, et $j$ le numéro de colonne, c'est-à dire le numéro de la caractéristique observée (*feature*). "
   ]
  },
  {
   "attachments": {},
   "cell_type": "markdown",
   "metadata": {},
   "source": [
    "Voici ci-dessous un exemple de `dataset`que j'affiche sous forme de table en utilisant l'extension [tabulate](https://github.com/astanin/python-tabulate)"
   ]
  },
  {
   "cell_type": "code",
   "execution_count": 3,
   "metadata": {},
   "outputs": [
    {
     "name": "stdout",
     "output_type": "stream",
     "text": [
      "╭────────┬─────────┬─────────────╮\n",
      "│ Prix   │ Surface │ code postal │\n",
      "├────────┼─────────┼─────────────┤\n",
      "│ 313000 │ 90      │ 9500        │\n",
      "├────────┼─────────┼─────────────┤\n",
      "│ 720000 │ 110     │ 93000       │\n",
      "├────────┼─────────┼─────────────┤\n",
      "│ 250000 │ 40      │ 44500       │\n",
      "├────────┼─────────┼─────────────┤\n",
      "│ 290000 │ 60      │ 67000       │\n",
      "├────────┼─────────┼─────────────┤\n",
      "│ 190000 │ 50      │ 59300       │\n",
      "╰────────┴─────────┴─────────────╯\n"
     ]
    }
   ],
   "source": [
    "import numpy as np\n",
    "from tabulate import tabulate\n",
    "\n",
    "titre = np.array(['Prix', 'Surface', 'code postal']).reshape(1,3)\n",
    "y = np.array([313000, 720000, 250000, 290000, 190000]).reshape(5,1)\n",
    "X = np.array([[90,9500],[110,93000], [40, 44500], [60,67000], [50, 59300]])\n",
    "\n",
    "print(tabulate(np.concatenate((titre, np.concatenate((y,X), axis=1)), axis=0), tablefmt='rounded_grid'))"
   ]
  },
  {
   "attachments": {},
   "cell_type": "markdown",
   "metadata": {},
   "source": [
    "dans cet exemple, `y` est les prix observés des appartements, `X` est leurs autres caractéritiques, ici la surface et le code postal.\n",
    "\n",
    "Le *dataset* est le couple `(X,y)`."
   ]
  },
  {
   "attachments": {},
   "cell_type": "markdown",
   "metadata": {},
   "source": [
    "## Le modèle\n",
    "\n",
    "Le modèle est une fonction qui à partir des caractéristiques observées $X$ fera une prévision qu'on espère être proche de la cible $y$. Ce modèle sera paramétré par une liste de paramètre $\\theta$.\n",
    "\n",
    "$$ y = f_\\theta(x) = F(x, \\theta)$$\n",
    "\n",
    "L'objectif sera de faire apprendre notre modèle pour qu'à partir des caractéristiques observées, il obtienne un résultat proche de la cible que nous cherchons.\n",
    "\n",
    "\n",
    "## La fonction coût\n",
    "\n",
    "Pour déterminer si notre modèle donne des résultats *proches* de notre cible, on introduit une fonction coût (ou d'erreur). Cette fonction donne un calcul de l'écart des prévisions du modèle avec la cible qu'il aurait fallut atteindre. L'objectif est de déterminer les  paramètres pour lesquels, la fonction de coût est minimum.\n",
    "\n",
    "Une fonction de coût classique est l'écart quadratique :\n",
    "\n",
    "$$ J(\\theta) = \\frac{1}{2m} \\sum_{i=1}^m \\big(y - F(X, \\theta)\\big)^2 $$\n",
    "\n",
    "Mais on pourra trouver d'autre forme. Par exemple, la somme des valeurs absolues aurait pu être utilisée comme fonction coût, mais n'étant pas dérivable en 0, cela perturbe les calculs à venir.\n",
    "\n",
    "\n",
    "## Problème de régression ou de classification\n",
    "\n",
    "Quand la cible peut prendre toutes les valeurs d'un domaine continu, le problème est un problème de régression. Quand elle ne peut prendre qu'un nombre fini de valeurs, alors il s'agit d'un problème de classification, que nous détaillerons par la suite.\n"
   ]
  },
  {
   "attachments": {},
   "cell_type": "markdown",
   "metadata": {},
   "source": [
    "# Exemple sur la régression linéaire\n",
    "\n",
    "La régression a l'avantage d'être simple pour bien illustrer les concepts qui viennent d'être présentés. Le chaine de machine learnia illustre cet exemple, mais on trouve aussi d'autres présentations comme le blog de Thibault [Miximum](https://www.miximum.fr/blog/premiers-tests-avec-le-machine-learning/) présente la construction de cet algorithme du gradient. On trouve aussi plus de détails sur cet algorithme sur la page [Wikipedia](https://fr.wikipedia.org/wiki/Algorithme_du_gradient).\n",
    "\n",
    "Le *dataset* est constitués de points de coordonnées (x,y), les ordonnées y sont nos cibles et les points x sont les m observations de notre unique caractéristique (*feature*).\n",
    "\n",
    "Dans une régression linéaire, le modèle est une fonction de la forme: $ y = \\theta_0 + \\theta_1 x$\n"
   ]
  },
  {
   "attachments": {},
   "cell_type": "markdown",
   "metadata": {},
   "source": [
    "Quand nous estimons les $y$ avec cette fonction linéaire, nous faisons une erreur par rapport à notre nuage de point initial. Cette erreur peut être quantifiée au travers d'une fonction de coût qui a cette expression.\n",
    "\n",
    "\n",
    "$$ J(\\theta_0, \\theta_1) = \\frac{1}{2m} \\sum_{i=1}^m \\left[ \\theta_0 + \\theta_1 \\times x^{(i)} - y^{(i)} \\right]^2$$\n",
    "\n",
    "L'objectif sera de rechercher la coût minimum en fonction des paramètres $\\theta_0, \\theta_1$."
   ]
  },
  {
   "attachments": {},
   "cell_type": "markdown",
   "metadata": {},
   "source": [
    "Voici une représentation graphique de la fonction $J$, pour laquelle les coordonnées usuelles $(x,y)$ ont été remplacées par ces deux paramètres $(\\theta_0,\\theta_1)$. La valeur de $J$ peut alors être représentée par une couleur ou une hauteur sur un troisième axe fictif comme le montre la figure ci-dessous.\n",
    "\n",
    "![fonction à deux paramètres](./img/RQKM5OWWMA.png)\n",
    "\n",
    "Nous voyons bien que cette fonction est convexe avec un minimum unique. Le couple de paramètres que nous cherchons $\\theta = (\\theta_0,\\theta_1)$ se trouve au minimum de cette fonction $J$. \n",
    "\n",
    "Cette représentation de la valeur de $J$ comme une hauteur sur un troisième axe imaginaire est souvent plus parlante. On imagine marcher sur cette surface en plein brouillard. Pour trouver le fond de cette vallée, nous nous basons sur un pas réguliers : tant que nous descendons, c'est que nous avançons vers le minimum. Si cette descente se ralentie, il est probable que nous approchons de la solution. Si tout d'un coup nous remontons, c'est que nous avons sûrement dépassé ce minimum. C'est en termes imagés le principe de l'algorithme du gradient."
   ]
  },
  {
   "attachments": {},
   "cell_type": "markdown",
   "metadata": {},
   "source": [
    "On rappelle que le gradient de la fonction $J$ s'écrit de la manière suivante\n",
    "\n",
    "$$ \\overrightarrow{\\nabla J} =\\frac{\\partial J}{\\partial \\theta_0} \\overrightarrow{u_{\\theta_0}} + \\frac{\\partial J}{\\partial \\theta_1} \\vec{u_{\\theta_1}}$$\n",
    "\n",
    "Le gradient est un vecteur dont la dimension est égale au nombre de paramètre et qui designe la ligne de plus grande pente, dans le sens de la montée."
   ]
  },
  {
   "attachments": {},
   "cell_type": "markdown",
   "metadata": {},
   "source": [
    "À chaque pas, il faut choisir une direction de descente et [on montre qu'une solution est de choisir l'inverse du gradient comme direction de descente](https://fr.wikipedia.org/wiki/Direction_de_descente). Si on reprend l'image de notre surface, le gradient est la projection sur la carte de la direction « où cela monte ». Les gradients sont d'ailleurs des vecteurs perpendiculaires aux lignes de niveau. En prenant la direction inverse, on est donc à peu près sûr de descendre, comme le montre l'image ci-dessous.\n",
    "\n",
    "![chemin](./img/Gradient_descent.png)\n",
    "\n",
    "En pratique, on multiplie cette direction par un coefficient $\\alpha$, qui représente la vitesse à laquelle on veut descendre. Ce coefficient est aussi à optimiser. Un pas important permet de descendre plus vite, mais peut aussi nous faire manquer le minimum exacte.\n",
    "\n",
    "En clair, on fera les pas suivants.\n",
    "\n",
    "$$\n",
    "\\theta_0 \\rightarrow \\theta_0 - \\alpha \\times \\frac{\\partial J}{\\partial \\theta_0}\n",
    "\\quad ; \\quad\n",
    "\\theta_1 \\rightarrow \\theta_1 - \\alpha \\times \\frac{\\partial J}{\\partial \\theta_1}\n",
    "$$\n",
    "\n",
    "(La méthode du gradient n'est pas la seule méthode pour trouver la meilleure pente. D'autres méthodes jugées plus efficaces existent comme la [méthode BFGS](https://en.wikipedia.org/wiki/Limited-memory_BFGS).)\n",
    "\n",
    "Le minimum sera atteint que and le gradient sera devenu nul\n",
    "\n",
    "$$\\frac{\\partial{J}}{\\partial{\\theta_0}} = \\frac{1}{m} \\sum_{i=1}^m \\large(\\theta_0+ \\theta_1 x^{(i)} - y^{(i)}\\large)$$\n",
    "\n",
    "$$\\frac{\\partial{J}}{\\partial{\\theta_1}} = \\frac{1}{m} \\sum_{i=1}^m x^{(i)} \\large(\\theta_0+ \\theta_1 x^{(i)} - y^{(i)})$$\n",
    "\n"
   ]
  },
  {
   "attachments": {},
   "cell_type": "markdown",
   "metadata": {},
   "source": [
    "Pour bénéficier des capacités de calcul matriciel des outils de calcul (comme le langage Python), on écrit les équations précédantes sous une forme matricielle :\n",
    "\n",
    "$$ F = X \\times \\theta $$\n",
    "\n",
    "$F$ est un vecteur colonne de $m$ éléments qui représente l'estimation du vecteur cible $Y$. \n",
    "\n",
    "$\\theta$ est le vecteur colonne de nos deux paramètres (a,b). X est une matrice contenant nos m observations en première colonne et des 1 en seconde colonne, de telle sorte que la multiplication matricielle de l'un par l'autre donne les $m$ équations qu'on veut obtenir : c'est une matrice de taille (m,2) multiplié par $\\theta$ de taille (2,1).\n",
    "\n",
    "$$\n",
    "\\left[ \\begin{array}{c}f^{(1)}\\\\f^{(2)}\\\\\\dots\\\\f^{(m)}\\\\\\end{array}\\right]\n",
    "=\n",
    "\\left[ \\begin{array}{cc}1 & x^{(1)}\\\\1 & x^{(2)}\\\\\\dots & \\dots \\\\1 & x^{(m)}\\\\\\end{array}\\right]\n",
    "\\times\n",
    "\\left[\\begin{array}{c}\\theta_0 \\\\ \\theta_1 \\end{array}\\right]\n",
    "$$\n",
    "\n",
    "Et s'il y avait eu plus de caractéristiques (n), X aurait eu n+1 colonnes : on ajoute toujours une colonne de biais à nos données pour représenter ce reste. Voici l'exemple avec deux caractéristiques.\n",
    "\n",
    "$$\n",
    "\\left[ \\begin{array}{c}f^{(1)}\\\\f^{(2)}\\\\\\dots\\\\f^{(m)}\\\\\\end{array}\\right]\n",
    "=\n",
    "\\left[ \\begin{array}{ccc}1 & x_1^{(1)} & x_2^{(1)}\\\\ 1 & x_1^{(2)} & x_2^{(2)}\\\\\\dots & \\dots & \\dots\\\\ 1 & x_1^{(m)} & x_2^{(m)}\\\\\\end{array}\\right]\n",
    "\\times\n",
    "\\left[\\begin{array}{c}\\theta_0 \\\\ \\theta_1 \\\\ \\theta_2 \\end{array}\\right]\n",
    "$$\n"
   ]
  },
  {
   "attachments": {},
   "cell_type": "markdown",
   "metadata": {},
   "source": [
    "En revenant au cas simple d'une seule caractéristiques, nous pouvons aussi transformer l'expression de la fonction de coût pour lui donner une forme matricielle.\n",
    "\n",
    "$$\\begin{align*}\n",
    "J(\\theta_0,\\theta_1) &= \\frac{1}{2m}\\sum_{i=1}^m (\\theta_0 + \\theta_1 x^{(i)} - y^{(i)})^2 \\\\\n",
    "J(\\theta) &= \\frac{1}{2m} \\sum(X\\times\\theta -Y)^2\n",
    "\\end{align*}$$\n",
    "\n",
    "Et on pourra vérifier que la forme matricielle resterait inchangée en augmentant le nombre de caractéristiques."
   ]
  },
  {
   "attachments": {},
   "cell_type": "markdown",
   "metadata": {},
   "source": [
    "De même, l'expression du gradient est aussi simple sous sa forme matricielle.\n",
    "\n",
    "$$ \\frac{\\partial{J}(\\theta)}{\\partial{\\theta}} = \\frac{1}{m} X^T \\times (X\\times\\theta -  Y)$$\n",
    "\n",
    "\n",
    "En effet, si on décompose, nous avons vu le produit matriciel (noté ici '$\\times$')\n",
    "\n",
    "$$\n",
    "X \\times \\theta - Y\n",
    "=\n",
    "\\left[ \\begin{array}{cc}1 & x^{(1)}\\\\ 1 & x^{(2)}\\\\\\dots & \\dots \\\\ 1 & x^{(m)}\\\\\\end{array}\\right]\n",
    "\\times\n",
    "\\left[\\begin{array}{c} \\theta_0 \\\\ \\theta_1 \\end{array}\\right]\n",
    "- \n",
    "\\left[ \\begin{array}{c} y^{(1)}\\\\y^{(2)}\\\\ \\dots \\\\y^{(m)} \\\\\\end{array}\\right]\n",
    "=\n",
    "\\left[\\begin{array}{c} \\theta_0 + \\theta_1 x^{(1)} - y^{(1)}\\\\ \\theta_0 + \\theta_1 x^{(2)} - y^{(2)}\\\\ \\dots \\\\ \\theta_0 + \\theta_1 x^{(m)} - y^{(m)} \\\\ \\end{array}\\right]\n",
    "$$\n",
    "\n",
    "Même si on introduisait plus de caratéristiques (mais avec des matrices explosant en taille), $X$ est toujours la matrice à m lignes et (n+1) colonnes, $\\theta$ la matrice colonne à (n+1) éléments (toujours avec ce biais à rajouter). La multiplication matricielle donne donc une matrice de m éléments et une colonne, qu'on peut ajouter avec la matrice colonne $Y$.\n",
    "\n",
    "Sur l'élément extérieur, l'opération est la suivante.\n",
    "\n",
    "$$\n",
    "\\frac{\\partial{J}(\\theta)}{\\partial{\\theta}} =  \n",
    "\\left[\\begin{array}{c}\\frac{\\partial{J}}{\\partial{\\theta_0}}\\\\[0.2cm]\\frac{\\partial{J}}{\\partial{\\theta_1}}\\end{array}\\right]\n",
    "= \\frac{1}{m}\n",
    "\\left[\\begin{array}{llcl}1 & 1 & \\dots & 1 \\\\ x^{(1)} & x^{(2)} & \\dots & x^{(m)}\\\\ \\end{array}\\right]\n",
    "\\times\n",
    "\\left[\\begin{array}{c}\\theta_0 + \\theta_1 ax^{(1)} - y^{(1)}\\\\\\theta_0 + \\theta_1 ax^{(2)} - y^{(2)}\\\\ \\dots \\\\ \\theta_0 + \\theta_1 ax^{(m)} - y^{(m)} \\\\ \\end{array}\\right]\n",
    "$$\n",
    "\n",
    "La transposée de $X$ est une matrice $(n+1, m)$ qu'on multiplie avec un membre de dimension $(m,1)$ pour obtenir donc les $(n+1)$ équations donnant les paramètres $\\theta$ recherchés."
   ]
  },
  {
   "attachments": {},
   "cell_type": "markdown",
   "metadata": {},
   "source": [
    "La méthode de descente du gradient vue plus haut pourra aussi s'écrire sous forme matricielle de la façon suivante.\n",
    "\n",
    "$$ \\theta \\leftarrow \\theta -\\alpha \\frac{\\partial{J}}{\\partial{\\theta}}$$\n",
    "\n",
    "$\\theta$ et J sont tous les deux de dimensions (n+1,1)."
   ]
  },
  {
   "attachments": {},
   "cell_type": "markdown",
   "metadata": {},
   "source": [
    "# Généralisation à une régression polynomiale\n",
    "\n",
    "L'équation matricielle permettra de résoudre le problème.\n",
    "\n",
    "$$ F = X\\cdot \\theta $$\n",
    "\n",
    "Le modèle cherché est de la forme:\n",
    "\n",
    "$$f(x) = ax^2 + bx +c$$\n",
    "\n",
    "c'est-à dire trois paramètres.\n",
    "\n",
    "La matrice $X$ aura en première colonne les carrés des observation, en deuxième colonne les valeurs simples et en troisième les 1. Le vecteur colonne $\\theta$ sera constitué de a,b,c.\n",
    "\n",
    "(pour plus des explications plus détaillées, revoir la [vidéo](https://www.youtube.com/watch?v=8Y3r7F47Xfo&list=PLO_fdPEVlfKqUF5BPKjGSh7aV9aBshrpY&index=6))"
   ]
  },
  {
   "attachments": {},
   "cell_type": "markdown",
   "metadata": {},
   "source": [
    "# Préparation de l'échantillon\n",
    "\n",
    "Il peut y a avoir plusieurs pré-traitement à faire à un échantillon. On voit bien que si nos courbes de niveau vues plus haut sont complètement déformées avec une caractéristiques ayant des valeurs d'un tout autre ordre de grandeur que l'autre, on risque d'égarer la recherche.\n",
    "\n",
    "Pour éviter aussi les cas particuliers ou les deux paramètres auraient des ordres de grandeur totalement différent, on peut aussi normaliser les données $(x_i)_i$ et $(y_i)_i$. Cela se ferait de la manière suivante."
   ]
  },
  {
   "cell_type": "code",
   "execution_count": null,
   "metadata": {},
   "outputs": [],
   "source": [
    "surfaces = df['surface'].tolist()\n",
    "surf_min = min(surfaces)\n",
    "surf_max = max(surfaces)\n",
    "surf_range = surf_max - surf_min\n",
    "surf_norm = []\n",
    "for surf in surfaces:\n",
    "    surf_norm.append((surf - surf_min) / surf_range)\n",
    "\n",
    "loyers = df['loyer_mensuel'].tolist()\n",
    "loy_min = min(loyers)\n",
    "loy_max = max(loyers)\n",
    "loy_range = loy_max - loy_min\n",
    "loy_norm = []\n",
    "for loy in loyers:\n",
    "    loy_norm.append((loy - loy_min) / loy_range)"
   ]
  },
  {
   "attachments": {},
   "cell_type": "markdown",
   "metadata": {},
   "source": [
    "Le module Scikit learn propose la commande [normalize](https://scikit-learn.org/stable/modules/generated/sklearn.preprocessing.normalize.html#sklearn.preprocessing.normalize) pour faire cette normalisation directement."
   ]
  },
  {
   "cell_type": "markdown",
   "metadata": {},
   "source": []
  },
  {
   "cell_type": "code",
   "execution_count": null,
   "metadata": {},
   "outputs": [],
   "source": []
  },
  {
   "attachments": {},
   "cell_type": "markdown",
   "metadata": {},
   "source": [
    "# Exercice avec Numpy\n",
    "\n",
    "Scikit learn contient une commande [make_regression](https://scikit-learn.org/stable/modules/generated/sklearn.datasets.make_regression.html) pour générer un exercice de régression."
   ]
  },
  {
   "cell_type": "code",
   "execution_count": 2,
   "metadata": {},
   "outputs": [
    {
     "data": {
      "image/png": "[encoded data removed]",
      "text/plain": [
       "<Figure size 640x480 with 1 Axes>"
      ]
     },
     "metadata": {},
     "output_type": "display_data"
    },
    {
     "name": "stdout",
     "output_type": "stream",
     "text": [
      "(100, 1)\n",
      "(100,)\n"
     ]
    }
   ],
   "source": [
    "import numpy as np\n",
    "from sklearn.datasets import make_regression\n",
    "import matplotlib.pyplot as plt\n",
    "\n",
    "x,y = make_regression(n_samples=100, n_features=1, noise=10, random_state=5)\n",
    "plt.scatter(x,y)\n",
    "plt.show()\n",
    "print(x.shape)\n",
    "print(y.shape)"
   ]
  },
  {
   "attachments": {},
   "cell_type": "markdown",
   "metadata": {},
   "source": [
    "On voit que les dimensions de y sont incomplètes et donc on le redimensionne."
   ]
  },
  {
   "cell_type": "code",
   "execution_count": 244,
   "metadata": {},
   "outputs": [
    {
     "name": "stdout",
     "output_type": "stream",
     "text": [
      "(100, 1)\n"
     ]
    }
   ],
   "source": [
    "y = y.reshape(y.shape[0],1)\n",
    "print(y.shape)"
   ]
  },
  {
   "attachments": {},
   "cell_type": "markdown",
   "metadata": {},
   "source": [
    "On construite la matrice X en concaténant horizontalement avec [hstack](https://numpy.org/doc/stable/reference/generated/numpy.hstack.html)."
   ]
  },
  {
   "cell_type": "code",
   "execution_count": 264,
   "metadata": {},
   "outputs": [
    {
     "name": "stdout",
     "output_type": "stream",
     "text": [
      "(100, 2)\n",
      "[[ 1.523  1.   ]\n",
      " [-1.301  1.   ]\n",
      " [ 0.414  1.   ]]\n"
     ]
    }
   ],
   "source": [
    "X = np.hstack((x, np.ones(x.shape)))\n",
    "print(X.shape)\n",
    "print(np.around(X[0:3, :],3))"
   ]
  },
  {
   "attachments": {},
   "cell_type": "markdown",
   "metadata": {},
   "source": [
    "On initialise le vecteur $\\theta$ qu'on cherche avec des valeurs aléatoires."
   ]
  },
  {
   "cell_type": "code",
   "execution_count": 246,
   "metadata": {},
   "outputs": [
    {
     "name": "stdout",
     "output_type": "stream",
     "text": [
      "[[0.086]\n",
      " [0.237]]\n",
      "(2, 1)\n"
     ]
    }
   ],
   "source": [
    "rng = np.random.default_rng(3)\n",
    "theta = rng.random((2,1))\n",
    "print(np.around(theta, 3))\n",
    "print(theta.shape)"
   ]
  },
  {
   "attachments": {},
   "cell_type": "markdown",
   "metadata": {},
   "source": [
    "Nous écrivons maintenant le fonction qui nous servira de modèle dont il faut trouver les paramètres $\\theta$. On utilise pour cela le produit scalaire [dot](https://numpy.org/doc/1.21/reference/generated/numpy.ndarray.dot.html) (il existe aussi la forme [np.dot](https://numpy.org/doc/stable/reference/generated/numpy.dot.html))."
   ]
  },
  {
   "cell_type": "code",
   "execution_count": 247,
   "metadata": {},
   "outputs": [],
   "source": [
    "def model(X, theta):\n",
    "    return X.dot(theta)"
   ]
  },
  {
   "attachments": {},
   "cell_type": "markdown",
   "metadata": {},
   "source": [
    "On peut afficher ce que donne le modèle avec les paramètres aléatoires et bien sûr, le résultat n'est pas probant pour le moment."
   ]
  },
  {
   "cell_type": "code",
   "execution_count": 248,
   "metadata": {},
   "outputs": [
    {
     "data": {
      "image/png": "[encoded data removed]",
      "text/plain": [
       "<Figure size 640x480 with 1 Axes>"
      ]
     },
     "metadata": {},
     "output_type": "display_data"
    }
   ],
   "source": [
    "plt.scatter(x,y)\n",
    "plt.plot(x, model(X,theta), c='r')\n",
    "plt.show()\n"
   ]
  },
  {
   "attachments": {},
   "cell_type": "markdown",
   "metadata": {},
   "source": [
    "On calule la fonction coût."
   ]
  },
  {
   "cell_type": "code",
   "execution_count": 249,
   "metadata": {},
   "outputs": [],
   "source": [
    "def cost_function(X, y, theta):\n",
    "    m = len(y)\n",
    "    return 1 / (2*m) * np.sum(np.square(model(X,theta) -y))"
   ]
  },
  {
   "cell_type": "code",
   "execution_count": 250,
   "metadata": {},
   "outputs": [
    {
     "name": "stdout",
     "output_type": "stream",
     "text": [
      "2876.91\n"
     ]
    }
   ],
   "source": [
    "print(np.around(cost_function(X,y,theta), 2))"
   ]
  },
  {
   "attachments": {},
   "cell_type": "markdown",
   "metadata": {},
   "source": [
    "on passe maintenant à la descente du gradient dont on rappèle la formule.\n",
    "\n",
    "$$\\frac{\\partial{J}(\\theta)}{\\partial{\\theta}} = \\frac{1}{m}X^T\\cdot(X\\cdot \\theta - Y)$$"
   ]
  },
  {
   "cell_type": "code",
   "execution_count": 251,
   "metadata": {},
   "outputs": [],
   "source": [
    "def grad(X,y,theta):\n",
    "    m = len(y)\n",
    "    return 1/m* X.T.dot(model(X, theta) -y)"
   ]
  },
  {
   "cell_type": "code",
   "execution_count": 252,
   "metadata": {},
   "outputs": [
    {
     "data": {
      "text/plain": [
       "(2, 1)"
      ]
     },
     "execution_count": 252,
     "metadata": {},
     "output_type": "execute_result"
    }
   ],
   "source": [
    "grad(X,y,theta).shape"
   ]
  },
  {
   "attachments": {},
   "cell_type": "markdown",
   "metadata": {},
   "source": [
    "On crée maintenant une fonction pour la descente du gradient."
   ]
  },
  {
   "cell_type": "code",
   "execution_count": 253,
   "metadata": {},
   "outputs": [],
   "source": [
    "def gradient_descent(X,y,theta, learning_rate, n_iterations):\n",
    "    cost_history = np.zeros(n_iterations)\n",
    "    for i in range(0, n_iterations):\n",
    "        theta = theta - learning_rate * grad(X,y,theta)\n",
    "        cost_history[i] = cost_function(X,y,theta)\n",
    "    return theta, cost_history\n"
   ]
  },
  {
   "cell_type": "code",
   "execution_count": 254,
   "metadata": {},
   "outputs": [],
   "source": [
    "theta_final, cost_history = gradient_descent(X,y,theta, learning_rate=0.01, n_iterations=1000)"
   ]
  },
  {
   "attachments": {},
   "cell_type": "markdown",
   "metadata": {},
   "source": [
    "On peut regarder le résultat de notre modèle."
   ]
  },
  {
   "cell_type": "code",
   "execution_count": 255,
   "metadata": {},
   "outputs": [
    {
     "data": {
      "text/plain": [
       "[<matplotlib.lines.Line2D at 0x7f2b2c154430>]"
      ]
     },
     "execution_count": 255,
     "metadata": {},
     "output_type": "execute_result"
    },
    {
     "data": {
      "image/png": "[encoded data removed]",
      "text/plain": [
       "<Figure size 640x480 with 1 Axes>"
      ]
     },
     "metadata": {},
     "output_type": "display_data"
    }
   ],
   "source": [
    "prediction = model(X, theta_final)\n",
    "\n",
    "plt.scatter(x,y)\n",
    "plt.plot(x, prediction, c='r')"
   ]
  },
  {
   "attachments": {},
   "cell_type": "markdown",
   "metadata": {},
   "source": [
    "# Courbe d'apprentissage\n",
    "\n",
    "Grâce à ce que nous avons mis dans les fonctions, nous pouvons voir comment évolue l'apprentissage. "
   ]
  },
  {
   "cell_type": "code",
   "execution_count": 256,
   "metadata": {},
   "outputs": [
    {
     "data": {
      "text/plain": [
       "[<matplotlib.lines.Line2D at 0x7f2b2c19e3e0>]"
      ]
     },
     "execution_count": 256,
     "metadata": {},
     "output_type": "execute_result"
    },
    {
     "data": {
      "image/png": "[encoded data removed]",
      "text/plain": [
       "<Figure size 640x480 with 1 Axes>"
      ]
     },
     "metadata": {},
     "output_type": "display_data"
    }
   ],
   "source": [
    "plt.plot(range(1000), cost_history)"
   ]
  },
  {
   "attachments": {},
   "cell_type": "markdown",
   "metadata": {},
   "source": [
    "# Coefficient de détermination\n",
    "\n",
    "Le coefficient de détermination à la forme suivante.\n",
    "\n",
    "$$R^2 = 1 - \\frac{\\sum \\big(y-f(x)\\big)^2}{\\sum (y - \\overline{x})^2}$$\n",
    "\n",
    "Ceci se fait en introduisant les variables u et v"
   ]
  },
  {
   "cell_type": "code",
   "execution_count": 257,
   "metadata": {},
   "outputs": [],
   "source": [
    "def coef_determination(y, pred):\n",
    "    u = np.square(y-pred).sum()\n",
    "    v = np.square(y - y.mean()).sum()\n",
    "    return 1 - u / v\n"
   ]
  },
  {
   "cell_type": "code",
   "execution_count": 258,
   "metadata": {},
   "outputs": [
    {
     "name": "stdout",
     "output_type": "stream",
     "text": [
      "98.14%\n"
     ]
    }
   ],
   "source": [
    "print(f'{coef_determination(y, prediction)*100:.2f}%')"
   ]
  },
  {
   "attachments": {},
   "cell_type": "markdown",
   "metadata": {},
   "source": [
    "# Régression linéaire multiple\n",
    "\n",
    "Les modèles linéaires peuvent servir à modéliser des problèmes non linéaires. Les solutions polynomiales font monter rapidement la complexité des résolutions.\n",
    "\n",
    "\n"
   ]
  },
  {
   "cell_type": "code",
   "execution_count": 265,
   "metadata": {},
   "outputs": [
    {
     "data": {
      "image/png": "[encoded data removed]",
      "text/plain": [
       "<Figure size 640x480 with 1 Axes>"
      ]
     },
     "metadata": {},
     "output_type": "display_data"
    }
   ],
   "source": [
    "x1,y1 = make_regression(n_samples=100, n_features=1, noise=10)\n",
    "y1 = y1 + abs(y1/2)\n",
    "plt.scatter(x1,y1)\n",
    "plt.show()"
   ]
  },
  {
   "attachments": {},
   "cell_type": "markdown",
   "metadata": {},
   "source": [
    "On voit qu'il faudrait une courbe pour faire une régression correcte. On va essayer ici un polynôme de degré 2. On rajoute donc une colonne de $x^2$ à notre matrice X."
   ]
  },
  {
   "cell_type": "code",
   "execution_count": 267,
   "metadata": {},
   "outputs": [
    {
     "data": {
      "text/plain": [
       "array([[ 2.32005144,  1.52317151,  1.        ],\n",
       "       [ 1.69198753, -1.30076421,  1.        ],\n",
       "       [ 0.1714089 ,  0.41401558,  1.        ],\n",
       "       [ 0.00570145, -0.07550792,  1.        ]])"
      ]
     },
     "execution_count": 267,
     "metadata": {},
     "output_type": "execute_result"
    }
   ],
   "source": [
    "X = np.hstack((x*x, x, np.ones(x.shape)))\n",
    "# X = np.hstack((x*x, X))\n",
    "X[:4,:]"
   ]
  },
  {
   "cell_type": "code",
   "execution_count": 270,
   "metadata": {},
   "outputs": [
    {
     "name": "stdout",
     "output_type": "stream",
     "text": [
      "(100, 3)\n",
      "[[ 2.32  1.52  1.  ]\n",
      " [ 1.69 -1.3   1.  ]\n",
      " [ 0.17  0.41  1.  ]]\n"
     ]
    }
   ],
   "source": [
    "print(X.shape)\n",
    "print(np.around(X[:3],2))"
   ]
  },
  {
   "cell_type": "code",
   "execution_count": 271,
   "metadata": {},
   "outputs": [
    {
     "data": {
      "text/plain": [
       "array([[0.80127447],\n",
       "       [0.58216204],\n",
       "       [0.09412864]])"
      ]
     },
     "execution_count": 271,
     "metadata": {},
     "output_type": "execute_result"
    }
   ],
   "source": [
    "theta = rng.random((3,1))\n",
    "theta"
   ]
  },
  {
   "cell_type": "code",
   "execution_count": 292,
   "metadata": {},
   "outputs": [
    {
     "data": {
      "text/plain": [
       "(3, 100)"
      ]
     },
     "execution_count": 292,
     "metadata": {},
     "output_type": "execute_result"
    }
   ],
   "source": [
    "theta = theta - 0.01 * grad(X,y,theta)\n",
    "grad(X,y,theta).shape"
   ]
  },
  {
   "cell_type": "code",
   "execution_count": 296,
   "metadata": {},
   "outputs": [],
   "source": [
    "def grad(X,y,theta):\n",
    "    m = len(y)\n",
    "    return 1/m* X.T.dot(model(X, theta) -y)\n",
    "\n",
    "def gradient_descent(X,y,theta, learning_rate, n_iterations):\n",
    "    cost_history = np.zeros(n_iterations)\n",
    "    for i in range(0, n_iterations):\n",
    "        theta = theta - learning_rate * grad(X,y,theta)\n",
    "        cost_history[i] = cost_function(X,y,theta)\n",
    "    return theta, cost_history\n"
   ]
  },
  {
   "cell_type": "code",
   "execution_count": 297,
   "metadata": {},
   "outputs": [
    {
     "data": {
      "text/plain": [
       "array([[ 3.00709800e+01, -8.34921496e+00,  5.61854765e+00,\n",
       "         1.58481072e-01,  1.39190500e+01,  1.69088943e+01,\n",
       "        -9.47411632e+00,  3.75860702e+00,  4.23288570e+01,\n",
       "        -9.46895415e-01,  1.23793895e+01, -1.19097034e+00,\n",
       "        -3.32403022e+00,  2.91319720e+01,  5.60242724e+00,\n",
       "         3.18987652e+00, -1.17006298e+01, -1.98045425e+00,\n",
       "        -5.30822289e+00,  1.67689492e+00, -1.48111346e+01,\n",
       "         1.78228211e+00,  3.67592659e+01,  2.17502896e+01,\n",
       "         1.27796091e+01, -7.86947961e+00,  3.72106317e+01,\n",
       "        -1.85208621e+00,  1.08959282e+00,  9.08969275e+00,\n",
       "        -3.95629468e+00, -8.65656586e-01, -6.47247830e+00,\n",
       "         2.38791304e+01, -4.16100581e+00,  3.41040668e+01,\n",
       "         2.21356427e+01, -1.42324820e+01, -1.25563039e+01,\n",
       "         2.33616975e+01, -9.60129253e+00, -1.75345231e+01,\n",
       "        -7.52769374e-01,  2.80629939e+01,  2.97554587e+01,\n",
       "         1.40413979e+01, -1.65358474e+01, -5.67858967e+00,\n",
       "        -2.24838478e+00,  6.28668230e+00, -9.86747120e+00,\n",
       "         7.78195810e+01, -1.65966457e+00, -1.02001134e+01,\n",
       "        -1.02549635e+01, -7.11847573e+00,  2.78728640e+01,\n",
       "         8.94702991e+00,  5.17407759e+01, -2.52340459e+00,\n",
       "         2.75327559e+01, -1.48823721e+00, -1.39889786e+01,\n",
       "         5.03591209e+00,  8.51214012e+00, -9.82056999e+00,\n",
       "         1.37057885e+01, -9.83500782e+00, -1.32042506e+00,\n",
       "         3.56208808e+01,  4.33377126e+00, -3.48619991e+00,\n",
       "         8.29742007e+00, -5.80674214e+00,  1.27075235e+01,\n",
       "         1.28316626e+01, -1.04954550e+01,  1.98123243e+01,\n",
       "        -1.43694872e+01, -8.81002734e+00,  1.22317620e+00,\n",
       "         2.82064849e+01, -3.95367069e-01,  4.29944468e+00,\n",
       "         2.42042458e+01, -4.17688659e+00, -1.45583170e+01,\n",
       "        -1.02439518e+01,  5.30982813e+00, -1.00999881e+01,\n",
       "         3.02506664e+01, -8.42784137e-01, -4.99090024e+00,\n",
       "         4.16690600e+01,  1.16768012e+01,  6.34813413e+01,\n",
       "        -1.00582870e+00, -9.52092932e+00,  4.10126069e+01,\n",
       "        -4.10918032e+00],\n",
       "       [-2.17824967e+00,  1.02898527e+00, -1.37013401e-01,\n",
       "         3.18781171e-01, -8.29921422e-01, -1.07950717e+00,\n",
       "         1.12288961e+00,  1.82504281e-02, -3.20151079e+00,\n",
       "         4.11055614e-01, -7.01393883e-01,  4.31430462e-01,\n",
       "         6.09493696e-01, -2.09986331e+00, -1.35667704e-01,\n",
       "         6.57268221e-02,  1.30875415e+00,  4.97334874e-01,\n",
       "         7.75129818e-01,  1.92027260e-01,  1.56841237e+00,\n",
       "         1.83229765e-01, -2.73657334e+00, -1.48365639e+00,\n",
       "        -7.34803350e-01,  9.88937999e-01, -2.77425239e+00,\n",
       "         4.86618987e-01,  2.41053972e-01, -4.26777101e-01,\n",
       "         6.62273768e-01,  4.04273972e-01,  8.72319346e-01,\n",
       "        -1.66136743e+00,  6.79362612e-01, -2.51492305e+00,\n",
       "        -1.51582484e+00,  1.52010770e+00,  1.38018397e+00,\n",
       "        -1.61817325e+00,  1.13350600e+00,  1.79575497e+00,\n",
       "         3.94850391e-01, -2.01062733e+00, -2.15191063e+00,\n",
       "        -8.40134757e-01,  1.71238768e+00,  8.06047236e-01,\n",
       "         5.19701137e-01, -1.92787839e-01,  1.15572602e+00,\n",
       "        -6.16419981e+00,  4.70556045e-01,  1.18349428e+00,\n",
       "         1.18807305e+00,  9.26245816e-01, -1.99475569e+00,\n",
       "        -4.14867915e-01, -3.98719745e+00,  5.42659197e-01,\n",
       "        -1.96636420e+00,  4.56245658e-01,  1.49978057e+00,\n",
       "        -8.83762418e-02, -3.78564255e-01,  1.15181081e+00,\n",
       "        -8.12118814e-01,  1.15301605e+00,  4.42237062e-01,\n",
       "        -2.64154341e+00, -2.97630417e-02,  6.23031272e-01,\n",
       "        -3.60639888e-01,  8.16745128e-01, -7.28785799e-01,\n",
       "        -7.39148665e-01,  1.20814876e+00, -1.32187924e+00,\n",
       "         1.53154460e+00,  1.06745289e+00,  2.29902720e-01,\n",
       "        -2.02260565e+00,  3.65015218e-01, -2.68975325e-02,\n",
       "        -1.68850737e+00,  6.80688305e-01,  1.54730771e+00,\n",
       "         1.18715381e+00, -1.11242162e-01,  1.17513604e+00,\n",
       "        -2.19324950e+00,  4.02364629e-01,  7.48640407e-01,\n",
       "        -3.14643236e+00, -6.42743332e-01, -4.96727452e+00,\n",
       "         4.15975237e-01,  1.12679746e+00, -3.09163307e+00,\n",
       "         6.75036332e-01],\n",
       "       [ 3.91236708e+01, -1.10379107e+01,  7.19846377e+00,\n",
       "         6.97759923e-02,  1.80356375e+01,  2.19391918e+01,\n",
       "        -1.25065870e+01,  4.77011681e+00,  5.51276108e+01,\n",
       "        -1.37340858e+00,  1.60254496e+01, -1.69207392e+00,\n",
       "        -4.47700661e+00,  3.78976976e+01,  7.17741690e+00,\n",
       "         4.02757969e+00, -1.54135331e+01, -2.72282769e+00,\n",
       "        -7.06757759e+00,  2.05222403e+00, -1.94746223e+01,\n",
       "         2.18981802e+00,  4.78559272e+01,  2.82601395e+01,\n",
       "         1.65479781e+01, -1.04115660e+01,  4.84452326e+01,\n",
       "        -2.55522980e+00,  1.28543972e+00,  1.17304066e+01,\n",
       "        -5.30249396e+00, -1.26734280e+00, -8.58763475e+00,\n",
       "         3.10395637e+01, -5.56976574e+00,  4.43892873e+01,\n",
       "         2.87632583e+01, -1.87191309e+01, -1.65307051e+01,\n",
       "         3.03640010e+01, -1.26726288e+01, -2.30302908e+01,\n",
       "        -1.11995674e+00,  3.65020350e+01,  3.87117247e+01,\n",
       "         1.81953754e+01, -2.17264153e+01, -7.55113014e+00,\n",
       "        -3.07263903e+00,  8.07078341e+00, -1.30201529e+01,\n",
       "         1.01464462e+02, -2.30400324e+00, -1.34544522e+01,\n",
       "        -1.35260646e+01, -9.43105193e+00,  3.62538005e+01,\n",
       "         1.15441454e+01,  6.74158549e+01, -3.43170614e+00,\n",
       "         3.58097538e+01, -2.08018689e+00, -1.84012118e+01,\n",
       "         6.43777213e+00,  1.09763513e+01, -1.29589185e+01,\n",
       "         1.77572023e+01, -1.29777686e+01, -1.86109059e+00,\n",
       "         4.63696465e+01,  5.52105387e+00, -4.68873608e+00,\n",
       "         1.06960118e+01, -7.71844659e+00,  1.64538629e+01,\n",
       "         1.66159395e+01, -1.38400515e+01,  2.57299232e+01,\n",
       "        -1.88980056e+01, -1.16395494e+01,  1.45984679e+00,\n",
       "         3.66893775e+01, -6.53330662e-01,  5.47623693e+00,\n",
       "         3.14640359e+01, -5.59049976e+00, -1.91445426e+01,\n",
       "        -1.35116877e+01,  6.79539816e+00, -1.33237281e+01,\n",
       "         3.93582701e+01, -1.23748042e+00, -6.65327969e+00,\n",
       "         5.42661768e+01,  1.51081472e+01,  8.27443906e+01,\n",
       "        -1.45035215e+00, -1.25677063e+01,  5.34091087e+01,\n",
       "        -5.50210215e+00]])"
      ]
     },
     "execution_count": 297,
     "metadata": {},
     "output_type": "execute_result"
    }
   ],
   "source": [
    "theta_final, cost_history = gradient_descent(X,y,theta, learning_rate=0.01, n_iterations=10)\n",
    "theta_final\n"
   ]
  },
  {
   "cell_type": "code",
   "execution_count": null,
   "metadata": {},
   "outputs": [],
   "source": [
    "prediction = model(X, theta_final)\n",
    "plt.scatter(x,y)\n",
    "plt.plot(x, prediction, c='r')"
   ]
  }
 ],
 "metadata": {
  "kernelspec": {
   "display_name": ".venv",
   "language": "python",
   "name": "python3"
  },
  "language_info": {
   "codemirror_mode": {
    "name": "ipython",
    "version": 3
   },
   "file_extension": ".py",
   "mimetype": "text/x-python",
   "name": "python",
   "nbconvert_exporter": "python",
   "pygments_lexer": "ipython3",
   "version": "3.10.7"
  },
  "orig_nbformat": 4
 },
 "nbformat": 4,
 "nbformat_minor": 2
}
