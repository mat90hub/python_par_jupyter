{
 "cells": [
  {
   "attachments": {},
   "cell_type": "markdown",
   "metadata": {},
   "source": [
    "# Reconnaissance de caractères avec [Nengo](https://www.nengo.ai/nengo-dl/index.html)\n",
    "\n",
    "\n",
    "Cette page est tiré d'un [tutoriel de Nengo](https://www.nengo.ai/nengo-dl/examples/spiking-mnist.html) qui montre comment reconnaître des caractères écrits avec l'extension [Nengo](https://www.nengo.ai/nengo-dl/index.html)."
   ]
  },
  {
   "attachments": {},
   "cell_type": "markdown",
   "metadata": {},
   "source": [
    "Ce tutoriel utilise aussi l'extension [Tensorflow](https://www.tensorflow.org/?hl=fr), développée par [Google Brain Team](https://research.google.com/teams/brain/?hl=he) pour le *deep learnin* et le *machine learning*. On trouve des tutoriels [ici](https://pythonguides.com/tensorflow/). \n",
    "\n",
    "Dans ce module, on utilise les [fichiers de données](https://keras.io/api/datasets/) d'entraînement du sous-module [Kera](https://keras.io/about/), plus exactement des images de  [chiffres manuscrits](https://keras.io/api/datasets/mnist/) traduites sous formes de matrices de points utilisables directement sous Python. Ceci nous économise la phase d'acquisition et de traitement d'image, qu'il faudrait faire sinon avec par exemple l'extension [Scikit-image](https://scikit-image.org/docs/stable/user_guide/numpy_images.html)."
   ]
  },
  {
   "cell_type": "code",
   "execution_count": 65,
   "metadata": {},
   "outputs": [],
   "source": [
    "%matplotlib inline\n",
    "\n",
    "import nengo\n",
    "import tensorflow as tf\n",
    "import numpy as np\n",
    "import matplotlib.pyplot as plt\n",
    "import nengo_dl\n",
    "\n",
    "(train_images, train_labels), (\n",
    "    test_images,\n",
    "    test_labels,\n",
    ") = tf.keras.datasets.mnist.load_data()\n"
   ]
  },
  {
   "attachments": {},
   "cell_type": "markdown",
   "metadata": {},
   "source": [
    "L'extension [matplotlib.pyplot](https://matplotlib.org/stable/tutorials/introductory/quick_start.html) propose la commande [imshow](https://matplotlib.org/stable/api/_as_gen/matplotlib.pyplot.imshow.html) qui permet d'afficher des matrices de points, représentant donc ici l'image d'un chiffre manuscrit. Ci-dessous, l'une des images de la liste de matrices `train_images` est affichée en précisant son étiquette (elles sont stockées dans la liste `train_labels`) et sa taille en nombre de points avec la méthode [shape](https://www.digitalocean.com/community/tutorials/python-shape-method)."
   ]
  },
  {
   "cell_type": "code",
   "execution_count": 66,
   "metadata": {},
   "outputs": [
    {
     "name": "stdout",
     "output_type": "stream",
     "text": [
      "La taille de l'image est : (28, 28)\n"
     ]
    },
    {
     "data": {
      "image/png": "[encoded data removed]",
      "text/plain": [
       "<Figure size 200x200 with 1 Axes>"
      ]
     },
     "metadata": {},
     "output_type": "display_data"
    }
   ],
   "source": [
    "num = 5    # changer ce chiffre pour une autre image\n",
    "plt.figure(figsize=(2,2))\n",
    "plt.imshow(train_images[num], cmap =\"gray\")\n",
    "plt.title(str(train_labels[num]))\n",
    "plt.axis(\"off\")\n",
    "print(f'La taille de l\\'image est : {test_images[num].shape}')"
   ]
  },
  {
   "attachments": {},
   "cell_type": "markdown",
   "metadata": {},
   "source": [
    "Pour affichier plus d'images, il suffit de faire une boucle."
   ]
  },
  {
   "cell_type": "code",
   "execution_count": 67,
   "metadata": {},
   "outputs": [
    {
     "name": "stderr",
     "output_type": "stream",
     "text": [
      "/home/mathieu/Sync/informatique/programmation/python/python_par_jupyter/.venv/lib/python3.10/site-packages/nengo_dl/simulator.py:2066: RuntimeWarning: Simulator with model=Model: <Network (unlabeled) at 0x7fb4a930cf10>, dt=0.001000 was deallocated while open. Simulators should be closed manually to ensure resources are properly freed.\n",
      "  warnings.warn(\n"
     ]
    },
    {
     "data": {
      "image/png": "[encoded data removed]",
      "text/plain": [
       "<Figure size 1200x200 with 5 Axes>"
      ]
     },
     "metadata": {},
     "output_type": "display_data"
    }
   ],
   "source": [
    "# affichons les premiers chiffres\n",
    "plt.figure(figsize=(12,2))\n",
    "n = 5\n",
    "for i in range(n):\n",
    "    plt.subplot(1,n,i+1)\n",
    "    plt.imshow(train_images[i], cmap=\"gray\")\n",
    "    plt.axis(\"off\")\n",
    "    plt.title(str(train_labels[i]))"
   ]
  },
  {
   "attachments": {},
   "cell_type": "markdown",
   "metadata": {},
   "source": [
    "Pour la suite de l'exercice, ces images sont [applaties](https://www.w3schools.com/python/numpy/numpy_array_reshape.asp). Elles pourront toujours être réaffichées en changeant la forme avant l'affichage avec [numpy.reshape](https://numpy.org/doc/stable/reference/generated/numpy.reshape.html)."
   ]
  },
  {
   "cell_type": "code",
   "execution_count": 68,
   "metadata": {},
   "outputs": [
    {
     "data": {
      "image/png": "[encoded data removed]",
      "text/plain": [
       "<Figure size 1200x200 with 5 Axes>"
      ]
     },
     "metadata": {},
     "output_type": "display_data"
    }
   ],
   "source": [
    "\n",
    "# on applatit les images\n",
    "train_images = train_images.reshape((train_images.shape[0],-1))\n",
    "test_images = test_images.reshape((test_images.shape[0],-1))\n",
    "\n",
    "# malgré tout, on peut toujours afficher ces images\n",
    "plt.figure(figsize=(12,2))\n",
    "n = 5\n",
    "for i in range(n):\n",
    "    plt.subplot(1,n,i+1)\n",
    "    # pour afficher les images applaties, on les \"re-forme\"\n",
    "    plt.imshow(np.reshape(train_images[i],(28,28)), cmap=\"gray\")\n",
    "    plt.axis(\"off\")\n",
    "    plt.title(str(train_labels[i]))\n"
   ]
  },
  {
   "attachments": {},
   "cell_type": "markdown",
   "metadata": {},
   "source": [
    "Dans la phase suivante, on définit le réseau neuronal à utiliser avec Nengo."
   ]
  },
  {
   "cell_type": "code",
   "execution_count": 69,
   "metadata": {},
   "outputs": [],
   "source": [
    "with nengo.Network(seed=0) as net:\n",
    "    # set some default parameters for the neurons that will make\n",
    "    # the training progress more smoothly\n",
    "    net.config[nengo.Ensemble].max_rates = nengo.dists.Choice([100])\n",
    "    net.config[nengo.Ensemble].intercepts = nengo.dists.Choice([0])\n",
    "    net.config[nengo.Connection].synapse = None\n",
    "    neuron_type = nengo.LIF(amplitude=0.01)\n",
    "\n",
    "    # this is an optimization to improve the training speed,\n",
    "    # since we won't require stateful behaviour in this example\n",
    "    nengo_dl.configure_settings(stateful=False)\n",
    "\n",
    "    # the input node that will be used to feed in input images\n",
    "    inp = nengo.Node(np.zeros(28 * 28))\n",
    "\n",
    "    # add the first convolutional layer\n",
    "    x = nengo_dl.Layer(tf.keras.layers.Conv2D(filters=32, kernel_size=3))(\n",
    "        inp, shape_in=(28, 28, 1)\n",
    "    )\n",
    "    x = nengo_dl.Layer(neuron_type)(x)\n",
    "\n",
    "    # add the second convolutional layer\n",
    "    x = nengo_dl.Layer(tf.keras.layers.Conv2D(filters=64, strides=2, kernel_size=3))(\n",
    "        x, shape_in=(26, 26, 32)\n",
    "    )\n",
    "    x = nengo_dl.Layer(neuron_type)(x)\n",
    "\n",
    "    # add the third convolutional layer\n",
    "    x = nengo_dl.Layer(tf.keras.layers.Conv2D(filters=128, strides=2, kernel_size=3))(\n",
    "        x, shape_in=(12, 12, 64)\n",
    "    )\n",
    "    x = nengo_dl.Layer(neuron_type)(x)\n",
    "\n",
    "    # linear readout\n",
    "    out = nengo_dl.Layer(tf.keras.layers.Dense(units=10))(x)\n",
    "\n",
    "    # we'll create two different output probes, one with a filter\n",
    "    # (for when we're simulating the network over time and\n",
    "    # accumulating spikes), and one without (for when we're\n",
    "    # training the network using a rate-based approximation)\n",
    "    out_p = nengo.Probe(out, label=\"out_p\")\n",
    "    out_p_filt = nengo.Probe(out, synapse=0.1, label=\"out_p_filt\")\n"
   ]
  },
  {
   "attachments": {},
   "cell_type": "markdown",
   "metadata": {},
   "source": [
    "Nous construisons maintenant un premier simulateur pour ce réseau en utilisant [NegoDl](https://www.nengo.ai/nengo-dl/user-guide.html) qui utilise [Nengo](https://www.nengo.ai/nengo/user-guide.html) et [Keras](https://www.tensorflow.org/guide/keras/train_and_evaluate?hl=fr), lui même venant de l'extension [TensoFlow](https://www.tensorflow.org/?hl=fr)."
   ]
  },
  {
   "cell_type": "code",
   "execution_count": 74,
   "metadata": {},
   "outputs": [
    {
     "name": "stdout",
     "output_type": "stream",
     "text": [
      "|                     Building network (0%)                    | ETA:  --:--:--\n",
      "|###                   Building network (5%)                     | ETA: 0:00:01\n",
      "Build finished in 0:00:00\n",
      "|#                         Optimizing graph                           | 0:00:00\n",
      "|#             Optimizing graph: operator simplificaton               | 0:00:00\n",
      "Optimizing graph: operator simplificaton finished in 0:00:00\n",
      "|#                Optimizing graph: merging operators                 | 0:00:00\n",
      "Optimizing graph: merging operators finished in 0:00:00\n",
      "|#                Optimizing graph: ordering signals                  | 0:00:00\n",
      "Optimizing graph: ordering signals finished in 0:00:00\n",
      "|#                Optimizing graph: creating signals                  | 0:00:00\n",
      "Optimizing graph: creating signals finished in 0:00:00\n",
      "Optimization finished in 0:00:00\n",
      "|#                        Constructing graph                          | 0:00:00\n",
      "| #                       Constructing graph                          | 0:00:00\n",
      "|           Constructing graph: pre-build stage (0%)           | ETA:  --:--:--\n",
      "Constructing graph: pre-build stage finished in 0:00:00\n",
      "|             Constructing graph: build stage (0%)             | ETA:  --:--:--\n",
      "|##############Constructing graph: build stage (26%)             | ETA: 0:00:00\n",
      "|##############Constructing graph: build stage (89%)######       | ETA: 0:00:00\n",
      "|  #                      Constructing graph                          | 0:00:00\n",
      "Constructing graph: build stage finished in 0:00:00\n",
      "Construction finished in 0:00:00\n"
     ]
    }
   ],
   "source": [
    "minibatch_size = 200\n",
    "sim = nengo_dl.Simulator(net, minibatch_size=minibatch_size)"
   ]
  },
  {
   "attachments": {},
   "cell_type": "markdown",
   "metadata": {},
   "source": [
    "Maintenant nous entrons nos données de test et d'apprentissage."
   ]
  },
  {
   "cell_type": "code",
   "execution_count": 75,
   "metadata": {},
   "outputs": [],
   "source": [
    "# add single timestep to training data\n",
    "train_images = train_images[:, None, :]\n",
    "train_labels = train_labels[:, None, None]\n",
    "\n",
    "# when testing our network with spiking neurons we will need to run it\n",
    "# over time, so we repeat the input/target data for a number of\n",
    "# timesteps.\n",
    "n_steps = 30\n",
    "test_images = np.tile(test_images[:, None, :], (1, n_steps, 1))\n",
    "test_labels = np.tile(test_labels[:, None, None], (1, n_steps, 1))\n"
   ]
  },
  {
   "attachments": {},
   "cell_type": "markdown",
   "metadata": {},
   "source": [
    "Pour mesure la performance de notre reconnaissance, nous utilisons une fonction développée ici."
   ]
  },
  {
   "cell_type": "code",
   "execution_count": 78,
   "metadata": {},
   "outputs": [],
   "source": [
    "def classification_accuracy(y_true, y_pred):\n",
    "    return tf.metrics.sparse_categorical_accuracy(y_true[:, -1], y_pred[:, -1])"
   ]
  },
  {
   "attachments": {},
   "cell_type": "markdown",
   "metadata": {},
   "source": [
    "On fait un premier calcul de la qualité de la reconnaissance avant l'entraînement."
   ]
  },
  {
   "cell_type": "code",
   "execution_count": 73,
   "metadata": {},
   "outputs": [
    {
     "name": "stdout",
     "output_type": "stream",
     "text": [
      "|           Constructing graph: pre-build stage (0%)           | ETA:  --:--:--\n",
      "Constructing graph: pre-build stage finished in 0:00:00\n",
      "|             Constructing graph: build stage (0%)             | ETA:  --:--:--\n",
      "|############# Constructing graph: build stage (21%)             | ETA: 0:00:00\n",
      "|##############Constructing graph: build stage (63%)             | ETA: 0:00:00\n",
      "|############Constructing graph: build stage (100%)############| ETA:  00:00:00\n",
      "Constructing graph: build stage finished in 0:00:00\n",
      "|           Constructing graph: pre-build stage (0%)           | ETA:  --:--:--\n",
      "Constructing graph: pre-build stage finished in 0:00:00\n",
      "|             Constructing graph: build stage (0%)             | ETA:  --:--:--\n",
      "|##########    Constructing graph: build stage (15%)             | ETA: 0:00:00\n",
      "|##############Constructing graph: build stage (47%)             | ETA: 0:00:00\n",
      "|############Constructing graph: build stage (100%)############| ETA:  00:00:00\n",
      "Constructing graph: build stage finished in 0:00:00\n",
      "Accuracy before training: 0.11479999870061874\n"
     ]
    }
   ],
   "source": [
    "# note that we use `out_p_filt` when testing (to reduce the spike noise)\n",
    "sim.compile(loss={out_p_filt: classification_accuracy})\n",
    "print(\n",
    "    \"Accuracy before training:\",\n",
    "    sim.evaluate(test_images, {out_p_filt: test_labels}, verbose=0)[\"loss\"],\n",
    ")"
   ]
  },
  {
   "attachments": {},
   "cell_type": "markdown",
   "metadata": {},
   "source": [
    "Maintenant, nous sommes prêt à entrainer notre réseau. Pour que l'exemple reste assez rapide, nous téléchargeons des poids qui auront été précalculés. Pour ce téléchargement, nous utilisaons l'extension [urllib](https://docs.python.org/3/library/urllib.html) qui regroupe des commandes pour manipuler les [url](https://developer.mozilla.org/fr/docs/Learn/Common_questions/Web_mechanics/What_is_a_URL). Dans cette extension le module [urllib.request](https://docs.python.org/3/library/urllib.request.html#module-urllib.request) définit une classe qui aide l'ouverture des URL.\n",
    "\n",
    "On peut aussi s'en passer et refaire les calculs depuis zéro en entrant `do_training=True`."
   ]
  },
  {
   "cell_type": "code",
   "execution_count": 76,
   "metadata": {},
   "outputs": [],
   "source": [
    "from urllib.request import urlretrieve\n",
    "\n",
    "do_training = False\n",
    "if do_training:\n",
    "    # run training\n",
    "    sim.compile(\n",
    "        optimizer=tf.optimizers.RMSprop(0.001),\n",
    "        loss={out_p: tf.losses.SparseCategoricalCrossentropy(from_logits=True)},\n",
    "    )\n",
    "    sim.fit(train_images, {out_p: train_labels}, epochs=10)\n",
    "\n",
    "    # save the parameters to file\n",
    "    sim.save_params(\"./mnist_params\")\n",
    "else:\n",
    "    # download pretrained weights\n",
    "    urlretrieve(\n",
    "        \"https://drive.google.com/uc?export=download&\"\n",
    "        \"id=1l5aivQljFoXzPP5JVccdFXbOYRv3BCJR\",\n",
    "        \"mnist_params.npz\",\n",
    "    )\n",
    "\n",
    "    # load parameters\n",
    "    sim.load_params(\"./mnist_params\")"
   ]
  },
  {
   "attachments": {},
   "cell_type": "markdown",
   "metadata": {},
   "source": [
    "Et maintenant nous pouvons vérifier la précision de notre classification avec ces paramètres qui ont été entrainés."
   ]
  },
  {
   "cell_type": "code",
   "execution_count": 77,
   "metadata": {},
   "outputs": [
    {
     "ename": "ValidationError",
     "evalue": "node data: should have rank 3 (batch_size, n_steps, dimensions), found rank 4",
     "output_type": "error",
     "traceback": [
      "\u001b[0;31m---------------------------------------------------------------------------\u001b[0m",
      "\u001b[0;31mValidationError\u001b[0m                           Traceback (most recent call last)",
      "Cell \u001b[0;32mIn[77], line 4\u001b[0m\n\u001b[1;32m      1\u001b[0m sim\u001b[39m.\u001b[39mcompile(loss\u001b[39m=\u001b[39m{out_p_filt: classification_accuracy})\n\u001b[1;32m      2\u001b[0m \u001b[39mprint\u001b[39m(\n\u001b[1;32m      3\u001b[0m     \u001b[39m\"\u001b[39m\u001b[39mAccuracy after training:\u001b[39m\u001b[39m\"\u001b[39m,\n\u001b[0;32m----> 4\u001b[0m     sim\u001b[39m.\u001b[39;49mevaluate(test_images, {out_p_filt: test_labels}, verbose\u001b[39m=\u001b[39;49m\u001b[39m0\u001b[39;49m)[\u001b[39m\"\u001b[39m\u001b[39mloss\u001b[39m\u001b[39m\"\u001b[39m],\n\u001b[1;32m      5\u001b[0m )\n",
      "File \u001b[0;32m~/Sync/informatique/programmation/python/python_par_jupyter/.venv/lib/python3.10/site-packages/nengo/utils/magic.py:179\u001b[0m, in \u001b[0;36mBoundFunctionWrapper.__call__\u001b[0;34m(self, *args, **kwargs)\u001b[0m\n\u001b[1;32m    177\u001b[0m         \u001b[39mreturn\u001b[39;00m \u001b[39mself\u001b[39m\u001b[39m.\u001b[39mwrapper(wrapped, instance, args, kwargs)\n\u001b[1;32m    178\u001b[0m     \u001b[39melse\u001b[39;00m:\n\u001b[0;32m--> 179\u001b[0m         \u001b[39mreturn\u001b[39;00m \u001b[39mself\u001b[39;49m\u001b[39m.\u001b[39;49mwrapper(\u001b[39mself\u001b[39;49m\u001b[39m.\u001b[39;49m__wrapped__, \u001b[39mself\u001b[39;49m\u001b[39m.\u001b[39;49minstance, args, kwargs)\n\u001b[1;32m    180\u001b[0m \u001b[39melse\u001b[39;00m:\n\u001b[1;32m    181\u001b[0m     instance \u001b[39m=\u001b[39m \u001b[39mgetattr\u001b[39m(\u001b[39mself\u001b[39m\u001b[39m.\u001b[39m__wrapped__, \u001b[39m\"\u001b[39m\u001b[39m__self__\u001b[39m\u001b[39m\"\u001b[39m, \u001b[39mNone\u001b[39;00m)\n",
      "File \u001b[0;32m~/Sync/informatique/programmation/python/python_par_jupyter/.venv/lib/python3.10/site-packages/nengo_dl/simulator.py:63\u001b[0m, in \u001b[0;36mrequire_open\u001b[0;34m(wrapped, instance, args, kwargs)\u001b[0m\n\u001b[1;32m     58\u001b[0m \u001b[39mif\u001b[39;00m instance\u001b[39m.\u001b[39mclosed:\n\u001b[1;32m     59\u001b[0m     \u001b[39mraise\u001b[39;00m SimulatorClosed(\n\u001b[1;32m     60\u001b[0m         \u001b[39mf\u001b[39m\u001b[39m\"\u001b[39m\u001b[39mCannot call \u001b[39m\u001b[39m{\u001b[39;00mwrapped\u001b[39m.\u001b[39m\u001b[39m__name__\u001b[39m\u001b[39m}\u001b[39;00m\u001b[39m after simulator is closed\u001b[39m\u001b[39m\"\u001b[39m\n\u001b[1;32m     61\u001b[0m     )\n\u001b[0;32m---> 63\u001b[0m \u001b[39mreturn\u001b[39;00m wrapped(\u001b[39m*\u001b[39;49margs, \u001b[39m*\u001b[39;49m\u001b[39m*\u001b[39;49mkwargs)\n",
      "File \u001b[0;32m~/Sync/informatique/programmation/python/python_par_jupyter/.venv/lib/python3.10/site-packages/nengo_dl/simulator.py:895\u001b[0m, in \u001b[0;36mSimulator.evaluate\u001b[0;34m(self, x, y, n_steps, stateful, **kwargs)\u001b[0m\n\u001b[1;32m    862\u001b[0m \u001b[39m@require_open\u001b[39m\n\u001b[1;32m    863\u001b[0m \u001b[39m@fill_docs\u001b[39m(\u001b[39m\"\u001b[39m\u001b[39mx\u001b[39m\u001b[39m\"\u001b[39m, \u001b[39m\"\u001b[39m\u001b[39my\u001b[39m\u001b[39m\"\u001b[39m, \u001b[39m\"\u001b[39m\u001b[39mn_steps\u001b[39m\u001b[39m\"\u001b[39m, \u001b[39m\"\u001b[39m\u001b[39mstateful\u001b[39m\u001b[39m\"\u001b[39m)\n\u001b[1;32m    864\u001b[0m \u001b[39mdef\u001b[39;00m \u001b[39mevaluate\u001b[39m(\u001b[39mself\u001b[39m, x\u001b[39m=\u001b[39m\u001b[39mNone\u001b[39;00m, y\u001b[39m=\u001b[39m\u001b[39mNone\u001b[39;00m, n_steps\u001b[39m=\u001b[39m\u001b[39mNone\u001b[39;00m, stateful\u001b[39m=\u001b[39m\u001b[39mFalse\u001b[39;00m, \u001b[39m*\u001b[39m\u001b[39m*\u001b[39mkwargs):\n\u001b[1;32m    865\u001b[0m \u001b[39m    \u001b[39m\u001b[39m\"\"\"\u001b[39;00m\n\u001b[1;32m    866\u001b[0m \u001b[39m    Compute the loss and metric values for the network.\u001b[39;00m\n\u001b[1;32m    867\u001b[0m \n\u001b[0;32m   (...)\u001b[0m\n\u001b[1;32m    892\u001b[0m \u001b[39m        ``outputs[\"probe_name_loss\"]`` or ``outputs[\"probe_name_metric_name\"]``.\u001b[39;00m\n\u001b[1;32m    893\u001b[0m \u001b[39m    \"\"\"\u001b[39;00m\n\u001b[0;32m--> 895\u001b[0m     \u001b[39mreturn\u001b[39;00m \u001b[39mself\u001b[39;49m\u001b[39m.\u001b[39;49m_call_keras(\n\u001b[1;32m    896\u001b[0m         \u001b[39m\"\u001b[39;49m\u001b[39mevaluate\u001b[39;49m\u001b[39m\"\u001b[39;49m, x\u001b[39m=\u001b[39;49mx, y\u001b[39m=\u001b[39;49my, n_steps\u001b[39m=\u001b[39;49mn_steps, stateful\u001b[39m=\u001b[39;49mstateful, \u001b[39m*\u001b[39;49m\u001b[39m*\u001b[39;49mkwargs\n\u001b[1;32m    897\u001b[0m     )\n",
      "File \u001b[0;32m~/Sync/informatique/programmation/python/python_par_jupyter/.venv/lib/python3.10/site-packages/nengo/utils/magic.py:179\u001b[0m, in \u001b[0;36mBoundFunctionWrapper.__call__\u001b[0;34m(self, *args, **kwargs)\u001b[0m\n\u001b[1;32m    177\u001b[0m         \u001b[39mreturn\u001b[39;00m \u001b[39mself\u001b[39m\u001b[39m.\u001b[39mwrapper(wrapped, instance, args, kwargs)\n\u001b[1;32m    178\u001b[0m     \u001b[39melse\u001b[39;00m:\n\u001b[0;32m--> 179\u001b[0m         \u001b[39mreturn\u001b[39;00m \u001b[39mself\u001b[39;49m\u001b[39m.\u001b[39;49mwrapper(\u001b[39mself\u001b[39;49m\u001b[39m.\u001b[39;49m__wrapped__, \u001b[39mself\u001b[39;49m\u001b[39m.\u001b[39;49minstance, args, kwargs)\n\u001b[1;32m    180\u001b[0m \u001b[39melse\u001b[39;00m:\n\u001b[1;32m    181\u001b[0m     instance \u001b[39m=\u001b[39m \u001b[39mgetattr\u001b[39m(\u001b[39mself\u001b[39m\u001b[39m.\u001b[39m__wrapped__, \u001b[39m\"\u001b[39m\u001b[39m__self__\u001b[39m\u001b[39m\"\u001b[39m, \u001b[39mNone\u001b[39;00m)\n",
      "File \u001b[0;32m~/Sync/informatique/programmation/python/python_par_jupyter/.venv/lib/python3.10/site-packages/nengo_dl/simulator.py:46\u001b[0m, in \u001b[0;36mwith_self\u001b[0;34m(wrapped, instance, args, kwargs)\u001b[0m\n\u001b[1;32m     44\u001b[0m \u001b[39mtry\u001b[39;00m:\n\u001b[1;32m     45\u001b[0m     \u001b[39mwith\u001b[39;00m tf\u001b[39m.\u001b[39mdevice(instance\u001b[39m.\u001b[39mtensor_graph\u001b[39m.\u001b[39mdevice):\n\u001b[0;32m---> 46\u001b[0m         output \u001b[39m=\u001b[39m wrapped(\u001b[39m*\u001b[39;49margs, \u001b[39m*\u001b[39;49m\u001b[39m*\u001b[39;49mkwargs)\n\u001b[1;32m     47\u001b[0m \u001b[39mfinally\u001b[39;00m:\n\u001b[1;32m     48\u001b[0m     tf\u001b[39m.\u001b[39mkeras\u001b[39m.\u001b[39mbackend\u001b[39m.\u001b[39mset_floatx(keras_dtype)\n",
      "File \u001b[0;32m~/Sync/informatique/programmation/python/python_par_jupyter/.venv/lib/python3.10/site-packages/nengo_dl/simulator.py:953\u001b[0m, in \u001b[0;36mSimulator._call_keras\u001b[0;34m(self, func_type, x, y, n_steps, stateful, **kwargs)\u001b[0m\n\u001b[1;32m    949\u001b[0m \u001b[39m# TODO: apply standardize/generate/check data to generator somehow\u001b[39;00m\n\u001b[1;32m    950\u001b[0m \u001b[39m# maybe move it into a callback where the generated data is available?\u001b[39;00m\n\u001b[1;32m    952\u001b[0m x \u001b[39m=\u001b[39m \u001b[39mself\u001b[39m\u001b[39m.\u001b[39m_generate_inputs(x, n_steps\u001b[39m=\u001b[39mn_steps)\n\u001b[0;32m--> 953\u001b[0m \u001b[39mself\u001b[39;49m\u001b[39m.\u001b[39;49m_check_data(\n\u001b[1;32m    954\u001b[0m     x,\n\u001b[1;32m    955\u001b[0m     n_steps\u001b[39m=\u001b[39;49mn_steps,\n\u001b[1;32m    956\u001b[0m     batch_size\u001b[39m=\u001b[39;49m\u001b[39mself\u001b[39;49m\u001b[39m.\u001b[39;49mminibatch_size \u001b[39mif\u001b[39;49;00m \u001b[39m\"\u001b[39;49m\u001b[39mon_batch\u001b[39;49m\u001b[39m\"\u001b[39;49m \u001b[39min\u001b[39;49;00m func_type \u001b[39melse\u001b[39;49;00m \u001b[39mNone\u001b[39;49;00m,\n\u001b[1;32m    957\u001b[0m )\n\u001b[1;32m    959\u001b[0m \u001b[39mif\u001b[39;00m \u001b[39misinstance\u001b[39m(x, \u001b[39mdict\u001b[39m):\n\u001b[1;32m    960\u001b[0m     input_steps \u001b[39m=\u001b[39m x[\u001b[39m\"\u001b[39m\u001b[39mn_steps\u001b[39m\u001b[39m\"\u001b[39m][\u001b[39m0\u001b[39m, \u001b[39m0\u001b[39m]\n",
      "File \u001b[0;32m~/Sync/informatique/programmation/python/python_par_jupyter/.venv/lib/python3.10/site-packages/nengo_dl/simulator.py:1929\u001b[0m, in \u001b[0;36mSimulator._check_data\u001b[0;34m(self, data, batch_size, n_steps, nodes)\u001b[0m\n\u001b[1;32m   1927\u001b[0m \u001b[39m# generic shape checks\u001b[39;00m\n\u001b[1;32m   1928\u001b[0m \u001b[39mif\u001b[39;00m \u001b[39mlen\u001b[39m(x\u001b[39m.\u001b[39mshape) \u001b[39m!=\u001b[39m \u001b[39m3\u001b[39m:\n\u001b[0;32m-> 1929\u001b[0m     \u001b[39mraise\u001b[39;00m ValidationError(\n\u001b[1;32m   1930\u001b[0m         \u001b[39mf\u001b[39m\u001b[39m\"\u001b[39m\u001b[39mshould have rank 3 (batch_size, n_steps, dimensions), found rank \u001b[39m\u001b[39m\"\u001b[39m\n\u001b[1;32m   1931\u001b[0m         \u001b[39mf\u001b[39m\u001b[39m\"\u001b[39m\u001b[39m{\u001b[39;00m\u001b[39mlen\u001b[39m(x\u001b[39m.\u001b[39mshape)\u001b[39m}\u001b[39;00m\u001b[39m\"\u001b[39m,\n\u001b[1;32m   1932\u001b[0m         \u001b[39mf\u001b[39m\u001b[39m\"\u001b[39m\u001b[39m{\u001b[39;00mname\u001b[39m}\u001b[39;00m\u001b[39m data\u001b[39m\u001b[39m\"\u001b[39m,\n\u001b[1;32m   1933\u001b[0m     )\n\u001b[1;32m   1934\u001b[0m \u001b[39mif\u001b[39;00m x\u001b[39m.\u001b[39mshape[\u001b[39m0\u001b[39m] \u001b[39m<\u001b[39m \u001b[39mself\u001b[39m\u001b[39m.\u001b[39mminibatch_size:\n\u001b[1;32m   1935\u001b[0m     \u001b[39mraise\u001b[39;00m ValidationError(\n\u001b[1;32m   1936\u001b[0m         \u001b[39mf\u001b[39m\u001b[39m\"\u001b[39m\u001b[39mBatch size of data (\u001b[39m\u001b[39m{\u001b[39;00mx\u001b[39m.\u001b[39mshape[\u001b[39m0\u001b[39m]\u001b[39m}\u001b[39;00m\u001b[39m) less than Simulator \u001b[39m\u001b[39m\"\u001b[39m\n\u001b[1;32m   1937\u001b[0m         \u001b[39mf\u001b[39m\u001b[39m\"\u001b[39m\u001b[39m`minibatch_size` (\u001b[39m\u001b[39m{\u001b[39;00m\u001b[39mself\u001b[39m\u001b[39m.\u001b[39mminibatch_size\u001b[39m}\u001b[39;00m\u001b[39m)\u001b[39m\u001b[39m\"\u001b[39m,\n\u001b[1;32m   1938\u001b[0m         \u001b[39mf\u001b[39m\u001b[39m\"\u001b[39m\u001b[39m{\u001b[39;00mname\u001b[39m}\u001b[39;00m\u001b[39m data\u001b[39m\u001b[39m\"\u001b[39m,\n\u001b[1;32m   1939\u001b[0m     )\n",
      "\u001b[0;31mValidationError\u001b[0m: node data: should have rank 3 (batch_size, n_steps, dimensions), found rank 4"
     ]
    }
   ],
   "source": [
    "sim.compile(loss={out_p_filt: classification_accuracy})\n",
    "print(\n",
    "    \"Accuracy after training:\",\n",
    "    sim.evaluate(test_images, {out_p_filt: test_labels}, verbose=0)[\"loss\"],\n",
    ")\n"
   ]
  },
  {
   "cell_type": "code",
   "execution_count": null,
   "metadata": {},
   "outputs": [],
   "source": [
    "data = sim.predict(test_images[:minibatch_size])\n",
    "\n",
    "for i in range(5):\n",
    "    plt.figure(figsize=(8, 4))\n",
    "    plt.subplot(1, 2, 1)\n",
    "    plt.imshow(test_images[i, 0].reshape((28, 28)), cmap=\"gray\")\n",
    "    plt.axis(\"off\")\n",
    "\n",
    "    plt.subplot(1, 2, 2)\n",
    "    plt.plot(tf.nn.softmax(data[out_p_filt][i]))\n",
    "    plt.legend([str(i) for i in range(10)], loc=\"upper left\")\n",
    "    plt.xlabel(\"timesteps\")\n",
    "    plt.ylabel(\"probability\")\n",
    "    plt.tight_layout()\n"
   ]
  },
  {
   "attachments": {},
   "cell_type": "markdown",
   "metadata": {},
   "source": [
    "\n",
    "https://www.nengo.ai/nengo-dl/examples/spiking-mnist.html\n"
   ]
  }
 ],
 "metadata": {
  "kernelspec": {
   "display_name": ".venv",
   "language": "python",
   "name": "python3"
  },
  "language_info": {
   "codemirror_mode": {
    "name": "ipython",
    "version": 3
   },
   "file_extension": ".py",
   "mimetype": "text/x-python",
   "name": "python",
   "nbconvert_exporter": "python",
   "pygments_lexer": "ipython3",
   "version": "3.10.7"
  },
  "orig_nbformat": 4
 },
 "nbformat": 4,
 "nbformat_minor": 2
}
