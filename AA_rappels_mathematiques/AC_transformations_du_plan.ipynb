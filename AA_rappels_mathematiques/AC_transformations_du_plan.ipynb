{
 "cells": [
  {
   "cell_type": "markdown",
   "metadata": {},
   "source": [
    "# L'ensemble des transformations d'un espace vectoriel à deux dimensions.\n",
    "\n",
    "Ce cahier étudie l'ensemble des transformations d'un espace vectoriel à deux dimensions. Avec [Numpy](../02_std_ext/01_numpy.ipynb), nous allons montrer des opérations sur ces transformations du plan, qui seront ici considérés comme les objets à étudier.\n",
    "\n",
    "Les transformations peuvent être associées à des matrices $\\cal{M}$ qui se composeront ainsi avec les coordonnées des vecteurs.\n",
    "\n",
    "$\\forall V \\in E, \\quad V \\longmapsto V' = \\cal{M} \\cdot V$\n",
    "\n",
    "et cet multiplication d'une matrice par un vecteur s'écrit ainsi.\n",
    "\n",
    "$ \\left(\\begin{matrix}a_{1,1} & a_{1,2} \\\\ a_{2,1} & a_{2,2}\\end{matrix}\\right) \\cdot \\left(\\begin{matrix}x \\\\ y\\end{matrix}\\right) = \n",
    "\\left(\\begin{matrix} a_{1,1}x + a_{1,2} y \\\\ a_{2,1} x + a_{2,2} y\\end{matrix}\\right)$\n"
   ]
  },
  {
   "cell_type": "markdown",
   "metadata": {},
   "source": [
    "Présentons les différentes transformations qui existent dans cet espaces vectoriels."
   ]
  },
  {
   "cell_type": "markdown",
   "metadata": {},
   "source": [
    "## Les homothéties.\n",
    "\n",
    "Les homothéties sont les opérations telles que: $ \\exists\\; k \\in \\mathbb{R}, \\quad \\forall \\; \\vec{V} \\in E, \\; \\vec{V} \\longmapsto k.\\vec{V}$.\n",
    "\n",
    "La fome canonique de ces homothétie est une matrice de la forme \n",
    "\n",
    "$\\left[\\begin{matrix} k & 0 \\\\ 0 & k \\end{matrix}\\right]$\n"
   ]
  },
  {
   "cell_type": "markdown",
   "metadata": {},
   "source": [
    "avec $k=1$ on retrouve la matrice identité, qui est aussi l'élément neutre pour l'opération de composition des matrices (la multiplication)."
   ]
  },
  {
   "cell_type": "code",
   "execution_count": null,
   "metadata": {},
   "outputs": [],
   "source": [
    "import numpy as np\n",
    "from tabulate import tabulate"
   ]
  },
  {
   "cell_type": "code",
   "execution_count": 13,
   "metadata": {},
   "outputs": [
    {
     "name": "stdout",
     "output_type": "stream",
     "text": [
      "╭───┬───╮\n",
      "│ 1 │ 0 │\n",
      "├───┼───┤\n",
      "│ 0 │ 1 │\n",
      "╰───┴───╯\n"
     ]
    }
   ],
   "source": [
    "# ID = np.array([[1,0],[0,1]])\n",
    "ID = np.eye(2)\n",
    "print(tabulate(ID, tablefmt='rounded_grid'))"
   ]
  },
  {
   "cell_type": "markdown",
   "metadata": {},
   "source": [
    "On peut reconstruie le matrice d'une homothétie ainsi."
   ]
  },
  {
   "cell_type": "code",
   "execution_count": 14,
   "metadata": {},
   "outputs": [
    {
     "name": "stdout",
     "output_type": "stream",
     "text": [
      "╭───┬───╮\n",
      "│ 5 │ 0 │\n",
      "├───┼───┤\n",
      "│ 0 │ 5 │\n",
      "╰───┴───╯\n"
     ]
    }
   ],
   "source": [
    "k = 5\n",
    "HOM = k * ID\n",
    "print(tabulate(HOM, tablefmt='rounded_grid'))"
   ]
  },
  {
   "cell_type": "markdown",
   "metadata": {},
   "source": [
    "Une homothétie de coefficient $k=-1$ est une symétrie ponctuelle."
   ]
  },
  {
   "cell_type": "markdown",
   "metadata": {},
   "source": [
    "## Les affinités\n",
    "\n",
    "Les affinités sont des homothéties, mais sur un sur un seul axe."
   ]
  },
  {
   "cell_type": "code",
   "execution_count": 55,
   "metadata": {},
   "outputs": [
    {
     "name": "stdout",
     "output_type": "stream",
     "text": [
      "╭───┬───╮\n",
      "│ 5 │ 0 │\n",
      "├───┼───┤\n",
      "│ 0 │ 1 │\n",
      "╰───┴───╯\n"
     ]
    }
   ],
   "source": [
    "A15 = np.array([[5,0], [0,1]])\n",
    "print(tabulate(A15, tablefmt='rounded_grid'))"
   ]
  },
  {
   "cell_type": "markdown",
   "metadata": {},
   "source": [
    "## Les projections.\n",
    "\n",
    "Il existe deux projections simples, qui sont celle sur les deux axes de référence. Elle ont pour matrice les formes suivantes."
   ]
  },
  {
   "cell_type": "code",
   "execution_count": 26,
   "metadata": {},
   "outputs": [
    {
     "name": "stdout",
     "output_type": "stream",
     "text": [
      "╭───┬───╮\n",
      "│ 1 │ 0 │\n",
      "├───┼───┤\n",
      "│ 0 │ 0 │\n",
      "╰───┴───╯\n",
      "╭───┬───╮\n",
      "│ 0 │ 0 │\n",
      "├───┼───┤\n",
      "│ 0 │ 1 │\n",
      "╰───┴───╯\n"
     ]
    }
   ],
   "source": [
    "P10 = np.array([[1, 0], [0,0]])\n",
    "P01 = np.array([[0, 0], [0,1]])\n",
    "\n",
    "print(tabulate(PRO1, tablefmt=\"rounded_grid\"))\n",
    "print(tabulate(PRO2, tablefmt=\"rounded_grid\"))\n"
   ]
  },
  {
   "cell_type": "markdown",
   "metadata": {},
   "source": [
    "Nous verrons que les équations des projections ne sont pas toujours aussi simples."
   ]
  },
  {
   "cell_type": "markdown",
   "metadata": {},
   "source": [
    "## Les rotations.\n",
    "\n",
    "La forme canonique des matrices de rotations est de la forme.\n",
    "\n",
    "$\\left[\\begin{matrix}\\cos\\theta & -\\sin\\theta \\\\ \\sin\\theta & \\cos\\theta \\end{matrix}\\right]$\n",
    "\n",
    "Prenons des rotations et leur rotations inverses, qui sont leur symétriques dans l'ensemble des transformation du plan. Nous commençons par la rotation de 90° suivi de celle de -90°."
   ]
  },
  {
   "cell_type": "code",
   "execution_count": 40,
   "metadata": {},
   "outputs": [],
   "source": [
    "R90 = np.array([[0,-1],[1,0]])\n"
   ]
  },
  {
   "cell_type": "code",
   "execution_count": 50,
   "metadata": {},
   "outputs": [
    {
     "name": "stdout",
     "output_type": "stream",
     "text": [
      "╭────┬───╮\n",
      "│  0 │ 1 │\n",
      "├────┼───┤\n",
      "│ -1 │ 0 │\n",
      "╰────┴───╯\n"
     ]
    }
   ],
   "source": [
    "R90N = np.array([[0,1],[-1,0]])\n",
    "print(tabulate(R90N, tablefmt='rounded_grid'))"
   ]
  },
  {
   "cell_type": "markdown",
   "metadata": {},
   "source": [
    "L'identité peut être considérée comme une rotation d'angle 0. \n",
    "\n",
    "Sinon voici la matrice d'une rotation de 30°."
   ]
  },
  {
   "cell_type": "code",
   "execution_count": 24,
   "metadata": {},
   "outputs": [
    {
     "name": "stdout",
     "output_type": "stream",
     "text": [
      "╭──────────┬───────────╮\n",
      "│ 0.866025 │ -0.5      │\n",
      "├──────────┼───────────┤\n",
      "│ 0.5      │  0.866025 │\n",
      "╰──────────┴───────────╯\n"
     ]
    }
   ],
   "source": [
    "R30 = np.array([[np.sqrt(3)/2, -1/2],[1/2, np.sqrt(3)/2]])\n",
    "print(tabulate(R30, tablefmt='rounded_grid'))"
   ]
  },
  {
   "cell_type": "markdown",
   "metadata": {},
   "source": [
    "## Les symétries\n",
    "\n",
    "Nous avons vu qu'une symétrie ponctuelle peut être considérée comme une homothétie de coefficient $k=-1$. \n",
    "\n",
    "Sinon les syméries axiales sont de la forme.\n",
    "\n",
    "$\\left[\\begin{matrix} -1 & 0 \\\\ 0 & 1 \\end{matrix}\\right]$ et $\\left[\\begin{matrix} 1 & 0 \\\\ 0 & -1 \\end{matrix}\\right]$"
   ]
  },
  {
   "cell_type": "markdown",
   "metadata": {},
   "source": [
    "## Et pas de translation...\n",
    "\n",
    "Nous avons choisi les applications sur une espace vectoriel. La translation n'est pas une transformation dans un espace vectoriel, mais une égalité : deux vecteurs sont égaux si et seulement si on peut déduire l'un de l'autre par translation. \n",
    "\n",
    "Pour ques les translations soient des transformations, il faut choisir un espace affine. Nous n'explorons pas ce domaine ici."
   ]
  },
  {
   "cell_type": "markdown",
   "metadata": {},
   "source": [
    "# Les lois pour l'ensemble des applications.\n",
    "\n",
    "On définit l'addition et la multiplication de la manière suivante.\n",
    "\n",
    "$\\left[\\begin{matrix} a_{1,1} & a_{1,2} \\\\ a_{2,1} & a_{2,2} \\end{matrix}\\right] + \\left[\\begin{matrix} b_{1,1} & b_{1,2} \\\\ b_{2,1} & b_{2,2} \\end{matrix}\\right] = \n",
    "\\left[\\begin{matrix} a_{1,1} + b_{1,1} & a_{1,2} + b_{1,2} \\\\  a_{2,1} + b_{2,1} & a_{2,2} + b_{2,2}\\end{matrix}\\right]$\n",
    "\n",
    "$\\left[\\begin{matrix} a_{1,1} & a_{1,2} \\\\ a_{2,1} & a_{2,2} \\end{matrix}\\right] \\circ \\left[\\begin{matrix} b_{1,1} & b_{1,2} \\\\ b_{2,1} & b_{2,2} \\end{matrix}\\right] = \n",
    "\\left[\\begin{matrix} a_{1,1} b_{1,1} + a_{1,2} b_{2,1} & a_{1,1} b_{1,2} + a_{1,2} b_{2,2} \\\\  a_{2,1} b_{1,1} + a_{2,2} b_{2,1} & a_{2,1} b_{1,2} + a_{2,2} b_{2,2}\\end{matrix}\\right]$\n",
    "\n",
    "Le loi de multiplication est ici notée $\\circ$ et on l'appelle composition de matrices en référence à composition de fonctions."
   ]
  },
  {
   "cell_type": "markdown",
   "metadata": {},
   "source": [
    "L'ensemble des transformations du plan avec l'addition est un groupe commutatif. Avec le loi de composition, on obtient une structure d'anneau: la loi est bien Interne, Associative, a un neutre (l'identité) et distributive. Mais dans le cas général, il n'y a pas d'inverse. En particulier, il n'y a pas d'opération inverse pour les projections."
   ]
  },
  {
   "cell_type": "markdown",
   "metadata": {},
   "source": [
    "Par contre, les rotations ont leur inverses. Par exemple, Voici la de -30°."
   ]
  },
  {
   "cell_type": "code",
   "execution_count": 25,
   "metadata": {},
   "outputs": [
    {
     "name": "stdout",
     "output_type": "stream",
     "text": [
      "╭───────────┬──────────╮\n",
      "│  0.866025 │ 0.5      │\n",
      "├───────────┼──────────┤\n",
      "│ -0.5      │ 0.866025 │\n",
      "╰───────────┴──────────╯\n"
     ]
    }
   ],
   "source": [
    "R30N = np.array([[np.sqrt(3)/2, 1/2],[-1/2, np.sqrt(3)/2]])\n",
    "print(tabulate(R30N, tablefmt='rounded_grid'))"
   ]
  },
  {
   "cell_type": "markdown",
   "metadata": {},
   "source": [
    "On peut la composer avec la rotation de 30° vue précédemment (en Python la loi de composition se note `@` )."
   ]
  },
  {
   "cell_type": "code",
   "execution_count": 26,
   "metadata": {},
   "outputs": [
    {
     "name": "stdout",
     "output_type": "stream",
     "text": [
      "╭───┬───╮\n",
      "│ 1 │ 0 │\n",
      "├───┼───┤\n",
      "│ 0 │ 1 │\n",
      "╰───┴───╯\n"
     ]
    }
   ],
   "source": [
    "print(tabulate(R30 @ R30N, tablefmt='rounded_grid'))"
   ]
  },
  {
   "cell_type": "markdown",
   "metadata": {},
   "source": [
    "Les symétries sont leur propre symétrique."
   ]
  },
  {
   "cell_type": "code",
   "execution_count": 21,
   "metadata": {},
   "outputs": [
    {
     "name": "stdout",
     "output_type": "stream",
     "text": [
      "╭────┬───╮\n",
      "│ -1 │ 0 │\n",
      "├────┼───┤\n",
      "│  0 │ 1 │\n",
      "╰────┴───╯\n"
     ]
    }
   ],
   "source": [
    "S10 = np.array([[-1, 0],[0, 1]])\n",
    "print(tabulate(S10, tablefmt='rounded_grid'))"
   ]
  },
  {
   "cell_type": "markdown",
   "metadata": {},
   "source": [
    "Si on se limite au transformation bijectives, l'ensemble des transformations bijectives est un corps."
   ]
  },
  {
   "cell_type": "markdown",
   "metadata": {},
   "source": [
    "Dans la pratique, les matrices de transformations sont rarement aussi simples et propres que ce que nous avons montré, car elles sont le résultat de composition de plusieurs transformations, ce qui va masquer leur nature.\n",
    "\n",
    "Voici par exemple une project composée avec deux rotations."
   ]
  },
  {
   "cell_type": "code",
   "execution_count": 27,
   "metadata": {},
   "outputs": [
    {
     "name": "stdout",
     "output_type": "stream",
     "text": [
      "╭──────────┬───────────╮\n",
      "│ 0.75     │ -0.433013 │\n",
      "├──────────┼───────────┤\n",
      "│ 0.433013 │ -0.25     │\n",
      "╰──────────┴───────────╯\n"
     ]
    }
   ],
   "source": [
    "TR = R30 @ P10 @ R30\n",
    "print(tabulate( TR, tablefmt='rounded_grid'))"
   ]
  },
  {
   "cell_type": "markdown",
   "metadata": {},
   "source": [
    "L'extension [Numpy.linalg](https://numpy.org/doc/stable/reference/routines.linalg.html#)  propose une commande pour calculer le [déterminant](https://numpy.org/doc/stable/reference/generated/numpy.linalg.det.html) ou même directement [l'inverse](https://numpy.org/doc/stable/reference/generated/numpy.linalg.inv.html)"
   ]
  },
  {
   "cell_type": "code",
   "execution_count": 46,
   "metadata": {},
   "outputs": [
    {
     "name": "stdout",
     "output_type": "stream",
     "text": [
      "la matrice\n",
      "╭──────────┬───────────╮\n",
      "│ 0.75     │ -0.433013 │\n",
      "├──────────┼───────────┤\n",
      "│ 0.433013 │ -0.25     │\n",
      "╰──────────┴───────────╯\n",
      " n'est pas inversible\n"
     ]
    }
   ],
   "source": [
    "def Reverse(M):\n",
    "    if np.linalg.det(M) == 0:\n",
    "        print(f\"la matrice\\n{tabulate(M, tablefmt='rounded_grid')}\\n n'est pas inversible\")\n",
    "    else:\n",
    "        print(f\"la matrice\\n{tabulate(M, tablefmt='rounded_grid')}\\nest inversible et son inverse est\\n{tabulate(np.linalg.inv(M), tablefmt='rounded_grid')}\")\n",
    "\n",
    "Reverse(TR)"
   ]
  },
  {
   "cell_type": "markdown",
   "metadata": {},
   "source": [
    "En fait, les projections sont les seuls lois non inversibles. On démontre qu'une matrice n'est pas inversible si son déterminant est nul. On peut donc rapidements savoir avec Numpy si une matrice est inversible ou non."
   ]
  },
  {
   "cell_type": "markdown",
   "metadata": {},
   "source": [
    "Par contre, les autres compositions sont inversibles."
   ]
  },
  {
   "cell_type": "code",
   "execution_count": 58,
   "metadata": {},
   "outputs": [
    {
     "name": "stdout",
     "output_type": "stream",
     "text": [
      "la matrice\n",
      "╭─────────┬──────────╮\n",
      "│ 3.83013 │ -4.83013 │\n",
      "├─────────┼──────────┤\n",
      "│ 3.36603 │ -1.63397 │\n",
      "╰─────────┴──────────╯\n",
      "est inversible et son inverse est\n",
      "╭───────────┬──────────╮\n",
      "│ -0.163397 │ 0.483013 │\n",
      "├───────────┼──────────┤\n",
      "│ -0.336603 │ 0.383013 │\n",
      "╰───────────┴──────────╯\n"
     ]
    }
   ],
   "source": [
    "RH = np.array([[1, -1], [1, 1]])\n",
    "\n",
    "TR2 = R30 @ A15 @ RH45 \n",
    "\n",
    "Reverse(TR2)"
   ]
  },
  {
   "cell_type": "markdown",
   "metadata": {},
   "source": [
    "# L'espace vectoriel des transformations\n",
    "\n",
    "Ces transformations peuvent aussi être structurée en espace vectoriel avec la définition de l'opération externe que nous avons déjà vu avec les homothéties. Avec cette opération externe, les transformations peuvent être considérées elles même comme un espace vectoriel.\n",
    "\n",
    "Pour trouver le dimension de cet espace, il suffit de trouver une famille libre et génératrice. La famille la plus évidente est celle ci:\n",
    "\n",
    "$\\left(\\begin{matrix} 1 & 0 \\\\ 0 & 0\\end{matrix}\\right) \\quad , \\quad \\left(\\begin{matrix} 0 & 1 \\\\ 0 & 0\\end{matrix}\\right) \\quad, \\quad\n",
    "\\left(\\begin{matrix} 0 & 0 \\\\ 1 & 0\\end{matrix}\\right) \\quad , \\quad \\left(\\begin{matrix} 0 & 0 \\\\ 0 & 1\\end{matrix}\\right)$\n",
    "\n",
    "Il est clair que cette famille est génératrice et on voit aussi qu'elle est libre car il n'y a pas de combinaison linéaire de réels non nul qui puisse s'annuler avec cette famille.\n",
    "\n",
    "La dimension de cet espace vectoriel est donc quatre et on voit donc qu'on pourrait imaginer un automorphisme entre cet espace et celui des vecteurs dans un espace de  dimension 4 en définissant correctement l'addition et la multiplication."
   ]
  },
  {
   "cell_type": "markdown",
   "metadata": {},
   "source": [
    "## Application aux calculs.\n",
    "\n",
    "Imaginons que nous ayons développé une équation sur des fonctions scalaire de la façon suivante.\n",
    "\n",
    "$ \\lambda a(t) + \\mu b(t) = 0 $\n",
    "\n",
    "Cette équation peut se généraliser avec des vecteurs ou même des matrices.\n",
    "\n",
    "$ \\lambda A(t) + \\mu B(t) = 0 $\n",
    "\n",
    "Le principe de résolution sera identique.\n",
    "\n",
    "Par contre, si on a des divisions à faire, on ne pourra résoudre que si on sait trouver un inverse de la matrice.\n",
    "\n",
    "$ a(t) b(t) = 1 \\quad \\Longrightarrow \\quad a(t) = 1 / b(t)$\n",
    "\n",
    "$ A(t) B(t) = Id \\quad \\Longrightarrow \\quad A(t) = B(t)^{-1}$\n"
   ]
  },
  {
   "cell_type": "markdown",
   "metadata": {},
   "source": [
    "On a remplacé $1$ par l'identité $Id$ qui est l'élément neutre de la composition des transformations."
   ]
  },
  {
   "cell_type": "markdown",
   "metadata": {},
   "source": [
    "La plupart du temps, on ne sait pas si toutes les matrices qu'on manipule sont inversibles et il faut donc se contenter d'une structure d'anneau. Mais une structure d'anneau offre déjà pas mal de propriété intéressantes. \n",
    "\n",
    "Par exemple, on peut écrire: $ A \\circ A - B \\circ B = (A + B) \\circ (A - B)$ ou encore calculer $ ( A + Id)^n$"
   ]
  },
  {
   "cell_type": "markdown",
   "metadata": {},
   "source": [
    "Tant qu'on a pas besoin d'inverser une matrice, on peut aussi extrapoler beaucoup de propriété. \n",
    "\n",
    "Par exemble, si $(a, b, c)$ est un triplet de réels, avec b non nul,\n",
    " on peut trouver les $x_1$ et $x_2$ tel que\n",
    " \n",
    "$a\\cdot M^2 +b\\cdot B +c = (M - x_1\\cdot Id) \\circ (M - x_2\\cdot Id) $\n",
    "\n",
    " Où $x_1$ et $x_2$ sont les racines du polynôme du second degré."
   ]
  }
 ],
 "metadata": {
  "kernelspec": {
   "display_name": ".venv",
   "language": "python",
   "name": "python3"
  },
  "language_info": {
   "codemirror_mode": {
    "name": "ipython",
    "version": 3
   },
   "file_extension": ".py",
   "mimetype": "text/x-python",
   "name": "python",
   "nbconvert_exporter": "python",
   "pygments_lexer": "ipython3",
   "version": "3.11.4"
  },
  "orig_nbformat": 4
 },
 "nbformat": 4,
 "nbformat_minor": 2
}
